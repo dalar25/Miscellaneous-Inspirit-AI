{
  "nbformat": 4,
  "nbformat_minor": 0,
  "metadata": {
    "colab": {
      "provenance": []
    },
    "kernelspec": {
      "name": "python3",
      "display_name": "Python 3"
    },
    "language_info": {
      "name": "python"
    }
  },
  "cells": [
    {
      "cell_type": "markdown",
      "source": [
        "# 🗺 **MAPLAB**\n",
        "\n",
        "In this notebook, you will be working with freely available real-world mapping data to solve the realistic large problem of finding the shortest (or fastest) path between two points on a map. You will implement the backend for a route-finding application (for example, Google maps), which we will be able to use to plan paths around Stanford University and the Bay Area.\n",
        "\n",
        "All of the software and data we are working with in this lab is freely available, including the mapping data, the images used to render the maps, and the software used to control the map display! In fact, a lot of the world's most widely used software is created in this same spirit of sharing and community."
      ],
      "metadata": {
        "id": "GL8aQVE0jTqS"
      }
    },
    {
      "cell_type": "markdown",
      "source": [
        "# 🚚 **The Data**\n",
        "The data we'll use for this lab comes from [OpenStreetMap](https://en.wikipedia.org/wiki/OpenStreetMap), and for the bulk to this lab, we are working with data about the Bay Area in California (about 750 MB of data). While the raw data ([downloaded from here](https://download.bbbike.org/osm/)) was specified in the OSM XML Format, we have done a little bit of pre-processing to convert the data to a format that is slightly easier to work with.\n",
        "\n",
        "As in the original format, we have divided the data into two separate pieces: a list of \"nodes\" (representing individual locations) and a list of \"ways\" (representing roads or other kinds of connections between nodes). We've changed it up a bit from that. In it's current format, our data is stored in two dictionaries: \n",
        "* a **nodes** dictionary that maps **node IDs** to a tuple of that node's **(latitude, longitude)**\n",
        "* a **ways** dictionary that maps **node IDs** to a **list of node IDs** representing neighboring nodes.\n",
        "\n",
        "We have two different data sets: a small one meant for testing and making sure your things are working with a few nodes on the Stanford University campus, and a larger one encompassing much of the Bay Area Peninsula."
      ],
      "metadata": {
        "id": "0qxKW95RTHN4"
      }
    },
    {
      "cell_type": "code",
      "execution_count": null,
      "metadata": {
        "id": "n9dVcAn_gB02",
        "cellView": "form"
      },
      "outputs": [],
      "source": [
        "#@title Run this to import your data (and a few functions)!\n",
        "import pickle\n",
        "import gdown\n",
        "from math import acos,cos,sin,pi,atan2\n",
        "\n",
        "!gdown -q 1_sSOAz9NHTYDDDZSL035ERUDSBQqNLSw\n",
        "!gdown -q 1iLIl3vJovgMDq4jEfmPjR6k-Viyug73c\n",
        "\n",
        "def great_circle_distance(loc1, loc2):\n",
        "    \"\"\"\n",
        "    Returns approx distance between (lat1, lon1) and (lat2, lon2) in\n",
        "    miles, taking into account Earth's curvature (assuming a spherical\n",
        "    earth).\n",
        "\n",
        "    Latitude / longitudes in degrees.\n",
        "    \"\"\"\n",
        "    lat1, lon1 = loc1\n",
        "    lat2, lon2 = loc2\n",
        "    phi1 = lat1*pi/180.\n",
        "    theta1 = lon1*pi/180.\n",
        "    phi2 = lat2*pi/180.\n",
        "    theta2 = lon2*pi/180.\n",
        "    cospsi = sin(phi1)*sin(phi2) + cos(phi1)*cos(phi2)*cos(theta2-theta1)\n",
        "    sinpsi = ((sin(theta1)*cos(phi1)*sin(phi2) - sin(theta2)*cos(phi2)*sin(phi1))**2 +\\\n",
        "              (cos(theta2)*cos(phi2)*sin(phi1) - cos(theta1)*cos(phi1)*sin(phi2))**2 +\\\n",
        "              (cos(phi1)*cos(phi2)*sin(theta2-theta1))**2)**0.5\n",
        "    return atan2(sinpsi,cospsi) * 3958\n",
        "\n",
        "\n",
        "def read_osm_data(filename):\n",
        "    \"\"\"\n",
        "    Yield elements from the given filename, which is assumed to contain a\n",
        "    series of pickled[1] Python objects, stacked end-to-end.\n",
        "\n",
        "    This structure allows reading the large structures necessary for lab 2\n",
        "    without loading the entire file into memory at once, and should be much\n",
        "    faster than reading directly from a .osm file.\n",
        "\n",
        "    Example usage:\n",
        "        for element in read_osm_data('some_file'):\n",
        "            print(element)\n",
        "\n",
        "    [1] see https://docs.python.org/3/library/pickle.html\n",
        "    \"\"\"\n",
        "    with open(filename, 'rb') as f:\n",
        "        while True:\n",
        "            try:\n",
        "                yield pickle.load(f)\n",
        "            except EOFError:\n",
        "                break\n",
        "\n",
        "ALLOWED_HIGHWAY_TYPES = {\n",
        "    'motorway', 'trunk', 'primary', 'secondary', 'tertiary', 'unclassified',\n",
        "    'residential', 'living_street', 'motorway_link', 'trunk_link',\n",
        "    'primary_link', 'secondary_link', 'tertiary_link',\n",
        "}\n",
        "\n",
        "DEFAULT_SPEED_LIMIT_MPH = {\n",
        "    'motorway': 60,\n",
        "    'trunk': 45,\n",
        "    'primary': 35,\n",
        "    'secondary': 30,\n",
        "    'residential': 25,\n",
        "    'tertiary': 25,\n",
        "    'unclassified': 25,\n",
        "    'living_street': 10,\n",
        "    'motorway_link': 30,\n",
        "    'trunk_link': 30,\n",
        "    'primary_link': 30,\n",
        "    'secondary_link': 30,\n",
        "    'tertiary_link': 25,\n",
        "}\n",
        "\n",
        "\n",
        "def to_kml(path):\n",
        "    \"\"\"\n",
        "    Given a path as a list of (latitude, longitude) tuples, return a string\n",
        "    containing a KML[1] representation of the path, for use with the web\n",
        "    viewer.\n",
        "\n",
        "    [1] see https://en.wikipedia.org/wiki/Keyhole_Markup_Language\n",
        "    \"\"\"\n",
        "    out = (\"\"\"<?xml version=\"1.0\" encoding=\"utf-8\"?>\n",
        "<kml xmlns=\"http://earth.google.com/kml/2.1\">\n",
        "  <Document>\n",
        "    <Placemark>\n",
        "      <LineString>\n",
        "        <extrude>1</extrude>\n",
        "        <tessellate>1</tessellate>\n",
        "        <coordinates>\"\"\")\n",
        "    out += \" \".join(\"%f,%f\" % (loc[::-1]) for loc in path)\n",
        "    return out + (\"\"\"</coordinates>\n",
        "      </LineString>\n",
        "    </Placemark>\n",
        "    <Placemark>\n",
        "      <name>Start</name>\n",
        "      <Point>\n",
        "        <coordinates>%f,%f,0</coordinates>\n",
        "      </Point>\n",
        "    </Placemark>\n",
        "    <Placemark>\n",
        "      <name>End</name>\n",
        "      <Point>\n",
        "        <coordinates>%f,%f,0</coordinates>\n",
        "      </Point>\n",
        "    </Placemark>\n",
        "  </Document>\n",
        "</kml>\"\"\" % ((path[0][::-1]) + (path[-1][::-1])))\n",
        "\n",
        "def add_way(cns, connections, nodes, speed):\n",
        "    for n in range(len(nodes)-1):\n",
        "        if nodes[n] in connections:\n",
        "            connections[nodes[n]].append((nodes[n+1], speed))\n",
        "            cns[nodes[n]].append(nodes[n+1])\n",
        "        else:\n",
        "            connections[nodes[n]] = [(nodes[n+1], speed)]\n",
        "            cns[nodes[n]]=[nodes[n+1]]\n",
        "    if nodes[-1] not in connections:\n",
        "        connections[nodes[-1]] = []\n",
        "        cns[nodes[-1]] = []\n",
        "\n",
        "def build_auxiliary_structures(nodes_filename, ways_filename):\n",
        "    \"\"\"\n",
        "    Creates an internal representation you you want for the specified map, by\n",
        "    reading the data from the given filenames (using read_osm_data)\n",
        "    \"\"\"\n",
        "    connections = {}\n",
        "    cns = {}\n",
        "    for way in read_osm_data(ways_filename):\n",
        "        if 'highway' in way['tags'] and way['tags']['highway'] in ALLOWED_HIGHWAY_TYPES:\n",
        "            if 'maxspeed_mph' in way['tags']:\n",
        "                speed = way['tags']['maxspeed_mph']\n",
        "            else:\n",
        "                speed = DEFAULT_SPEED_LIMIT_MPH[way['tags']['highway']]\n",
        "            if 'oneway' not in way['tags'] or way['tags']['oneway']=='no':\n",
        "                add_way(cns, connections, way['nodes'][::-1], speed)\n",
        "            add_way(cns, connections, way['nodes'], speed)\n",
        "\n",
        "    nodes = {}\n",
        "    special_names = {}\n",
        "    for node in read_osm_data(nodes_filename):\n",
        "        if node['id'] in connections:\n",
        "            nodes[node['id']] = (node['lat'], node['lon'])\n",
        "            if 'name' in node['tags']:\n",
        "                special_names[node['id']]=node['tags']['name']\n",
        "    return [nodes, connections, cns, special_names]\n",
        "\n",
        "stanford_speed_ways = {1:[(7, 35), (2, 25), (3, 35)], 2:[(1, 25), (8, 15), (6, 15)], 3:[(1, 25), (4, 30), (10, 35)], 4:[(3, 30)], 5:[(6, 15), (8, 15), (9, 15)], 6:[(2, 15), (5, 15), (10, 15)], 7:[(1, 35), (9, 35)], 8:[(2, 15), (5, 15)], 9:[(5, 15), (7, 35)], 10:[(6, 15), (3, 35)]}\n",
        "stanford_ways = {1:[7, 2, 3], 2:[1, 8, 6], 3:[1, 4, 10], 4:[3], 5:[6, 8, 9], 6:[2, 5, 10], 7:[1, 9], 8:[2, 5], 9:[5, 7], 10:[6, 3]}\n",
        "bay_nodes, bay_speed_ways, bay_ways, special_names = build_auxiliary_structures('bayarea.nodes', 'bayarea.ways')\n",
        "stanford_nodes = {1:(37.434525, -122.167895), 2:(37.429852, -122.169461), 3:(37.431544, -122.164219), 4:(37.434426, -122.161007), 5:(37.424908, -122.169030), 6:(37.427806, -122.166914), 7:(37.433323, -122.175912), 8:(37.427484, -122.170277), 9:(37.424012, -122.179842), 10:(37.427956,-122.1611884)}"
      ]
    },
    {
      "cell_type": "markdown",
      "source": [
        "## 🌲 **Stanford Data**\n",
        "Let's take a look at what our Stanford data looks like below. Take a look at the image to see the nodes and connections between those nodes.\n",
        "\n",
        "If you know the Stanford map well, you'll notice these nodes are at specific locations around the campus.\n",
        "\n",
        ">  Node 1: Palm Drive (near entrance)\n",
        "\n",
        ">  Node 2: the Oval\n",
        "\n",
        ">  Node 3: Visitor Center\n",
        "\n",
        ">  Node 4: Football Stadium\n",
        "\n",
        ">  Node 5: Bookstore\n",
        "\n",
        ">  Node 6: Hoover Tower\n",
        "\n",
        ">  Node 7: Stanford Hospital\n",
        "\n",
        ">  Node 8: the Quad\n",
        "\n",
        ">  Node 9: the driving range\n",
        "\n",
        ">  Node 10: Stanford GSB (Graduate School of Business)\n",
        "\n",
        "<img src=\"https://drive.google.com/uc?export=view&id=10jG51Rq0NpOjdjc8OLJeY13m9YRO0zu-\" \n",
        "     width=\"1000\" \n",
        "     height=\"auto\" />\n",
        "\n"
      ],
      "metadata": {
        "id": "kJMYfWRecoWS"
      }
    },
    {
      "cell_type": "markdown",
      "source": [
        "### 💡 **Check yourself!**\n",
        "\n",
        "Assuming there are no path lengths for this map, what is the shortest path  from the football stadium (node 4) to the driving range (node 9)?"
      ],
      "metadata": {
        "id": "WWU7AvAld5LW"
      }
    },
    {
      "cell_type": "code",
      "source": [
        "# FILL IN THE PATH BELOW\n",
        "shortest_path = [4,3,1,7,9]"
      ],
      "metadata": {
        "id": "vj4M8ugNfdsA"
      },
      "execution_count": null,
      "outputs": []
    },
    {
      "cell_type": "code",
      "source": [
        "#@title Run this to check your answer!\n",
        "if shortest_path == [4, 3, 1, 7, 9]:\n",
        "  print(\"That's right!\")\n",
        "else:\n",
        "  print(\"That's not the correct path.\")"
      ],
      "metadata": {
        "cellView": "form",
        "id": "ll9CRZ2VgCzG",
        "colab": {
          "base_uri": "https://localhost:8080/"
        },
        "outputId": "08008008-8014-41af-e06e-19577d89435f"
      },
      "execution_count": null,
      "outputs": [
        {
          "output_type": "stream",
          "name": "stdout",
          "text": [
            "That's right!\n"
          ]
        }
      ]
    },
    {
      "cell_type": "markdown",
      "source": [
        "### 💡 **Check yourself!**\n",
        "\n",
        "What are the neighbors of node 1?"
      ],
      "metadata": {
        "id": "WkdlTS22folY"
      }
    },
    {
      "cell_type": "code",
      "source": [
        "# FILL IN THE NEIGHBORS BELOW\n",
        "node1_neighbors = [7,3,2]"
      ],
      "metadata": {
        "id": "J8my7c1nfola"
      },
      "execution_count": null,
      "outputs": []
    },
    {
      "cell_type": "code",
      "source": [
        "#@title Run this to check your answer!\n",
        "if set(node1_neighbors) == {7, 2, 3}:\n",
        "  print(\"That's right!\")\n",
        "else:\n",
        "  print(\"Those aren't the correct neighbors.\")"
      ],
      "metadata": {
        "cellView": "form",
        "id": "mvGw51pUfzLm",
        "colab": {
          "base_uri": "https://localhost:8080/"
        },
        "outputId": "88b4ff17-f042-454e-cbbe-f242866a05d8"
      },
      "execution_count": null,
      "outputs": [
        {
          "output_type": "stream",
          "name": "stdout",
          "text": [
            "That's right!\n"
          ]
        }
      ]
    },
    {
      "cell_type": "markdown",
      "source": [
        "## 🧰 **Creating Stanford Data**\n",
        "\n",
        "The **nodes** dictionary has already been created for you! Check it out by running the cell below."
      ],
      "metadata": {
        "id": "-_1wrkfKkPG2"
      }
    },
    {
      "cell_type": "code",
      "source": [
        "stanford_nodes"
      ],
      "metadata": {
        "id": "5XXEqs6skYgG",
        "colab": {
          "base_uri": "https://localhost:8080/"
        },
        "outputId": "b861db9b-eda8-4417-a308-c86f9031fce9"
      },
      "execution_count": null,
      "outputs": [
        {
          "output_type": "execute_result",
          "data": {
            "text/plain": [
              "{1: (37.434525, -122.167895),\n",
              " 2: (37.429852, -122.169461),\n",
              " 3: (37.431544, -122.164219),\n",
              " 4: (37.434426, -122.161007),\n",
              " 5: (37.424908, -122.16903),\n",
              " 6: (37.427806, -122.166914),\n",
              " 7: (37.433323, -122.175912),\n",
              " 8: (37.427484, -122.170277),\n",
              " 9: (37.424012, -122.179842),\n",
              " 10: (37.427956, -122.1611884)}"
            ]
          },
          "metadata": {},
          "execution_count": 8
        }
      ]
    },
    {
      "cell_type": "markdown",
      "source": [
        "It's up to you to create the corresponding **ways** dictionary. Remember, this dictionary should map **node IDs** to a **list** of neighboring **node IDs**. Fill in the dictionary below with the correct information based on the image above."
      ],
      "metadata": {
        "id": "dGyPzPLCkead"
      }
    },
    {
      "cell_type": "code",
      "source": [
        "stanford_ways = {1:[2,3,7],2:[1,6,8],3:[1,4,10],4:[3],5:[6,8,9],6:[2,5,10],7:[1,9],8:[2,5],9:[5,7],10:[3,6]} # FILL THIS IN!"
      ],
      "metadata": {
        "id": "ZWvfQB4vk3pO"
      },
      "execution_count": null,
      "outputs": []
    },
    {
      "cell_type": "code",
      "source": [
        "#@title Run this to check your solution!\n",
        "incorrect = False\n",
        "for i in range(1, 11):\n",
        "  if i not in stanford_ways:\n",
        "    print(\"Your ways dictionary is missing node\", i, \".\")\n",
        "    incorrect = True\n",
        "\n",
        "if set(stanford_ways[1])!={7, 2, 3}:\n",
        "  print(\"Your neighbors for node 1 are not correct.\")\n",
        "elif set(stanford_ways[2])!={1, 8, 6}:\n",
        "  print(\"Your neighbors for node 2 are not correct.\")\n",
        "elif set(stanford_ways[3])!={1, 4, 10}:\n",
        "  print(\"Your neighbors for node 3 are not correct.\")\n",
        "elif set(stanford_ways[4])!={3}:\n",
        "  print(\"Your neighbors for node 4 are not correct.\")\n",
        "elif set(stanford_ways[5])!={6, 8, 9}:\n",
        "  print(\"Your neighbors for node 5 are not correct.\")\n",
        "elif set(stanford_ways[6])!={2, 5, 10}:\n",
        "  print(\"Your neighbors for node 6 are not correct.\")\n",
        "elif set(stanford_ways[7])!={1, 9}:\n",
        "  print(\"Your neighbors for node 7 are not correct.\")\n",
        "elif set(stanford_ways[8])!={2, 5}:\n",
        "  print(\"Your neighbors for node 8 are not correct.\")\n",
        "elif set(stanford_ways[9])!={5, 7}:\n",
        "  print(\"Your neighbors for node 9 are not correct.\")\n",
        "elif set(stanford_ways[10])!={6, 3}:\n",
        "  print(\"Your neighbors for node 10 are not correct.\")\n",
        "elif not incorrect:\n",
        "  print(\"You have the right ways dictionary!\")"
      ],
      "metadata": {
        "cellView": "form",
        "id": "CIOXWugik7Gt",
        "colab": {
          "base_uri": "https://localhost:8080/"
        },
        "outputId": "7808f733-5a5e-49f5-f976-44e108378eb7"
      },
      "execution_count": null,
      "outputs": [
        {
          "output_type": "stream",
          "name": "stdout",
          "text": [
            "You have the right ways dictionary!\n"
          ]
        }
      ]
    },
    {
      "cell_type": "markdown",
      "source": [
        "## 🌉 **Bay Area Data**\n",
        "The bay area data is stored in the variables `bay_nodes` and `bay_ways`. Use this data to answer the questions below."
      ],
      "metadata": {
        "id": "c4UmouK_mlBM"
      }
    },
    {
      "cell_type": "markdown",
      "source": [
        "### 🛑 **How many nodes are in the Bay Area data set?**"
      ],
      "metadata": {
        "id": "7HFeNfJgrVAp"
      }
    },
    {
      "cell_type": "code",
      "source": [
        "# use this cell to answer the question!\n",
        "\n",
        "bay_total_nodes = len(bay_nodes)"
      ],
      "metadata": {
        "id": "MY7MeOWYrU0o"
      },
      "execution_count": null,
      "outputs": []
    },
    {
      "cell_type": "code",
      "source": [
        "#@title Run this to check your answer!\n",
        "if bay_total_nodes == 286589:\n",
        "  print(\"That's the right number of nodes!\")\n",
        "else:\n",
        "  print(\"That's NOT the right number of nodes.\")"
      ],
      "metadata": {
        "cellView": "form",
        "id": "2QD1OdUAy0Yh",
        "colab": {
          "base_uri": "https://localhost:8080/"
        },
        "outputId": "f63fcde7-842b-435e-be8c-fa6a52c02ff6"
      },
      "execution_count": null,
      "outputs": [
        {
          "output_type": "stream",
          "name": "stdout",
          "text": [
            "That's the right number of nodes!\n"
          ]
        }
      ]
    },
    {
      "cell_type": "markdown",
      "source": [
        "### 🛑 **What is the longitude and latitude tuple for node 6948994470?**"
      ],
      "metadata": {
        "id": "kl5MlyR6qrno"
      }
    },
    {
      "cell_type": "code",
      "source": [
        "# use this cell to answer the question!\n",
        "\n",
        "loglat_tup = bay_nodes[6948994470]"
      ],
      "metadata": {
        "id": "1uwW7ulWqrnp"
      },
      "execution_count": null,
      "outputs": []
    },
    {
      "cell_type": "code",
      "source": [
        "#@title Run this to check your answer!\n",
        "if loglat_tup == (37.7689175, -122.4980223):\n",
        "  print(\"That's the right tuple!\")\n",
        "else:\n",
        "  print(\"That's NOT the right tuple.\")"
      ],
      "metadata": {
        "id": "LT87oLofqrnq",
        "colab": {
          "base_uri": "https://localhost:8080/"
        },
        "outputId": "ec20be78-c46d-42ef-a028-b9445ab12f73"
      },
      "execution_count": null,
      "outputs": [
        {
          "output_type": "stream",
          "name": "stdout",
          "text": [
            "That's the right tuple!\n"
          ]
        }
      ]
    },
    {
      "cell_type": "markdown",
      "source": [
        "Try putting this tuple into google maps! If you go to https://www.google.com/maps/ then put **(longitude, latitude)** in the search bar, it'll take you to where the location actually is in the world!"
      ],
      "metadata": {
        "id": "Lzeq_3WPyKVq"
      }
    },
    {
      "cell_type": "code",
      "source": [
        "#@title What location is this?\n",
        "location_in_real_world = \"San Francisco\" #@param {type:\"string\"}\n"
      ],
      "metadata": {
        "cellView": "form",
        "id": "QJ3cjmfbzgt5"
      },
      "execution_count": null,
      "outputs": []
    },
    {
      "cell_type": "markdown",
      "metadata": {
        "id": "V2CtblqSWr1E"
      },
      "source": [
        "<font color=\"#de3023\"><h1><b>STOP #1: Raise your hand to check in with your instructor before moving on.</b></h1></font>\n"
      ]
    },
    {
      "cell_type": "markdown",
      "source": [
        "# 🚗 **Path Planning!**\n",
        "Now that we know our data, let's do this! We're no longer doing unweighted search - since we're using a map, our nodes have real distances between them! \n"
      ],
      "metadata": {
        "id": "LZfpI1iczwdU"
      }
    },
    {
      "cell_type": "markdown",
      "source": [
        "## ⏸ **A Brief Interlude on Sorting**\n",
        "In class, we haven't talked about how to sort a list by a specific value. Let's explore how to use the function `sort` to do this!\n",
        "\n",
        "First, check out the link to [this documentation here](https://docs.python.org/3/howto/sorting.html). Take a look at the **Sorting Basics** and **Key Functions** section. We're going to be using the `sort` function, which you use like:\n",
        "```python\n",
        "list_name.sort()\n",
        "```\n",
        "`sort` also takes in two optional parameters: \n",
        "\n",
        "With `reverse`, you can choose if you want the sorted list to be ascending or descending order. Here's how you could set to `True`:\n",
        "```python\n",
        "list_name.sort(reverse=True)\n",
        "```\n",
        "If you set `reverse` to `True`, the sorted list will be in **descending** order, aka high value to low value. If you set it to `False` or don't set it at all, the sorted list will be in **ascending order**, aka low value to high value.\n",
        "\n",
        "With `key`, you can choose **how** to sort the list. If you don't want to be sorting the list by the values in the list themselves and instead by something else, you can use this. \n",
        "\n",
        "The format is something you're probably not used to. It uses what's called an **inline** or **lambda** function. We're not going to go into this a ton, but you can use the examples below and in the docs as a guide.\n",
        "\n",
        "Here are some examples of using the `key` parameter:\n",
        "\n",
        "\n",
        "```python\n",
        "a = [1, 6, 3, 8, 2]\n",
        "b = [(1,5), (7,3), (4,6), (3,2)]\n",
        "c = {1:10, 3:4, 6:2, 8:9, 2:1, 7:8, 4:10}\n",
        "\n",
        "a.sort(reverse=False) # regular sort\n",
        ">>> [1, 2, 3, 6, 8]\n",
        "\n",
        "b.sort(reverse=False, key=lambda x:x[1]) # sorting by the second value in the tuple\n",
        ">>> [(3,2), (7,3), (1,5), (4,6)]\n",
        "\n",
        "a.sort(reverse=False, key=lambda x:c[x]) # sorting by the value in the dict c\n",
        ">>> [2, 6, 3, 8, 1]\n",
        "```\n",
        "\n",
        "\n",
        "\n",
        "\n"
      ],
      "metadata": {
        "id": "ZaoOz-XnQ2gB"
      }
    },
    {
      "cell_type": "markdown",
      "source": [
        "### 📎 **What is the order of the list `[(1,5), (7,3), (4,6), (3,2)]` if we sort it ascending by the first value in the tuple?**"
      ],
      "metadata": {
        "id": "NeTVKE4bVkzv"
      }
    },
    {
      "cell_type": "code",
      "source": [
        "# use this cell to answer the question!\n",
        "\n",
        "sortlist_order = [(1,5),(3,2),(4,6),(7,3)]"
      ],
      "metadata": {
        "id": "yHllalE3Vkz6"
      },
      "execution_count": null,
      "outputs": []
    },
    {
      "cell_type": "code",
      "source": [
        "#@title Run this to check your answer!\n",
        "if sortlist_order == [(1,5), (3,2), (4,6), (7,3)]:\n",
        "  print(\"That's the right sorted list!\")\n",
        "else:\n",
        "  print(\"That's NOT the right sorted list.\")"
      ],
      "metadata": {
        "cellView": "form",
        "id": "Y3w37-lwVkz7",
        "colab": {
          "base_uri": "https://localhost:8080/"
        },
        "outputId": "322441d7-b6e3-44f5-ada3-f33e9e5f7391"
      },
      "execution_count": null,
      "outputs": [
        {
          "output_type": "stream",
          "name": "stdout",
          "text": [
            "That's the right sorted list!\n"
          ]
        }
      ]
    },
    {
      "cell_type": "markdown",
      "source": [
        "### 📎 **Now use the sort function in the cell below to sort `[(1,5), (7,3), (4,6), (3,2)]` ascending by the first value in the tuple.**"
      ],
      "metadata": {
        "id": "4j1mjQBbV7NI"
      }
    },
    {
      "cell_type": "code",
      "source": [
        "# use sort on this list to get the list you came up with above!\n",
        "\n",
        "sortfn_list_order = [(1,5), (7,3), (4,6), (3,2)]\n",
        "sortfn_list_order.sort(reverse=False, key=lambda x:x[0])"
      ],
      "metadata": {
        "id": "0g1HTslOV7NV"
      },
      "execution_count": null,
      "outputs": []
    },
    {
      "cell_type": "code",
      "source": [
        "#@title Run this to check your answer!\n",
        "if sortfn_list_order == [(1,5), (3,2), (4,6), (7,3)]:\n",
        "  print(\"That's the right sorted list!\")\n",
        "else:\n",
        "  print(\"That's NOT the right sorted list.\")"
      ],
      "metadata": {
        "cellView": "form",
        "id": "NsrujS-bV7NW",
        "colab": {
          "base_uri": "https://localhost:8080/"
        },
        "outputId": "2a3a0176-5130-4646-c758-c3bf95a9e132"
      },
      "execution_count": null,
      "outputs": [
        {
          "output_type": "stream",
          "name": "stdout",
          "text": [
            "That's the right sorted list!\n"
          ]
        }
      ]
    },
    {
      "cell_type": "markdown",
      "source": [
        "### 📎 **What is the order of the list `[(1,5), (7,3), (4,6), (3,2)]` if we sort it ascending by the first value in the tuple's value in the dictionary `c`?**\n",
        "\n",
        "#### `c = {1:10, 3:4, 6:2, 8:9, 2:1, 7:8, 4:10}`"
      ],
      "metadata": {
        "id": "bERRxxo4XZII"
      }
    },
    {
      "cell_type": "code",
      "source": [
        "# use this cell to answer the question!\n",
        "sort_wdict = [(1,5),(4,6),(7,3),(3,2)]"
      ],
      "metadata": {
        "id": "kcqTgdImXZIW"
      },
      "execution_count": null,
      "outputs": []
    },
    {
      "cell_type": "code",
      "source": [
        "#@title Run this to check your answer!\n",
        "if sort_wdict == [(1, 5), (4, 6), (7, 3), (3, 2)]:\n",
        "  print(\"That's the right sorted list!\")\n",
        "else:\n",
        "  print(\"That's NOT the right sorted list.\")"
      ],
      "metadata": {
        "cellView": "form",
        "id": "dfHlBxCbXZIX",
        "colab": {
          "base_uri": "https://localhost:8080/"
        },
        "outputId": "4603bba1-87da-47f8-f29e-f20e9c3687f3"
      },
      "execution_count": null,
      "outputs": [
        {
          "output_type": "stream",
          "name": "stdout",
          "text": [
            "That's the right sorted list!\n"
          ]
        }
      ]
    },
    {
      "cell_type": "markdown",
      "source": [
        "### 📎 **Now use the sort function in the cell below to sort `[(1,5), (7,3), (4,6), (3,2)]` ascending by the first value in the tuple's value in the dictionary `c`.**"
      ],
      "metadata": {
        "id": "YefQ0goRWq00"
      }
    },
    {
      "cell_type": "code",
      "source": [
        "c = {1:10, 3:4, 6:2, 8:9, 2:1, 7:8, 4:10}\n",
        "\n",
        "# use sort on this list to get the list you came up with above!\n",
        "sortfn_dict = [(1,5), (7,3), (4,6), (3,2)]\n",
        "sortfn_dict.sort(reverse=True, key=lambda x:c[x[0]])"
      ],
      "metadata": {
        "id": "0lAJna3sWq1C"
      },
      "execution_count": null,
      "outputs": []
    },
    {
      "cell_type": "code",
      "source": [
        "#@title Run this to check your answer!\n",
        "if sortfn_dict == [(1, 5), (4, 6), (7, 3), (3, 2)]:\n",
        "  print(\"That's the right sorted list!\")\n",
        "else:\n",
        "  print(\"That's NOT the right sorted list.\")"
      ],
      "metadata": {
        "id": "PRv8IlsRWq1D",
        "colab": {
          "base_uri": "https://localhost:8080/"
        },
        "outputId": "0d7ff7f5-18c3-4454-fb58-27b47f24565f",
        "cellView": "form"
      },
      "execution_count": null,
      "outputs": [
        {
          "output_type": "stream",
          "name": "stdout",
          "text": [
            "That's the right sorted list!\n"
          ]
        }
      ]
    },
    {
      "cell_type": "markdown",
      "source": [
        "Now you should have a good idea of how you can use `sort` in your uniform cost search!"
      ],
      "metadata": {
        "id": "WYMpdhJVYDwq"
      }
    },
    {
      "cell_type": "markdown",
      "metadata": {
        "id": "LLxIkhTxeEJ5"
      },
      "source": [
        "<font color=\"#de3023\"><h1><b>STOP #2: Raise your hand to check in with your instructor before moving on.</b></h1></font>\n"
      ]
    },
    {
      "cell_type": "markdown",
      "source": [
        "## **Uniform Cost Search**\n",
        "\n",
        "To get the distance between two nodes, you can use a function that's already been defined for you: `great_circle_distance`. `great_circle_distance` takes in two parameters, both of which are in the form of **(lat, lon)** tuples. The function returns the **distance between those two tuples**, taking into account the curvature of the Earth.\n",
        "\n",
        "Fill in the function below, using `great_circle_distance` to measure the distance between your nodes. You should be implementing a form of *uniform cost search*!"
      ],
      "metadata": {
        "id": "VwLHycopQxK_"
      }
    },
    {
      "cell_type": "code",
      "source": [
        "def map_shortest_path(nodes, ways, start, goal):\n",
        "  \"\"\"\n",
        "  Return the shortest path between the two locations\n",
        "\n",
        "  Parameters:\n",
        "      nodes: the node dictionary\n",
        "      ways: the ways dictionary\n",
        "      start: node ID representing the start location\n",
        "      goal: node ID representing the end location\n",
        "  Returns:\n",
        "      a list of node IDs representing the shortest path\n",
        "      (in terms of distance) from start to goal.\n",
        "  \"\"\"\n",
        "  current = None\n",
        "  queue = [start]\n",
        "  came_from = {}\n",
        "  cost = {start:0}\n",
        "  visited = set()\n",
        "\n",
        "  while len(queue)!=0:\n",
        "    current = queue.pop(0)\n",
        "    visited.add(current)\n",
        "    neighbors = ways[current]\n",
        "\n",
        "    if current == goal:\n",
        "      path = []\n",
        "      while current != start:\n",
        "        path.append(current)\n",
        "        current = came_from[current]\n",
        "      path.append(start)\n",
        "      path.reverse()\n",
        "      return path\n",
        "\n",
        "    for n in neighbors:\n",
        "      if n not in visited: \n",
        "        newCost = cost[current] + great_circle_distance(nodes[current],nodes[n])\n",
        "        if n not in cost or newCost < cost[n]:\n",
        "          cost[n] = newCost\n",
        "          came_from[n] = current\n",
        "          queue.append(n)\n",
        "    \n",
        "    queue.sort(reverse=False, key=lambda x:cost[x])\n",
        "\n",
        "  return None"
      ],
      "metadata": {
        "id": "QjWlDd5W2G9n"
      },
      "execution_count": null,
      "outputs": []
    },
    {
      "cell_type": "markdown",
      "source": [
        "Once you've coded a solution for your function, make sure you test it out! It should be easiest to test out on the **Stanford** map, which consists of `stanford_nodes` and `stanford_ways` (which you created!). Write **at least two** test cases using the Stanford map below."
      ],
      "metadata": {
        "id": "SolBV5VX2gb6"
      }
    },
    {
      "cell_type": "code",
      "source": [
        "# USE THIS CELL TO WRITE YOUR TEST CASES\n",
        "print(map_shortest_path(stanford_nodes,stanford_ways,4,9))\n",
        "print(map_shortest_path(stanford_nodes,stanford_ways,6,9))\n",
        "print(map_shortest_path(stanford_nodes,stanford_ways,4,7))"
      ],
      "metadata": {
        "id": "YcfoFfkyYiG0",
        "colab": {
          "base_uri": "https://localhost:8080/"
        },
        "outputId": "7521d3d5-6be8-4cc0-ced8-dfb426165fc2"
      },
      "execution_count": null,
      "outputs": [
        {
          "output_type": "stream",
          "name": "stdout",
          "text": [
            "[4, 3, 1, 7, 9]\n",
            "[6, 5, 9]\n",
            "[4, 3, 1, 7]\n"
          ]
        }
      ]
    },
    {
      "cell_type": "markdown",
      "metadata": {
        "id": "n9fSNGEfeGCl"
      },
      "source": [
        "<font color=\"#de3023\"><h1><b>STOP #3: Raise your hand to check in with your instructor.</b></h1></font>\n"
      ]
    },
    {
      "cell_type": "markdown",
      "source": [
        "# 🏎 **Need for speed!**\n",
        "If you've ever driven or been in a car, you know that it's not always the physical distance that matters to get you to a location: sometimes we care more about how **long** it will take us to get somewhere, and speed limits on roads exist! \n",
        "\n",
        "We're going to change up our earlier code just a bit to incorporate **how much time** (estimated) it will take us to get from node to node as our cost instead of the distance."
      ],
      "metadata": {
        "id": "BdbQ1PncbjFB"
      }
    },
    {
      "cell_type": "markdown",
      "source": [
        "## 🔄 **Changes in data**\n",
        "\n",
        "We're going to add some new information to our data set: speed! For the Bay Area maps, we'll be using `bay_nodes` (same as before) and `bay_speed_ways` (new!). For the Stanford map, we'll be using `stanford_nodes` (same as before) and `stanford_speed_ways` (new!).\n",
        "\n",
        "In the new ways dictionaries, ways are now represented as node IDs mapped to a list of tuples, where each tuple is (node ID, speed limit) representing a neighboring node and the speed limit on the road between the key and value node.\n",
        "\n",
        "**Answer the questions below to make sure you understand the new data structure.**"
      ],
      "metadata": {
        "id": "2Oq85c-ucoPb"
      }
    },
    {
      "cell_type": "markdown",
      "source": [
        "### 🛑 **What is the speed limit on the road between nodes 3 and 10?**"
      ],
      "metadata": {
        "id": "vxyO-MCxiGup"
      }
    },
    {
      "cell_type": "code",
      "source": [
        "# use this cell to answer the question!\n",
        "\n",
        "speed_310 = stanford_speed_ways[3][[i[0] for i in stanford_speed_ways[3]].index(10)][1]"
      ],
      "metadata": {
        "id": "xSthueVPiGu2"
      },
      "execution_count": null,
      "outputs": []
    },
    {
      "cell_type": "code",
      "source": [
        "#@title Run this to check your answer!\n",
        "if speed_310 == 35:\n",
        "  print(\"That's the right speed!\")\n",
        "else:\n",
        "  print(\"That's NOT the right speed.\")"
      ],
      "metadata": {
        "colab": {
          "base_uri": "https://localhost:8080/"
        },
        "outputId": "1333137e-4f96-4281-cbc8-d76047966eca",
        "cellView": "form",
        "id": "ahG76JJYiGu3"
      },
      "execution_count": null,
      "outputs": [
        {
          "output_type": "stream",
          "name": "stdout",
          "text": [
            "That's the right speed!\n"
          ]
        }
      ]
    },
    {
      "cell_type": "markdown",
      "source": [
        "### 🛑 **What is the speed limit on the road between nodes 2 and 8?**"
      ],
      "metadata": {
        "id": "skrxXmy2iRjF"
      }
    },
    {
      "cell_type": "code",
      "source": [
        "# use this cell to answer the question!\n",
        "speed_28 = stanford_speed_ways[2][[i[0] for i in stanford_speed_ways[2]].index(8)][1]"
      ],
      "metadata": {
        "id": "sxS3NgiXiRjS"
      },
      "execution_count": null,
      "outputs": []
    },
    {
      "cell_type": "code",
      "source": [
        "#@title Run this to check your answer!\n",
        "if speed_28 == 15:\n",
        "  print(\"That's the right speed!\")\n",
        "else:\n",
        "  print(\"That's NOT the right speed.\")"
      ],
      "metadata": {
        "colab": {
          "base_uri": "https://localhost:8080/"
        },
        "outputId": "1a2c7cc4-a35d-418a-a476-b6a1a07547e7",
        "cellView": "form",
        "id": "IQJ41EItiRjS"
      },
      "execution_count": null,
      "outputs": [
        {
          "output_type": "stream",
          "name": "stdout",
          "text": [
            "That's the right speed!\n"
          ]
        }
      ]
    },
    {
      "cell_type": "markdown",
      "source": [
        "### ⏰ **How much time does it take to travel between nodes 2 and 8?**\n",
        "**Hint:** remember that you can use `great_circle_distance` to calculate the distance between two nodes. Remember that the given time is in *hours*."
      ],
      "metadata": {
        "id": "C9CnKZV4Nidk"
      }
    },
    {
      "cell_type": "code",
      "source": [
        "# use this cell to answer the question!\n",
        "\n",
        "time_28 = great_circle_distance(stanford_nodes[2],stanford_nodes[8])/stanford_speed_ways[2][[i[0] for i in stanford_speed_ways[2]].index(8)][1]"
      ],
      "metadata": {
        "id": "_4X5dEzaNid0"
      },
      "execution_count": null,
      "outputs": []
    },
    {
      "cell_type": "code",
      "source": [
        "#@title Run this to check your answer!\n",
        "if round(time_28, 4) == 0.0113:\n",
        "  print(\"That's the right time!\")\n",
        "else:\n",
        "  print(\"That's NOT the right time.\")"
      ],
      "metadata": {
        "colab": {
          "base_uri": "https://localhost:8080/"
        },
        "outputId": "4093154b-5fd5-4f9e-b135-353ff5e0f4bc",
        "cellView": "form",
        "id": "YXm6DKM4Nid1"
      },
      "execution_count": null,
      "outputs": [
        {
          "output_type": "stream",
          "name": "stdout",
          "text": [
            "That's the right time!\n"
          ]
        }
      ]
    },
    {
      "cell_type": "markdown",
      "source": [
        "## 🏁 **Speedy Paths!**\n",
        "\n",
        "Now that we know how the data is formatted, let's get to it! We're still going to use `great_circle_distance` to find the distance between nodes, but we'll use the speed limit passed in to make the cost be based on **time**. Remember, you can calculate time by doing: `time = distance / speed`.\n",
        "\n",
        "You should still be implementing a form of *uniform cost search*!"
      ],
      "metadata": {
        "id": "hEMB7n6mnz0u"
      }
    },
    {
      "cell_type": "code",
      "source": [
        "def get_time(nodes,speed_ways,node1,node2):\n",
        "  return great_circle_distance(nodes[node1],nodes[node2])/speed_ways[node1][[i[0] for i in speed_ways[node1]].index(node2)][1]"
      ],
      "metadata": {
        "colab": {
          "base_uri": "https://localhost:8080/"
        },
        "id": "lmB72kOXkfee",
        "outputId": "dc02f61c-83bf-4f16-a960-c086f3c4b565"
      },
      "execution_count": null,
      "outputs": [
        {
          "output_type": "stream",
          "name": "stdout",
          "text": [
            "0.008861891421840127\n"
          ]
        }
      ]
    },
    {
      "cell_type": "code",
      "source": [
        "def map_speediest_path(nodes, ways, start, goal):\n",
        "  \"\"\"\n",
        "  Return the fastest path between the two locations\n",
        "\n",
        "  Parameters:\n",
        "      nodes: the node dictionary\n",
        "      ways: the ways dictionary\n",
        "      start: node ID representing the start location\n",
        "      goal: node ID representing the end location\n",
        "  Returns:\n",
        "      a list of node IDs representing the shortest path\n",
        "      (in terms of time) from start to goal.\n",
        "  \"\"\"\n",
        "  current = None\n",
        "  queue = [start]\n",
        "  came_from = {}\n",
        "  cost = {start:0}\n",
        "  visited = set()\n",
        "\n",
        "  while len(queue)!=0:\n",
        "    current = queue.pop(0)\n",
        "    visited.add(current)\n",
        "    neighbors = [i[0] for i in ways[current]]\n",
        "\n",
        "    if current == goal:\n",
        "      path = []\n",
        "      while current != start:\n",
        "        path.append(current)\n",
        "        current = came_from[current]\n",
        "      path.append(start)\n",
        "      path.reverse()\n",
        "      return path\n",
        "\n",
        "    for n in neighbors:\n",
        "      if n not in visited:\n",
        "        newCost = cost[current] + get_time(nodes,ways,current,n)\n",
        "        if n not in cost or newCost < cost[n]:\n",
        "          cost[n] = newCost\n",
        "          came_from[n] = current\n",
        "          queue.append(n)\n",
        "    \n",
        "    queue.sort(reverse=False, key=lambda x:cost[x])\n",
        "\n",
        "  return None"
      ],
      "metadata": {
        "id": "oGVzQLqBn_PL"
      },
      "execution_count": null,
      "outputs": []
    },
    {
      "cell_type": "markdown",
      "source": [
        "Once you've coded a solution for your function, make sure you test it out! It should be easiest to test out on the **Stanford** map, which consists of `stanford_nodes` and `stanford_speed_ways`. Write **at least two** test cases using the Stanford map below."
      ],
      "metadata": {
        "id": "WZ61W8P7n_PM"
      }
    },
    {
      "cell_type": "code",
      "source": [
        "# USE THIS CELL TO WRITE YOUR TEST CASES\n",
        "print(map_speediest_path(stanford_nodes,stanford_speed_ways,4,9))\n",
        "print(map_speediest_path(stanford_nodes,stanford_speed_ways,6,9))\n",
        "print(map_speediest_path(stanford_nodes,stanford_speed_ways,4,7))\n"
      ],
      "metadata": {
        "id": "Rb_CZNben_PM",
        "colab": {
          "base_uri": "https://localhost:8080/"
        },
        "outputId": "3ce1e66a-7610-4087-8f92-041d85246be6"
      },
      "execution_count": null,
      "outputs": [
        {
          "output_type": "stream",
          "name": "stdout",
          "text": [
            "[4, 3, 1, 7, 9]\n",
            "[6, 5, 9]\n",
            "[4, 3, 1, 7]\n"
          ]
        }
      ]
    },
    {
      "cell_type": "markdown",
      "metadata": {
        "id": "g-FA1lYUq2c_"
      },
      "source": [
        "<font color=\"#de3023\"><h1><b>STOP #4: Raise your hand to check in with your instructor.</b></h1></font>\n"
      ]
    }
  ]
}