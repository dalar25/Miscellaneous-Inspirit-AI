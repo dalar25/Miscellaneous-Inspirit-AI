{
  "nbformat": 4,
  "nbformat_minor": 0,
  "metadata": {
    "accelerator": "GPU",
    "colab": {
      "provenance": []
    },
    "kernelspec": {
      "display_name": "Python 3",
      "language": "python",
      "name": "python3"
    },
    "language_info": {
      "codemirror_mode": {
        "name": "ipython",
        "version": 3
      },
      "file_extension": ".py",
      "mimetype": "text/x-python",
      "name": "python",
      "nbconvert_exporter": "python",
      "pygments_lexer": "ipython3",
      "version": "3.8.2"
    }
  },
  "cells": [
    {
      "cell_type": "markdown",
      "metadata": {
        "id": "GtaAOpZCsqvp"
      },
      "source": [
        "<font color=\"#de3023\"><h1><b>MAKE A COPY OF THIS NOTEBOOK SO YOUR EDITS ARE SAVED</b></h1></font>"
      ]
    },
    {
      "cell_type": "code",
      "source": [],
      "metadata": {
        "id": "ntfhRAhBLrFD"
      },
      "execution_count": null,
      "outputs": []
    },
    {
      "cell_type": "markdown",
      "metadata": {
        "id": "Sq-JhCcLpBwS"
      },
      "source": [
        "\n",
        "We work for CC: ConscientiousCars, where we help self-driving vehicles be more conscientious of their surroundings. Our cars have been very good at recognizing and avoiding humans. They haven't, however, been capable of recognizing dogs. Since dogs are man's best friend and will always be where we humans are, we want our cars to know if a dog is on the road in front of them and avoid the dog!\n",
        "\n",
        "The first step to avoiding these cute puppies is **knowing if a puppy is in front of the car**. So today we will **build a detector that can tell when our car sees a dog or not**!\n",
        "\n"
      ]
    },
    {
      "cell_type": "code",
      "metadata": {
        "id": "uhNVum16scIW"
      },
      "source": [
        "#@title Run this to load some packages and data! { display-mode: \"form\" }\n",
        "from sklearn.neural_network import MLPClassifier\n",
        "from sklearn.neighbors import KNeighborsClassifier\n",
        "from sklearn import model_selection\n",
        "from sklearn.metrics import accuracy_score\n",
        "from collections import Counter\n",
        "import tensorflow.keras as keras\n",
        "from keras.models import Sequential\n",
        "from keras.layers import Dense, Conv2D\n",
        "from keras.layers import Activation, MaxPooling2D, Dropout, Flatten, Reshape\n",
        "from keras.wrappers.scikit_learn import KerasClassifier\n",
        "from sklearn.model_selection import StratifiedKFold\n",
        "from sklearn.model_selection import cross_val_score\n",
        "import numpy as np\n",
        "import pandas as pd\n",
        "import seaborn as sns\n",
        "import matplotlib.pyplot as plt\n",
        "\n",
        "import warnings\n",
        "warnings.filterwarnings(\"ignore\", category=UserWarning)\n",
        "\n",
        "\n",
        "def categorical_to_numpy(labels_in):\n",
        "  labels = []\n",
        "  for label in labels_in:\n",
        "    if label == 'dog':\n",
        "      labels.append(np.array([1, 0]))\n",
        "    else:\n",
        "      labels.append(np.array([0, 1]))\n",
        "  return np.array(labels)\n",
        "\n",
        "def one_hot_encoding(input):\n",
        "  output = np.array(input)\n",
        "  output = np.zeros((input.size, input.max()+1))\n",
        "  output[np.arange(input.size),input] = 1\n",
        "  \n",
        "  return output\n",
        "\n",
        "\n",
        "def load_data():\n",
        "  # Run this cell to download our data into a file called 'cifar_data'\n",
        "  import gdown\n",
        "  # gdown.download('https://drive.google.com/uc?id=1-BjeqccJdLiBA6PnNinmXSQ6w5BluLem','cifar_data','True'); # dogs v road;\n",
        "  !wget -O cifar_data https://storage.googleapis.com/inspirit-ai-data-bucket-1/Data/AI%20Scholars/Sessions%201%20-%205/Session%204%20_%205%20-%20Neural%20Networks%20_%20CNN/dogs_v_roads\n",
        "\n",
        "  # now load the data from our cloud computer\n",
        "  import pickle\n",
        "  data_dict = pickle.load(open( \"cifar_data\", \"rb\" ));\n",
        "  \n",
        "  data   = data_dict['data']\n",
        "  labels = data_dict['labels']\n",
        "  \n",
        "  return data, labels\n",
        "\n",
        "def plot_one_image(data, labels, img_idx):\n",
        "  from google.colab.patches import cv2_imshow\n",
        "  import cv2\n",
        "  import matplotlib.pyplot as plt\n",
        "  my_img   = data[img_idx, :].squeeze().reshape([32,32,3]).copy()\n",
        "  my_label = labels[img_idx]\n",
        "  print('label: %s'%my_label)\n",
        "  fig, ax = plt.subplots(1,1)\n",
        "\n",
        "  img = ax.imshow(my_img, extent=[-1,1,-1,1])\n",
        "\n",
        "  x_label_list = [0, 8, 16, 24, 32]\n",
        "  y_label_list = [0, 8, 16, 24, 32]\n",
        "\n",
        "  ax.set_xticks([-1, -0.5, 0, 0.5, 1])\n",
        "  ax.set_yticks([-1, -0.5, 0, 0.5, 1])\n",
        "\n",
        "  ax.set_xticklabels(x_label_list)\n",
        "  ax.set_yticklabels(y_label_list)\n",
        "\n",
        "  fig.show(img)\n",
        "  \n",
        "def CNNClassifier(num_epochs=30, layers=5, dropout=0.5):\n",
        "  def create_model():\n",
        "    model = Sequential()\n",
        "    model.add(Reshape((32, 32, 3)))\n",
        "    \n",
        "    for i in range(layers):\n",
        "      model.add(Conv2D(32, (3, 3), padding='same'))\n",
        "      model.add(Activation('relu'))\n",
        "    \n",
        "    model.add(Conv2D(32, (3, 3)))\n",
        "    model.add(Activation('relu'))\n",
        "    model.add(MaxPooling2D(pool_size=(2, 2)))\n",
        "    model.add(Dropout(dropout / 2.0))\n",
        "\n",
        "    model.add(Conv2D(64, (3, 3), padding='same'))\n",
        "    model.add(Activation('relu'))\n",
        "    model.add(Conv2D(64, (3, 3)))\n",
        "    model.add(Activation('relu'))\n",
        "    model.add(MaxPooling2D(pool_size=(2, 2)))\n",
        "    model.add(Dropout(dropout / 2.0))\n",
        "\n",
        "    model.add(Flatten())\n",
        "    model.add(Dense(512))\n",
        "    model.add(Activation('relu'))\n",
        "    model.add(Dropout(dropout))\n",
        "    model.add(Dense(2))\n",
        "    model.add(Activation('softmax'))\n",
        "\n",
        "    # initiate RMSprop optimizer\n",
        "    opt = keras.optimizers.RMSprop(learning_rate=0.0001, decay=1e-6)\n",
        "\n",
        "    # Let's train the model using RMSprop\n",
        "    model.compile(loss='categorical_crossentropy',\n",
        "                  optimizer=opt,\n",
        "                  metrics=['accuracy'])\n",
        "    return model\n",
        "  return KerasClassifier(build_fn=create_model, epochs=num_epochs, batch_size=10, verbose=2)\n",
        "\n",
        "def plot_acc(history, ax = None, xlabel = 'Epoch #'):\n",
        "    history = history.history\n",
        "    history.update({'epoch':list(range(len(history['val_accuracy'])))})\n",
        "    history = pd.DataFrame.from_dict(history)\n",
        "\n",
        "    best_epoch = history.sort_values(by = 'val_accuracy', ascending = False).iloc[0]['epoch']\n",
        "\n",
        "    if not ax:\n",
        "      f, ax = plt.subplots(1,1)\n",
        "    sns.lineplot(x = 'epoch', y = 'val_accuracy', data = history, label = 'Validation', ax = ax)\n",
        "    sns.lineplot(x = 'epoch', y = 'accuracy', data = history, label = 'Training', ax = ax)\n",
        "    ax.axhline(0.5, linestyle = '--',color='red', label = 'Chance')\n",
        "    ax.axvline(x = best_epoch, linestyle = '--', color = 'green', label = 'Best Epoch')  \n",
        "    ax.legend(loc = 7)    \n",
        "    ax.set_ylim([0.4, 1])\n",
        "\n",
        "    ax.set_xlabel(xlabel)\n",
        "    ax.set_ylabel('Accuracy (Fraction)')\n",
        "    \n",
        "    plt.show()"
      ],
      "execution_count": null,
      "outputs": []
    },
    {
      "cell_type": "markdown",
      "metadata": {
        "id": "EsGDD5lvQoBZ"
      },
      "source": [
        "In this notebook, you'll:\n",
        "- Explore the cars vs. roads dataset\n",
        "- Train a simple K-neighbors classifier for computer vision\n",
        "- Train neural nets to tell dogs from roads\n",
        "- Improve your model with convolutional neural networks!\n",
        "- (Optional challenge) Use saliency map to implement explainable AI"
      ]
    },
    {
      "cell_type": "markdown",
      "metadata": {
        "id": "1QxGsnvhnn8R"
      },
      "source": [
        "# Understanding our data"
      ]
    },
    {
      "cell_type": "markdown",
      "metadata": {
        "id": "btr24O6Hqgo6"
      },
      "source": [
        "Our cars are very attentive and always have their eyes on the road.\n",
        "\n",
        "Every second, they're streaming in data about the street, including video.\n",
        "\n",
        "From this video data, we want our car to tell: is there 'road' or 'dog' in front of it?\n",
        "\n",
        "Lucky for us, we have a dataset of dog and road images already prepared! Let's start by reading that *labeled* data in. \n"
      ]
    },
    {
      "cell_type": "code",
      "metadata": {
        "id": "MmZbrZoKnthN",
        "colab": {
          "base_uri": "https://localhost:8080/"
        },
        "outputId": "1b138fe6-3cb9-4cd9-f449-5091d4b7ec14"
      },
      "source": [
        "# load our data \n",
        "data, labels = load_data()"
      ],
      "execution_count": null,
      "outputs": [
        {
          "output_type": "stream",
          "name": "stdout",
          "text": [
            "--2021-12-22 17:21:33--  https://storage.googleapis.com/inspirit-ai-data-bucket-1/Data/AI%20Scholars/Sessions%201%20-%205/Session%204%20_%205%20-%20Neural%20Networks%20_%20CNN/dogs_v_roads\n",
            "Resolving storage.googleapis.com (storage.googleapis.com)... 108.177.120.128, 142.250.128.128, 142.251.6.128, ...\n",
            "Connecting to storage.googleapis.com (storage.googleapis.com)|108.177.120.128|:443... connected.\n",
            "HTTP request sent, awaiting response... 200 OK\n",
            "Length: 3689015 (3.5M) [application/octet-stream]\n",
            "Saving to: ‘cifar_data’\n",
            "\n",
            "\rcifar_data            0%[                    ]       0  --.-KB/s               \rcifar_data          100%[===================>]   3.52M  --.-KB/s    in 0.05s   \n",
            "\n",
            "2021-12-22 17:21:34 (65.1 MB/s) - ‘cifar_data’ saved [3689015/3689015]\n",
            "\n"
          ]
        }
      ]
    },
    {
      "cell_type": "markdown",
      "metadata": {
        "id": "AGO0FFnqdFne"
      },
      "source": [
        "Let's look at an image of a dog!\n",
        "\n",
        "Try changing the number below. What does it do?\n",
        "\n"
      ]
    },
    {
      "cell_type": "code",
      "metadata": {
        "id": "csXB_FPMrx1D",
        "colab": {
          "base_uri": "https://localhost:8080/",
          "height": 286
        },
        "outputId": "5997826b-84af-4dab-93cc-bacd02b4e544"
      },
      "source": [
        "plot_one_image(data, labels, 80) #change this number"
      ],
      "execution_count": null,
      "outputs": [
        {
          "output_type": "stream",
          "name": "stdout",
          "text": [
            "label: dog\n"
          ]
        },
        {
          "output_type": "display_data",
          "data": {
            "image/png": "[encoded data removed]",
            "text/plain": [
              "<Figure size 432x288 with 1 Axes>"
            ]
          },
          "metadata": {
            "needs_background": "light"
          }
        }
      ]
    },
    {
      "cell_type": "markdown",
      "metadata": {
        "id": "ZYRzHTxVdSTG"
      },
      "source": [
        "**Discuss:** Why might we be using such blurry images? So it will be faster\n",
        "\n",
        "Next, let's try a road image. Again, try changing the number:"
      ]
    },
    {
      "cell_type": "code",
      "metadata": {
        "id": "CsRj6BAqs25Y",
        "colab": {
          "base_uri": "https://localhost:8080/",
          "height": 286
        },
        "outputId": "ea85e060-8882-4cde-d2d9-b9242707583d"
      },
      "source": [
        "plot_one_image(data, labels, 1199) #change this number"
      ],
      "execution_count": null,
      "outputs": [
        {
          "output_type": "stream",
          "name": "stdout",
          "text": [
            "label: road\n"
          ]
        },
        {
          "output_type": "display_data",
          "data": {
            "image/png": "[encoded data removed]",
            "text/plain": [
              "<Figure size 432x288 with 1 Axes>"
            ]
          },
          "metadata": {
            "needs_background": "light"
          }
        }
      ]
    },
    {
      "cell_type": "markdown",
      "metadata": {
        "id": "r0Qx4UYxdbTK"
      },
      "source": [
        "How many images do we have?"
      ]
    },
    {
      "cell_type": "code",
      "metadata": {
        "id": "6LQXCiGmAmz-",
        "colab": {
          "base_uri": "https://localhost:8080/"
        },
        "outputId": "6a33c6f7-73c9-408d-c343-ff3677a5d6d5"
      },
      "source": [
        "print (len(data))\n",
        "\n",
        "print(Counter(labels))\n"
      ],
      "execution_count": null,
      "outputs": [
        {
          "output_type": "stream",
          "name": "stdout",
          "text": [
            "1200\n",
            "Counter({'dog': 600, 'road': 600})\n"
          ]
        }
      ]
    },
    {
      "cell_type": "markdown",
      "metadata": {
        "id": "OojOPMbLAl2B"
      },
      "source": [
        "The dataset is organized such that there are 600 images of dogs and 600 images of roads."
      ]
    },
    {
      "cell_type": "markdown",
      "metadata": {
        "id": "9Sz2c5LlU7Sj"
      },
      "source": [
        "#### Optional Exercise: Examining More Images\n",
        "\n",
        "**Look at a few more images of both classes.** \n",
        "\n",
        "Try using a `for` loop to look at 5 images!"
      ]
    },
    {
      "cell_type": "code",
      "metadata": {
        "id": "DkcqdB2ZVoNc",
        "colab": {
          "base_uri": "https://localhost:8080/",
          "height": 1000
        },
        "outputId": "92d1076f-d4dc-4006-9a51-dc5ef7794303"
      },
      "source": [
        "### YOUR CODE HERE\n",
        "for i in range (5):\n",
        "  plot_one_image(data, labels, i * 200)\n",
        "\n",
        "### END CODE"
      ],
      "execution_count": null,
      "outputs": [
        {
          "output_type": "stream",
          "name": "stdout",
          "text": [
            "label: dog\n",
            "label: dog\n",
            "label: dog\n",
            "label: road\n",
            "label: road\n"
          ]
        },
        {
          "output_type": "display_data",
          "data": {
            "image/png": "[encoded data removed]",
            "text/plain": [
              "<Figure size 432x288 with 1 Axes>"
            ]
          },
          "metadata": {
            "needs_background": "light"
          }
        },
        {
          "output_type": "display_data",
          "data": {
            "image/png": "[encoded data removed]",
            "text/plain": [
              "<Figure size 432x288 with 1 Axes>"
            ]
          },
          "metadata": {
            "needs_background": "light"
          }
        },
        {
          "output_type": "display_data",
          "data": {
            "image/png": "[encoded data removed]",
            "text/plain": [
              "<Figure size 432x288 with 1 Axes>"
            ]
          },
          "metadata": {
            "needs_background": "light"
          }
        },
        {
          "output_type": "display_data",
          "data": {
            "image/png": "[encoded data removed]",
            "text/plain": [
              "<Figure size 432x288 with 1 Axes>"
            ]
          },
          "metadata": {
            "needs_background": "light"
          }
        },
        {
          "output_type": "display_data",
          "data": {
            "image/png": "[encoded data removed]",
            "text/plain": [
              "<Figure size 432x288 with 1 Axes>"
            ]
          },
          "metadata": {
            "needs_background": "light"
          }
        }
      ]
    },
    {
      "cell_type": "markdown",
      "metadata": {
        "id": "PHS0E_3wt0RS"
      },
      "source": [
        "##Understanding our Data Representation\n",
        "\n",
        "In an image each pixel is denoted by 3 numbers that represent the intensity value of that pixel (0 - 255) for each color channel (R, G, and B). Below we \n",
        "see a list of numbers for each image that represent the intensity values. \n"
      ]
    },
    {
      "cell_type": "code",
      "metadata": {
        "id": "DlgF6jWit9jz",
        "colab": {
          "base_uri": "https://localhost:8080/"
        },
        "outputId": "b95ed218-e180-4e8a-ce53-679403858916"
      },
      "source": [
        "print('One image looks like: ')\n",
        "print(data[0])\n",
        "print(\"Length of list: \", len(data[0]))"
      ],
      "execution_count": null,
      "outputs": [
        {
          "output_type": "stream",
          "name": "stdout",
          "text": [
            "One image looks like: \n",
            "[45 20 19 ... 83 99 31]\n",
            "Length of list:  3072\n"
          ]
        }
      ]
    },
    {
      "cell_type": "markdown",
      "metadata": {
        "id": "gPu7IDsZU_On"
      },
      "source": [
        "**Discuss:** What does each number mean? Can you explain the length of the list?\n",
        "\n",
        "**Exercise:**\n",
        "Fill in the right values for the image width, image height, and number of color channels to calculate the right number of pixels."
      ]
    },
    {
      "cell_type": "code",
      "metadata": {
        "id": "YWBX6fWUui4R",
        "colab": {
          "base_uri": "https://localhost:8080/"
        },
        "outputId": "4e992020-bb7a-4443-d188-353d24333d93"
      },
      "source": [
        "img_height = 32 #Change this\n",
        "img_width = 32 #Change this\n",
        "color_channels = 3 #Change this\n",
        "\n",
        "print (\"Each image is\", img_height, 'x', img_width, 'pixels.')\n",
        "print (\"Each pixel has\", color_channels, \"channels for red, green, blue.\")\n",
        "print (\"This gives a total of\", img_height * img_width * color_channels, \"intensity values per image.\")\n",
        "print (\"Should be\", len(data[0]))"
      ],
      "execution_count": null,
      "outputs": [
        {
          "output_type": "stream",
          "name": "stdout",
          "text": [
            "Each image is 32 x 32 pixels.\n",
            "Each pixel has 3 channels for red, green, blue.\n",
            "This gives a total of 3072 intensity values per image.\n",
            "Should be 3072\n"
          ]
        }
      ]
    },
    {
      "cell_type": "markdown",
      "metadata": {
        "id": "-haNvnOwt-YE"
      },
      "source": [
        "We use these values as **inputs** to predict an **output** label: 'dog' or 'road'!\n",
        "\n",
        "Here's what our entire dataset looks like:"
      ]
    },
    {
      "cell_type": "code",
      "metadata": {
        "id": "JZIiCuBrvS6z",
        "colab": {
          "base_uri": "https://localhost:8080/"
        },
        "outputId": "3ad45fb2-6f5e-4478-d389-2ab4ab5c30b4"
      },
      "source": [
        "print ('Data shape:', data.shape)\n",
        "print ('Data:', data)"
      ],
      "execution_count": null,
      "outputs": [
        {
          "output_type": "stream",
          "name": "stdout",
          "text": [
            "Data shape: (1200, 3072)\n",
            "Data: [[ 45  20  19 ...  83  99  31]\n",
            " [101 114  35 ... 155 134  91]\n",
            " [213 221 221 ... 139  58  47]\n",
            " ...\n",
            " [126 174 202 ... 124 128 129]\n",
            " [191 232 240 ...  74  93  81]\n",
            " [237 248 254 ...  45  56  10]]\n"
          ]
        }
      ]
    },
    {
      "cell_type": "markdown",
      "metadata": {
        "id": "tUjr5CKnhvtg"
      },
      "source": [
        "#A Simple Machine Learner"
      ]
    },
    {
      "cell_type": "markdown",
      "metadata": {
        "id": "hPskDCqlzOEE"
      },
      "source": [
        "We want to create a machine learning model that can tell us whether a new image is either a dog or a road.\n",
        "\n",
        "We will give our model a training manual of data and labels that it will study or train on.\n",
        "\n",
        "We then check how well our model is doing on a test, where it is given data and told to predict their labels.\n"
      ]
    },
    {
      "cell_type": "markdown",
      "metadata": {
        "id": "S0tDoNWFVVYB"
      },
      "source": [
        "##Building a KNN"
      ]
    },
    {
      "cell_type": "markdown",
      "metadata": {
        "id": "Q8_JZ9PVzKzr"
      },
      "source": [
        "Let's start by using the `KNeighborsClassifier` model.\n",
        "\n",
        "**Playground:** Explore [this demo](http://vision.stanford.edu/teaching/cs231n-demos/knn/) to understand what the KNN model is doing! \n",
        "\n",
        "**Exercise:** Below, please build, train, and measure the accuracy of your own KNN model. Experiment with changing the number of neighbors!"
      ]
    },
    {
      "cell_type": "code",
      "metadata": {
        "id": "ZFOgS2VEyTkH",
        "colab": {
          "base_uri": "https://localhost:8080/"
        },
        "outputId": "ca5d436e-1677-4272-f31e-9f5bcc409ab0"
      },
      "source": [
        "X_train, X_test, y_train, y_test = model_selection.train_test_split(data, labels, test_size=0.2, random_state=101)\n",
        "### YOUR CODE HERE\n",
        "knn = KNeighborsClassifier(n_neighbors=20)\n",
        "knn.fit(X_train, y_train)\n",
        "y_pred = knn.predict(X_test)\n",
        "accuracy = accuracy_score(y_test, y_pred)\n",
        "print(accuracy)\n",
        "\n",
        "### END CODE"
      ],
      "execution_count": null,
      "outputs": [
        {
          "output_type": "stream",
          "name": "stdout",
          "text": [
            "0.8208333333333333\n"
          ]
        }
      ]
    },
    {
      "cell_type": "markdown",
      "metadata": {
        "id": "MocQ5oQxHjcs"
      },
      "source": [
        "**(Optional):** After you've built your KNN model, remove ```random_state=1``` and re-run the cells above. How does removing ```random_state=1``` affect your accuracy? Why?\n",
        "\n",
        "Makes the accuracy fluctuate lower or higher. Removing random_state makes X_test change every time"
      ]
    },
    {
      "cell_type": "markdown",
      "metadata": {
        "id": "uU48O9l18_-C"
      },
      "source": [
        "##Predicting on images\n",
        "\n",
        "We can use our trained model to predict whether our car is seeing a `dog` or `road`. Let's try this out - experiment with different images!\n"
      ]
    },
    {
      "cell_type": "code",
      "metadata": {
        "id": "Az1_moLl9E0B",
        "colab": {
          "base_uri": "https://localhost:8080/",
          "height": 304
        },
        "outputId": "91578017-326e-4986-a38a-ba5ad8e05038"
      },
      "source": [
        "# Specify which image you want to show\n",
        "image_id = 239 #Change this!\n",
        "\n",
        "# Visualize the image\n",
        "plot_one_image(X_test, y_test, image_id)\n",
        "\n",
        "# Use the model to predict what this might be and print it\n",
        "print('prediction:', knn.predict([X_test[image_id]])[0])"
      ],
      "execution_count": null,
      "outputs": [
        {
          "output_type": "stream",
          "name": "stdout",
          "text": [
            "label: dog\n",
            "prediction: road\n"
          ]
        },
        {
          "output_type": "display_data",
          "data": {
            "image/png": "[encoded data removed]",
            "text/plain": [
              "<Figure size 432x288 with 1 Axes>"
            ]
          },
          "metadata": {
            "needs_background": "light"
          }
        }
      ]
    },
    {
      "cell_type": "markdown",
      "metadata": {
        "id": "4oW_Wb-1CTfB"
      },
      "source": [
        "## Choosing a value of k\n",
        "\n",
        "**Exercise** Determine the optimal value of \"K\" for our data. Use a for-loop to loop through different values of \"K\". In particular, *at the very least* try K = 1, 3, 5, 10, 20, and 30. For each of these values of \"K\", define a new KNN model, train it, and evaluate the accuracy."
      ]
    },
    {
      "cell_type": "code",
      "metadata": {
        "id": "OrZK_qoAZOAd",
        "colab": {
          "base_uri": "https://localhost:8080/"
        },
        "outputId": "08534f2c-7df1-45ef-9699-9e799f4f902e"
      },
      "source": [
        "### YOUR CODE HERE\n",
        "bestAccuracy = 0\n",
        "bestModel = 0\n",
        "for i in range(1,31):\n",
        "  knn = KNeighborsClassifier(i)\n",
        "  knn.fit(X_train, y_train)\n",
        "  y_pred = knn.predict(X_test)\n",
        "  accuracy = accuracy_score(y_test, y_pred)\n",
        "  print(i, accuracy)\n",
        "  if accuracy > bestAccuracy:\n",
        "    bestAccuracy = accuracy\n",
        "    bestModel = i\n",
        "print()\n",
        "print(bestAccuracy)\n",
        "print(bestModel)\n",
        "\n",
        "### END CODE"
      ],
      "execution_count": null,
      "outputs": [
        {
          "output_type": "stream",
          "name": "stdout",
          "text": [
            "1 0.8291666666666667\n",
            "2 0.8791666666666667\n",
            "3 0.8375\n",
            "4 0.875\n",
            "5 0.8166666666666667\n",
            "6 0.85\n",
            "7 0.8041666666666667\n",
            "8 0.8333333333333334\n",
            "9 0.8\n",
            "10 0.825\n",
            "11 0.7916666666666666\n",
            "12 0.8208333333333333\n",
            "13 0.8041666666666667\n",
            "14 0.8208333333333333\n",
            "15 0.8208333333333333\n",
            "16 0.8333333333333334\n",
            "17 0.8125\n",
            "18 0.825\n",
            "19 0.8083333333333333\n",
            "20 0.8208333333333333\n",
            "21 0.8125\n",
            "22 0.8125\n",
            "23 0.8\n",
            "24 0.8208333333333333\n",
            "25 0.7958333333333333\n",
            "26 0.8\n",
            "27 0.7958333333333333\n",
            "28 0.8166666666666667\n",
            "29 0.8\n",
            "30 0.8083333333333333\n",
            "\n",
            "0.8791666666666667\n",
            "2\n"
          ]
        }
      ]
    },
    {
      "cell_type": "markdown",
      "metadata": {
        "id": "AZ9uYgKMCX-z"
      },
      "source": [
        "**Discuss:** What are the advantages and disadvantages of using a bigger vs. smaller **k**? What is the optimal value?\n",
        "\n",
        "optimal k value is 2"
      ]
    },
    {
      "cell_type": "markdown",
      "metadata": {
        "id": "j09evSD_YfJ4"
      },
      "source": [
        "## (Optional) Understanding our mistakes\n",
        "\n",
        "Our classifications are OK, but are they good enough for our conscientious cars?\n",
        "\n",
        "Let's put on our detective hats to determine the root causes of the incorrect classifications!\n",
        "\n",
        "**Exercise:** Below, please print out 4 images of true positives, 4 images of true negatives, 4 images of false positives, and 4 images of false negatives. What are the reasons for failure (both for false positives and false negatives)? "
      ]
    },
    {
      "cell_type": "code",
      "metadata": {
        "id": "xWy1S_gyGoJT",
        "colab": {
          "base_uri": "https://localhost:8080/",
          "height": 1000
        },
        "outputId": "07447ca4-61fc-4e97-fe93-07b789d64912"
      },
      "source": [
        "#True Positives (code provided)\n",
        "tp_count = 0\n",
        "print (\"TRUE POSITIVES\")\n",
        "i = 0\n",
        "while tp_count < 4 and i < len(X_test):\n",
        "  prediction = knn.predict([X_test[i]])[0] \n",
        "  if prediction == y_test[i] and prediction == 'dog':\n",
        "    plot_one_image(X_test, y_test, i)\n",
        "    tp_count += 1\n",
        "  i += 1\n",
        "\n",
        "#False Positives\n",
        "#YOUR CODE HERE\n",
        "fp_count = 0\n",
        "print (\"FALSE POSITIVES\")\n",
        "i = 0\n",
        "while fp_count < 4 and i < len(X_test):\n",
        "  prediction = knn.predict([X_test[i]])[0] \n",
        "  if prediction != y_test[i] and prediction == 'dog':\n",
        "    plot_one_image(X_test, y_test, i)\n",
        "    fp_count += 1\n",
        "  i += 1\n",
        "\n",
        "#True Negatives\n",
        "#YOUR CODE HERE\n",
        "tn_count = 0\n",
        "print (\"TRUE NEGATIVES\")\n",
        "i = 0\n",
        "while tn_count < 4 and i < len(X_test):\n",
        "  prediction = knn.predict([X_test[i]])[0] \n",
        "  if prediction == y_test[i] and prediction == 'road':\n",
        "    plot_one_image(X_test, y_test, i)\n",
        "    tn_count += 1\n",
        "  i += 1\n",
        "\n",
        "#False Negatives\n",
        "#YOUR CODE HERE\n",
        "fn_count = 0\n",
        "print (\"FALSE NEGATIVES\")\n",
        "i = 0\n",
        "while fn_count < 4 and i < len(X_test):\n",
        "  prediction = knn.predict([X_test[i]])[0] \n",
        "  if prediction != y_test[i] and prediction == 'road':\n",
        "    plot_one_image(X_test, y_test, i)\n",
        "    fn_count += 1\n",
        "  i += 1"
      ],
      "execution_count": null,
      "outputs": [
        {
          "output_type": "stream",
          "name": "stdout",
          "text": [
            "TRUE POSITIVES\n",
            "label: dog\n",
            "label: dog\n",
            "label: dog\n",
            "label: dog\n",
            "FALSE POSITIVES\n",
            "label: road\n",
            "label: road\n",
            "label: road\n",
            "label: road\n",
            "TRUE NEGATIVES\n",
            "label: road\n",
            "label: road\n",
            "label: road\n",
            "label: road\n",
            "FALSE NEGATIVES\n",
            "label: dog\n",
            "label: dog\n",
            "label: dog\n",
            "label: dog\n"
          ]
        },
        {
          "output_type": "display_data",
          "data": {
            "image/png": "[encoded data removed]",
            "text/plain": [
              "<Figure size 432x288 with 1 Axes>"
            ]
          },
          "metadata": {
            "needs_background": "light"
          }
        },
        {
          "output_type": "display_data",
          "data": {
            "image/png": "[encoded data removed]",
            "text/plain": [
              "<Figure size 432x288 with 1 Axes>"
            ]
          },
          "metadata": {
            "needs_background": "light"
          }
        },
        {
          "output_type": "display_data",
          "data": {
            "image/png": "[encoded data removed]",
            "text/plain": [
              "<Figure size 432x288 with 1 Axes>"
            ]
          },
          "metadata": {
            "needs_background": "light"
          }
        },
        {
          "output_type": "display_data",
          "data": {
            "image/png": "[encoded data removed]",
            "text/plain": [
              "<Figure size 432x288 with 1 Axes>"
            ]
          },
          "metadata": {
            "needs_background": "light"
          }
        },
        {
          "output_type": "display_data",
          "data": {
            "image/png": "[encoded data removed]",
            "text/plain": [
              "<Figure size 432x288 with 1 Axes>"
            ]
          },
          "metadata": {
            "needs_background": "light"
          }
        },
        {
          "output_type": "display_data",
          "data": {
            "image/png": "[encoded data removed]",
            "text/plain": [
              "<Figure size 432x288 with 1 Axes>"
            ]
          },
          "metadata": {
            "needs_background": "light"
          }
        },
        {
          "output_type": "display_data",
          "data": {
            "image/png": "[encoded data removed]",
            "text/plain": [
              "<Figure size 432x288 with 1 Axes>"
            ]
          },
          "metadata": {
            "needs_background": "light"
          }
        },
        {
          "output_type": "display_data",
          "data": {
            "image/png": "[encoded data removed]",
            "text/plain": [
              "<Figure size 432x288 with 1 Axes>"
            ]
          },
          "metadata": {
            "needs_background": "light"
          }
        },
        {
          "output_type": "display_data",
          "data": {
            "image/png": "[encoded data removed]",
            "text/plain": [
              "<Figure size 432x288 with 1 Axes>"
            ]
          },
          "metadata": {
            "needs_background": "light"
          }
        },
        {
          "output_type": "display_data",
          "data": {
            "image/png": "[encoded data removed]",
            "text/plain": [
              "<Figure size 432x288 with 1 Axes>"
            ]
          },
          "metadata": {
            "needs_background": "light"
          }
        },
        {
          "output_type": "display_data",
          "data": {
            "image/png": "[encoded data removed]",
            "text/plain": [
              "<Figure size 432x288 with 1 Axes>"
            ]
          },
          "metadata": {
            "needs_background": "light"
          }
        },
        {
          "output_type": "display_data",
          "data": {
            "image/png": "[encoded data removed]",
            "text/plain": [
              "<Figure size 432x288 with 1 Axes>"
            ]
          },
          "metadata": {
            "needs_background": "light"
          }
        },
        {
          "output_type": "display_data",
          "data": {
            "image/png": "[encoded data removed]",
            "text/plain": [
              "<Figure size 432x288 with 1 Axes>"
            ]
          },
          "metadata": {
            "needs_background": "light"
          }
        },
        {
          "output_type": "display_data",
          "data": {
            "image/png": "[encoded data removed]",
            "text/plain": [
              "<Figure size 432x288 with 1 Axes>"
            ]
          },
          "metadata": {
            "needs_background": "light"
          }
        },
        {
          "output_type": "display_data",
          "data": {
            "image/png": "[encoded data removed]",
            "text/plain": [
              "<Figure size 432x288 with 1 Axes>"
            ]
          },
          "metadata": {
            "needs_background": "light"
          }
        },
        {
          "output_type": "display_data",
          "data": {
            "image/png": "[encoded data removed]",
            "text/plain": [
              "<Figure size 432x288 with 1 Axes>"
            ]
          },
          "metadata": {
            "needs_background": "light"
          }
        }
      ]
    },
    {
      "cell_type": "markdown",
      "metadata": {
        "id": "nSx8HEhHKxFd"
      },
      "source": [
        "**Discuss:** What patterns did you notice? What are some reasons that the model makes mistakes?\n",
        "\n",
        "Model makes mistakes when color of dogs looks more like color of roads and vice versa."
      ]
    },
    {
      "cell_type": "markdown",
      "metadata": {
        "id": "doLXp1Ot8D2C"
      },
      "source": [
        "#Neural Networks\n",
        "Now, let's create some new models using neural networks!\n",
        "\n",
        "You can play around with [TensorFlow Playground](https://playground.tensorflow.org/#activation=tanh&batchSize=10&dataset=circle&regDataset=reg-plane&learningRate=0.03&regularizationRate=0&noise=0&networkShape=4,2&seed=0.62283&showTestData=false&discretize=false&percTrainData=50&x=true&y=true&xTimesY=false&xSquared=false&ySquared=false&cosX=false&sinX=false&cosY=false&sinY=false&collectStats=false&problem=classification&initZero=false&hideText=false&regularization_hide=true&regularizationRate_hide=true&learningRate_hide=true&batchSize_hide=true&stepButton_hide=true&activation_hide=true) to get a feel for how neural nets work."
      ]
    },
    {
      "cell_type": "markdown",
      "metadata": {
        "id": "u9iFe-B4zqQA"
      },
      "source": [
        "To build a simple neural network, we use `MLPClassifier` from scikit-learn. We will play with the **number of neurons** and the **number of hidden layers** to adjust the complexity of our model, just like we did in Playground!\n",
        "\n",
        "**Example 1:**\n",
        "Here's how we create a neural network with 1 hidden layer of 3 neurons.\n",
        "\n",
        "`nnet = MLPClassifier(hidden_layer_sizes=(3)) `\n",
        "\n",
        "**Example 2:**\n",
        "\n",
        "Here's how we create a neural network with 2 hidden layers: one of 3 neurons and one of 4 neurons.\n",
        "\n",
        "`nnet = MLPClassifier(hidden_layer_sizes=(3, 4)) `"
      ]
    },
    {
      "cell_type": "code",
      "metadata": {
        "id": "x4XblMWBzm96",
        "colab": {
          "base_uri": "https://localhost:8080/"
        },
        "outputId": "edcf1e33-9e30-4b7a-84bb-e4bcf3cb38bc"
      },
      "source": [
        "# Create and train our multi layer perceptron model\n",
        "nnet = MLPClassifier(hidden_layer_sizes=(3), random_state=1, max_iter= 10000000)  ## How many hidden layers? 1 How many neurons does this have? 3\n",
        "nnet.fit(X_train, y_train)\n",
        "\n",
        "# Predict what the classes are based on the testing data\n",
        "predictions = nnet.predict(X_test)\n",
        "\n",
        "# Print the score on the testing data\n",
        "print(\"MLP Testing Set Score:\")\n",
        "print(accuracy_score(y_test, predictions)*100)"
      ],
      "execution_count": null,
      "outputs": [
        {
          "output_type": "stream",
          "name": "stdout",
          "text": [
            "MLP Testing Set Score:\n",
            "47.91666666666667\n"
          ]
        }
      ]
    },
    {
      "cell_type": "markdown",
      "metadata": {
        "id": "J1QYZTxq0RCV"
      },
      "source": [
        "**How well did your neural network perform?** \n",
        "\n",
        "Multilayer perceptrons are more complex models and it can be difficult to find the right \"settings\" for them. It takes some trial and error!"
      ]
    },
    {
      "cell_type": "markdown",
      "metadata": {
        "id": "nX27P2eY0yqQ"
      },
      "source": [
        "**Exercise: try the following out and see how well you can get your network to do!**\n",
        "* Train a 1 layer, 10 neuron network for practice\n",
        "* Change the number of neurons and/or add layers to see how well you can do\n",
        "* Increase or decrease the number of iterations"
      ]
    },
    {
      "cell_type": "code",
      "metadata": {
        "id": "_nPOrTN-JMYk",
        "colab": {
          "base_uri": "https://localhost:8080/"
        },
        "outputId": "82a4fc7c-a626-49ae-88ec-b36faa2d280d"
      },
      "source": [
        "#YOUR CODE HERE\n",
        "nnet = MLPClassifier(hidden_layer_sizes=(10), random_state=1, max_iter= 10000000)  \n",
        "nnet.fit(X_train, y_train)\n",
        "\n",
        "# Predict what the classes are based on the testing data\n",
        "predictions = nnet.predict(X_test)\n",
        "\n",
        "# Print the score on the testing data\n",
        "print(\"MLP Testing Set Score:\")\n",
        "print(accuracy_score(y_test, predictions)*100)"
      ],
      "execution_count": null,
      "outputs": [
        {
          "output_type": "stream",
          "name": "stdout",
          "text": [
            "MLP Testing Set Score:\n",
            "86.66666666666667\n"
          ]
        }
      ]
    },
    {
      "cell_type": "markdown",
      "metadata": {
        "id": "hXud5MuBXqzo"
      },
      "source": [
        "###Automating our Experiments \n",
        "\n",
        "**Exercise:** Similar to what you did for KNNs, use a for loop to automate your investigation. Explore different numbers of hidden layers, the size of the hidden layers, and the number of iterations! How well can you get your network performing?"
      ]
    },
    {
      "cell_type": "code",
      "metadata": {
        "id": "owrF6cDvX0HX",
        "colab": {
          "base_uri": "https://localhost:8080/"
        },
        "outputId": "0121d69b-0f21-43d0-c617-b27ec5084788"
      },
      "source": [
        "### YOUR CODE HERE\n",
        "iterations = 10000000\n",
        "numLayers = [1, 2, 3, 4]\n",
        "numNeurons = [1, 2, 3, 4, 5, 6, 7, 8, 9, 10]\n",
        "max_accuracy = 0\n",
        "sizes = None\n",
        "\n",
        "for ilayer in [(1,1), (2,2), (3,3), (5,5), (8,6), (10,10,10), (10,10,5)]:\n",
        "  nnet = MLPClassifier(hidden_layer_sizes= ilayer, random_state=1, max_iter= iterations)  \n",
        "  nnet.fit(X_train, y_train)\n",
        "\n",
        "\n",
        "\n",
        "  # Predict what the classes are based on the testing data\n",
        "  predictions = nnet.predict(X_test)\n",
        "  accuracy = accuracy_score(y_test, predictions)\n",
        "  if accuracy > max_accuracy:\n",
        "    max_accuracy = accuracy\n",
        "    sizes = ilayer\n",
        "\n",
        "print(max_accuracy)\n",
        "print(sizes)\n",
        "### END CODE"
      ],
      "execution_count": null,
      "outputs": [
        {
          "output_type": "stream",
          "name": "stdout",
          "text": [
            "0.8708333333333333\n",
            "(2, 2)\n"
          ]
        }
      ]
    },
    {
      "cell_type": "markdown",
      "metadata": {
        "id": "37O_VE_D1Bdy"
      },
      "source": [
        "# Models for Vision: Convolutional Neural Networks\n",
        "There is a famous type of neural network known as convolutional neural networks (CNNs). These types of neural networks work particularly well on problems to do with computer vision. Let's try one out!"
      ]
    },
    {
      "cell_type": "markdown",
      "metadata": {
        "id": "GqrfI4JiVeFr"
      },
      "source": [
        "###Training Your CNN\n",
        "To load up a simple CNN on scikit-learn, just run:\n",
        "\n",
        "`cnn = CNNClassifier(num_epochs=N)`\n",
        "\n",
        "The `num_epochs` represents how many times the neural network passes through the training dataset. \n",
        "\n",
        "We'll need to change our data to floats (decimal numbers).\n",
        "\n",
        "**Exercise:** Please train and test your CNN below!"
      ]
    },
    {
      "cell_type": "code",
      "metadata": {
        "id": "dSwghlVU4WTy",
        "colab": {
          "base_uri": "https://localhost:8080/"
        },
        "outputId": "a02a8c97-165b-40a6-8468-dff064b77a2a"
      },
      "source": [
        "# convert our data to floats for our CNN\n",
        "X_train = X_train.astype(float)\n",
        "X_test = X_test.astype(float)\n",
        "\n",
        "\n",
        "\n",
        "\n",
        "### YOUR CODE HERE\n",
        "# Create and train our cnn\n",
        "cnn = CNNClassifier(num_epochs=50)\n",
        "cnn.fit(X_train, y_train)\n",
        "y_pred = cnn.predict(X_test)\n",
        "accuracy = accuracy_score(y_pred, y_test)\n",
        "print(accuracy)\n",
        "\n",
        "# Predict what the classes are based on the testing data\n",
        "\n",
        "# Print the score on the testing data\n",
        "\n",
        "\n",
        "### END CODE"
      ],
      "execution_count": null,
      "outputs": [
        {
          "output_type": "stream",
          "name": "stderr",
          "text": [
            "/usr/local/lib/python3.7/dist-packages/ipykernel_launcher.py:113: DeprecationWarning: KerasClassifier is deprecated, use Sci-Keras (https://github.com/adriangb/scikeras) instead.\n"
          ]
        },
        {
          "output_type": "stream",
          "name": "stdout",
          "text": [
            "Epoch 1/50\n",
            "96/96 - 6s - loss: 0.7853 - accuracy: 0.7802 - 6s/epoch - 60ms/step\n",
            "Epoch 2/50\n",
            "96/96 - 2s - loss: 0.2995 - accuracy: 0.8802 - 2s/epoch - 20ms/step\n",
            "Epoch 3/50\n",
            "96/96 - 2s - loss: 0.2415 - accuracy: 0.8990 - 2s/epoch - 18ms/step\n",
            "Epoch 4/50\n",
            "96/96 - 2s - loss: 0.2089 - accuracy: 0.9229 - 2s/epoch - 19ms/step\n",
            "Epoch 5/50\n",
            "96/96 - 2s - loss: 0.1712 - accuracy: 0.9323 - 2s/epoch - 20ms/step\n",
            "Epoch 6/50\n",
            "96/96 - 2s - loss: 0.1526 - accuracy: 0.9385 - 2s/epoch - 19ms/step\n",
            "Epoch 7/50\n",
            "96/96 - 2s - loss: 0.1311 - accuracy: 0.9479 - 2s/epoch - 21ms/step\n",
            "Epoch 8/50\n",
            "96/96 - 2s - loss: 0.1131 - accuracy: 0.9625 - 2s/epoch - 18ms/step\n",
            "Epoch 9/50\n",
            "96/96 - 2s - loss: 0.1139 - accuracy: 0.9542 - 2s/epoch - 21ms/step\n",
            "Epoch 10/50\n",
            "96/96 - 2s - loss: 0.1160 - accuracy: 0.9625 - 2s/epoch - 19ms/step\n",
            "Epoch 11/50\n",
            "96/96 - 2s - loss: 0.1226 - accuracy: 0.9542 - 2s/epoch - 21ms/step\n",
            "Epoch 12/50\n",
            "96/96 - 2s - loss: 0.0973 - accuracy: 0.9656 - 2s/epoch - 16ms/step\n",
            "Epoch 13/50\n",
            "96/96 - 2s - loss: 0.0878 - accuracy: 0.9740 - 2s/epoch - 18ms/step\n",
            "Epoch 14/50\n",
            "96/96 - 2s - loss: 0.0834 - accuracy: 0.9781 - 2s/epoch - 23ms/step\n",
            "Epoch 15/50\n",
            "96/96 - 2s - loss: 0.0823 - accuracy: 0.9719 - 2s/epoch - 19ms/step\n",
            "Epoch 16/50\n",
            "96/96 - 2s - loss: 0.0633 - accuracy: 0.9802 - 2s/epoch - 23ms/step\n",
            "Epoch 17/50\n",
            "96/96 - 2s - loss: 0.0669 - accuracy: 0.9771 - 2s/epoch - 17ms/step\n",
            "Epoch 18/50\n",
            "96/96 - 1s - loss: 0.0514 - accuracy: 0.9812 - 1s/epoch - 11ms/step\n",
            "Epoch 19/50\n",
            "96/96 - 1s - loss: 0.0613 - accuracy: 0.9781 - 1s/epoch - 12ms/step\n",
            "Epoch 20/50\n",
            "96/96 - 1s - loss: 0.0466 - accuracy: 0.9875 - 1s/epoch - 11ms/step\n",
            "Epoch 21/50\n",
            "96/96 - 1s - loss: 0.0360 - accuracy: 0.9865 - 1s/epoch - 11ms/step\n",
            "Epoch 22/50\n",
            "96/96 - 1s - loss: 0.0625 - accuracy: 0.9844 - 1s/epoch - 11ms/step\n",
            "Epoch 23/50\n",
            "96/96 - 1s - loss: 0.0479 - accuracy: 0.9854 - 1s/epoch - 12ms/step\n",
            "Epoch 24/50\n",
            "96/96 - 1s - loss: 0.0403 - accuracy: 0.9854 - 1s/epoch - 11ms/step\n",
            "Epoch 25/50\n",
            "96/96 - 1s - loss: 0.0345 - accuracy: 0.9865 - 1s/epoch - 11ms/step\n",
            "Epoch 26/50\n",
            "96/96 - 1s - loss: 0.0424 - accuracy: 0.9885 - 1s/epoch - 11ms/step\n",
            "Epoch 27/50\n",
            "96/96 - 1s - loss: 0.0249 - accuracy: 0.9917 - 1s/epoch - 11ms/step\n",
            "Epoch 28/50\n",
            "96/96 - 1s - loss: 0.0377 - accuracy: 0.9875 - 1s/epoch - 11ms/step\n",
            "Epoch 29/50\n",
            "96/96 - 1s - loss: 0.0157 - accuracy: 0.9948 - 1s/epoch - 12ms/step\n",
            "Epoch 30/50\n",
            "96/96 - 1s - loss: 0.0181 - accuracy: 0.9927 - 1s/epoch - 11ms/step\n",
            "Epoch 31/50\n",
            "96/96 - 1s - loss: 0.0451 - accuracy: 0.9896 - 1s/epoch - 11ms/step\n",
            "Epoch 32/50\n",
            "96/96 - 1s - loss: 0.0181 - accuracy: 0.9917 - 1s/epoch - 11ms/step\n",
            "Epoch 33/50\n",
            "96/96 - 1s - loss: 0.0322 - accuracy: 0.9917 - 1s/epoch - 11ms/step\n",
            "Epoch 34/50\n",
            "96/96 - 1s - loss: 0.0198 - accuracy: 0.9906 - 1s/epoch - 11ms/step\n",
            "Epoch 35/50\n",
            "96/96 - 1s - loss: 0.0200 - accuracy: 0.9958 - 1s/epoch - 13ms/step\n",
            "Epoch 36/50\n",
            "96/96 - 1s - loss: 0.0183 - accuracy: 0.9917 - 1s/epoch - 12ms/step\n",
            "Epoch 37/50\n",
            "96/96 - 1s - loss: 0.0301 - accuracy: 0.9906 - 1s/epoch - 11ms/step\n",
            "Epoch 38/50\n",
            "96/96 - 1s - loss: 0.0179 - accuracy: 0.9927 - 1s/epoch - 11ms/step\n",
            "Epoch 39/50\n",
            "96/96 - 1s - loss: 0.0127 - accuracy: 0.9937 - 1s/epoch - 12ms/step\n",
            "Epoch 40/50\n",
            "96/96 - 1s - loss: 0.0119 - accuracy: 0.9937 - 1s/epoch - 11ms/step\n",
            "Epoch 41/50\n",
            "96/96 - 1s - loss: 0.0506 - accuracy: 0.9885 - 1s/epoch - 12ms/step\n",
            "Epoch 42/50\n",
            "96/96 - 1s - loss: 0.0098 - accuracy: 0.9969 - 1s/epoch - 12ms/step\n",
            "Epoch 43/50\n",
            "96/96 - 1s - loss: 0.0137 - accuracy: 0.9958 - 1s/epoch - 12ms/step\n",
            "Epoch 44/50\n",
            "96/96 - 1s - loss: 0.0115 - accuracy: 0.9937 - 1s/epoch - 12ms/step\n",
            "Epoch 45/50\n",
            "96/96 - 1s - loss: 0.0247 - accuracy: 0.9937 - 1s/epoch - 13ms/step\n",
            "Epoch 46/50\n",
            "96/96 - 1s - loss: 0.0153 - accuracy: 0.9937 - 1s/epoch - 12ms/step\n",
            "Epoch 47/50\n",
            "96/96 - 1s - loss: 0.0068 - accuracy: 0.9979 - 1s/epoch - 12ms/step\n",
            "Epoch 48/50\n",
            "96/96 - 1s - loss: 0.0122 - accuracy: 0.9958 - 1s/epoch - 12ms/step\n",
            "Epoch 49/50\n",
            "96/96 - 1s - loss: 0.0145 - accuracy: 0.9958 - 1s/epoch - 11ms/step\n",
            "Epoch 50/50\n",
            "96/96 - 1s - loss: 0.0028 - accuracy: 0.9990 - 1s/epoch - 12ms/step\n",
            "0.9541666666666667\n"
          ]
        }
      ]
    },
    {
      "cell_type": "markdown",
      "metadata": {
        "id": "KGWpgsVXP1ut"
      },
      "source": [
        "**Discuss: Is this CNN good enough to use in practice?** \n",
        "\n",
        "CNNs typically perform better than basic Neural Networks on vision problems - but like basic Neural Networks, they aren't always consistent in their results and are sensitive to a number of factors. \n",
        "\n",
        "If you're interested in learning more about CNNs, spend some time exploring the [CNN Explainer](https://poloclub.github.io/cnn-explainer/)!\n",
        "\n",
        "**Report to the class your highest model accuracy.**\n",
        "\n",
        "**Bonus Question:** Each of you might see a different max accuracy. Can you think of why that might be?\n"
      ]
    },
    {
      "cell_type": "markdown",
      "metadata": {
        "id": "c-XRh5Y5P_CL"
      },
      "source": [
        "## Training and Validation Curves\n",
        "\n",
        "An important aspect of training neural networks is to prevent overfitting. **How do you know when your model is overfitting?**\n",
        "\n",
        "To plot our model's history, we can train it with\n",
        "```\n",
        "history = model.fit(X_train, categorical_to_numpy(y_train), validation_data=(X_test, categorical_to_numpy(y_test)))\n",
        "```\n",
        "\n",
        "and then use\n",
        "```\n",
        "plot_acc(history)\n",
        "```\n",
        "\n",
        "Don't forget to change ```model``` to be the name of your model!\n"
      ]
    },
    {
      "cell_type": "markdown",
      "metadata": {
        "id": "8eaFvE2PQEFe"
      },
      "source": [
        "**Exercise:** Train a CNN model and plot a train vs. test curve.\n",
        "\n",
        "**After how many epochs does the model begin to overfit?** Overfitting occurs when the validation accuracy starts to drop below the training accuracy."
      ]
    },
    {
      "cell_type": "code",
      "metadata": {
        "id": "OsVAasDbjARJ"
      },
      "source": [
        "### YOUR CODE HERE\n",
        "\n",
        "### END CODE"
      ],
      "execution_count": null,
      "outputs": []
    },
    {
      "cell_type": "markdown",
      "metadata": {
        "id": "RVzEpI_xWpE5"
      },
      "source": [
        "### Hopefully your CNN worked *very* well! We want to keep the doggos as safe as they can be.\n",
        "\n",
        "![](https://images.pexels.com/photos/316/black-and-white-animal-dog-pet.jpg?auto=compress&cs=tinysrgb&dpr=2&h=650&w=940)"
      ]
    },
    {
      "cell_type": "markdown",
      "metadata": {
        "id": "7Y1wGoQPm2Ko"
      },
      "source": [
        "# Challenge Exercise: Explainability through Saliency Maps"
      ]
    },
    {
      "cell_type": "markdown",
      "metadata": {
        "id": "UnGTR2Vdb08i"
      },
      "source": [
        "Neural networks have achieved incredible results in many fields. But they have a big problem: it’s very difficult to explain exactly why a neural network makes the decisions it does. This makes it difficult to trust them in high-stakes applications like medicine, self-driving cars, and criminal justice - would you trust an AI that diagnosed you with a disease, but couldn’t explain why?\n",
        "\n",
        "Other classifiers are much more explainable:\n",
        "\n",
        "*   With logistic regression, we can see the coefficient (importance) attached to each input feature.\n",
        "*   With a decision tree, we can trace a particular decision down the tree.\n",
        "*   With KNN, we can examine the nearby neighbors.\n",
        "\n",
        "Our CNN, above, works well. For example, let's try choosing an image from our dataset and classifying it."
      ]
    },
    {
      "cell_type": "code",
      "metadata": {
        "id": "HmU6Peb7m67F"
      },
      "source": [
        "image_index = 70 #pick any image you'd like\n",
        "input_image = X_test[image_index] \n",
        "print (input_image.shape) \n",
        "print (input_image) #How many numbers are there? What does each represent?\n",
        "\n",
        "plt.imshow(input_image.reshape(32,32,3).astype(int))\n",
        "plt.show()\n",
        "\n",
        "print ('Classification:')\n",
        "print(cnn.predict(np.array([input_image]))) #Our predict function expects a 2D array.\n",
        "#0 means dog, 1 means road"
      ],
      "execution_count": null,
      "outputs": []
    },
    {
      "cell_type": "markdown",
      "metadata": {
        "id": "c6P7DX_WcfOU"
      },
      "source": [
        "But why did the CNN reach that decision? It’s really hard to give a clear answer! The CNN relies on multiplying input features by the weights it has set. You can print out and look at the hundreds of weights:\n"
      ]
    },
    {
      "cell_type": "code",
      "metadata": {
        "id": "w8M8UZCgcpqO"
      },
      "source": [
        "#Warning: expect a large output!\n",
        "for layer_weights in history.model.weights:\n",
        "  print (layer_weights)"
      ],
      "execution_count": null,
      "outputs": []
    },
    {
      "cell_type": "markdown",
      "metadata": {
        "id": "SR42boMgczoF"
      },
      "source": [
        "Unfortunately, that probably didn’t help you make a useful explanation.\n",
        "\n",
        "Researchers are currently studying ways to make neural networks more explainable. One approach is using **saliency maps** to figure out the saliency (importance) of each individual pixel. Check out a demo [here](https://lrpserver.hhi.fraunhofer.de/image-classification). Intuitively, we're trying to understand the neural network by tracking what it \"pays attention\" to, in the same way that psychologists study babies' cognition by [tracking what babies look at](https://www.ncbi.nlm.nih.gov/pmc/articles/PMC3259733/).\n",
        "\n",
        "In this exercise, we're going to build a simple version of a saliency map for the image you chose above. We'll see what pixels were most important in helping the network make its classification.\n",
        "\n",
        "To do this, we'll investigate the effects of changing each pixel a little bit. If changing a particular pixel changes the result a lot, we conclude that pixel must be important for classifying. If changing that pixel doesn't change the result, we conclude that pixel is unimportant.\n"
      ]
    },
    {
      "cell_type": "markdown",
      "metadata": {
        "id": "0RpZL6ChfLZ6"
      },
      "source": [
        "We're going to use the raw predicted probabilities, rather than the final classification."
      ]
    },
    {
      "cell_type": "code",
      "metadata": {
        "id": "gkdMS7sJfR6j"
      },
      "source": [
        "pred = cnn.predict_proba(np.array([input_image])) #What does each number mean?\n",
        "print (pred)\n",
        "dog_prob = pred[0][0] #This is the probability we'll use (if we know dog prob, we know the classification)\n",
        "\n",
        "print ('Probability of dog:')\n",
        "print (dog_prob)"
      ],
      "execution_count": null,
      "outputs": []
    },
    {
      "cell_type": "markdown",
      "metadata": {
        "id": "Xla3j0R1geJY"
      },
      "source": [
        "Now, we need to calculate the saliency for each pixel (really, each R/G/B value). The core idea is that a pixel's saliency is the average value of \n",
        "\n",
        " $D = |\\frac{\\Delta probability}{\\Delta pixel}|$\n",
        " \n",
        " where $\\Delta$ is the amount of change. If a small change in the pixel value results in a large change in the probability (either up or down), we know this pixel is important. If you've seen derivatives in calculus, this idea should feel familiar.\n",
        "\n",
        "Here's the game plan:\n",
        "\n",
        "*   Consider each pixel value in turn: R, G, B, then the next pixel.\n",
        "*   Make a copy of the image array before you change anything!\n",
        "*   Make the pixel value larger or smaller by various amounts. Each time, find the CNN's prediction with the changed value, and calculate the value of D.\n",
        "*   Repeat the previous step a few times, and calculate the pixel's saliency: the average value of D.\n",
        "*   Store the saliency of each pixel in a list, so that we can visualize it later.\n",
        "\n",
        "Try it below! (Warning: this code might be very slow. As a further challenge, try to speed it up!)\n"
      ]
    },
    {
      "cell_type": "code",
      "metadata": {
        "id": "RnABhKUJmNCF"
      },
      "source": [
        "saliencies = [] #eventually, will be the same size as input_image\n",
        "\n",
        "for index, pixel in enumerate(input_image):\n",
        "  #index counts up from 0, pixel is between 0 and 255\n",
        "  \n",
        "  if index%100 == 0: #will track progress - this might take a while\n",
        "    print (index)\n",
        "  \n",
        "  changed_input = input_image.copy() #make sure not to change the original input_image!\n",
        "  \n",
        "  #YOUR CODE HERE:\n",
        "  #In changed_input, change the value of this pixel by some amount.\n",
        "  #Use the CNN to classify changed_input.\n",
        "  #Calculate the value of D.\n",
        "  #Repeat with various-size changes, and calculate saliency as the average D.\n",
        "  saliency = 0 #Change this!\n",
        "\n",
        "  saliencies.append(saliency)\n",
        "\n",
        "print (saliencies)"
      ],
      "execution_count": null,
      "outputs": []
    },
    {
      "cell_type": "markdown",
      "metadata": {
        "id": "SJEAJ5VinTIZ"
      },
      "source": [
        "You'll notice that your saliencies are probably very small values, since each individual pixel has a small effect on the output. \n",
        "Here are the current min and max:"
      ]
    },
    {
      "cell_type": "code",
      "metadata": {
        "id": "S5vRrciYnZgk"
      },
      "source": [
        "sal_array = np.array(saliencies)\n",
        "print (sal_array.min(), sal_array.max())\n",
        "print (sal_array.shape)"
      ],
      "execution_count": null,
      "outputs": []
    },
    {
      "cell_type": "markdown",
      "metadata": {
        "id": "UwQfwv6rnl--"
      },
      "source": [
        "To plot the saliencies, we need to do some arithmetic to transform them to a range of 0 to 1. Can you explain the function of each line?"
      ]
    },
    {
      "cell_type": "code",
      "metadata": {
        "id": "XL_W9k0W0Sai"
      },
      "source": [
        "sal_array = np.array(saliencies)\n",
        "sal_array = sal_array - sal_array.min()\n",
        "#TODO print min and max\n",
        "\n",
        "sal_array = sal_array/sal_array.max()\n",
        "#TODO print min and max\n",
        "\n",
        "#Can you perform this transformation in a single line of code?\n",
        "\n",
        "print (sal_array.shape)"
      ],
      "execution_count": null,
      "outputs": []
    },
    {
      "cell_type": "markdown",
      "metadata": {
        "id": "OvFKoff4n_gf"
      },
      "source": [
        "Finally, we can plot our saliency map!\n",
        "\n",
        "If you're not getting great results, try experimenting with how much you're changing the pixel values."
      ]
    },
    {
      "cell_type": "code",
      "metadata": {
        "id": "2vANcgvj1Pvc"
      },
      "source": [
        "#Plot our original image\n",
        "plt.imshow(input_image.reshape(32,32,3).astype(int))\n",
        "plt.show()\n",
        "\n",
        "#Plot our saliency map: the brighter, the higher the saliency\n",
        "plt.imshow(sal_array.reshape(32,32,3))\n",
        "plt.show()\n",
        "\n",
        "#Plot our saliency map superimposed on the image\n",
        "plt.imshow(input_image.reshape(32,32,3).astype(int))\n",
        "plt.imshow(sal_array.reshape(32,32,3),alpha=0.6)\n",
        "plt.show()"
      ],
      "execution_count": null,
      "outputs": []
    },
    {
      "cell_type": "markdown",
      "metadata": {
        "id": "fistwbaDp56y"
      },
      "source": [
        "We now have some insight into our neural network! We know which pixels matter in its decisions. \n",
        "\n",
        "You can experiment with the definition of saliency we used above; you might come up with a better way to measure it!"
      ]
    }
  ]
}