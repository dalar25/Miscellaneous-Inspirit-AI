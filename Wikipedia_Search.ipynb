{
  "nbformat": 4,
  "nbformat_minor": 0,
  "metadata": {
    "colab": {
      "provenance": []
    },
    "kernelspec": {
      "name": "python3",
      "display_name": "Python 3"
    },
    "language_info": {
      "name": "python"
    }
  },
  "cells": [
    {
      "cell_type": "markdown",
      "source": [
        "# 🌐 **Let's play the Wiki Game!**\n",
        "\n",
        "In today's notebook, you'll be implementing search algorithms to code a machine that can play the Wiki Game. For those who have never seen or played this, the wiki game is a race-type game where your goal is to get from one Wikipedia page to another as fast as possible. Navigating between Wikipedia pages is done by clicking links on the page. To play the Wiki Game, [check out the link here](https://www.thewikigame.com/).\n",
        "\n",
        "Our goal in this notebook is going to be to find the shortest path taken from one page to another. There may be multiple shortest paths, but we only need to find and return one."
      ],
      "metadata": {
        "id": "BqDTMjGpZsdC"
      }
    },
    {
      "cell_type": "code",
      "source": [
        "#@title Run this to import the data!\n",
        "!curl -L -o wikipedia_grouped.zip \"https://storage.googleapis.com/inspirit-ai-data-bucket-1/Data/Deep%20Dives/AI%20%2B%20Game%20Playing/Main%20Curriculum/Wikipedia%20Search/wikipedia_grouped.zip\"\n",
        "!unzip wikipedia_grouped.zip\n",
        "\n",
        "import sqlite3 as sl\n"
      ],
      "metadata": {
        "id": "4sN8z1uQm1Px",
        "cellView": "form",
        "colab": {
          "base_uri": "https://localhost:8080/"
        },
        "outputId": "fdaa59f0-d0b1-4328-aae0-2e1deb04fd9a"
      },
      "execution_count": null,
      "outputs": [
        {
          "output_type": "stream",
          "name": "stdout",
          "text": [
            "  % Total    % Received % Xferd  Average Speed   Time    Time     Time  Current\n",
            "                                 Dload  Upload   Total   Spent    Left  Speed\n",
            "100 1991M  100 1991M    0     0   201M      0  0:00:09  0:00:09 --:--:--  214M\n",
            "Archive:  wikipedia_grouped.zip\n",
            "  inflating: wikipedia_grouped.db    \n"
          ]
        }
      ]
    },
    {
      "cell_type": "code",
      "source": [
        "#@title Run this to initialize some database functions!\n",
        "# Titles in the database use underscores instead of spaces, so provide explicit methods to convert\n",
        "def title_to_db_format(title: str):\n",
        "  \"\"\"\n",
        "    Replace spaces in a title string with underscores to conform to database format\n",
        "  \"\"\"\n",
        "  return title.replace(\" \", \"_\")\n",
        "\n",
        "def db_format_to_title(title: str):\n",
        "  \"\"\"\n",
        "    Replace underscores in a title string with spaces to convert from database format\n",
        "  \"\"\"\n",
        "  return title.replace(\"_\", \" \")\n",
        "\n",
        "# Article IDs are returned as strings because it makes the sqlite3 database queries easier\n",
        "def get_article_id(title, db_con, redirect = False):\n",
        "  \"\"\"\n",
        "    Takes a title string in database format and returns the corresponding article ID\n",
        "    If redirect is true returns the target of the redirect if the title is one\n",
        "\n",
        "    inputs:\n",
        "      title: string\n",
        "      db_con: sqlite3 connection object\n",
        "    outputs:\n",
        "      article ID (string)\n",
        "  \"\"\"\n",
        "  with db_con:\n",
        "    id = db_con.execute(\"\"\"\n",
        "      SELECT id, is_redirect FROM pages WHERE title = ?    \n",
        "    \"\"\", (title,)).fetchone()\n",
        "    if id:\n",
        "      if id[1] and redirect:\n",
        "          return get_redirect(id[0], db_con)\n",
        "      return str(id[0])\n",
        "  print(\"Couldn't find page with title {} in database\".format(title))\n",
        "\n",
        "def get_article_titles(ids, db_con):\n",
        "  \"\"\"\n",
        "    Takes a list of article IDs and returns a list of corresponding article titles\n",
        "    Raises RuntimeError if some ids cannot be found in the database\n",
        "\n",
        "    inputs:\n",
        "      ids: list of strings\n",
        "      db_con: sqlite3 connection object\n",
        "    outputs:\n",
        "      article titles (list of strings)\n",
        "  \"\"\"\n",
        "  titles = []\n",
        "  missing = []\n",
        "  with db_con:\n",
        "    for id in ids:\n",
        "      title_row = db_con.execute(\"\"\"\n",
        "        SELECT title FROM pages WHERE id = ?    \n",
        "      \"\"\", (str(id),)).fetchone()\n",
        "      if title_row:\n",
        "        titles.append(title_row[0])\n",
        "      else:\n",
        "        missing.append(id)\n",
        "  # if missing:\n",
        "  #   print(\"Couldn't find all requested ids. Missing ids {}\".format(missing))\n",
        "    # raise RuntimeError(\"Couldn't find all requested ids. Missing ids {}\".format(missing))\n",
        "  return titles\n",
        "        \n",
        "def get_article_title(id, db_con):\n",
        "  \"\"\"\n",
        "    Alias for get_article_titles for a single ID\n",
        "\n",
        "    inputs:\n",
        "      id: string\n",
        "      db_con: sqlite3 connection object\n",
        "    outputs:\n",
        "      title (string)\n",
        "  \"\"\"\n",
        "  titles = get_article_titles([id], db_con)\n",
        "  if titles != []:\n",
        "    return titles[0]\n",
        "  return ''\n",
        "\n",
        "def get_redirect(source_id, db_con):\n",
        "  \"\"\"\n",
        "    Gets target ID of a redirect page\n",
        "\n",
        "    inputs:\n",
        "      source_id: string\n",
        "      db_con: sqlite3 connection object\n",
        "    outputs:\n",
        "      target id (string)\n",
        "  \"\"\"\n",
        "  with db_con:\n",
        "      target_id = db_con.execute(\"\"\"\n",
        "          SELECT target_id FROM redirects WHERE source_id = ?    \n",
        "      \"\"\", (source_id,)).fetchone()\n",
        "      if target_id:\n",
        "          return str(target_id[0])\n",
        "  print(\"Couldn't find redirect with id {} in database\".format(source_id))\n",
        "\n",
        "def get_page_links_from_id(source_id, db_con, return_titles = False):\n",
        "  \"\"\"\n",
        "    Gets all page IDs that the source page links to.\n",
        "    If return_titles is true returns page titles instead of IDs\n",
        "\n",
        "    inputs:\n",
        "      source_id: string\n",
        "      db_con: sqlite3 connection object\n",
        "    outputs:\n",
        "      list of strings\n",
        "  \"\"\"\n",
        "  with db_con:\n",
        "    raw_ids = db_con.execute(\"\"\"\n",
        "      SELECT target_ids FROM links WHERE source_id = ?    \n",
        "    \"\"\", (source_id,)).fetchone()\n",
        "    if raw_ids is None:\n",
        "      return []\n",
        "    ids = raw_ids[0].split(',')\n",
        "    if return_titles:\n",
        "      return get_article_titles(ids, db_con)\n",
        "    return ids\n",
        "\n",
        "wikipedia_data = sl.connect('wikipedia_grouped.db')"
      ],
      "metadata": {
        "cellView": "form",
        "id": "FcoHKZdjhn1V"
      },
      "execution_count": null,
      "outputs": []
    },
    {
      "cell_type": "markdown",
      "source": [
        "# 📊 **Understanding the \"Graph\"**\n",
        "\n",
        "To implement the wiki search algorithm, we first have to understand what we're working with. Take a look at the image below. How many individual wikipedia pages are linked?\n",
        "\n",
        "**Note:** The links on the top and left sidebars do not count, and the `[show]` and `[edit]` buttons do not count. Remember to only count links that would redirect to another wiki page (no external links!)\n",
        "\n",
        "<img src=\"https://drive.google.com/uc?export=view&id=1Ji3L2kQKP9DSzzP1hPqbGBYA1P2YmO6P\"  \n",
        "  width=\"2000\"\n",
        "  height=\"auto\"\n",
        "/>\n",
        "\n",
        "If you'd like to take a look at the wikipedia page itself, follow the [link here](https://en.wikipedia.org/wiki/Kismet_(robot))!"
      ],
      "metadata": {
        "id": "2ZtmMVYIgFRJ"
      }
    },
    {
      "cell_type": "code",
      "source": [
        "#@title How many links are on the page?\n",
        "num_links = 17 #@param {type:\"slider\", min:0, max:30, step:1}\n",
        "\n",
        "if num_links == 17:\n",
        "  print(\"That's right!\")\n",
        "elif num_links>17:\n",
        "  print(\"Too many!\")\n",
        "else:\n",
        "  print(\"Not enough!\")"
      ],
      "metadata": {
        "cellView": "form",
        "id": "qehav86Fnmq0",
        "colab": {
          "base_uri": "https://localhost:8080/"
        },
        "outputId": "6099084c-a3a4-491a-9e17-9c4a40ebff73"
      },
      "execution_count": null,
      "outputs": [
        {
          "output_type": "stream",
          "name": "stdout",
          "text": [
            "That's right!\n"
          ]
        }
      ]
    },
    {
      "cell_type": "markdown",
      "source": [
        "# 🔤 **What does our data look like?**\n",
        "\n",
        "There are over ***6 million*** English Wikipedia pages. That's a lot! Because of this, our data set for this notebook is **MASSIVE**. To cut down on the storage space, we've used SQLite, which is a data base engine that uses SQL. If you'd like to learn more about SQLite, [check out the link here](https://www.sqlite.org/index.html)!\n",
        "\n",
        "Our data is stored in an SQLite database, which we can connect to using the variable `wikipedia_data`. Since we're not teaching you about databases in this course, we've provided a number of functions you can use to interact with the data. For all intents and purposes, treat `wikipedia_data` as though it's the data itself (even though it's really just a connection to the data).\n",
        "\n",
        "If you run the cell below, you'll be able to see that `wikipedia_data` is an SQLite connection.\n",
        "\n"
      ],
      "metadata": {
        "id": "3ovyeXmZxAWn"
      }
    },
    {
      "cell_type": "code",
      "source": [
        "wikipedia_data"
      ],
      "metadata": {
        "id": "qj0Ca-NUiJPf",
        "colab": {
          "base_uri": "https://localhost:8080/"
        },
        "outputId": "c5ffa6e7-1011-461b-f9b1-421554083702"
      },
      "execution_count": null,
      "outputs": [
        {
          "output_type": "execute_result",
          "data": {
            "text/plain": [
              "<sqlite3.Connection at 0x7fa6f0721f10>"
            ]
          },
          "metadata": {},
          "execution_count": 5
        }
      ]
    },
    {
      "cell_type": "markdown",
      "source": [
        "## 🔢 **Converting between titles and IDs**\n",
        "\n",
        "Wikipedia articles are stored in our dataset as ID numbers, so to search through the data set, we need to search through different linked ID numbers. \n",
        "\n",
        "For example, let's consider the Wikipedia article *Artificial Intelligence*. How can we get the corresponding ID?\n",
        "\n",
        "We've provided two useful functions for you to do this: \n",
        "* `title_to_db_format`, which takes in a **string title** of a Wikipedia article and returns it in the format of the titles in the database\n",
        "* `get_article_id`, which takes in a **title in database format** and the **database connection** (we introduced this above!) and returns the corresponding ID number for the title\n",
        "\n",
        "Knowing these two functions, use the cell below to find the ID number of the article *Artificial Intelligence*."
      ],
      "metadata": {
        "id": "7V2wVHbf9jvO"
      }
    },
    {
      "cell_type": "code",
      "source": [
        "title = title_to_db_format(\"Artificial Intelligence\")\n",
        "\n",
        "id_num = get_article_id(title,wikipedia_data) # this should be the correct ID number!"
      ],
      "metadata": {
        "id": "hsAtx3LKfDo-"
      },
      "execution_count": null,
      "outputs": []
    },
    {
      "cell_type": "code",
      "source": [
        "#@title Run this to see if you have the correct ID number!\n",
        "if id_num == '524509' or id_num == 524509:\n",
        "  print(\"That's the right ID number!\")\n",
        "else:\n",
        "  print(\"That's NOT the right ID number.\")"
      ],
      "metadata": {
        "cellView": "form",
        "id": "hWwMZLncfPb_",
        "colab": {
          "base_uri": "https://localhost:8080/"
        },
        "outputId": "e665f29d-c680-4265-9294-4be1bace02ea"
      },
      "execution_count": null,
      "outputs": [
        {
          "output_type": "stream",
          "name": "stdout",
          "text": [
            "That's the right ID number!\n"
          ]
        }
      ]
    },
    {
      "cell_type": "markdown",
      "source": [
        "Sometimes, we may want to convert from ID numbers back to Wikipedia article titles. How can we do this?\n",
        "\n",
        "We've provided two more useful functions for you that act as a sort of converse to the ones above: \n",
        "* `db_format_to_title`, which takes in a **title in database format** of a Wikipedia article and returns it as a string title\n",
        "* `get_article_title`, which takes in **an article ID** and the **database connection** (we introduced this above!) and returns the corresponding **title in database format** \n",
        "\n",
        "Knowing these two functions, use the cell below to find the article title for the article with ID number `3364578`."
      ],
      "metadata": {
        "id": "yD0_bYHrfhM5"
      }
    },
    {
      "cell_type": "code",
      "source": [
        "id_number = 3364578\n",
        "article_title = db_format_to_title(get_article_title(id_number,wikipedia_data)) # this should be the correct article title!\n",
        "print(article_title)"
      ],
      "metadata": {
        "id": "f6fsCa0ch3q6",
        "colab": {
          "base_uri": "https://localhost:8080/"
        },
        "outputId": "3d4f9d4e-f86f-4001-b5d9-769ac2bc6d69"
      },
      "execution_count": null,
      "outputs": [
        {
          "output_type": "stream",
          "name": "stdout",
          "text": [
            "List of Crayola crayon colors\n"
          ]
        }
      ]
    },
    {
      "cell_type": "code",
      "source": [
        "#@title Run this to see if you have the correct article title!\n",
        "if article_title == \"List of Crayola crayon colors\":\n",
        "  print(\"That's the right title!\")\n",
        "else:\n",
        "  print(\"That's NOT the right title.\")"
      ],
      "metadata": {
        "id": "nwWJ-4r1lcX0",
        "colab": {
          "base_uri": "https://localhost:8080/"
        },
        "outputId": "04feb6df-498f-41c0-d368-422df9f4611c"
      },
      "execution_count": null,
      "outputs": [
        {
          "output_type": "stream",
          "name": "stdout",
          "text": [
            "That's the right title!\n"
          ]
        }
      ]
    },
    {
      "cell_type": "markdown",
      "source": [
        "## 👬 **Article \"Neighbors\"**\n",
        "To have a successful graph-like structure and search algorithm, we need to have the concept of \"neighbors\". We've seen that for a Wikipedia article, neighboring articles of a page we're looking at are the ones that are linked on that particular page. We have one last function that we can work with:\n",
        "\n",
        "`get_page_links_from_id` takes in an **article ID** and the **database connection** and returns a list of **article ID**s that are linked on that page.\n",
        "\n",
        "Use the function above as well as the functions in the **Converting between titles and IDs** section to answer the questions below. Make sure you keep the variables that are initialized for you (those will be used to check your answers!)"
      ],
      "metadata": {
        "id": "qsXu2dgNh3Fa"
      }
    },
    {
      "cell_type": "markdown",
      "source": [
        "### 🖇 **How many links does the page *Darth Vader* have?**"
      ],
      "metadata": {
        "id": "7HFeNfJgrVAp"
      }
    },
    {
      "cell_type": "code",
      "source": [
        "# use this cell to answer the question!\n",
        "\n",
        "article = title_to_db_format(\"Darth Vader\")\n",
        "\n",
        "id = get_article_id(article,wikipedia_data)\n",
        "\n",
        "num_links_dv = len(get_page_links_from_id(id,wikipedia_data))"
      ],
      "metadata": {
        "id": "MY7MeOWYrU0o"
      },
      "execution_count": null,
      "outputs": []
    },
    {
      "cell_type": "code",
      "source": [
        "#@title Run this to check your answer!\n",
        "if num_links_dv == 640:\n",
        "  print(\"That's the right number of links!\")\n",
        "else:\n",
        "  print(\"That's NOT the right number of links.\")"
      ],
      "metadata": {
        "cellView": "form",
        "id": "2QD1OdUAy0Yh",
        "colab": {
          "base_uri": "https://localhost:8080/"
        },
        "outputId": "d2b9f48e-34a0-4c55-94ee-bf580339a58b"
      },
      "execution_count": null,
      "outputs": [
        {
          "output_type": "stream",
          "name": "stdout",
          "text": [
            "That's the right number of links!\n"
          ]
        }
      ]
    },
    {
      "cell_type": "markdown",
      "source": [
        "### 🖇 **What are the titles of the linked pages on the page *Ring Pop*?**"
      ],
      "metadata": {
        "id": "zTs_Gs5Wru_k"
      }
    },
    {
      "cell_type": "code",
      "source": [
        "# Use this cell to answer the question!\n",
        "\n",
        "ringpop_link_titles = [db_format_to_title(get_article_title(int(i),wikipedia_data)) for i in get_page_links_from_id(get_article_id(title_to_db_format(\"Ring Pop\"),wikipedia_data),wikipedia_data)]\n",
        "print(ringpop_link_titles)"
      ],
      "metadata": {
        "id": "SOMm4VqarvM4",
        "colab": {
          "base_uri": "https://localhost:8080/"
        },
        "outputId": "b2f199a5-f7b8-4157-8a74-21fa58eb9fa5"
      },
      "execution_count": null,
      "outputs": [
        {
          "output_type": "stream",
          "name": "stdout",
          "text": [
            "['Dallas Mavericks', 'Melissa Joan Hart', 'Topps', 'Bazooka (chewing gum)', 'Lollipop', 'Swarovski', 'Ring Pop', 'List of confectionery brands', 'Baby Bottle Pop', 'Push Pop', 'Juicy Drop Pop', '2011 NBA Finals', 'Whistle Pops']\n"
          ]
        }
      ]
    },
    {
      "cell_type": "code",
      "source": [
        "#@title Run this to check your answer!\n",
        "if set(ringpop_link_titles) == {'Dallas Mavericks', 'Melissa Joan Hart', 'Topps', 'Bazooka (chewing gum)', 'Lollipop', 'Swarovski', 'Ring Pop', 'List of confectionery brands', 'Baby Bottle Pop', 'Push Pop', 'Juicy Drop Pop', '2011 NBA Finals', 'Whistle Pops'}:\n",
        "  print(\"That's the right list!\")\n",
        "else:\n",
        "  print(\"That's NOT the right list.\")"
      ],
      "metadata": {
        "cellView": "form",
        "id": "yikOzuprz3Ew",
        "colab": {
          "base_uri": "https://localhost:8080/"
        },
        "outputId": "802b76e4-2dbf-4bc5-c01a-d001070b58d4"
      },
      "execution_count": null,
      "outputs": [
        {
          "output_type": "stream",
          "name": "stdout",
          "text": [
            "That's the right list!\n"
          ]
        }
      ]
    },
    {
      "cell_type": "markdown",
      "source": [
        "### 🖇 **Is the page *Cherry* linked on the page *Pineapple*?**"
      ],
      "metadata": {
        "id": "1hCkEyXQvuaO"
      }
    },
    {
      "cell_type": "code",
      "source": [
        "# Use this cell to answer the question!\n",
        "\n",
        "cherry_linked_on_pineapple = \"Cherry\" in [db_format_to_title(get_article_title(int(i),wikipedia_data)) for i in get_page_links_from_id(get_article_id(title_to_db_format(\"Pineapple\"),wikipedia_data),wikipedia_data)] # this should either be True or False!"
      ],
      "metadata": {
        "id": "sip9YFgNvurx"
      },
      "execution_count": null,
      "outputs": []
    },
    {
      "cell_type": "code",
      "source": [
        "#@title Run this to check your answer!\n",
        "if cherry_linked_on_pineapple:\n",
        "  print(\"Yes, 'Cherry' is linked on the 'Pineapple' page!\")\n",
        "else:\n",
        "  print(\"That's NOT correct.\")"
      ],
      "metadata": {
        "cellView": "form",
        "id": "OEJ8HIWr2x7T",
        "colab": {
          "base_uri": "https://localhost:8080/"
        },
        "outputId": "e3ffd500-cca3-44a1-b271-e52c132222a4"
      },
      "execution_count": null,
      "outputs": [
        {
          "output_type": "stream",
          "name": "stdout",
          "text": [
            "Yes, 'Cherry' is linked on the 'Pineapple' page!\n"
          ]
        }
      ]
    },
    {
      "cell_type": "markdown",
      "source": [
        "### 🖇 **Is the page *Psych* linked on the page *Pluto*?**"
      ],
      "metadata": {
        "id": "fKqWjj-6wCj0"
      }
    },
    {
      "cell_type": "code",
      "source": [
        "# Use this cell to answer the question!\n",
        "\n",
        "psych_linked_on_pluto = \"Psych\" in [db_format_to_title(get_article_title(int(i),wikipedia_data)) for i in get_page_links_from_id(get_article_id(title_to_db_format(\"Pluto\"),wikipedia_data),wikipedia_data)] # this should either be True or False!"
      ],
      "metadata": {
        "id": "xBwhn0obwCkA"
      },
      "execution_count": null,
      "outputs": []
    },
    {
      "cell_type": "code",
      "source": [
        "#@title Run this to check your answer!\n",
        "if not psych_linked_on_pluto:\n",
        "  print(\"Correct, 'Psych' is not linked on the 'Pluto' page!\")\n",
        "else:\n",
        "  print(\"That's NOT correct.\")"
      ],
      "metadata": {
        "cellView": "form",
        "id": "tIug1DAt3Bfw",
        "colab": {
          "base_uri": "https://localhost:8080/"
        },
        "outputId": "daa53f76-8c6e-4026-fad0-d5c613226b5a"
      },
      "execution_count": null,
      "outputs": [
        {
          "output_type": "stream",
          "name": "stdout",
          "text": [
            "Correct, 'Psych' is not linked on the 'Pluto' page!\n"
          ]
        }
      ]
    },
    {
      "cell_type": "markdown",
      "source": [
        "# 🔍 **Search**\n",
        "Now that we understand the functions at our disposal, we finally have the means to write our search algorithm! For the purposes of this notebook since we're looking to find the shortest path, we're going to code BFS (no DFS today!).\n",
        "\n",
        "`wiki_bfs` takes in three parameters: `start_title`, which is the article title of the starting Wikipedia page, `end_title`, which is the article title of the page we want to end up on, and `db_con`, which is our database connection.\n",
        "\n",
        "**Fill in the function definition below.**"
      ],
      "metadata": {
        "id": "7SJiljlonmdd"
      }
    },
    {
      "cell_type": "code",
      "source": [
        "def get_neighbors(title):\n",
        "  return [db_format_to_title(get_article_title(int(i),wikipedia_data)) for i in get_page_links_from_id(get_article_id(title_to_db_format(title),wikipedia_data),wikipedia_data)]"
      ],
      "metadata": {
        "id": "q9cw2DexN8Fn"
      },
      "execution_count": null,
      "outputs": []
    },
    {
      "cell_type": "code",
      "source": [
        "def wiki_bfs(start_title, end_title, db_con):\n",
        "  '''\n",
        "    Find the path between two Wikipedia articles using BFS\n",
        "    Parameters:\n",
        "      start_title: string article title, BFS starting point\n",
        "      end_title: string article title, BFS ending point\n",
        "      db_con: database connection to SQLite database\n",
        "    Returns:\n",
        "      a list containing article titles representing a path between start_title \n",
        "      and end_title. Path should start with start_title and end with end_title\n",
        "  '''\n",
        "  # initialize queue, seen set, current node/path and came_from if you're using it\n",
        "  queue = [start_title]\n",
        "  current = None\n",
        "  seen = []\n",
        "  came_from = {}\n",
        "  while len(queue) != 0:\n",
        "    temp = current\n",
        "    current = queue.pop(0)\n",
        "    seen.append(current)\n",
        "    neighbors = get_neighbors(current)\n",
        "    if temp != None:\n",
        "      came_from[current] = temp\n",
        "    for n in range(len(neighbors)):\n",
        "      if neighbors[n] == end_title:\n",
        "        path = []\n",
        "        path.append(end_title)\n",
        "        path.append(current)\n",
        "        while current != start_title:\n",
        "          lastTitle = came_from[current]\n",
        "          current = lastTitle\n",
        "          path.append(lastTitle)\n",
        "        return path\n",
        "      elif neighbors[n] not in seen:\n",
        "        queue.append(neighbors[n])\n",
        "\n",
        "  # create loop\n",
        "\n",
        "    # take item off queue\n",
        "\n",
        "    # look at neighbors of item\n",
        "\n",
        "      # if neighbor is goal, return path or break\n",
        "\n",
        "      # if neighbor has already been seen, do nothing\n",
        "\n",
        "      # else, add neighbor/path onto queue\n",
        "\n",
        "  # if you're calculating the path using came_from, do it here"
      ],
      "metadata": {
        "id": "kVL5fetDoeoc"
      },
      "execution_count": null,
      "outputs": []
    },
    {
      "cell_type": "markdown",
      "source": [
        "Once you've finished your code, run the cell below to test it out! This cell will run your BFS code and also time it so you can see how long it takes to run. Try changing the start and end locations to different page titles!"
      ],
      "metadata": {
        "id": "XFWV46YSqPGD"
      }
    },
    {
      "cell_type": "code",
      "source": [
        "%%time\n",
        "\n",
        "# change the start and end to other articles! Make sure capitalization is right (case sensitive)\n",
        "start = \"Radon\"\n",
        "end = \"The Art of Computer Programming\"\n",
        "\n",
        "print(\"The path taken was: \", wiki_bfs(start, end, wikipedia_data))"
      ],
      "metadata": {
        "id": "tPPtHfhmzXhQ",
        "colab": {
          "base_uri": "https://localhost:8080/",
          "height": 407
        },
        "outputId": "9e40a9b7-b609-4897-ebf2-03d52c649168"
      },
      "execution_count": null,
      "outputs": [
        {
          "output_type": "error",
          "ename": "KeyboardInterrupt",
          "evalue": "ignored",
          "traceback": [
            "\u001b[0;31m---------------------------------------------------------------------------\u001b[0m",
            "\u001b[0;31mKeyboardInterrupt\u001b[0m                         Traceback (most recent call last)",
            "\u001b[0;32m<ipython-input-69-738f154604c9>\u001b[0m in \u001b[0;36m<module>\u001b[0;34m()\u001b[0m\n\u001b[0;32m----> 1\u001b[0;31m \u001b[0mget_ipython\u001b[0m\u001b[0;34m(\u001b[0m\u001b[0;34m)\u001b[0m\u001b[0;34m.\u001b[0m\u001b[0mrun_cell_magic\u001b[0m\u001b[0;34m(\u001b[0m\u001b[0;34m'time'\u001b[0m\u001b[0;34m,\u001b[0m \u001b[0;34m''\u001b[0m\u001b[0;34m,\u001b[0m \u001b[0;34m'\\n# change the start and end to other articles! Make sure capitalization is right (case sensitive)\\nstart = \"Radon\"\\nend = \"The Art of Computer Programming\"\\n\\nprint(\"The path taken was: \", wiki_bfs(start, end, wikipedia_data))'\u001b[0m\u001b[0;34m)\u001b[0m\u001b[0;34m\u001b[0m\u001b[0;34m\u001b[0m\u001b[0m\n\u001b[0m",
            "\u001b[0;32m/usr/local/lib/python3.7/dist-packages/IPython/core/interactiveshell.py\u001b[0m in \u001b[0;36mrun_cell_magic\u001b[0;34m(self, magic_name, line, cell)\u001b[0m\n\u001b[1;32m   2115\u001b[0m             \u001b[0mmagic_arg_s\u001b[0m \u001b[0;34m=\u001b[0m \u001b[0mself\u001b[0m\u001b[0;34m.\u001b[0m\u001b[0mvar_expand\u001b[0m\u001b[0;34m(\u001b[0m\u001b[0mline\u001b[0m\u001b[0;34m,\u001b[0m \u001b[0mstack_depth\u001b[0m\u001b[0;34m)\u001b[0m\u001b[0;34m\u001b[0m\u001b[0;34m\u001b[0m\u001b[0m\n\u001b[1;32m   2116\u001b[0m             \u001b[0;32mwith\u001b[0m \u001b[0mself\u001b[0m\u001b[0;34m.\u001b[0m\u001b[0mbuiltin_trap\u001b[0m\u001b[0;34m:\u001b[0m\u001b[0;34m\u001b[0m\u001b[0;34m\u001b[0m\u001b[0m\n\u001b[0;32m-> 2117\u001b[0;31m                 \u001b[0mresult\u001b[0m \u001b[0;34m=\u001b[0m \u001b[0mfn\u001b[0m\u001b[0;34m(\u001b[0m\u001b[0mmagic_arg_s\u001b[0m\u001b[0;34m,\u001b[0m \u001b[0mcell\u001b[0m\u001b[0;34m)\u001b[0m\u001b[0;34m\u001b[0m\u001b[0;34m\u001b[0m\u001b[0m\n\u001b[0m\u001b[1;32m   2118\u001b[0m             \u001b[0;32mreturn\u001b[0m \u001b[0mresult\u001b[0m\u001b[0;34m\u001b[0m\u001b[0;34m\u001b[0m\u001b[0m\n\u001b[1;32m   2119\u001b[0m \u001b[0;34m\u001b[0m\u001b[0m\n",
            "\u001b[0;32m<decorator-gen-53>\u001b[0m in \u001b[0;36mtime\u001b[0;34m(self, line, cell, local_ns)\u001b[0m\n",
            "\u001b[0;32m/usr/local/lib/python3.7/dist-packages/IPython/core/magic.py\u001b[0m in \u001b[0;36m<lambda>\u001b[0;34m(f, *a, **k)\u001b[0m\n\u001b[1;32m    186\u001b[0m     \u001b[0;31m# but it's overkill for just that one bit of state.\u001b[0m\u001b[0;34m\u001b[0m\u001b[0;34m\u001b[0m\u001b[0;34m\u001b[0m\u001b[0m\n\u001b[1;32m    187\u001b[0m     \u001b[0;32mdef\u001b[0m \u001b[0mmagic_deco\u001b[0m\u001b[0;34m(\u001b[0m\u001b[0marg\u001b[0m\u001b[0;34m)\u001b[0m\u001b[0;34m:\u001b[0m\u001b[0;34m\u001b[0m\u001b[0;34m\u001b[0m\u001b[0m\n\u001b[0;32m--> 188\u001b[0;31m         \u001b[0mcall\u001b[0m \u001b[0;34m=\u001b[0m \u001b[0;32mlambda\u001b[0m \u001b[0mf\u001b[0m\u001b[0;34m,\u001b[0m \u001b[0;34m*\u001b[0m\u001b[0ma\u001b[0m\u001b[0;34m,\u001b[0m \u001b[0;34m**\u001b[0m\u001b[0mk\u001b[0m\u001b[0;34m:\u001b[0m \u001b[0mf\u001b[0m\u001b[0;34m(\u001b[0m\u001b[0;34m*\u001b[0m\u001b[0ma\u001b[0m\u001b[0;34m,\u001b[0m \u001b[0;34m**\u001b[0m\u001b[0mk\u001b[0m\u001b[0;34m)\u001b[0m\u001b[0;34m\u001b[0m\u001b[0;34m\u001b[0m\u001b[0m\n\u001b[0m\u001b[1;32m    189\u001b[0m \u001b[0;34m\u001b[0m\u001b[0m\n\u001b[1;32m    190\u001b[0m         \u001b[0;32mif\u001b[0m \u001b[0mcallable\u001b[0m\u001b[0;34m(\u001b[0m\u001b[0marg\u001b[0m\u001b[0;34m)\u001b[0m\u001b[0;34m:\u001b[0m\u001b[0;34m\u001b[0m\u001b[0;34m\u001b[0m\u001b[0m\n",
            "\u001b[0;32m/usr/local/lib/python3.7/dist-packages/IPython/core/magics/execution.py\u001b[0m in \u001b[0;36mtime\u001b[0;34m(self, line, cell, local_ns)\u001b[0m\n\u001b[1;32m   1191\u001b[0m         \u001b[0;32melse\u001b[0m\u001b[0;34m:\u001b[0m\u001b[0;34m\u001b[0m\u001b[0;34m\u001b[0m\u001b[0m\n\u001b[1;32m   1192\u001b[0m             \u001b[0mst\u001b[0m \u001b[0;34m=\u001b[0m \u001b[0mclock2\u001b[0m\u001b[0;34m(\u001b[0m\u001b[0;34m)\u001b[0m\u001b[0;34m\u001b[0m\u001b[0;34m\u001b[0m\u001b[0m\n\u001b[0;32m-> 1193\u001b[0;31m             \u001b[0mexec\u001b[0m\u001b[0;34m(\u001b[0m\u001b[0mcode\u001b[0m\u001b[0;34m,\u001b[0m \u001b[0mglob\u001b[0m\u001b[0;34m,\u001b[0m \u001b[0mlocal_ns\u001b[0m\u001b[0;34m)\u001b[0m\u001b[0;34m\u001b[0m\u001b[0;34m\u001b[0m\u001b[0m\n\u001b[0m\u001b[1;32m   1194\u001b[0m             \u001b[0mend\u001b[0m \u001b[0;34m=\u001b[0m \u001b[0mclock2\u001b[0m\u001b[0;34m(\u001b[0m\u001b[0;34m)\u001b[0m\u001b[0;34m\u001b[0m\u001b[0;34m\u001b[0m\u001b[0m\n\u001b[1;32m   1195\u001b[0m             \u001b[0mout\u001b[0m \u001b[0;34m=\u001b[0m \u001b[0;32mNone\u001b[0m\u001b[0;34m\u001b[0m\u001b[0;34m\u001b[0m\u001b[0m\n",
            "\u001b[0;32m<timed exec>\u001b[0m in \u001b[0;36m<module>\u001b[0;34m()\u001b[0m\n",
            "\u001b[0;32m<ipython-input-68-658b1261a6bb>\u001b[0m in \u001b[0;36mwiki_bfs\u001b[0;34m(start_title, end_title, db_con)\u001b[0m\n\u001b[1;32m     19\u001b[0m     \u001b[0mcurrent\u001b[0m \u001b[0;34m=\u001b[0m \u001b[0mqueue\u001b[0m\u001b[0;34m.\u001b[0m\u001b[0mpop\u001b[0m\u001b[0;34m(\u001b[0m\u001b[0;36m0\u001b[0m\u001b[0;34m)\u001b[0m\u001b[0;34m\u001b[0m\u001b[0;34m\u001b[0m\u001b[0m\n\u001b[1;32m     20\u001b[0m     \u001b[0mseen\u001b[0m\u001b[0;34m.\u001b[0m\u001b[0mappend\u001b[0m\u001b[0;34m(\u001b[0m\u001b[0mcurrent\u001b[0m\u001b[0;34m)\u001b[0m\u001b[0;34m\u001b[0m\u001b[0;34m\u001b[0m\u001b[0m\n\u001b[0;32m---> 21\u001b[0;31m     \u001b[0mneighbors\u001b[0m \u001b[0;34m=\u001b[0m \u001b[0mget_neighbors\u001b[0m\u001b[0;34m(\u001b[0m\u001b[0mcurrent\u001b[0m\u001b[0;34m)\u001b[0m\u001b[0;34m\u001b[0m\u001b[0;34m\u001b[0m\u001b[0m\n\u001b[0m\u001b[1;32m     22\u001b[0m     \u001b[0;32mif\u001b[0m \u001b[0mtemp\u001b[0m \u001b[0;34m!=\u001b[0m \u001b[0;32mNone\u001b[0m\u001b[0;34m:\u001b[0m\u001b[0;34m\u001b[0m\u001b[0;34m\u001b[0m\u001b[0m\n\u001b[1;32m     23\u001b[0m       \u001b[0mcame_from\u001b[0m\u001b[0;34m[\u001b[0m\u001b[0mcurrent\u001b[0m\u001b[0;34m]\u001b[0m \u001b[0;34m=\u001b[0m \u001b[0mtemp\u001b[0m\u001b[0;34m\u001b[0m\u001b[0;34m\u001b[0m\u001b[0m\n",
            "\u001b[0;32m<ipython-input-49-f63127f52788>\u001b[0m in \u001b[0;36mget_neighbors\u001b[0;34m(title)\u001b[0m\n\u001b[1;32m      1\u001b[0m \u001b[0;32mdef\u001b[0m \u001b[0mget_neighbors\u001b[0m\u001b[0;34m(\u001b[0m\u001b[0mtitle\u001b[0m\u001b[0;34m)\u001b[0m\u001b[0;34m:\u001b[0m\u001b[0;34m\u001b[0m\u001b[0;34m\u001b[0m\u001b[0m\n\u001b[0;32m----> 2\u001b[0;31m   \u001b[0;32mreturn\u001b[0m \u001b[0;34m[\u001b[0m\u001b[0mdb_format_to_title\u001b[0m\u001b[0;34m(\u001b[0m\u001b[0mget_article_title\u001b[0m\u001b[0;34m(\u001b[0m\u001b[0mint\u001b[0m\u001b[0;34m(\u001b[0m\u001b[0mi\u001b[0m\u001b[0;34m)\u001b[0m\u001b[0;34m,\u001b[0m\u001b[0mwikipedia_data\u001b[0m\u001b[0;34m)\u001b[0m\u001b[0;34m)\u001b[0m \u001b[0;32mfor\u001b[0m \u001b[0mi\u001b[0m \u001b[0;32min\u001b[0m \u001b[0mget_page_links_from_id\u001b[0m\u001b[0;34m(\u001b[0m\u001b[0mget_article_id\u001b[0m\u001b[0;34m(\u001b[0m\u001b[0mtitle_to_db_format\u001b[0m\u001b[0;34m(\u001b[0m\u001b[0mtitle\u001b[0m\u001b[0;34m)\u001b[0m\u001b[0;34m,\u001b[0m\u001b[0mwikipedia_data\u001b[0m\u001b[0;34m)\u001b[0m\u001b[0;34m,\u001b[0m\u001b[0mwikipedia_data\u001b[0m\u001b[0;34m)\u001b[0m\u001b[0;34m]\u001b[0m\u001b[0;34m\u001b[0m\u001b[0;34m\u001b[0m\u001b[0m\n\u001b[0m",
            "\u001b[0;32m<ipython-input-4-170966f95c8d>\u001b[0m in \u001b[0;36mget_article_id\u001b[0;34m(title, db_con, redirect)\u001b[0m\n\u001b[1;32m     28\u001b[0m     id = db_con.execute(\"\"\"\n\u001b[1;32m     29\u001b[0m       \u001b[0mSELECT\u001b[0m \u001b[0mid\u001b[0m\u001b[0;34m,\u001b[0m \u001b[0mis_redirect\u001b[0m \u001b[0mFROM\u001b[0m \u001b[0mpages\u001b[0m \u001b[0mWHERE\u001b[0m \u001b[0mtitle\u001b[0m \u001b[0;34m=\u001b[0m\u001b[0;31m \u001b[0m\u001b[0;31m?\u001b[0m\u001b[0;34m\u001b[0m\u001b[0;34m\u001b[0m\u001b[0m\n\u001b[0;32m---> 30\u001b[0;31m     \"\"\", (title,)).fetchone()\n\u001b[0m\u001b[1;32m     31\u001b[0m     \u001b[0;32mif\u001b[0m \u001b[0mid\u001b[0m\u001b[0;34m:\u001b[0m\u001b[0;34m\u001b[0m\u001b[0;34m\u001b[0m\u001b[0m\n\u001b[1;32m     32\u001b[0m       \u001b[0;32mif\u001b[0m \u001b[0mid\u001b[0m\u001b[0;34m[\u001b[0m\u001b[0;36m1\u001b[0m\u001b[0;34m]\u001b[0m \u001b[0;32mand\u001b[0m \u001b[0mredirect\u001b[0m\u001b[0;34m:\u001b[0m\u001b[0;34m\u001b[0m\u001b[0;34m\u001b[0m\u001b[0m\n",
            "\u001b[0;31mKeyboardInterrupt\u001b[0m: "
          ]
        }
      ]
    },
    {
      "cell_type": "markdown",
      "source": [
        "# ⏲ **Heuristic Search**\n",
        "We've successfully searched through the Wikipedia database, but our overall runtime increases a ton the more we have to search. Our BFS algorithm can handle paths of length four or less, but when we go over that, it takes *forever*. There are two reasons for this: one is that the Wikipedia database is enormous (so there's a lot of nodes to search), and the other is that it has a high **branching factor**. The **branching factor** refers to the number of edges going out of each node. In the context of our Wikipedia problem, this means that many pages have ***A TON*** of links on them.\n",
        "\n"
      ],
      "metadata": {
        "id": "BGk3e6rnrLmV"
      }
    },
    {
      "cell_type": "code",
      "source": [
        "#@title What page is more likely to link to *Apple*?\n",
        "most_likely = \"List of culinary fruits\" #@param [\"List of culinary fruits\", \"Star Wars\", \"Isaac Newton\", \"Planet\", \"Choose one!\"]"
      ],
      "metadata": {
        "cellView": "form",
        "id": "rScB91ihBupL"
      },
      "execution_count": null,
      "outputs": []
    },
    {
      "cell_type": "markdown",
      "source": [
        "Right now using just BFS, we're treating every link on the page the same. This means that if we're trying to get the path from ***Massachusetts Institute of Technology* to *Science*** and the pages ***Neuroscience*** and ***Roof and tunnel hacking*** are both linked, our algorithm will treat them the same. As people with an inherent understanding of language, when we see those pages it's easy for us to guess that *Neuroscience* is more likely to lead us to *Science*.\n",
        "\n",
        "We can use a heuristic to help **target** our search a bit more!"
      ],
      "metadata": {
        "id": "orKREXVrArzb"
      }
    },
    {
      "cell_type": "markdown",
      "source": [
        "## 🔤 **Recall Word Embeddings**\n",
        "When you learned about NLP previously, you learned that words can be represented as numbers. Once we create a numerical representation for language, we can easily compute a \"similarity score\" between words. We're going to use that similarity score as our heuristic!"
      ],
      "metadata": {
        "id": "m_3gNnQ8AvrV"
      }
    },
    {
      "cell_type": "code",
      "source": [
        "#@title Run this to set up our helper functions!\n",
        "!wget -q --show-progress \"https://storage.googleapis.com/inspirit-ai-data-bucket-1/Data/Deep%20Dives/AI%20%2B%20Game%20Playing/Main%20Curriculum/Wikipedia%20Search/wiki-news-300d-1M.vec.zip\"\n",
        "!unzip wiki-news-300d-1M.vec.zip\n",
        "\n",
        "def get_vectors(path='wiki-news-300d-1M.vec'):\n",
        "  '''\n",
        "  Map the first 10K tokens to their word embedding vectors\n",
        "  Parameter:\n",
        "    path: file containing pre-trained word vectors from FastText model\n",
        "  Returns:\n",
        "    embeds: dictionary of 10K tokens and their word embedding vectors\n",
        "  '''\n",
        "  dictionary = open(path, 'r', encoding='utf-8',\n",
        "                  newline='\\n', errors='ignore')\n",
        "  embeds = {}\n",
        "  for line in dictionary:\n",
        "    tokens = line.rstrip().split(' ')\n",
        "    embeds[tokens[0]] = [float(x) for x in tokens[1:]]\n",
        "    if len(embeds) == 200000:\n",
        "        break\n",
        "  return embeds\n",
        "\n",
        "def vector_cosine_similarity(vec1,vec2):\n",
        "  '''\n",
        "  Calculate the  cosine similarity score between two embedding vectors\n",
        "  Parameters:\n",
        "    vec1: embedding for first word\n",
        "    vec2: embedding for second word\n",
        "  Returns:\n",
        "    a float representing the two words' similarity\n",
        "  '''\n",
        "  numerator = 0\n",
        "  for i in range(len(vec1)):\n",
        "    numerator += vec1[i]*vec2[i]\n",
        "  mag1 = (sum(elem**2 for elem in vec1))**0.5\n",
        "  mag2 = (sum(elem**2 for elem in vec2))**0.5\n",
        "  similarity = numerator/(mag1*mag2)\n",
        "  return similarity"
      ],
      "metadata": {
        "id": "8knQ1XGdFnl0",
        "cellView": "form",
        "colab": {
          "base_uri": "https://localhost:8080/"
        },
        "outputId": "a32461d2-865a-41aa-a0e8-e0ee7530747b"
      },
      "execution_count": null,
      "outputs": [
        {
          "output_type": "stream",
          "name": "stdout",
          "text": [
            "wiki-news-300d-1M.v 100%[===================>] 650.22M   144MB/s    in 4.5s    \n",
            "Archive:  wiki-news-300d-1M.vec.zip\n",
            "  inflating: wiki-news-300d-1M.vec   \n"
          ]
        }
      ]
    },
    {
      "cell_type": "code",
      "source": [
        "vecs = get_vectors() # dictionary of tokens and their embeddings"
      ],
      "metadata": {
        "id": "bBQczPqCGoPW"
      },
      "execution_count": null,
      "outputs": []
    },
    {
      "cell_type": "code",
      "source": [
        "#@title Word embedding similarities { vertical-output: true, display-mode: \"form\" }\n",
        "word1 = \"saxophone\" #@param {type:'string'}\n",
        "word2 = \"clarinet\" #@param {type:'string'}\n",
        "\n",
        "if word1 not in vecs:\n",
        "  print(\"First word has no vector embedding.\")\n",
        "if word2 not in vecs:\n",
        "  print(\"Second word has no vector embedding.\")\n",
        "if word1 in vecs and word2 in vecs:\n",
        "  print(\"Similarity between \"+word1+\" and \"+word2+\": {:.2f}\".format(vector_cosine_similarity(vecs[word1],vecs[word2])))"
      ],
      "metadata": {
        "id": "xEpd7FEODXuq",
        "colab": {
          "base_uri": "https://localhost:8080/"
        },
        "outputId": "bbf3359b-80a1-4932-b0c7-0b58140c8ae1"
      },
      "execution_count": null,
      "outputs": [
        {
          "output_type": "stream",
          "name": "stdout",
          "text": [
            "Similarity between saxophone and clarinet: 0.82\n"
          ]
        }
      ]
    },
    {
      "cell_type": "markdown",
      "source": [
        "## 🔢 **Average Similarity Heuristic**\n",
        "We're going to assign each page with a heuristic value based on the word similarity between that word and the ending article title. However, we have a few catches!\n",
        "1. One or both words may not have a word embedding. In this case, we should just assign a heuristic value of `0.5`\n",
        "2. Some article titles will be more than one word long! In this case, the heuristic value should be set to the average of the word similarity values of each word.\n",
        "3. If both the title of a link and the ending title are multiple words long, you should check and average the similarity value of each word with every other word.\n",
        "4. Some titles may have parentheses in them! Those should be removed before trying to find the word embedding\n",
        "\n",
        "Use the **Word embedding similarities** cell above to help you get the answers to these questions, or use **vecs** to code in the lookup yourself.\n",
        "\n",
        "**Hint:** you can use the string `split` function to break articles with multiple words into individual words! Check out some examples [at the link here](https://www.programiz.com/python-programming/methods/string/split). You can use the string `replace` function to take certain characters out of the string (hint: if you're replacing a character with an empty string `\"\"`, it just deletes the character!). Check out some examples [at the link here](https://www.w3schools.com/python/ref_string_replace.asp).\n",
        "\n",
        "#### **Getting vectors**\n",
        "If you want to code to get these answers, the function `vector_cosine_similarity` will come in handy. This function takes in two *vectors* (which you can get from the `vecs` dictionary) and returns the similarity between the two."
      ],
      "metadata": {
        "id": "I5WF8rNIxBWw"
      }
    },
    {
      "cell_type": "markdown",
      "source": [
        "### 🪣 **What should the heuristic value be if the link we're checking is *Orange* and the goal link is *Apple*?**"
      ],
      "metadata": {
        "id": "_EC1m1zlyeyg"
      }
    },
    {
      "cell_type": "code",
      "source": [
        "# Put any code here you need to help you calculate the heuristic value!\n",
        "\n",
        "heuristic_1 = vector_cosine_similarity(vecs[\"Orange\"],vecs[\"Apple\"]) # change this!"
      ],
      "metadata": {
        "id": "ueot-3HlyfS3"
      },
      "execution_count": null,
      "outputs": []
    },
    {
      "cell_type": "code",
      "source": [
        "#@title Run this to check your answer!\n",
        "if round(heuristic_1, 3) == 0.477:\n",
        "  print(\"That's the right heuristic value!\")\n",
        "else:\n",
        "  print(\"That's NOT the right heuristic value.\")"
      ],
      "metadata": {
        "cellView": "form",
        "id": "El9IyJ1OzUkG",
        "colab": {
          "base_uri": "https://localhost:8080/"
        },
        "outputId": "dbdebb88-9d27-43b2-ebdc-77e32cd3167a"
      },
      "execution_count": null,
      "outputs": [
        {
          "output_type": "stream",
          "name": "stdout",
          "text": [
            "That's the right heuristic value!\n"
          ]
        }
      ]
    },
    {
      "cell_type": "markdown",
      "source": [
        "### 🪣 **What should the heuristic value be if the link we're checking is *Bananagrams* and the goal link is *Letter*?**"
      ],
      "metadata": {
        "id": "i6TZm3jM0IzL"
      }
    },
    {
      "cell_type": "code",
      "source": [
        "# Put any code here you need to help you calculate the heuristic value!\n",
        "if \"Bananagrams\" in vecs and \"Letter\" in vecs:\n",
        "  heuristic_2 = vector_cosine_similarity(vecs[\"Bananagrams\"],vecs[\"Letter\"]) # change this!\n",
        "else:\n",
        "  heuristic_2 = .5"
      ],
      "metadata": {
        "id": "uxMQIpox0lsR"
      },
      "execution_count": null,
      "outputs": []
    },
    {
      "cell_type": "code",
      "source": [
        "#@title Run this to check your answer!\n",
        "if round(heuristic_2, 3) == 0.5:\n",
        "  print(\"That's the right heuristic value!\")\n",
        "else:\n",
        "  print(\"That's NOT the right heuristic value.\")"
      ],
      "metadata": {
        "cellView": "form",
        "id": "hvDx89DE1Tkt",
        "colab": {
          "base_uri": "https://localhost:8080/"
        },
        "outputId": "bead86cc-3cd8-4602-fa14-c31dabfdf712"
      },
      "execution_count": null,
      "outputs": [
        {
          "output_type": "stream",
          "name": "stdout",
          "text": [
            "That's the right heuristic value!\n"
          ]
        }
      ]
    },
    {
      "cell_type": "markdown",
      "source": [
        "### 🪣 **What should the heuristic value be if the link we're checking is *Darth Vader* and the goal link is *Star Wars*?**"
      ],
      "metadata": {
        "id": "L8ZN5shZ1XMw"
      }
    },
    {
      "cell_type": "code",
      "source": [
        "# Put any code here you need to help you calculate the heuristic value!\n",
        "word1 = \"Darth Vader\".split()\n",
        "word2 = \"Star Wars\".split()\n",
        "heuristic = []\n",
        "\n",
        "for i in word1:\n",
        "  for j in word2:\n",
        "    if i in vecs and j in vecs:\n",
        "      heuristic.append(vector_cosine_similarity(vecs[i],vecs[j])) # change this!\n",
        "    else:\n",
        "      heuristic.append(.5)\n",
        "\n",
        "heuristic_3 = sum(heuristic)/len(heuristic) # change this!"
      ],
      "metadata": {
        "id": "eM8-_LDq1Wsy"
      },
      "execution_count": null,
      "outputs": []
    },
    {
      "cell_type": "code",
      "source": [
        "#@title Run this to check your answer!\n",
        "if round(heuristic_3, 3) == 0.354:\n",
        "  print(\"That's the right heuristic value!\")\n",
        "else:\n",
        "  print(\"That's NOT the right heuristic value.\")"
      ],
      "metadata": {
        "cellView": "form",
        "id": "YK6ec0Vo1gn2",
        "colab": {
          "base_uri": "https://localhost:8080/"
        },
        "outputId": "6d03057f-e8b6-47ae-afb6-32cca4a796a5"
      },
      "execution_count": null,
      "outputs": [
        {
          "output_type": "stream",
          "name": "stdout",
          "text": [
            "That's the right heuristic value!\n"
          ]
        }
      ]
    },
    {
      "cell_type": "markdown",
      "source": [
        "### 🪣 **What should the heuristic value be if the link we're checking is *Bananagrams (video game)* and the goal link is *MySpace*?**"
      ],
      "metadata": {
        "id": "GPJTGEtP3I_F"
      }
    },
    {
      "cell_type": "code",
      "source": [
        "# Put any code here you need to help you calculate the heuristic value!\n",
        "word1 = \"Bananagrams (video game)\".replace('(','').replace(')','').split()\n",
        "word2 = \"MySpace\".replace('(','').replace(')','').split()\n",
        "heuristic = []\n",
        "\n",
        "for i in word1:\n",
        "  for j in word2:\n",
        "    if i in vecs and j in vecs:\n",
        "      heuristic.append(vector_cosine_similarity(vecs[i],vecs[j])) # change this!\n",
        "    else:\n",
        "      heuristic.append(.5)\n",
        "\n",
        "heuristic_4 = sum(heuristic)/len(heuristic) # change this!\n",
        "print(heuristic_4)"
      ],
      "metadata": {
        "id": "a8c7GqIG3I_F",
        "colab": {
          "base_uri": "https://localhost:8080/"
        },
        "outputId": "a1ba7772-10bc-4315-d770-9c1fa8a85a74"
      },
      "execution_count": null,
      "outputs": [
        {
          "output_type": "stream",
          "name": "stdout",
          "text": [
            "0.40386978317197214\n"
          ]
        }
      ]
    },
    {
      "cell_type": "code",
      "source": [
        "#@title Run this to check your answer!\n",
        "if round(heuristic_4, 3) == 0.461:\n",
        "  print(\"That's the right heuristic value!\")\n",
        "else:\n",
        "  print(\"That's NOT the right heuristic value.\")"
      ],
      "metadata": {
        "cellView": "form",
        "id": "cy7c9oAX3I_G",
        "colab": {
          "base_uri": "https://localhost:8080/"
        },
        "outputId": "179d7740-f4d7-4bfb-c0dd-8ff6b03e2944"
      },
      "execution_count": null,
      "outputs": [
        {
          "output_type": "stream",
          "name": "stdout",
          "text": [
            "That's NOT the right heuristic value.\n"
          ]
        }
      ]
    },
    {
      "cell_type": "markdown",
      "source": [
        "## ⏸ **A Brief Interlude on Sorting**\n",
        "In class, we haven't talked about how to sort a list by a specific value. Let's explore how to use the function `sort` to do this!\n",
        "\n",
        "First, check out the link to [this documentation here](https://docs.python.org/3/howto/sorting.html). Take a look at the **Sorting Basics** and **Key Functions** section. We're going to be using the `sort` function, which you use like:\n",
        "```python\n",
        "list_name.sort()\n",
        "```\n",
        "`sort` also takes in two optional parameters: \n",
        "\n",
        "With `reverse`, you can choose if you want the sorted list to be ascending or descending order. Here's how you could set to `True`:\n",
        "```python\n",
        "list_name.sort(reverse=True)\n",
        "```\n",
        "If you set `reverse` to `True`, the sorted list will be in **descending** order, aka high value to low value. If you set it to `False` or don't set it at all, the sorted list will be in **ascending order**, aka low value to high value.\n",
        "\n",
        "With `key`, you can choose **how** to sort the list. If you don't want to be sorting the list by the values in the list themselves and instead by something else, you can use this. \n",
        "\n",
        "The format is something you're probably not used to. It uses what's called an **inline** or **lambda** function. We're not going to go into this a ton, but you can use the examples below and in the docs as a guide.\n",
        "\n",
        "Here are some examples of using the `key` parameter:\n",
        "\n",
        "\n",
        "```python\n",
        "a = [1, 6, 3, 8, 2]\n",
        "b = [(1,5), (7,3), (4,6), (3,2)]\n",
        "c = {1:10, 3:4, 6:2, 8:9, 2:1, 7:8, 4:10}\n",
        "\n",
        "a.sort(reverse=False) # regular sort\n",
        ">>> [1, 2, 3, 6, 8]\n",
        "\n",
        "b.sort(reverse=False, key=lambda x:x[1]) # sorting by the second value in the tuple\n",
        ">>> [(3,2), (7,3), (1,5), (4,6)]\n",
        "\n",
        "a.sort(reverse=False, key=lambda x:c[x]) # sorting by the value in the dict c\n",
        ">>> [2, 6, 3, 8, 1]\n",
        "```\n",
        "\n",
        "\n",
        "\n",
        "\n"
      ],
      "metadata": {
        "id": "ZaoOz-XnQ2gB"
      }
    },
    {
      "cell_type": "markdown",
      "source": [
        "### 📎 **What is the order of the list `[(1,5), (7,3), (4,6), (3,2)]` if we sort it ascending by the first value in the tuple?**"
      ],
      "metadata": {
        "id": "NeTVKE4bVkzv"
      }
    },
    {
      "cell_type": "code",
      "source": [
        "# use this cell to answer the question!\n",
        "\n",
        "sortlist_order = [(1,5), (3,2), (4,6), (7,3)]"
      ],
      "metadata": {
        "id": "yHllalE3Vkz6"
      },
      "execution_count": null,
      "outputs": []
    },
    {
      "cell_type": "code",
      "source": [
        "#@title Run this to check your answer!\n",
        "if sortlist_order == [(1,5), (3,2), (4,6), (7,3)]:\n",
        "  print(\"That's the right sorted list!\")\n",
        "else:\n",
        "  print(\"That's NOT the right sorted list.\")"
      ],
      "metadata": {
        "cellView": "form",
        "id": "Y3w37-lwVkz7",
        "colab": {
          "base_uri": "https://localhost:8080/"
        },
        "outputId": "aef05594-22cf-47be-fbee-c18146b1f647"
      },
      "execution_count": null,
      "outputs": [
        {
          "output_type": "stream",
          "name": "stdout",
          "text": [
            "That's the right sorted list!\n"
          ]
        }
      ]
    },
    {
      "cell_type": "markdown",
      "source": [
        "### 📎 **Now use the sort function in the cell below to sort `[(1,5), (7,3), (4,6), (3,2)]` ascending by the first value in the tuple.**"
      ],
      "metadata": {
        "id": "4j1mjQBbV7NI"
      }
    },
    {
      "cell_type": "code",
      "source": [
        "# use sort on this list to get the list you came up with above!\n",
        "\n",
        "sortfn_list_order = sorted([(1,5), (7,3), (4,6), (3,2)])"
      ],
      "metadata": {
        "id": "0g1HTslOV7NV"
      },
      "execution_count": null,
      "outputs": []
    },
    {
      "cell_type": "code",
      "source": [
        "#@title Run this to check your answer!\n",
        "if sortfn_list_order == [(1,5), (3,2), (4,6), (7,3)]:\n",
        "  print(\"That's the right sorted list!\")\n",
        "else:\n",
        "  print(\"That's NOT the right sorted list.\")"
      ],
      "metadata": {
        "id": "NsrujS-bV7NW",
        "colab": {
          "base_uri": "https://localhost:8080/"
        },
        "outputId": "60ff1a91-1b92-4ed8-8a61-55835d970fae"
      },
      "execution_count": null,
      "outputs": [
        {
          "output_type": "stream",
          "name": "stdout",
          "text": [
            "That's the right sorted list!\n"
          ]
        }
      ]
    },
    {
      "cell_type": "markdown",
      "source": [
        "### 📎 **What is the order of the list `[(1,5), (7,3), (4,6), (3,2)]` if we sort it ascending by the first value in the tuple's value in the dictionary `c`?**\n",
        "\n",
        "#### `c = {1:10, 3:4, 6:2, 8:9, 2:1, 7:8, 4:10}`"
      ],
      "metadata": {
        "id": "bERRxxo4XZII"
      }
    },
    {
      "cell_type": "code",
      "source": [
        "# use this cell to answer the question!\n",
        "\n",
        "b = [(1,5), (7,3), (4,6), (3,2)]\n",
        "c = {1:10, 3:4, 6:2, 8:9, 2:1, 7:8, 4:10}\n",
        "\n",
        "b.sort(reverse=True, key=lambda x:c[x[0]])\n",
        "\n",
        "print(b)\n",
        "sort_wdict = b"
      ],
      "metadata": {
        "id": "kcqTgdImXZIW",
        "colab": {
          "base_uri": "https://localhost:8080/"
        },
        "outputId": "b7c7c2f5-9169-43d2-cac1-81a9cc781ddb"
      },
      "execution_count": null,
      "outputs": [
        {
          "output_type": "stream",
          "name": "stdout",
          "text": [
            "[(1, 5), (4, 6), (7, 3), (3, 2)]\n"
          ]
        }
      ]
    },
    {
      "cell_type": "code",
      "source": [
        "#@title Run this to check your answer!\n",
        "if sort_wdict == [(1, 5), (4, 6), (7, 3), (3, 2)]:\n",
        "  print(\"That's the right sorted list!\")\n",
        "else:\n",
        "  print(\"That's NOT the right sorted list.\")"
      ],
      "metadata": {
        "cellView": "form",
        "id": "dfHlBxCbXZIX",
        "colab": {
          "base_uri": "https://localhost:8080/"
        },
        "outputId": "6c370d3e-c4d2-403d-f8d5-c765d5ce5b22"
      },
      "execution_count": null,
      "outputs": [
        {
          "output_type": "stream",
          "name": "stdout",
          "text": [
            "That's the right sorted list!\n"
          ]
        }
      ]
    },
    {
      "cell_type": "markdown",
      "source": [
        "### 📎 **Now use the sort function in the cell below to sort `[(1,5), (7,3), (4,6), (3,2)]` ascending by the first value in the tuple's value in the dictionary `c`.**"
      ],
      "metadata": {
        "id": "YefQ0goRWq00"
      }
    },
    {
      "cell_type": "code",
      "source": [
        "c = {1:10, 3:4, 6:2, 8:9, 2:1, 7:8, 4:10}\n",
        "\n",
        "# use sort on this list to get the list you came up with above!\n",
        "sortfn_dict = [(1,5), (7,3), (4,6), (3,2)]"
      ],
      "metadata": {
        "id": "0lAJna3sWq1C"
      },
      "execution_count": null,
      "outputs": []
    },
    {
      "cell_type": "code",
      "source": [
        "#@title Run this to check your answer!\n",
        "if sortfn_dict == [(1, 5), (4, 6), (7, 3), (3, 2)]:\n",
        "  print(\"That's the right sorted list!\")\n",
        "else:\n",
        "  print(\"That's NOT the right sorted list.\")"
      ],
      "metadata": {
        "id": "PRv8IlsRWq1D",
        "colab": {
          "base_uri": "https://localhost:8080/"
        },
        "outputId": "c7776f94-24d4-4ff3-9e51-642c5bfa12de"
      },
      "execution_count": null,
      "outputs": [
        {
          "output_type": "stream",
          "name": "stdout",
          "text": [
            "That's the right sorted list!\n"
          ]
        }
      ]
    },
    {
      "cell_type": "markdown",
      "source": [
        "Now you should have a good idea of how you can use `sort` in your search!"
      ],
      "metadata": {
        "id": "WYMpdhJVYDwq"
      }
    },
    {
      "cell_type": "markdown",
      "source": [
        "### 🔨 **Implementing the Averaging Heuristic Function**\n",
        "Now that we have a good idea of how the averaging heuristic function is supposed to work, let's get to it! Fill in the function definition below to make the heuristic function according to the rules we set above.\n",
        "\n",
        "#### **Getting vectors**\n",
        "The function `vector_cosine_similarity` will come in handy. This function takes in two **vectors** (which you can get from the `vecs` dictionary) and returns the similarity between the two.\n",
        "\n",
        "**Hint:** you can use the string `split` function to break articles with multiple words into individual words! Check out some examples [at the link here](https://www.programiz.com/python-programming/methods/string/split). You can use the string `replace` function to take certain characters out of the string (hint: if you're replacing a character with an empty string `\"\"`, it just deletes the character!). Check out some examples [at the link here](https://www.w3schools.com/python/ref_string_replace.asp)."
      ],
      "metadata": {
        "id": "VjNg4UcG6WAH"
      }
    },
    {
      "cell_type": "code",
      "source": [
        "def average_title_heuristic(title1, title2):\n",
        "  '''\n",
        "    Takes in two article titles and should return the corresponding \n",
        "    heuristic value for the titles (averaging if there's > 1 similarity).\n",
        "  '''\n",
        "  if title1=='' or title2 == '': # keep this bit in!\n",
        "    return 0\n",
        "\n",
        "  # YOUR CODE HERE\n",
        "  \n",
        "  word1 = title1.replace('(','').replace(')','').split()\n",
        "  word2 = title2.replace('(','').replace(')','').split()\n",
        "  heuristic = []\n",
        "\n",
        "  for i in word1:\n",
        "    for j in word2:\n",
        "      if i in vecs and j in vecs:\n",
        "        heuristic.append(vector_cosine_similarity(vecs[i],vecs[j])) # change this!\n",
        "      else:\n",
        "        heuristic.append(.5)\n",
        "\n",
        "  returnNum = sum(heuristic)/len(heuristic) # change this!\n",
        "  return returnNum"
      ],
      "metadata": {
        "id": "uM8YiH-m7mWS"
      },
      "execution_count": null,
      "outputs": []
    },
    {
      "cell_type": "markdown",
      "source": [
        "Once you've finished coding this function, use the cell below to write **at least two** test cases (you can copy some of the ones from above) to make sure your function is working right!"
      ],
      "metadata": {
        "id": "C3HFowlO7xEh"
      }
    },
    {
      "cell_type": "code",
      "source": [
        "# Use this cell to write your test cases!\n",
        "print(average_title_heuristic(\"Bananagrams (video game)\", \"MySpace\"))\n",
        "print(average_title_heuristic(\"Darth Vader\", \"Star Wars\"))\n",
        "print(average_title_heuristic(\"Bananagrams\", \"Letter\"))\n",
        "print(average_title_heuristic(\"Orange\", \"Apple\"))"
      ],
      "metadata": {
        "id": "T0olJ9L97v75",
        "colab": {
          "base_uri": "https://localhost:8080/"
        },
        "outputId": "92bf7246-9b6a-4cd2-cc3b-ea6596d91cee"
      },
      "execution_count": null,
      "outputs": [
        {
          "output_type": "stream",
          "name": "stdout",
          "text": [
            "0.40386978317197214\n",
            "0.3538097764167604\n",
            "0.5\n",
            "0.4774549995050186\n"
          ]
        }
      ]
    },
    {
      "cell_type": "markdown",
      "source": [
        "## 🔢 **Maximum Similarity Heuristic**\n",
        "Now, we're going to create a new heuristic - this time when there's more than one word in the link or the end title that we're checking, we're going to take the **maximum** similarity value between the words in the two instead of the average. The same other functionality (points 1 and 4 above) as above still applies. Here's what 2 and 3 are changed to\n",
        "\n",
        "2. Some article titles will be more than one word long! In this case, the heuristic value should be set to the **maximum** of the word similarity values of each word.\n",
        "3. If both the title of a link and the ending title are multiple words long, you should check the similarity value of each word with every other word and return the **maximum** value.\n",
        "\n",
        "Answer the questions below again using **maximum similarity**."
      ],
      "metadata": {
        "id": "CriZacTrowSk"
      }
    },
    {
      "cell_type": "markdown",
      "source": [
        "### 🪣 **What should the heuristic value be if the link we're checking is *Darth Vader* and the goal link is *Star Wars*?**"
      ],
      "metadata": {
        "id": "ZEWAxblAowSm"
      }
    },
    {
      "cell_type": "code",
      "source": [
        "# Put any code here you need to help you calculate the heuristic value!\n",
        "word1 = \"Darth Vader\".replace('(','').replace(')','').split()\n",
        "word2 = \"Star Wars\".replace('(','').replace(')','').split()\n",
        "heuristic = []\n",
        "\n",
        "for i in word1:\n",
        "  for j in word2:\n",
        "    if i in vecs and j in vecs:\n",
        "      heuristic.append(vector_cosine_similarity(vecs[i],vecs[j])) # change this!\n",
        "    else:\n",
        "      heuristic.append(.5)\n",
        "\n",
        "mheuristic_1 = max(heuristic) # change this!"
      ],
      "metadata": {
        "id": "K1c7sPhwowSm"
      },
      "execution_count": null,
      "outputs": []
    },
    {
      "cell_type": "code",
      "source": [
        "#@title Run this to check your answer!\n",
        "if round(mheuristic_1, 3) == 0.407:\n",
        "  print(\"That's the right heuristic value!\")\n",
        "else:\n",
        "  print(\"That's NOT the right heuristic value.\")"
      ],
      "metadata": {
        "id": "2ggZg27BowSm",
        "colab": {
          "base_uri": "https://localhost:8080/"
        },
        "outputId": "64698e5f-6ec1-4242-8eed-c5c128ec4814"
      },
      "execution_count": null,
      "outputs": [
        {
          "output_type": "stream",
          "name": "stdout",
          "text": [
            "That's the right heuristic value!\n"
          ]
        }
      ]
    },
    {
      "cell_type": "markdown",
      "source": [
        "### 🪣 **What should the heuristic value be if the link we're checking is *Bananagrams (video game)* and the goal link is *MySpace*?**"
      ],
      "metadata": {
        "id": "hbC1UmmUowSm"
      }
    },
    {
      "cell_type": "code",
      "source": [
        "# Put any code here you need to help you calculate the heuristic value!\n",
        "word1 = \"Bananagrams (video game)\".replace('(','').replace(')','').split()\n",
        "word2 = \"MySpace\".replace('(','').replace(')','').split()\n",
        "heuristic = []\n",
        "\n",
        "for i in word1:\n",
        "  for j in word2:\n",
        "    if i in vecs and j in vecs:\n",
        "      heuristic.append(vector_cosine_similarity(vecs[i],vecs[j])) # change this!\n",
        "    else:\n",
        "      heuristic.append(.5)\n",
        "\n",
        "mheuristic_2 = max(heuristic) # change this!"
      ],
      "metadata": {
        "id": "Jk7vDrQdowSm"
      },
      "execution_count": null,
      "outputs": []
    },
    {
      "cell_type": "code",
      "source": [
        "#@title Run this to check your answer!\n",
        "if round(mheuristic_2, 3) == 0.5:\n",
        "  print(\"That's the right heuristic value!\")\n",
        "else:\n",
        "  print(\"That's NOT the right heuristic value.\")"
      ],
      "metadata": {
        "id": "7GP2MyaQowSn",
        "colab": {
          "base_uri": "https://localhost:8080/"
        },
        "outputId": "a527f386-25e4-4705-f726-bee93daf5016"
      },
      "execution_count": null,
      "outputs": [
        {
          "output_type": "stream",
          "name": "stdout",
          "text": [
            "That's the right heuristic value!\n"
          ]
        }
      ]
    },
    {
      "cell_type": "markdown",
      "source": [
        "### 🔨 **Implementing the Maximum Heuristic Function**\n",
        "Now that we have a good idea of how the maximum heuristic function is supposed to work, let's get to it! Fill in the function definition below to make the heuristic function according to the rules we set above.\n",
        "\n",
        "The same helpful functions as above apply here. In fact, your overall function will likely be very similar."
      ],
      "metadata": {
        "id": "ncI4a-paowSn"
      }
    },
    {
      "cell_type": "code",
      "source": [
        "def max_title_heuristic(title1, title2):\n",
        "  '''\n",
        "    Takes in two article titles and should return the corresponding \n",
        "    heuristic value for the titles (averaging if there's > 1 similarity).\n",
        "  '''\n",
        "  if title1=='' or title2 == '': # keep this bit in!\n",
        "    return 0\n",
        "\n",
        "  # YOUR CODE HERE\n",
        "  \n",
        "  word1 = title1.replace('(','').replace(')','').split()\n",
        "  word2 = title2.replace('(','').replace(')','').split()\n",
        "  heuristic = []\n",
        "\n",
        "  for i in word1:\n",
        "    for j in word2:\n",
        "      if i in vecs and j in vecs:\n",
        "        heuristic.append(vector_cosine_similarity(vecs[i],vecs[j])) # change this!\n",
        "      else:\n",
        "        heuristic.append(.5)\n",
        "\n",
        "  returnNum = max(heuristic) # change this!\n",
        "  return returnNum"
      ],
      "metadata": {
        "id": "TxXIoF0kowSn"
      },
      "execution_count": null,
      "outputs": []
    },
    {
      "cell_type": "markdown",
      "source": [
        "Once you've finished coding this function, use the cell below to write **at least two** test cases (you can copy some of the ones from above) to make sure your function is working right!"
      ],
      "metadata": {
        "id": "tIgT2QFnowSn"
      }
    },
    {
      "cell_type": "code",
      "source": [
        "# Use this cell to write your test cases!\n",
        "print(max_title_heuristic(\"Bananagrams (video game)\", \"MySpace\"))\n",
        "print(max_title_heuristic(\"Darth Vader\", \"Star Wars\"))"
      ],
      "metadata": {
        "id": "Xo3g_5N3owSn",
        "colab": {
          "base_uri": "https://localhost:8080/"
        },
        "outputId": "209d678e-3702-4aff-fefa-5e71dbf92f72"
      },
      "execution_count": null,
      "outputs": [
        {
          "output_type": "stream",
          "name": "stdout",
          "text": [
            "0.5\n",
            "0.4069661078875473\n"
          ]
        }
      ]
    },
    {
      "cell_type": "markdown",
      "source": [
        "## 🏆 **Implementing Best First Search**\n",
        "We learned about heuristics and **best** first search in class, and now it's time to implement it! Using the heuristic function we coded above, write your best first search algorithm in the cell below"
      ],
      "metadata": {
        "id": "rnysCQw47-79"
      }
    },
    {
      "cell_type": "code",
      "source": [
        "def wiki_best_fs(start_title, end_title, db_con, heuristic):\n",
        "  '''\n",
        "    Find the path between two Wikipedia articles using best first search. Search\n",
        "    algorithm should use heuristic function title_heuristic\n",
        "    Parameters:\n",
        "      start_title: string article title, best first starting point\n",
        "      end_title: string article title, best first ending point\n",
        "      db_con: database connection to SQLite database\n",
        "      heuristic: a heuristic function that's passed in\n",
        "    Returns:\n",
        "      a list containing article titles representing a path between start_title \n",
        "      and end_title. Path should start with start_title and end with end_title\n",
        "  '''\n",
        "  queue = [start_title]\n",
        "  current = None\n",
        "  seen = []\n",
        "  came_from = {}\n",
        "  while len(queue) != 0:\n",
        "    temp = current\n",
        "    current = queue.pop(0)\n",
        "    seen.append(current)\n",
        "    neighbors = get_neighbors(current)\n",
        "    if temp != None:\n",
        "      came_from[current] = temp\n",
        "    for n in range(len(neighbors)):\n",
        "      if neighbors[n] == end_title:\n",
        "        path = []\n",
        "        path.append(current)\n",
        "        while current != start_title:\n",
        "          lastTitle = came_from[current]\n",
        "          current = lastTitle\n",
        "          path.append(lastTitle)\n",
        "        path.append(end_title)\n",
        "        return path\n",
        "      elif neighbors[n] not in seen:\n",
        "        queue.append(neighbors[n])\n",
        "    queue.sort(reverse=False, key=lambda x:heuristic(x,end_title))"
      ],
      "metadata": {
        "id": "_uCZhUUH8Pxy"
      },
      "execution_count": null,
      "outputs": []
    },
    {
      "cell_type": "markdown",
      "source": [
        "Once you've finished your code, run the cells below to test it out! This cell will run your best first search code and also time it so you can see how long it takes to run. The first cell uses plain BFS, the second cell uses the averaging heuristic, and the third cell uses the maximum heuristic."
      ],
      "metadata": {
        "id": "_rVj-NaUuY4V"
      }
    },
    {
      "cell_type": "code",
      "source": [
        "%%time\n",
        "\n",
        "# change the start and end to other articles! Make sure capitalization is right (case sensitive)\n",
        "start = \"Banana\"\n",
        "end = \"Fruit\"\n",
        "\n",
        "print(\"The path taken was: \", wiki_bfs(start, end, wikipedia_data))"
      ],
      "metadata": {
        "id": "tNRC1z6u6RaH",
        "colab": {
          "base_uri": "https://localhost:8080/"
        },
        "outputId": "b0777080-f453-4a09-e5c3-41e065aadb1d"
      },
      "execution_count": null,
      "outputs": [
        {
          "output_type": "stream",
          "name": "stdout",
          "text": [
            "The path taken was:  ['Fruit', 'Banana']\n",
            "CPU times: user 1.16 s, sys: 183 ms, total: 1.34 s\n",
            "Wall time: 1.34 s\n"
          ]
        }
      ]
    },
    {
      "cell_type": "code",
      "source": [
        "%%time\n",
        "\n",
        "# change the start and end to other articles! Make sure capitalization is right (case sensitive)\n",
        "start = \"Banana\"\n",
        "end = \"Fruit\"\n",
        "\n",
        "print(\"The path taken with the averaging heuristic was: \", wiki_best_fs(start, end, wikipedia_data, average_title_heuristic))"
      ],
      "metadata": {
        "id": "XvR7hVehuY4V",
        "colab": {
          "base_uri": "https://localhost:8080/"
        },
        "outputId": "99562cf2-c20f-4cda-b0a2-5695d16e37e8"
      },
      "execution_count": null,
      "outputs": [
        {
          "output_type": "stream",
          "name": "stdout",
          "text": [
            "The path taken with the averaging heuristic was:  ['Banana', 'Fruit']\n",
            "CPU times: user 1.16 s, sys: 183 ms, total: 1.35 s\n",
            "Wall time: 1.35 s\n"
          ]
        }
      ]
    },
    {
      "cell_type": "code",
      "source": [
        "%%time\n",
        "\n",
        "# change the start and end to other articles! Make sure capitalization is right (case sensitive)\n",
        "start = \"Banana\"\n",
        "end = \"Fruit\"\n",
        "\n",
        "print(\"The path taken with the max heuristic was: \", wiki_best_fs(start, end, wikipedia_data, max_title_heuristic))"
      ],
      "metadata": {
        "id": "88104jVOutl6",
        "colab": {
          "base_uri": "https://localhost:8080/"
        },
        "outputId": "41887714-db62-4025-ba60-4e0ead683bb0"
      },
      "execution_count": null,
      "outputs": [
        {
          "output_type": "stream",
          "name": "stdout",
          "text": [
            "The path taken with the max heuristic was:  ['Banana', 'Fruit']\n",
            "CPU times: user 1.15 s, sys: 198 ms, total: 1.35 s\n",
            "Wall time: 1.35 s\n"
          ]
        }
      ]
    },
    {
      "cell_type": "markdown",
      "source": [
        "Hmm, it seems like the heuristic didn't actually improve our runtime all that much. In some cases, it's wildly slower (maybe even too slow to wait for). Why do you think that is?"
      ],
      "metadata": {
        "id": "KhTIxoJWzCbf"
      }
    },
    {
      "cell_type": "markdown",
      "source": [
        "# 🔛 **Extension: Bidirectional BFS**\n",
        "The heuristic didn't actually improve our runtime, so let's try a different method! Right now we're only running BFS in one direction - from the start to the finish. If we start our BFS from both sides (the start and the goal) we can potentially cut down on the amount of time we spend searching! One of the biggest differences in bidirectional BFS is that we'll be working with two queues!\n",
        "\n",
        "Let's check out the pseudocode for bidirectional BFS:\n",
        "```\n",
        "forward queue = [start]\n",
        "backward queue = [end]\n",
        "visited_start = {start}\n",
        "visited_end = {end}\n",
        "came_from_start = {start:None}\n",
        "came_from_end = {end:None}\n",
        "if end == start:\n",
        "  return [start]\n",
        "while neither queue is empty:\n",
        "  if forward queue isn't empty:\n",
        "    get first element in queue\n",
        "    for the neighbors of that element:\n",
        "      if neighbor in came_from_end:\n",
        "        reconstruct path and return\n",
        "      if neighbor not in visited_start:\n",
        "        add to visited_start\n",
        "        put on forward queue\n",
        "  if backward queue isn't empty:\n",
        "    get first element in queue\n",
        "    for the neighbors of that element:\n",
        "      if neighbor in came_from_start:\n",
        "        reconstruct path and return\n",
        "      if neighbor not in visited_end:\n",
        "        add to visited_end\n",
        "        put on backward queue\n",
        "```\n",
        "\n"
      ],
      "metadata": {
        "id": "SQkdz40iyzzN"
      }
    },
    {
      "cell_type": "code",
      "source": [
        "def bidirectional_bfs(start_title, end_title, db_con):\n",
        "  '''\n",
        "    Find the path between two Wikipedia articles using bidirectional BFS\n",
        "    Parameters:\n",
        "      start_title: string article title, BFS starting point\n",
        "      end_title: string article title, BFS ending point\n",
        "      db_con: database connection to SQLite database\n",
        "    Returns:\n",
        "      a list containing article titles representing a path between start_title \n",
        "      and end_title. Path should start with start_title and end with end_title\n",
        "  '''\n",
        "  forward_queue = [start_title]\n",
        "  backward_queue = [end_title]\n",
        "  visited_start = {start_title}\n",
        "  visited_end = {end_title}\n",
        "  came_from_start = {start:None}\n",
        "  came_from_end = {end:None}\n",
        "  if end_title == start_title:\n",
        "    return start"
      ],
      "metadata": {
        "id": "nfrxGRpQA-cN"
      },
      "execution_count": null,
      "outputs": []
    },
    {
      "cell_type": "markdown",
      "source": [
        "Once you've finished your code, run the cells below to test it out! The first cell will run plain BFS, and the second cell will run your bidirectional BFS code. Try changing the start and end locations to different page titles!"
      ],
      "metadata": {
        "id": "lhMXli6fDR21"
      }
    },
    {
      "cell_type": "code",
      "source": [
        "%%time\n",
        "\n",
        "# change the start and end to other articles! Make sure capitalization is right (case sensitive)\n",
        "start = \"Radon\"\n",
        "end = \"The Art of Computer Programming\"\n",
        "\n",
        "print(\"The path taken with BFS was: \", wiki_bfs(start, end, wikipedia_data))"
      ],
      "metadata": {
        "id": "ubzorIE4XNf4",
        "colab": {
          "base_uri": "https://localhost:8080/",
          "height": 407
        },
        "outputId": "a6ea2b12-c426-4e47-94d2-d18f42f11a86"
      },
      "execution_count": null,
      "outputs": [
        {
          "output_type": "error",
          "ename": "KeyboardInterrupt",
          "evalue": "ignored",
          "traceback": [
            "\u001b[0;31m---------------------------------------------------------------------------\u001b[0m",
            "\u001b[0;31mKeyboardInterrupt\u001b[0m                         Traceback (most recent call last)",
            "\u001b[0;32m<ipython-input-165-713ec93a701c>\u001b[0m in \u001b[0;36m<module>\u001b[0;34m()\u001b[0m\n\u001b[0;32m----> 1\u001b[0;31m \u001b[0mget_ipython\u001b[0m\u001b[0;34m(\u001b[0m\u001b[0;34m)\u001b[0m\u001b[0;34m.\u001b[0m\u001b[0mrun_cell_magic\u001b[0m\u001b[0;34m(\u001b[0m\u001b[0;34m'time'\u001b[0m\u001b[0;34m,\u001b[0m \u001b[0;34m''\u001b[0m\u001b[0;34m,\u001b[0m \u001b[0;34m'\\n# change the start and end to other articles! Make sure capitalization is right (case sensitive)\\nstart = \"Radon\"\\nend = \"The Art of Computer Programming\"\\n\\nprint(\"The path taken with BFS was: \", wiki_bfs(start, end, wikipedia_data))'\u001b[0m\u001b[0;34m)\u001b[0m\u001b[0;34m\u001b[0m\u001b[0;34m\u001b[0m\u001b[0m\n\u001b[0m",
            "\u001b[0;32m/usr/local/lib/python3.7/dist-packages/IPython/core/interactiveshell.py\u001b[0m in \u001b[0;36mrun_cell_magic\u001b[0;34m(self, magic_name, line, cell)\u001b[0m\n\u001b[1;32m   2115\u001b[0m             \u001b[0mmagic_arg_s\u001b[0m \u001b[0;34m=\u001b[0m \u001b[0mself\u001b[0m\u001b[0;34m.\u001b[0m\u001b[0mvar_expand\u001b[0m\u001b[0;34m(\u001b[0m\u001b[0mline\u001b[0m\u001b[0;34m,\u001b[0m \u001b[0mstack_depth\u001b[0m\u001b[0;34m)\u001b[0m\u001b[0;34m\u001b[0m\u001b[0;34m\u001b[0m\u001b[0m\n\u001b[1;32m   2116\u001b[0m             \u001b[0;32mwith\u001b[0m \u001b[0mself\u001b[0m\u001b[0;34m.\u001b[0m\u001b[0mbuiltin_trap\u001b[0m\u001b[0;34m:\u001b[0m\u001b[0;34m\u001b[0m\u001b[0;34m\u001b[0m\u001b[0m\n\u001b[0;32m-> 2117\u001b[0;31m                 \u001b[0mresult\u001b[0m \u001b[0;34m=\u001b[0m \u001b[0mfn\u001b[0m\u001b[0;34m(\u001b[0m\u001b[0mmagic_arg_s\u001b[0m\u001b[0;34m,\u001b[0m \u001b[0mcell\u001b[0m\u001b[0;34m)\u001b[0m\u001b[0;34m\u001b[0m\u001b[0;34m\u001b[0m\u001b[0m\n\u001b[0m\u001b[1;32m   2118\u001b[0m             \u001b[0;32mreturn\u001b[0m \u001b[0mresult\u001b[0m\u001b[0;34m\u001b[0m\u001b[0;34m\u001b[0m\u001b[0m\n\u001b[1;32m   2119\u001b[0m \u001b[0;34m\u001b[0m\u001b[0m\n",
            "\u001b[0;32m<decorator-gen-53>\u001b[0m in \u001b[0;36mtime\u001b[0;34m(self, line, cell, local_ns)\u001b[0m\n",
            "\u001b[0;32m/usr/local/lib/python3.7/dist-packages/IPython/core/magic.py\u001b[0m in \u001b[0;36m<lambda>\u001b[0;34m(f, *a, **k)\u001b[0m\n\u001b[1;32m    186\u001b[0m     \u001b[0;31m# but it's overkill for just that one bit of state.\u001b[0m\u001b[0;34m\u001b[0m\u001b[0;34m\u001b[0m\u001b[0;34m\u001b[0m\u001b[0m\n\u001b[1;32m    187\u001b[0m     \u001b[0;32mdef\u001b[0m \u001b[0mmagic_deco\u001b[0m\u001b[0;34m(\u001b[0m\u001b[0marg\u001b[0m\u001b[0;34m)\u001b[0m\u001b[0;34m:\u001b[0m\u001b[0;34m\u001b[0m\u001b[0;34m\u001b[0m\u001b[0m\n\u001b[0;32m--> 188\u001b[0;31m         \u001b[0mcall\u001b[0m \u001b[0;34m=\u001b[0m \u001b[0;32mlambda\u001b[0m \u001b[0mf\u001b[0m\u001b[0;34m,\u001b[0m \u001b[0;34m*\u001b[0m\u001b[0ma\u001b[0m\u001b[0;34m,\u001b[0m \u001b[0;34m**\u001b[0m\u001b[0mk\u001b[0m\u001b[0;34m:\u001b[0m \u001b[0mf\u001b[0m\u001b[0;34m(\u001b[0m\u001b[0;34m*\u001b[0m\u001b[0ma\u001b[0m\u001b[0;34m,\u001b[0m \u001b[0;34m**\u001b[0m\u001b[0mk\u001b[0m\u001b[0;34m)\u001b[0m\u001b[0;34m\u001b[0m\u001b[0;34m\u001b[0m\u001b[0m\n\u001b[0m\u001b[1;32m    189\u001b[0m \u001b[0;34m\u001b[0m\u001b[0m\n\u001b[1;32m    190\u001b[0m         \u001b[0;32mif\u001b[0m \u001b[0mcallable\u001b[0m\u001b[0;34m(\u001b[0m\u001b[0marg\u001b[0m\u001b[0;34m)\u001b[0m\u001b[0;34m:\u001b[0m\u001b[0;34m\u001b[0m\u001b[0;34m\u001b[0m\u001b[0m\n",
            "\u001b[0;32m/usr/local/lib/python3.7/dist-packages/IPython/core/magics/execution.py\u001b[0m in \u001b[0;36mtime\u001b[0;34m(self, line, cell, local_ns)\u001b[0m\n\u001b[1;32m   1191\u001b[0m         \u001b[0;32melse\u001b[0m\u001b[0;34m:\u001b[0m\u001b[0;34m\u001b[0m\u001b[0;34m\u001b[0m\u001b[0m\n\u001b[1;32m   1192\u001b[0m             \u001b[0mst\u001b[0m \u001b[0;34m=\u001b[0m \u001b[0mclock2\u001b[0m\u001b[0;34m(\u001b[0m\u001b[0;34m)\u001b[0m\u001b[0;34m\u001b[0m\u001b[0;34m\u001b[0m\u001b[0m\n\u001b[0;32m-> 1193\u001b[0;31m             \u001b[0mexec\u001b[0m\u001b[0;34m(\u001b[0m\u001b[0mcode\u001b[0m\u001b[0;34m,\u001b[0m \u001b[0mglob\u001b[0m\u001b[0;34m,\u001b[0m \u001b[0mlocal_ns\u001b[0m\u001b[0;34m)\u001b[0m\u001b[0;34m\u001b[0m\u001b[0;34m\u001b[0m\u001b[0m\n\u001b[0m\u001b[1;32m   1194\u001b[0m             \u001b[0mend\u001b[0m \u001b[0;34m=\u001b[0m \u001b[0mclock2\u001b[0m\u001b[0;34m(\u001b[0m\u001b[0;34m)\u001b[0m\u001b[0;34m\u001b[0m\u001b[0;34m\u001b[0m\u001b[0m\n\u001b[1;32m   1195\u001b[0m             \u001b[0mout\u001b[0m \u001b[0;34m=\u001b[0m \u001b[0;32mNone\u001b[0m\u001b[0;34m\u001b[0m\u001b[0;34m\u001b[0m\u001b[0m\n",
            "\u001b[0;32m<timed exec>\u001b[0m in \u001b[0;36m<module>\u001b[0;34m()\u001b[0m\n",
            "\u001b[0;32m<ipython-input-68-658b1261a6bb>\u001b[0m in \u001b[0;36mwiki_bfs\u001b[0;34m(start_title, end_title, db_con)\u001b[0m\n\u001b[1;32m     19\u001b[0m     \u001b[0mcurrent\u001b[0m \u001b[0;34m=\u001b[0m \u001b[0mqueue\u001b[0m\u001b[0;34m.\u001b[0m\u001b[0mpop\u001b[0m\u001b[0;34m(\u001b[0m\u001b[0;36m0\u001b[0m\u001b[0;34m)\u001b[0m\u001b[0;34m\u001b[0m\u001b[0;34m\u001b[0m\u001b[0m\n\u001b[1;32m     20\u001b[0m     \u001b[0mseen\u001b[0m\u001b[0;34m.\u001b[0m\u001b[0mappend\u001b[0m\u001b[0;34m(\u001b[0m\u001b[0mcurrent\u001b[0m\u001b[0;34m)\u001b[0m\u001b[0;34m\u001b[0m\u001b[0;34m\u001b[0m\u001b[0m\n\u001b[0;32m---> 21\u001b[0;31m     \u001b[0mneighbors\u001b[0m \u001b[0;34m=\u001b[0m \u001b[0mget_neighbors\u001b[0m\u001b[0;34m(\u001b[0m\u001b[0mcurrent\u001b[0m\u001b[0;34m)\u001b[0m\u001b[0;34m\u001b[0m\u001b[0;34m\u001b[0m\u001b[0m\n\u001b[0m\u001b[1;32m     22\u001b[0m     \u001b[0;32mif\u001b[0m \u001b[0mtemp\u001b[0m \u001b[0;34m!=\u001b[0m \u001b[0;32mNone\u001b[0m\u001b[0;34m:\u001b[0m\u001b[0;34m\u001b[0m\u001b[0;34m\u001b[0m\u001b[0m\n\u001b[1;32m     23\u001b[0m       \u001b[0mcame_from\u001b[0m\u001b[0;34m[\u001b[0m\u001b[0mcurrent\u001b[0m\u001b[0;34m]\u001b[0m \u001b[0;34m=\u001b[0m \u001b[0mtemp\u001b[0m\u001b[0;34m\u001b[0m\u001b[0;34m\u001b[0m\u001b[0m\n",
            "\u001b[0;32m<ipython-input-49-f63127f52788>\u001b[0m in \u001b[0;36mget_neighbors\u001b[0;34m(title)\u001b[0m\n\u001b[1;32m      1\u001b[0m \u001b[0;32mdef\u001b[0m \u001b[0mget_neighbors\u001b[0m\u001b[0;34m(\u001b[0m\u001b[0mtitle\u001b[0m\u001b[0;34m)\u001b[0m\u001b[0;34m:\u001b[0m\u001b[0;34m\u001b[0m\u001b[0;34m\u001b[0m\u001b[0m\n\u001b[0;32m----> 2\u001b[0;31m   \u001b[0;32mreturn\u001b[0m \u001b[0;34m[\u001b[0m\u001b[0mdb_format_to_title\u001b[0m\u001b[0;34m(\u001b[0m\u001b[0mget_article_title\u001b[0m\u001b[0;34m(\u001b[0m\u001b[0mint\u001b[0m\u001b[0;34m(\u001b[0m\u001b[0mi\u001b[0m\u001b[0;34m)\u001b[0m\u001b[0;34m,\u001b[0m\u001b[0mwikipedia_data\u001b[0m\u001b[0;34m)\u001b[0m\u001b[0;34m)\u001b[0m \u001b[0;32mfor\u001b[0m \u001b[0mi\u001b[0m \u001b[0;32min\u001b[0m \u001b[0mget_page_links_from_id\u001b[0m\u001b[0;34m(\u001b[0m\u001b[0mget_article_id\u001b[0m\u001b[0;34m(\u001b[0m\u001b[0mtitle_to_db_format\u001b[0m\u001b[0;34m(\u001b[0m\u001b[0mtitle\u001b[0m\u001b[0;34m)\u001b[0m\u001b[0;34m,\u001b[0m\u001b[0mwikipedia_data\u001b[0m\u001b[0;34m)\u001b[0m\u001b[0;34m,\u001b[0m\u001b[0mwikipedia_data\u001b[0m\u001b[0;34m)\u001b[0m\u001b[0;34m]\u001b[0m\u001b[0;34m\u001b[0m\u001b[0;34m\u001b[0m\u001b[0m\n\u001b[0m",
            "\u001b[0;32m<ipython-input-4-170966f95c8d>\u001b[0m in \u001b[0;36mget_article_id\u001b[0;34m(title, db_con, redirect)\u001b[0m\n\u001b[1;32m     28\u001b[0m     id = db_con.execute(\"\"\"\n\u001b[1;32m     29\u001b[0m       \u001b[0mSELECT\u001b[0m \u001b[0mid\u001b[0m\u001b[0;34m,\u001b[0m \u001b[0mis_redirect\u001b[0m \u001b[0mFROM\u001b[0m \u001b[0mpages\u001b[0m \u001b[0mWHERE\u001b[0m \u001b[0mtitle\u001b[0m \u001b[0;34m=\u001b[0m\u001b[0;31m \u001b[0m\u001b[0;31m?\u001b[0m\u001b[0;34m\u001b[0m\u001b[0;34m\u001b[0m\u001b[0m\n\u001b[0;32m---> 30\u001b[0;31m     \"\"\", (title,)).fetchone()\n\u001b[0m\u001b[1;32m     31\u001b[0m     \u001b[0;32mif\u001b[0m \u001b[0mid\u001b[0m\u001b[0;34m:\u001b[0m\u001b[0;34m\u001b[0m\u001b[0;34m\u001b[0m\u001b[0m\n\u001b[1;32m     32\u001b[0m       \u001b[0;32mif\u001b[0m \u001b[0mid\u001b[0m\u001b[0;34m[\u001b[0m\u001b[0;36m1\u001b[0m\u001b[0;34m]\u001b[0m \u001b[0;32mand\u001b[0m \u001b[0mredirect\u001b[0m\u001b[0;34m:\u001b[0m\u001b[0;34m\u001b[0m\u001b[0;34m\u001b[0m\u001b[0m\n",
            "\u001b[0;31mKeyboardInterrupt\u001b[0m: "
          ]
        }
      ]
    },
    {
      "cell_type": "code",
      "source": [
        "%%time\n",
        "\n",
        "# change the start and end to other articles! Make sure capitalization is right (case sensitive)\n",
        "start = \"Radon\"\n",
        "end = \"The Art of Computer Programming\"\n",
        "\n",
        "print(\"The path taken with bidirectional BFS was: \", bidirectional_bfs(start, end, wikipedia_data))"
      ],
      "metadata": {
        "id": "dxroneaKDR21"
      },
      "execution_count": null,
      "outputs": []
    },
    {
      "cell_type": "markdown",
      "source": [
        "By using bidirectional BFS, we can significantly decrease our overall runtime!"
      ],
      "metadata": {
        "id": "dbxQ-q7tFSY-"
      }
    },
    {
      "cell_type": "markdown",
      "source": [
        "# 🎉 **That's it! You've finished this notebook :)**"
      ],
      "metadata": {
        "id": "4NEjK-clPM_S"
      }
    }
  ]
}