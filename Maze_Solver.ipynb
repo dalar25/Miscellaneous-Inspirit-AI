{
  "nbformat": 4,
  "nbformat_minor": 0,
  "metadata": {
    "colab": {
      "provenance": []
    },
    "kernelspec": {
      "name": "python3",
      "display_name": "Python 3"
    },
    "language_info": {
      "name": "python"
    }
  },
  "cells": [
    {
      "cell_type": "markdown",
      "source": [
        "# 🌀 **Let's solve mazes!**\n",
        "Our goal in this notebook is to use search algorithms we've learned in class to find the shortest path through a maze. We'll start by implementing DFS, then move on to BFS. Similar to minesweeper, we're going to be working with a visual representation of our maze as well as a separate representation in code."
      ],
      "metadata": {
        "id": "qfXQipi_VpJ4"
      }
    },
    {
      "cell_type": "code",
      "source": [
        "#@title Run this cell to download some of the mazes!\n",
        "!gdown -q 1_VXIk8bEK7qO6BsqXjDU6L7WBsNdTbMH\n",
        "!gdown -q 1nLW-8qBywe7n8LK1H-XepJYrFhh0xvVT\n",
        "!gdown -q 1hBAqGd-yPQzui5EFswwrJy1yjNakKH0q\n",
        "!gdown -q 1q7i6jSkkNJ8cpDplgKJFe27vSwXdJljC"
      ],
      "metadata": {
        "id": "6Wl9uQYi-JUr",
        "cellView": "form"
      },
      "execution_count": null,
      "outputs": []
    },
    {
      "cell_type": "code",
      "execution_count": null,
      "metadata": {
        "cellView": "form",
        "id": "tGaWktJ0Vk0I"
      },
      "outputs": [],
      "source": [
        "#@title Run this cell to set up the graphics functions!\n",
        "from IPython.display import display, HTML\n",
        "from PIL import Image\n",
        "import time\n",
        "import math\n",
        "import re\n",
        "import random\n",
        "import copy\n",
        "\n",
        "\n",
        "# Module for drawing classic Turtle figures on Google Colab notebooks.\n",
        "# It uses html capabilites of IPython library to draw svg shapes inline.\n",
        "\n",
        "# DEFAULT_BACKGROUND_COLOR = 'white'\n",
        "DEFAULT_SVG_LINES_STRING = \"\"\n",
        "# COLORS = (\"ForestGreen\", \"LimeGreen\")\n",
        "SVG_TEMPLATE = \"\"\"\n",
        "      <svg width={window_width} height={window_height}>\n",
        "        {image}\n",
        "        {updates}\n",
        "      </svg>\n",
        "    \"\"\"\n",
        "\n",
        "drawing_window = None\n",
        "svg_image_string = ''\n",
        "\n",
        "def make_maze(maze_dims = None, maze_size = \"small\"):\n",
        "  global window_size\n",
        "  global svg_image_string\n",
        "  global drawing_window\n",
        "\n",
        "  st = \"\"\"<defs>\n",
        "        <pattern id=\"image\" patternUnits=\"userSpaceOnUse\" width={width} height={height}>\"\"\"\n",
        "  en = \"\"\"</pattern>\n",
        "      </defs>\n",
        "      <rect id='top' x=\"0\" y=\"0\" width={width} height={height} fill=\"url(#image)\"/>\"\"\"\n",
        "\n",
        "  if maze_size == \"small\":\n",
        "    window_size = (80, 80)\n",
        "    svg_image_string = st.format(width=window_size[0], height=window_size[1]) + '<image x=\"0\" y=\"0\" xlink:href=\"https://drive.google.com/uc?export=view&id=1Y5fRXpRHYiwiUtSVj8eQwE86x1iQhdVv\"></image>' + en.format(width=window_size[0], height=window_size[1])\n",
        "    im = Image.open(\"small_maze.png\")\n",
        "    start_loc = (5, 6)\n",
        "    goal_loc = (1, 1)\n",
        "  elif maze_size == \"medium\":\n",
        "    window_size = (190, 190)\n",
        "    svg_image_string = st.format(width=window_size[0], height=window_size[1]) + '<image x=\"0\" y=\"0\" xlink:href=\"https://drive.google.com/uc?export=view&id=1fhnydLvhs3wvO0fryawtHouYi3iH6vBu\"></image>' + en.format(width=window_size[0], height=window_size[1])\n",
        "    im = Image.open(\"medium_maze.png\")\n",
        "    start_loc = (17, 17)\n",
        "    goal_loc = (1, 1)\n",
        "  elif maze_size == \"large\":\n",
        "    window_size = (490, 490)\n",
        "    svg_image_string = st.format(width=window_size[0], height=window_size[1]) + '<image x=\"0\" y=\"0\" xlink:href=\"https://drive.google.com/uc?export=view&id=1bvu1JBovT8MYN8JccP2Wz61LQCKI6VoM\"></image>' + en.format(width=window_size[0], height=window_size[1])\n",
        "    im = Image.open(\"large_maze.png\")\n",
        "    start_loc = (47, 47)\n",
        "    goal_loc = (1, 1)\n",
        "  elif maze_size == \"no_connect\":\n",
        "    window_size = (80, 80)\n",
        "    start_loc = (6, 1)\n",
        "    goal_loc = (1, 6)\n",
        "\n",
        "    svg_image_string = \"\"\"<rect x=\"{x}\" y=\"{y}\", width=\"80\" height=\"80\" style=\"fill:{fill}\" />\"\"\".format(x=0, y=0, fill=\"Black\")\n",
        "    svg_image_string += \"\"\"<rect x=\"{x}\" y=\"{y}\", width=\"60\" height=\"60\" style=\"fill:{fill}\" />\"\"\".format(x=10, y=10, fill=\"White\")\n",
        "    svg_image_string += \"\"\"<rect x=\"{x}\" y=\"{y}\", width=\"10\" height=\"10\" style=\"fill:{fill}\" />\"\"\".format(x=10*start_loc[1], y=10*start_loc[0], fill=\"Lime\")\n",
        "    for i in range(1, 7):\n",
        "      svg_image_string += \"\"\"<rect x=\"{x}\" y=\"{y}\", width=\"10\" height=\"10\" style=\"fill:{fill}\" />\"\"\".format(x=10*i, y=10*i, fill=\"Black\")\n",
        "    \n",
        "  elif maze_size == \"rand\":\n",
        "    window_size = (80, 80)\n",
        "    svg_image_string = \"\"\"<rect x=\"{x}\" y=\"{y}\", width=\"80\" height=\"80\" style=\"fill:{fill}\" />\"\"\".format(x=0, y=0, fill=\"Black\")\n",
        "    list_maze = [['|', '|', '|', '|', '|', '|', '|', '|']]\n",
        "    for i in range(1, 7):\n",
        "      row = ['|']\n",
        "      for j in range(1, 7):\n",
        "        ch = random.choice(['|', 'O'])\n",
        "        row.append(ch)\n",
        "        if ch == \"O\":\n",
        "          svg_image_string += \"\"\"<rect x=\"{x}\" y=\"{y}\", width=\"10\" height=\"10\" style=\"fill:{fill}\" />\"\"\".format(x=10*j, y=10*i, fill=\"White\")\n",
        "      row.append('|')\n",
        "    list_maze.append(['|', '|', '|', '|', '|', '|', '|', '|'])\n",
        "    start_loc = (6, 1)\n",
        "    goal_loc = (1, 6)\n",
        "    svg_image_string += \"\"\"<rect x=\"{x}\" y=\"{y}\", width=\"10\" height=\"10\" style=\"fill:{fill}\" />\"\"\".format(x=10*start_loc[1], y=10*start_loc[0], fill=\"Lime\")\n",
        "\n",
        "  elif maze_size == \"blank\":\n",
        "    if maze_dims != None:\n",
        "      window_size = (10*maze_dims[1], 10*maze_dims[0])\n",
        "      svg_image_string = \"\"\"<rect x=\"0\" y=\"0\", width=\"{w}\" height=\"{h}\" style=\"fill:{fill}\" />\"\"\".format(w=10*maze_dims[1], h=10*maze_dims[0], fill=\"Black\")\n",
        "    else:\n",
        "      print(\"Maze dims not valid.\")\n",
        "      return None\n",
        "\n",
        "  else:\n",
        "    print(\"Maze size not valid. Please use 'small', 'medium', 'large', 'no_connect', or 'rand'.\")\n",
        "    return None\n",
        "\n",
        "  if maze_size==\"blank\":\n",
        "    updates = ''\n",
        "  else:\n",
        "    updates = \"\"\"<rect x=\"{x}\" y=\"{y}\", width=\"10\" height=\"10\" style=\"fill:{fill}\" />\"\"\".format(x=10*goal_loc[1], y=10*goal_loc[0], fill=\"Aqua\")\n",
        "  drawing_window = display(HTML(_generateSvgDrawing(up=updates)), display_id=True)\n",
        "\n",
        "  list_maze = []\n",
        "  wsize = (int(window_size[0]/10), int(window_size[1]/10))\n",
        "  if maze_size not in [\"no_connect\", \"rand\", \"blank\"]:\n",
        "    for i in range(wsize[0]):\n",
        "      row = []\n",
        "      for j in range(wsize[1]):\n",
        "        val = im.getpixel((j, i))[0]\n",
        "        if val == 255 or (i,j)==start_loc or (i,j)==goal_loc:\n",
        "          val = \"O\"\n",
        "        else:\n",
        "          val = \"|\"\n",
        "        row.append(val)\n",
        "      list_maze.append(row)\n",
        "  elif maze_size==\"no_connect\":\n",
        "    list_maze = [['|', '|', '|', '|', '|', '|', '|', '|'],\n",
        "                 ['|', '|', 'O', 'O', 'O', 'O', 'O', '|'],\n",
        "                 ['|', 'O', '|', 'O', 'O', 'O', 'O', '|'],\n",
        "                 ['|', 'O', 'O', '|', 'O', 'O', 'O', '|'],\n",
        "                 ['|', 'O', 'O', 'O', '|', 'O', 'O', '|'],\n",
        "                 ['|', 'O', 'O', 'O', 'O', '|', 'O', '|'],\n",
        "                 ['|', 'O', 'O', 'O', 'O', 'O', '|', '|'],\n",
        "                 ['|', '|', '|', '|', '|', '|', '|', '|'],\n",
        "                 ]\n",
        "  elif maze_size == \"blank\":\n",
        "    list_maze = []\n",
        "    for i in range(maze_dims[0]):\n",
        "      row = []\n",
        "      for j in range(maze_dims[1]):\n",
        "        row.append('|')\n",
        "      list_maze.append(row)\n",
        "    return list_maze\n",
        "  return list_maze, start_loc, goal_loc\n",
        "\n",
        "\n",
        "# helper function for generating the whole svg string\n",
        "def _generateSvgDrawing(up=''):\n",
        "  # print(SVG_TEMPLATE.format(window_width=window_size[0], window_height=window_size[1],lines=svg_lines_string))\n",
        "  return SVG_TEMPLATE.format(window_width=window_size[0], window_height=window_size[1],image=svg_image_string,updates=up)\n",
        "\n",
        "\n",
        "# helper functions for updating the screen using the latest positions/angles/lines etc.\n",
        "def _updateDrawing(up='', speed = 'normal'):\n",
        "    if drawing_window == None:\n",
        "        raise AttributeError(\"Display has not been initialized yet.\")\n",
        "    time.sleep(0.2)\n",
        "    drawing_window.update(HTML(_generateSvgDrawing(up)))\n",
        "\n",
        "def update_graphics(goal, seen=set(), path=[], speed = 'normal'):\n",
        "  updates = \"\"\"<rect x=\"{x}\" y=\"{y}\", width=\"10\" height=\"10\" style=\"fill:{fill}\" />\"\"\".format(x=10*goal[1], y=10*goal[0], fill=\"Aqua\")\n",
        "  for (r, c) in path[1:-1]:\n",
        "    updates += \"\"\"<rect x=\"{x}\" y = \"{y}\", width=\"10\" height=\"10\" style=\"fill:{fill}\" />\"\"\".format(x=10*c, y=10*r, fill=\"Red\")\n",
        "  for (r, c) in seen:\n",
        "    updates += \"\"\"<rect x=\"{x}\" y = \"{y}\", width=\"10\" height=\"10\" style=\"fill:{fill}\" />\"\"\".format(x=10*c, y=10*r, fill=\"Thistle\")\n",
        "  _updateDrawing(up=updates, speed=speed)\n",
        "\n",
        "def remove_wall(maze, loc, n):\n",
        "  updates = ''\n",
        "  wall_rem = (int((loc[0]-n[0])/2) + n[0], int((loc[1]-n[1])/2) + n[1])\n",
        "  maze[loc[0]][loc[1]] = 'O'\n",
        "  maze[n[0]][n[1]] = 'O'\n",
        "  maze[wall_rem[0]][wall_rem[1]] = 'O'\n",
        "  for i in range(len(maze)):\n",
        "    for j in range(len(maze[0])):\n",
        "      if maze[i][j]=='O':\n",
        "        updates +=\"\"\"<rect x=\"{x}\" y=\"{y}\", width=\"10\" height=\"10\" style=\"fill:{fill}\" />\"\"\".format(x=10*j, y=10*i, fill=\"White\")\n",
        "  _updateDrawing(up=updates)\n",
        "  return maze\n",
        "\n",
        "def maze_gen_neighbors(row, col, num_rows, num_cols, seen):\n",
        "  init_n = [(row+2, col), (row-2, col), (row, col+2), (row, col-2)]\n",
        "  true_n = []\n",
        "  for n in init_n:\n",
        "    if n[0]>=1 and n[0]<num_rows-1 and n[1]>=1 and n[1]<num_cols-1 and n not in seen:\n",
        "      true_n.append(n)\n",
        "  return true_n"
      ]
    },
    {
      "cell_type": "markdown",
      "source": [
        "# 📊 **Graph Representation**\n",
        "Let's use the `make_maze` function to take a look at our maze. This function does two important things things - it creates and shows us the visual representation of the maze, and it also returns three things:\n",
        "1. the python representation of the maze, formatted as a 2D list\n",
        "2. the start location, as a tuple of `(row, column)`\n",
        "3. the end or goal location, as a tuple of `(row, column)`\n",
        "\n",
        "There are four mazes available to us - `\"small\"`, `\"medium\"`, `\"large\"`, `\"no_connect\"`, and `'rand'`. Note that the `'rand'` maze sets locations to be open or a wall randomly, so most of the time there won't be a path from the start to the goal.\n",
        "\n",
        "\n",
        "The cell below will create and show us the small maze. After looking at the small maze, use the cell below to check out the others.\n",
        "\n"
      ],
      "metadata": {
        "id": "u05Dd5uUovsd"
      }
    },
    {
      "cell_type": "code",
      "source": [
        "# change the maze_size variable to see different types of mazes!\n",
        "maze, start, goal = make_maze(maze_size = \"small\")"
      ],
      "metadata": {
        "id": "fMpjq9cx6OW_",
        "colab": {
          "base_uri": "https://localhost:8080/",
          "height": 101
        },
        "outputId": "ea4ea2ac-da32-42e9-c3d7-daf573ef07fe"
      },
      "execution_count": null,
      "outputs": [
        {
          "output_type": "display_data",
          "data": {
            "text/plain": [
              "<IPython.core.display.HTML object>"
            ],
            "text/html": [
              "\n",
              "      <svg width=80 height=80>\n",
              "        <defs>\n",
              "        <pattern id=\"image\" patternUnits=\"userSpaceOnUse\" width=80 height=80><image x=\"0\" y=\"0\" xlink:href=\"https://drive.google.com/uc?export=view&id=1Y5fRXpRHYiwiUtSVj8eQwE86x1iQhdVv\"></image></pattern>\n",
              "      </defs>\n",
              "      <rect id='top' x=\"0\" y=\"0\" width=80 height=80 fill=\"url(#image)\"/>\n",
              "        <rect x=\"10\" y=\"10\", width=\"10\" height=\"10\" style=\"fill:Aqua\" />\n",
              "      </svg>\n",
              "    "
            ]
          },
          "metadata": {}
        }
      ]
    },
    {
      "cell_type": "markdown",
      "source": [
        "Visually, it's fairly easy to understand what's going on with the maze. All the **black** cells (locations) are walls, **white** cells are open, the **green** cell is the starting point, and the cyan **blue** cell is the goal location.\n",
        "\n",
        "Let's take a look at the code representation, which is a bit different! Run the cell below to peek at our maze as a 2D python list of strings."
      ],
      "metadata": {
        "id": "-qgtxHfQxal_"
      }
    },
    {
      "cell_type": "code",
      "source": [
        "print(\"Starting Location:\", start)\n",
        "print(\"Goal Location:\", goal)\n",
        "for row in maze:\n",
        "  print(row)"
      ],
      "metadata": {
        "id": "u8Z25mgK7oVf",
        "colab": {
          "base_uri": "https://localhost:8080/"
        },
        "outputId": "3cbf8e91-1c44-4d27-da42-fcd36c2816bb"
      },
      "execution_count": null,
      "outputs": [
        {
          "output_type": "stream",
          "name": "stdout",
          "text": [
            "Starting Location: (5, 6)\n",
            "Goal Location: (1, 1)\n",
            "['|', '|', '|', '|', '|', '|', '|', '|']\n",
            "['|', 'O', 'O', 'O', 'O', '|', '|', '|']\n",
            "['|', '|', 'O', '|', 'O', 'O', 'O', '|']\n",
            "['|', '|', 'O', '|', '|', 'O', '|', '|']\n",
            "['|', 'O', 'O', '|', 'O', '|', '|', '|']\n",
            "['|', '|', 'O', 'O', 'O', '|', 'O', '|']\n",
            "['|', '|', 'O', '|', 'O', 'O', 'O', '|']\n",
            "['|', '|', '|', '|', '|', '|', '|', '|']\n"
          ]
        }
      ]
    },
    {
      "cell_type": "markdown",
      "source": [
        "In the python representation, our maze is a 2D list of `'|'`, representing walls in the maze, and `'O'`, representing open spaces in the maze (that is a capital O, not a zero). We will be using the python representation for our code, and the graphics representation to visualize where our algorithm is searching and the final path it finds."
      ],
      "metadata": {
        "id": "KcQUcL66XXYS"
      }
    },
    {
      "cell_type": "markdown",
      "source": [
        "## 💡 **Check yourself!**\n",
        "\n",
        "<img src=\"https://drive.google.com/uc?export=view&id=1Hh-nbjtUNxd8IqRNgQOhxP-rCy8zn7GG\" \n",
        "     width=\"200\" \n",
        "     height=\"auto\" />\n",
        "\n",
        "#### **What is the corresponding python representation of this map?**"
      ],
      "metadata": {
        "id": "WKaWhA-zUAnH"
      }
    },
    {
      "cell_type": "code",
      "source": [
        "# Fill in the open spaces in the maze, start, and goal in code here!\n",
        "above_maze = [['|', '|', '|', '|', '|', '|', '|', '|'],\n",
        "              ['|', '|', '|', 'O', 'O', '|', 'O', '|'],\n",
        "              ['|', '|', '|', 'O', 'O', 'O', 'O', '|'],\n",
        "              ['|', 'O', 'O', '|', 'O', 'O', 'O', '|'],\n",
        "              ['|', '|', '|', 'O', 'O', 'O', 'O', '|'],\n",
        "              ['|', 'O', 'O', 'O', '|', 'O', '|', '|'],\n",
        "              ['|', 'O', 'O', '|', '|', 'O', 'O', '|'],\n",
        "              ['|', '|', '|', '|', '|', '|', '|', '|'],\n",
        "              ]\n",
        "above_start = (6, 1)\n",
        "above_goal = (1, 6)"
      ],
      "metadata": {
        "id": "m42eN5yEVDoF"
      },
      "execution_count": null,
      "outputs": []
    },
    {
      "cell_type": "code",
      "source": [
        "#@title Run this cell to check your solution!\n",
        "above_maze_sol = [['|', '|', '|', '|', '|', '|', '|', '|'],\n",
        "              ['|', '|', '|', 'O', 'O', '|', 'O', '|'],\n",
        "              ['|', '|', '|', 'O', 'O', 'O', 'O', '|'],\n",
        "              ['|', 'O', 'O', '|', 'O', 'O', 'O', '|'],\n",
        "              ['|', '|', '|', 'O', 'O', 'O', 'O', '|'],\n",
        "              ['|', 'O', 'O', 'O', '|', 'O', '|', '|'],\n",
        "              ['|', 'O', 'O', '|', '|', 'O', 'O', '|'],\n",
        "              ['|', '|', '|', '|', '|', '|', '|', '|'],\n",
        "              ]\n",
        "above_start_sol = (6, 1)\n",
        "above_goal_sol = (1, 6)\n",
        "if above_maze == above_maze_sol:\n",
        "  print(\"Your maze is correct!\")\n",
        "else:\n",
        "  print(\"Your maze is NOT correct.\")\n",
        "\n",
        "if above_start == above_start_sol:\n",
        "  print(\"Your starting location is correct!\")\n",
        "else:\n",
        "  print(\"Your starting location is NOT correct.\")\n",
        "\n",
        "if above_goal == above_goal_sol:\n",
        "  print(\"Your ending location is correct!\")\n",
        "else:\n",
        "  print(\"Your ending location is NOT correct.\")"
      ],
      "metadata": {
        "id": "loThgzgq5Eqh",
        "cellView": "form",
        "colab": {
          "base_uri": "https://localhost:8080/"
        },
        "outputId": "4308cd59-ba33-4344-dfac-757738539668"
      },
      "execution_count": null,
      "outputs": [
        {
          "output_type": "stream",
          "name": "stdout",
          "text": [
            "Your maze is correct!\n",
            "Your starting location is correct!\n",
            "Your ending location is correct!\n"
          ]
        }
      ]
    },
    {
      "cell_type": "code",
      "source": [
        "#@title **Is there a valid path between the start and the goal?**\n",
        "is_path1 = \"Yes\" #@param [\"\", \"Yes\", \"No\"]\n",
        "\n",
        "if is_path1 == \"Yes\":\n",
        "  print(\"That's correct!\")\n",
        "else:\n",
        "  print(\"Your answer is incorrect\")"
      ],
      "metadata": {
        "cellView": "form",
        "id": "q7W8kwkrXpUz",
        "colab": {
          "base_uri": "https://localhost:8080/"
        },
        "outputId": "480723c2-a64d-4762-fa2f-1494b66ada7d"
      },
      "execution_count": null,
      "outputs": [
        {
          "output_type": "stream",
          "name": "stdout",
          "text": [
            "That's correct!\n"
          ]
        }
      ]
    },
    {
      "cell_type": "markdown",
      "source": [
        "If there is a valid path, fill in the list below with what a path could be (as a list of `(row, col)` tuples including the start and goal location). Otherwise, leave the list empty. There might be more than one right solution!"
      ],
      "metadata": {
        "id": "4mI2_3lXXxca"
      }
    },
    {
      "cell_type": "code",
      "source": [
        "# fill in the list below!\n",
        "path1 = [(6,1),(5,1),(5,2),(5,3),(4,3),(4,4),(4,5),(4,6),(3,6),(2,6),(1,6)]"
      ],
      "metadata": {
        "id": "SAj3Z86BX_AV"
      },
      "execution_count": null,
      "outputs": []
    },
    {
      "cell_type": "markdown",
      "source": [
        "## 💡 **Check yourself!**\n",
        "\n",
        "<img src=\"https://drive.google.com/uc?export=view&id=1aSTEgotN72dqgriIFR2Mdw9n-6l9Q5Ik\" \n",
        "     width=\"200\" \n",
        "     height=\"auto\" />\n",
        "\n",
        "### What is the corresponding python representation of this map?"
      ],
      "metadata": {
        "id": "6I_ewb68V58X"
      }
    },
    {
      "cell_type": "code",
      "source": [
        "# Fill in the maze, start, and goal in code here!\n",
        "above_maze = [['|', '|', '|', '|', '|', '|', '|', '|'],\n",
        "              ['|', 'O', 'O', '|', '|', 'O', 'O', '|'],\n",
        "              ['|', 'O', '|', '|', 'O', 'O', '|', '|'],\n",
        "              ['|', 'O', 'O', 'O', 'O', 'O', 'O', '|'],\n",
        "              ['|', '|', '|', '|', '|', 'O', '|', '|'],\n",
        "              ['|', '|', 'O', 'O', '|', '|', 'O', '|'],\n",
        "              ['|', 'O', 'O', 'O', '|', 'O', '|', '|'],\n",
        "              ['|', '|', '|', '|', '|', '|', '|', '|'],\n",
        "              ]\n",
        "above_start = (6, 1)\n",
        "above_goal = (1, 6)"
      ],
      "metadata": {
        "id": "adDCIsQ6V58i"
      },
      "execution_count": null,
      "outputs": []
    },
    {
      "cell_type": "code",
      "source": [
        "#@title **Is there a valid path between the start and the goal?**\n",
        "is_path2 = \"\" #@param [\"\", \"Yes\", \"No\"]\n",
        "\n",
        "if is_path2 == \"No\":\n",
        "  print(\"That's correct!\")\n",
        "else:\n",
        "  print(\"Your answer is incorrect\")"
      ],
      "metadata": {
        "cellView": "form",
        "id": "fM0B_yfMW8bB",
        "colab": {
          "base_uri": "https://localhost:8080/"
        },
        "outputId": "b8c9892e-406a-4f9e-9134-7e4700af73b4"
      },
      "execution_count": null,
      "outputs": [
        {
          "output_type": "stream",
          "name": "stdout",
          "text": [
            "Your answer is incorrect\n"
          ]
        }
      ]
    },
    {
      "cell_type": "markdown",
      "source": [
        "If there is a valid path, fill in the list below with what a path could be (as a list of `(row, col)` tuples including the start and goal location). Otherwise, leave the list empty."
      ],
      "metadata": {
        "id": "rWuRC7zgYDOc"
      }
    },
    {
      "cell_type": "code",
      "source": [
        "# fill in the list below!\n",
        "path2 = []"
      ],
      "metadata": {
        "id": "_kfNJfk2YDOc"
      },
      "execution_count": null,
      "outputs": []
    },
    {
      "cell_type": "markdown",
      "source": [
        "# 👭 **Neighbors**\n",
        "For the purposes of this problem, we will **NOT** consider diagonal adjacent tiles as neighbors. This means that when you're looking at the neighbors of a map location, it should have at **most** four neighbors. Remember, \"neighboring\" locations that are walls (`'|'`) and not open (`'O'`) **are not considered valid neighbors either**. Any location that has a wall **has no valid neighbors.**\n",
        "\n",
        "In short, the neighbors list for your location should only have the cell above, below, and directly to the right and left **if** those cells are open. "
      ],
      "metadata": {
        "id": "TCvBahWGffqn"
      }
    },
    {
      "cell_type": "markdown",
      "source": [
        "## 💡 **Check yourself!**\n",
        "\n",
        "Below is the python representation of the `'small'` maze.\n",
        "\n",
        "```python\n",
        "['|', '|', '|', '|', '|', '|', '|', '|']\n",
        "['|', 'O', 'O', 'O', 'O', '|', '|', '|']\n",
        "['|', '|', 'O', '|', 'O', 'O', 'O', '|']\n",
        "['|', '|', 'O', '|', '|', 'O', '|', '|']\n",
        "['|', 'O', 'O', '|', 'O', '|', '|', '|']\n",
        "['|', '|', 'O', 'O', 'O', '|', '|', '|']\n",
        "['|', '|', 'O', '|', 'O', 'O', 'O', '|']\n",
        "['|', '|', '|', '|', '|', '|', '|', '|']\n",
        "```\n",
        "\n",
        "What are the neighbors of maze location `(1, 1)`?\n"
      ],
      "metadata": {
        "id": "06ap4m3p3g4v"
      }
    },
    {
      "cell_type": "code",
      "source": [
        "neighbors_11 = [(1,2)] # fill this in!"
      ],
      "metadata": {
        "id": "zAZba1GMxJH0"
      },
      "execution_count": null,
      "outputs": []
    },
    {
      "cell_type": "markdown",
      "source": [
        "```python\n",
        "['|', '|', '|', '|', '|', '|', '|', '|']\n",
        "['|', 'O', 'O', 'O', 'O', '|', '|', '|']\n",
        "['|', '|', 'O', '|', 'O', 'O', 'O', '|']\n",
        "['|', '|', 'O', '|', '|', 'O', '|', '|']\n",
        "['|', 'O', 'O', '|', 'O', '|', '|', '|']\n",
        "['|', '|', 'O', 'O', 'O', '|', '|', '|']\n",
        "['|', '|', 'O', '|', 'O', 'O', 'O', '|']\n",
        "['|', '|', '|', '|', '|', '|', '|', '|']\n",
        "```\n",
        "\n",
        "What are the neighbors of maze location `(2, 5)`?"
      ],
      "metadata": {
        "id": "TSACSecNxlGd"
      }
    },
    {
      "cell_type": "code",
      "source": [
        "neighbors_25 = [(2,4),(2,6),(3,5)] # fill this in!"
      ],
      "metadata": {
        "id": "ORpvuHELxuPX"
      },
      "execution_count": null,
      "outputs": []
    },
    {
      "cell_type": "markdown",
      "source": [
        "```python\n",
        "['|', '|', '|', '|', '|', '|', '|', '|']\n",
        "['|', 'O', 'O', 'O', 'O', '|', '|', '|']\n",
        "['|', '|', 'O', '|', 'O', 'O', 'O', '|']\n",
        "['|', '|', 'O', '|', '|', 'O', '|', '|']\n",
        "['|', 'O', 'O', '|', 'O', '|', '|', '|']\n",
        "['|', '|', 'O', 'O', 'O', '|', '|', '|']\n",
        "['|', '|', 'O', '|', 'O', 'O', 'O', '|']\n",
        "['|', '|', '|', '|', '|', '|', '|', '|']\n",
        "```\n",
        "\n",
        "What are the neighbors of maze location `(3, 1)`?"
      ],
      "metadata": {
        "id": "JJ7BK_fcxwV6"
      }
    },
    {
      "cell_type": "code",
      "source": [
        "neighbors_31 = [] # fill this in!"
      ],
      "metadata": {
        "id": "1uFISUQfxwV7"
      },
      "execution_count": null,
      "outputs": []
    },
    {
      "cell_type": "markdown",
      "source": [
        "```python\n",
        "['|', '|', '|', '|', '|', '|', '|', '|']\n",
        "['|', 'O', 'O', 'O', 'O', '|', '|', '|']\n",
        "['|', '|', 'O', '|', 'O', 'O', 'O', '|']\n",
        "['|', '|', 'O', '|', '|', 'O', '|', '|']\n",
        "['|', 'O', 'O', '|', 'O', '|', '|', '|']\n",
        "['|', '|', 'O', 'O', 'O', '|', '|', '|']\n",
        "['|', '|', 'O', '|', 'O', 'O', 'O', '|']\n",
        "['|', '|', '|', '|', '|', '|', '|', '|']\n",
        "```\n",
        "\n",
        "What are the neighbors of maze location `(2, 2)`?"
      ],
      "metadata": {
        "id": "iRFVSiJVyNj6"
      }
    },
    {
      "cell_type": "code",
      "source": [
        "neighbors_22 = [(1,2),(3,2)] # fill this in!"
      ],
      "metadata": {
        "id": "P2hdN3xYyNkF"
      },
      "execution_count": null,
      "outputs": []
    },
    {
      "cell_type": "code",
      "source": [
        "#@title Run this to check your answers!\n",
        "if neighbors_11==[(1,2)]:\n",
        "  print('Your neighbors for (1, 1) are correct!')\n",
        "else:\n",
        "  print('Your neighbors for (1, 1) are NOT correct!')\n",
        "\n",
        "if set(neighbors_25)=={(2, 4), (2, 6), (3, 5)}:\n",
        "  print('Your neighbors for (2, 5) are correct!')\n",
        "else:\n",
        "  print('Your neighbors for (2, 5) are NOT correct!')\n",
        "\n",
        "if neighbors_31==[]:\n",
        "  print('Your neighbors for (3, 1) are correct!')\n",
        "else:\n",
        "  print('Your neighbors for (3, 1) are NOT correct!')\n",
        "\n",
        "if set(neighbors_22)=={(1,2), (3, 2)}:\n",
        "  print('Your neighbors for (2, 2) are correct!')\n",
        "else:\n",
        "  print('Your neighbors for (2, 2) are NOT correct!')\n"
      ],
      "metadata": {
        "cellView": "form",
        "id": "ct_6v-CnyRdK",
        "colab": {
          "base_uri": "https://localhost:8080/"
        },
        "outputId": "4852bf0c-2d27-408f-cafd-7c42879638f2"
      },
      "execution_count": null,
      "outputs": [
        {
          "output_type": "stream",
          "name": "stdout",
          "text": [
            "Your neighbors for (1, 1) are correct!\n",
            "Your neighbors for (2, 5) are correct!\n",
            "Your neighbors for (3, 1) are correct!\n",
            "Your neighbors for (2, 2) are correct!\n"
          ]
        }
      ]
    },
    {
      "cell_type": "markdown",
      "source": [
        "## 🏡 **Neighbors Implementation**\n",
        "Now it's time to implement the neighbors function. In the cell below, fill in the `neighbors` function definition. This function takes in a `maze`, `row`, and `col`. It should return the neighboring locations of `(row, col)` in the maze. \n",
        "\n",
        "**A few things to note**:\n",
        "* Diagonal adjacent cells are NOT neighbors\n",
        "* Cells that are walls are NOT neighbors"
      ],
      "metadata": {
        "id": "e34YXPsA3miV"
      }
    },
    {
      "cell_type": "code",
      "source": [
        "def neighbors(maze, row, col):\n",
        "  '''\n",
        "  This function takes in a 2D maze and (row, col) maze location and should return a list of\n",
        "  all of the valid neighboring locations in the board.\n",
        "  '''\n",
        "  neighbors = []\n",
        "  if maze[row][col] == '|':\n",
        "    return []\n",
        "  else:\n",
        "    for r in [row-1,row+1]:\n",
        "      if r >= 0 and maze[r][col] == 'O':\n",
        "        neighbors.append((r,col))\n",
        "    for c in [col-1,col+1]:\n",
        "      if c >= 0 and maze[row][c] == 'O':\n",
        "        neighbors.append((row,c))\n",
        "  return neighbors\n"
      ],
      "metadata": {
        "id": "jNN91v0yFzqL"
      },
      "execution_count": null,
      "outputs": []
    },
    {
      "cell_type": "code",
      "source": [
        "# use this cell to check your neighbors function!\n",
        "maze = [['|', '|', '|', '|', '|', '|', '|', '|'], ['|', 'O', 'O', 'O', 'O', '|', '|', '|'], ['|', '|', 'O', '|', 'O', 'O', 'O', '|'], ['|', '|', 'O', '|', '|', 'O', '|', '|'], ['|', 'O', 'O', '|', 'O', '|', '|', '|'], ['|', '|', 'O', 'O', 'O', '|', '|', '|'], ['|', '|', 'O', '|', 'O', 'O', 'O', '|'], ['|', '|', '|', '|', '|', '|', '|', '|']]\n",
        "print(neighbors(maze, 2, 2))\n",
        "print(neighbors(maze, 3, 1))\n",
        "print(neighbors(maze, 2, 5))"
      ],
      "metadata": {
        "id": "hEHlx3rZZM_R",
        "colab": {
          "base_uri": "https://localhost:8080/"
        },
        "outputId": "39ec48d0-7a10-4123-e861-ac5998770371"
      },
      "execution_count": null,
      "outputs": [
        {
          "output_type": "stream",
          "name": "stdout",
          "text": [
            "[(1, 2), (3, 2)]\n",
            "[]\n",
            "[(3, 5), (2, 4), (2, 6)]\n"
          ]
        }
      ]
    },
    {
      "cell_type": "markdown",
      "source": [
        "# 🔎 **Search: DFS**\n",
        "Now that we have a good understanding of how our maze is represented, let's code our search algorithms! We're going to start by coding DFS, or Depth First Search. Fill in the function below to implement this algorithm.\n",
        "\n",
        "**NOTE:** your function does not have to find the *shortest* path, just any *valid* path from `start` to `goal` or from `goal` to `start` if that's easier.\n",
        "\n",
        "\n",
        "Remember that since you need to return a *path* you will need to use one of the methods we talked about in class - either a `came_from` dictionary or adding partial paths to your queue."
      ],
      "metadata": {
        "id": "LHUTH4lsYYLD"
      }
    },
    {
      "cell_type": "code",
      "source": [
        "import time"
      ],
      "metadata": {
        "id": "WBaBgiO8l3ot"
      },
      "execution_count": null,
      "outputs": []
    },
    {
      "cell_type": "code",
      "source": [
        "def maze_DFS(maze, start, goal):\n",
        "  '''\n",
        "  Solve the given maze by using DFS. \n",
        "  Parameters:\n",
        "    maze: a maze as a 2D list as described above\n",
        "    start: the starting location for search, as a tuple in the form (row, col)\n",
        "    goal: the ending location for search, as a tuple in the form (row, col)\n",
        "  Returns:\n",
        "    list of tuples representing a valid path through the maze\n",
        "  '''\n",
        "  # initialize queue, seen set, current node/path and came_from if you're using it\n",
        "  queue = [start]\n",
        "  current = None\n",
        "  seen = []\n",
        "  came_from = {}\n",
        "  # create loop\n",
        "  while len(queue) != 0:\n",
        "    current = queue.pop(0)\n",
        "    seen.append(current)\n",
        "    # take item off queue\n",
        "    adjacent = neighbors(maze, current[0], current[1])\n",
        "    # look at neighbors of item\n",
        "    for neighbor in range(len(adjacent)):\n",
        "      if adjacent[neighbor] == goal:\n",
        "        came_from[adjacent[neighbor]] = current\n",
        "        path = []\n",
        "        track = 0\n",
        "        path.append(goal)\n",
        "        path.append(current)\n",
        "        while track != start:\n",
        "          track = came_from[current]\n",
        "          current = track\n",
        "          path.append(track)\n",
        "        return path\n",
        "      if adjacent[neighbor] not in seen:\n",
        "        queue.insert(0,adjacent[neighbor])\n",
        "        came_from[adjacent[neighbor]] = current\n",
        "\n",
        "      # if neighbor is goal, return path or break\n",
        "\n",
        "      # if neighbor has already been seen, do nothing\n",
        "\n",
        "      # else, add neighbor/path onto queue\n",
        "\n",
        "  # if you're calculating the path using came_from, do it here"
      ],
      "metadata": {
        "id": "QiJ2O0OHY0Cw"
      },
      "execution_count": null,
      "outputs": []
    },
    {
      "cell_type": "markdown",
      "source": [
        "Once you've finished your DFS function, use the cell below to test it out. Make sure your function works on all mazes, not just the small one!"
      ],
      "metadata": {
        "id": "yHW2rwEbAB-Z"
      }
    },
    {
      "cell_type": "code",
      "source": [
        "# RUN THIS to test out your function!\n",
        "maze, start, goal = make_maze(maze_size = \"large\") # change the map size to see different ones!\n",
        "path = maze_DFS(maze, start, goal)\n",
        "if path != None:\n",
        "  update_graphics(goal, path=path)\n",
        "else:\n",
        "  print(\"No path found!\")"
      ],
      "metadata": {
        "id": "pockQw6VdBDh",
        "colab": {
          "base_uri": "https://localhost:8080/",
          "height": 511
        },
        "outputId": "667e61e0-b726-4ffc-d8ca-f9d5ecdc8660"
      },
      "execution_count": null,
      "outputs": [
        {
          "output_type": "display_data",
          "data": {
            "text/plain": [
              "<IPython.core.display.HTML object>"
            ],
            "text/html": [
              "\n",
              "      <svg width=490 height=490>\n",
              "        <defs>\n",
              "        <pattern id=\"image\" patternUnits=\"userSpaceOnUse\" width=490 height=490><image x=\"0\" y=\"0\" xlink:href=\"https://drive.google.com/uc?export=view&id=1bvu1JBovT8MYN8JccP2Wz61LQCKI6VoM\"></image></pattern>\n",
              "      </defs>\n",
              "      <rect id='top' x=\"0\" y=\"0\" width=490 height=490 fill=\"url(#image)\"/>\n",
              "        <rect x=\"10\" y=\"10\", width=\"10\" height=\"10\" style=\"fill:Aqua\" /><rect x=\"20\" y = \"10\", width=\"10\" height=\"10\" style=\"fill:Red\" /><rect x=\"30\" y = \"10\", width=\"10\" height=\"10\" style=\"fill:Red\" /><rect x=\"40\" y = \"10\", width=\"10\" height=\"10\" style=\"fill:Red\" /><rect x=\"50\" y = \"10\", width=\"10\" height=\"10\" style=\"fill:Red\" /><rect x=\"60\" y = \"10\", width=\"10\" height=\"10\" style=\"fill:Red\" /><rect x=\"70\" y = \"10\", width=\"10\" height=\"10\" style=\"fill:Red\" /><rect x=\"80\" y = \"10\", width=\"10\" height=\"10\" style=\"fill:Red\" /><rect x=\"90\" y = \"10\", width=\"10\" height=\"10\" style=\"fill:Red\" /><rect x=\"100\" y = \"10\", width=\"10\" height=\"10\" style=\"fill:Red\" /><rect x=\"110\" y = \"10\", width=\"10\" height=\"10\" style=\"fill:Red\" /><rect x=\"120\" y = \"10\", width=\"10\" height=\"10\" style=\"fill:Red\" /><rect x=\"130\" y = \"10\", width=\"10\" height=\"10\" style=\"fill:Red\" /><rect x=\"140\" y = \"10\", width=\"10\" height=\"10\" style=\"fill:Red\" /><rect x=\"150\" y = \"10\", width=\"10\" height=\"10\" style=\"fill:Red\" /><rect x=\"160\" y = \"10\", width=\"10\" height=\"10\" style=\"fill:Red\" /><rect x=\"170\" y = \"10\", width=\"10\" height=\"10\" style=\"fill:Red\" /><rect x=\"180\" y = \"10\", width=\"10\" height=\"10\" style=\"fill:Red\" /><rect x=\"190\" y = \"10\", width=\"10\" height=\"10\" style=\"fill:Red\" /><rect x=\"200\" y = \"10\", width=\"10\" height=\"10\" style=\"fill:Red\" /><rect x=\"210\" y = \"10\", width=\"10\" height=\"10\" style=\"fill:Red\" /><rect x=\"220\" y = \"10\", width=\"10\" height=\"10\" style=\"fill:Red\" /><rect x=\"230\" y = \"10\", width=\"10\" height=\"10\" style=\"fill:Red\" /><rect x=\"240\" y = \"10\", width=\"10\" height=\"10\" style=\"fill:Red\" /><rect x=\"250\" y = \"10\", width=\"10\" height=\"10\" style=\"fill:Red\" /><rect x=\"260\" y = \"10\", width=\"10\" height=\"10\" style=\"fill:Red\" /><rect x=\"270\" y = \"10\", width=\"10\" height=\"10\" style=\"fill:Red\" /><rect x=\"280\" y = \"10\", width=\"10\" height=\"10\" style=\"fill:Red\" /><rect x=\"290\" y = \"10\", width=\"10\" height=\"10\" style=\"fill:Red\" /><rect x=\"300\" y = \"10\", width=\"10\" height=\"10\" style=\"fill:Red\" /><rect x=\"310\" y = \"10\", width=\"10\" height=\"10\" style=\"fill:Red\" /><rect x=\"320\" y = \"10\", width=\"10\" height=\"10\" style=\"fill:Red\" /><rect x=\"320\" y = \"20\", width=\"10\" height=\"10\" style=\"fill:Red\" /><rect x=\"320\" y = \"30\", width=\"10\" height=\"10\" style=\"fill:Red\" /><rect x=\"320\" y = \"40\", width=\"10\" height=\"10\" style=\"fill:Red\" /><rect x=\"320\" y = \"50\", width=\"10\" height=\"10\" style=\"fill:Red\" /><rect x=\"320\" y = \"60\", width=\"10\" height=\"10\" style=\"fill:Red\" /><rect x=\"320\" y = \"70\", width=\"10\" height=\"10\" style=\"fill:Red\" /><rect x=\"330\" y = \"70\", width=\"10\" height=\"10\" style=\"fill:Red\" /><rect x=\"340\" y = \"70\", width=\"10\" height=\"10\" style=\"fill:Red\" /><rect x=\"350\" y = \"70\", width=\"10\" height=\"10\" style=\"fill:Red\" /><rect x=\"360\" y = \"70\", width=\"10\" height=\"10\" style=\"fill:Red\" /><rect x=\"370\" y = \"70\", width=\"10\" height=\"10\" style=\"fill:Red\" /><rect x=\"380\" y = \"70\", width=\"10\" height=\"10\" style=\"fill:Red\" /><rect x=\"390\" y = \"70\", width=\"10\" height=\"10\" style=\"fill:Red\" /><rect x=\"400\" y = \"70\", width=\"10\" height=\"10\" style=\"fill:Red\" /><rect x=\"410\" y = \"70\", width=\"10\" height=\"10\" style=\"fill:Red\" /><rect x=\"420\" y = \"70\", width=\"10\" height=\"10\" style=\"fill:Red\" /><rect x=\"430\" y = \"70\", width=\"10\" height=\"10\" style=\"fill:Red\" /><rect x=\"430\" y = \"80\", width=\"10\" height=\"10\" style=\"fill:Red\" /><rect x=\"430\" y = \"90\", width=\"10\" height=\"10\" style=\"fill:Red\" /><rect x=\"430\" y = \"100\", width=\"10\" height=\"10\" style=\"fill:Red\" /><rect x=\"430\" y = \"110\", width=\"10\" height=\"10\" style=\"fill:Red\" /><rect x=\"430\" y = \"120\", width=\"10\" height=\"10\" style=\"fill:Red\" /><rect x=\"430\" y = \"130\", width=\"10\" height=\"10\" style=\"fill:Red\" /><rect x=\"430\" y = \"140\", width=\"10\" height=\"10\" style=\"fill:Red\" /><rect x=\"440\" y = \"140\", width=\"10\" height=\"10\" style=\"fill:Red\" /><rect x=\"450\" y = \"140\", width=\"10\" height=\"10\" style=\"fill:Red\" /><rect x=\"460\" y = \"140\", width=\"10\" height=\"10\" style=\"fill:Red\" /><rect x=\"470\" y = \"140\", width=\"10\" height=\"10\" style=\"fill:Red\" /><rect x=\"470\" y = \"150\", width=\"10\" height=\"10\" style=\"fill:Red\" /><rect x=\"470\" y = \"160\", width=\"10\" height=\"10\" style=\"fill:Red\" /><rect x=\"470\" y = \"170\", width=\"10\" height=\"10\" style=\"fill:Red\" /><rect x=\"470\" y = \"180\", width=\"10\" height=\"10\" style=\"fill:Red\" /><rect x=\"460\" y = \"180\", width=\"10\" height=\"10\" style=\"fill:Red\" /><rect x=\"450\" y = \"180\", width=\"10\" height=\"10\" style=\"fill:Red\" /><rect x=\"450\" y = \"190\", width=\"10\" height=\"10\" style=\"fill:Red\" /><rect x=\"450\" y = \"200\", width=\"10\" height=\"10\" style=\"fill:Red\" /><rect x=\"440\" y = \"200\", width=\"10\" height=\"10\" style=\"fill:Red\" /><rect x=\"430\" y = \"200\", width=\"10\" height=\"10\" style=\"fill:Red\" /><rect x=\"420\" y = \"200\", width=\"10\" height=\"10\" style=\"fill:Red\" /><rect x=\"410\" y = \"200\", width=\"10\" height=\"10\" style=\"fill:Red\" /><rect x=\"410\" y = \"210\", width=\"10\" height=\"10\" style=\"fill:Red\" /><rect x=\"410\" y = \"220\", width=\"10\" height=\"10\" style=\"fill:Red\" /><rect x=\"400\" y = \"220\", width=\"10\" height=\"10\" style=\"fill:Red\" /><rect x=\"390\" y = \"220\", width=\"10\" height=\"10\" style=\"fill:Red\" /><rect x=\"380\" y = \"220\", width=\"10\" height=\"10\" style=\"fill:Red\" /><rect x=\"370\" y = \"220\", width=\"10\" height=\"10\" style=\"fill:Red\" /><rect x=\"360\" y = \"220\", width=\"10\" height=\"10\" style=\"fill:Red\" /><rect x=\"350\" y = \"220\", width=\"10\" height=\"10\" style=\"fill:Red\" /><rect x=\"340\" y = \"220\", width=\"10\" height=\"10\" style=\"fill:Red\" /><rect x=\"330\" y = \"220\", width=\"10\" height=\"10\" style=\"fill:Red\" /><rect x=\"320\" y = \"220\", width=\"10\" height=\"10\" style=\"fill:Red\" /><rect x=\"320\" y = \"210\", width=\"10\" height=\"10\" style=\"fill:Red\" /><rect x=\"320\" y = \"200\", width=\"10\" height=\"10\" style=\"fill:Red\" /><rect x=\"310\" y = \"200\", width=\"10\" height=\"10\" style=\"fill:Red\" /><rect x=\"300\" y = \"200\", width=\"10\" height=\"10\" style=\"fill:Red\" /><rect x=\"290\" y = \"200\", width=\"10\" height=\"10\" style=\"fill:Red\" /><rect x=\"280\" y = \"200\", width=\"10\" height=\"10\" style=\"fill:Red\" /><rect x=\"280\" y = \"210\", width=\"10\" height=\"10\" style=\"fill:Red\" /><rect x=\"280\" y = \"220\", width=\"10\" height=\"10\" style=\"fill:Red\" /><rect x=\"290\" y = \"220\", width=\"10\" height=\"10\" style=\"fill:Red\" /><rect x=\"300\" y = \"220\", width=\"10\" height=\"10\" style=\"fill:Red\" /><rect x=\"300\" y = \"230\", width=\"10\" height=\"10\" style=\"fill:Red\" /><rect x=\"300\" y = \"240\", width=\"10\" height=\"10\" style=\"fill:Red\" /><rect x=\"300\" y = \"250\", width=\"10\" height=\"10\" style=\"fill:Red\" /><rect x=\"300\" y = \"260\", width=\"10\" height=\"10\" style=\"fill:Red\" /><rect x=\"310\" y = \"260\", width=\"10\" height=\"10\" style=\"fill:Red\" /><rect x=\"320\" y = \"260\", width=\"10\" height=\"10\" style=\"fill:Red\" /><rect x=\"320\" y = \"270\", width=\"10\" height=\"10\" style=\"fill:Red\" /><rect x=\"320\" y = \"280\", width=\"10\" height=\"10\" style=\"fill:Red\" /><rect x=\"330\" y = \"280\", width=\"10\" height=\"10\" style=\"fill:Red\" /><rect x=\"340\" y = \"280\", width=\"10\" height=\"10\" style=\"fill:Red\" /><rect x=\"350\" y = \"280\", width=\"10\" height=\"10\" style=\"fill:Red\" /><rect x=\"360\" y = \"280\", width=\"10\" height=\"10\" style=\"fill:Red\" /><rect x=\"360\" y = \"290\", width=\"10\" height=\"10\" style=\"fill:Red\" /><rect x=\"360\" y = \"300\", width=\"10\" height=\"10\" style=\"fill:Red\" /><rect x=\"350\" y = \"300\", width=\"10\" height=\"10\" style=\"fill:Red\" /><rect x=\"340\" y = \"300\", width=\"10\" height=\"10\" style=\"fill:Red\" /><rect x=\"340\" y = \"310\", width=\"10\" height=\"10\" style=\"fill:Red\" /><rect x=\"340\" y = \"320\", width=\"10\" height=\"10\" style=\"fill:Red\" /><rect x=\"350\" y = \"320\", width=\"10\" height=\"10\" style=\"fill:Red\" /><rect x=\"360\" y = \"320\", width=\"10\" height=\"10\" style=\"fill:Red\" /><rect x=\"370\" y = \"320\", width=\"10\" height=\"10\" style=\"fill:Red\" /><rect x=\"380\" y = \"320\", width=\"10\" height=\"10\" style=\"fill:Red\" /><rect x=\"390\" y = \"320\", width=\"10\" height=\"10\" style=\"fill:Red\" /><rect x=\"400\" y = \"320\", width=\"10\" height=\"10\" style=\"fill:Red\" /><rect x=\"410\" y = \"320\", width=\"10\" height=\"10\" style=\"fill:Red\" /><rect x=\"420\" y = \"320\", width=\"10\" height=\"10\" style=\"fill:Red\" /><rect x=\"430\" y = \"320\", width=\"10\" height=\"10\" style=\"fill:Red\" /><rect x=\"430\" y = \"330\", width=\"10\" height=\"10\" style=\"fill:Red\" /><rect x=\"430\" y = \"340\", width=\"10\" height=\"10\" style=\"fill:Red\" /><rect x=\"420\" y = \"340\", width=\"10\" height=\"10\" style=\"fill:Red\" /><rect x=\"410\" y = \"340\", width=\"10\" height=\"10\" style=\"fill:Red\" /><rect x=\"410\" y = \"350\", width=\"10\" height=\"10\" style=\"fill:Red\" /><rect x=\"410\" y = \"360\", width=\"10\" height=\"10\" style=\"fill:Red\" /><rect x=\"400\" y = \"360\", width=\"10\" height=\"10\" style=\"fill:Red\" /><rect x=\"390\" y = \"360\", width=\"10\" height=\"10\" style=\"fill:Red\" /><rect x=\"380\" y = \"360\", width=\"10\" height=\"10\" style=\"fill:Red\" /><rect x=\"380\" y = \"370\", width=\"10\" height=\"10\" style=\"fill:Red\" /><rect x=\"380\" y = \"380\", width=\"10\" height=\"10\" style=\"fill:Red\" /><rect x=\"370\" y = \"380\", width=\"10\" height=\"10\" style=\"fill:Red\" /><rect x=\"360\" y = \"380\", width=\"10\" height=\"10\" style=\"fill:Red\" /><rect x=\"360\" y = \"370\", width=\"10\" height=\"10\" style=\"fill:Red\" /><rect x=\"360\" y = \"360\", width=\"10\" height=\"10\" style=\"fill:Red\" /><rect x=\"360\" y = \"350\", width=\"10\" height=\"10\" style=\"fill:Red\" /><rect x=\"360\" y = \"340\", width=\"10\" height=\"10\" style=\"fill:Red\" /><rect x=\"350\" y = \"340\", width=\"10\" height=\"10\" style=\"fill:Red\" /><rect x=\"340\" y = \"340\", width=\"10\" height=\"10\" style=\"fill:Red\" /><rect x=\"330\" y = \"340\", width=\"10\" height=\"10\" style=\"fill:Red\" /><rect x=\"320\" y = \"340\", width=\"10\" height=\"10\" style=\"fill:Red\" /><rect x=\"310\" y = \"340\", width=\"10\" height=\"10\" style=\"fill:Red\" /><rect x=\"300\" y = \"340\", width=\"10\" height=\"10\" style=\"fill:Red\" /><rect x=\"290\" y = \"340\", width=\"10\" height=\"10\" style=\"fill:Red\" /><rect x=\"280\" y = \"340\", width=\"10\" height=\"10\" style=\"fill:Red\" /><rect x=\"280\" y = \"350\", width=\"10\" height=\"10\" style=\"fill:Red\" /><rect x=\"280\" y = \"360\", width=\"10\" height=\"10\" style=\"fill:Red\" /><rect x=\"270\" y = \"360\", width=\"10\" height=\"10\" style=\"fill:Red\" /><rect x=\"260\" y = \"360\", width=\"10\" height=\"10\" style=\"fill:Red\" /><rect x=\"250\" y = \"360\", width=\"10\" height=\"10\" style=\"fill:Red\" /><rect x=\"240\" y = \"360\", width=\"10\" height=\"10\" style=\"fill:Red\" /><rect x=\"230\" y = \"360\", width=\"10\" height=\"10\" style=\"fill:Red\" /><rect x=\"220\" y = \"360\", width=\"10\" height=\"10\" style=\"fill:Red\" /><rect x=\"210\" y = \"360\", width=\"10\" height=\"10\" style=\"fill:Red\" /><rect x=\"200\" y = \"360\", width=\"10\" height=\"10\" style=\"fill:Red\" /><rect x=\"200\" y = \"350\", width=\"10\" height=\"10\" style=\"fill:Red\" /><rect x=\"200\" y = \"340\", width=\"10\" height=\"10\" style=\"fill:Red\" /><rect x=\"200\" y = \"330\", width=\"10\" height=\"10\" style=\"fill:Red\" /><rect x=\"200\" y = \"320\", width=\"10\" height=\"10\" style=\"fill:Red\" /><rect x=\"190\" y = \"320\", width=\"10\" height=\"10\" style=\"fill:Red\" /><rect x=\"180\" y = \"320\", width=\"10\" height=\"10\" style=\"fill:Red\" /><rect x=\"180\" y = \"310\", width=\"10\" height=\"10\" style=\"fill:Red\" /><rect x=\"180\" y = \"300\", width=\"10\" height=\"10\" style=\"fill:Red\" /><rect x=\"170\" y = \"300\", width=\"10\" height=\"10\" style=\"fill:Red\" /><rect x=\"160\" y = \"300\", width=\"10\" height=\"10\" style=\"fill:Red\" /><rect x=\"160\" y = \"310\", width=\"10\" height=\"10\" style=\"fill:Red\" /><rect x=\"160\" y = \"320\", width=\"10\" height=\"10\" style=\"fill:Red\" /><rect x=\"150\" y = \"320\", width=\"10\" height=\"10\" style=\"fill:Red\" /><rect x=\"140\" y = \"320\", width=\"10\" height=\"10\" style=\"fill:Red\" /><rect x=\"130\" y = \"320\", width=\"10\" height=\"10\" style=\"fill:Red\" /><rect x=\"120\" y = \"320\", width=\"10\" height=\"10\" style=\"fill:Red\" /><rect x=\"110\" y = \"320\", width=\"10\" height=\"10\" style=\"fill:Red\" /><rect x=\"100\" y = \"320\", width=\"10\" height=\"10\" style=\"fill:Red\" /><rect x=\"90\" y = \"320\", width=\"10\" height=\"10\" style=\"fill:Red\" /><rect x=\"90\" y = \"330\", width=\"10\" height=\"10\" style=\"fill:Red\" /><rect x=\"90\" y = \"340\", width=\"10\" height=\"10\" style=\"fill:Red\" /><rect x=\"80\" y = \"340\", width=\"10\" height=\"10\" style=\"fill:Red\" /><rect x=\"70\" y = \"340\", width=\"10\" height=\"10\" style=\"fill:Red\" /><rect x=\"70\" y = \"330\", width=\"10\" height=\"10\" style=\"fill:Red\" /><rect x=\"70\" y = \"320\", width=\"10\" height=\"10\" style=\"fill:Red\" /><rect x=\"70\" y = \"310\", width=\"10\" height=\"10\" style=\"fill:Red\" /><rect x=\"70\" y = \"300\", width=\"10\" height=\"10\" style=\"fill:Red\" /><rect x=\"80\" y = \"300\", width=\"10\" height=\"10\" style=\"fill:Red\" /><rect x=\"90\" y = \"300\", width=\"10\" height=\"10\" style=\"fill:Red\" /><rect x=\"90\" y = \"290\", width=\"10\" height=\"10\" style=\"fill:Red\" /><rect x=\"90\" y = \"280\", width=\"10\" height=\"10\" style=\"fill:Red\" /><rect x=\"80\" y = \"280\", width=\"10\" height=\"10\" style=\"fill:Red\" /><rect x=\"70\" y = \"280\", width=\"10\" height=\"10\" style=\"fill:Red\" /><rect x=\"60\" y = \"280\", width=\"10\" height=\"10\" style=\"fill:Red\" /><rect x=\"50\" y = \"280\", width=\"10\" height=\"10\" style=\"fill:Red\" /><rect x=\"40\" y = \"280\", width=\"10\" height=\"10\" style=\"fill:Red\" /><rect x=\"30\" y = \"280\", width=\"10\" height=\"10\" style=\"fill:Red\" /><rect x=\"20\" y = \"280\", width=\"10\" height=\"10\" style=\"fill:Red\" /><rect x=\"10\" y = \"280\", width=\"10\" height=\"10\" style=\"fill:Red\" /><rect x=\"10\" y = \"290\", width=\"10\" height=\"10\" style=\"fill:Red\" /><rect x=\"10\" y = \"300\", width=\"10\" height=\"10\" style=\"fill:Red\" /><rect x=\"20\" y = \"300\", width=\"10\" height=\"10\" style=\"fill:Red\" /><rect x=\"30\" y = \"300\", width=\"10\" height=\"10\" style=\"fill:Red\" /><rect x=\"30\" y = \"310\", width=\"10\" height=\"10\" style=\"fill:Red\" /><rect x=\"30\" y = \"320\", width=\"10\" height=\"10\" style=\"fill:Red\" /><rect x=\"20\" y = \"320\", width=\"10\" height=\"10\" style=\"fill:Red\" /><rect x=\"10\" y = \"320\", width=\"10\" height=\"10\" style=\"fill:Red\" /><rect x=\"10\" y = \"330\", width=\"10\" height=\"10\" style=\"fill:Red\" /><rect x=\"10\" y = \"340\", width=\"10\" height=\"10\" style=\"fill:Red\" /><rect x=\"10\" y = \"350\", width=\"10\" height=\"10\" style=\"fill:Red\" /><rect x=\"10\" y = \"360\", width=\"10\" height=\"10\" style=\"fill:Red\" /><rect x=\"20\" y = \"360\", width=\"10\" height=\"10\" style=\"fill:Red\" /><rect x=\"30\" y = \"360\", width=\"10\" height=\"10\" style=\"fill:Red\" /><rect x=\"40\" y = \"360\", width=\"10\" height=\"10\" style=\"fill:Red\" /><rect x=\"50\" y = \"360\", width=\"10\" height=\"10\" style=\"fill:Red\" /><rect x=\"60\" y = \"360\", width=\"10\" height=\"10\" style=\"fill:Red\" /><rect x=\"70\" y = \"360\", width=\"10\" height=\"10\" style=\"fill:Red\" /><rect x=\"80\" y = \"360\", width=\"10\" height=\"10\" style=\"fill:Red\" /><rect x=\"90\" y = \"360\", width=\"10\" height=\"10\" style=\"fill:Red\" /><rect x=\"90\" y = \"370\", width=\"10\" height=\"10\" style=\"fill:Red\" /><rect x=\"90\" y = \"380\", width=\"10\" height=\"10\" style=\"fill:Red\" /><rect x=\"90\" y = \"390\", width=\"10\" height=\"10\" style=\"fill:Red\" /><rect x=\"90\" y = \"400\", width=\"10\" height=\"10\" style=\"fill:Red\" /><rect x=\"90\" y = \"410\", width=\"10\" height=\"10\" style=\"fill:Red\" /><rect x=\"80\" y = \"410\", width=\"10\" height=\"10\" style=\"fill:Red\" /><rect x=\"70\" y = \"410\", width=\"10\" height=\"10\" style=\"fill:Red\" /><rect x=\"70\" y = \"420\", width=\"10\" height=\"10\" style=\"fill:Red\" /><rect x=\"70\" y = \"430\", width=\"10\" height=\"10\" style=\"fill:Red\" /><rect x=\"70\" y = \"440\", width=\"10\" height=\"10\" style=\"fill:Red\" /><rect x=\"70\" y = \"450\", width=\"10\" height=\"10\" style=\"fill:Red\" /><rect x=\"80\" y = \"450\", width=\"10\" height=\"10\" style=\"fill:Red\" /><rect x=\"90\" y = \"450\", width=\"10\" height=\"10\" style=\"fill:Red\" /><rect x=\"100\" y = \"450\", width=\"10\" height=\"10\" style=\"fill:Red\" /><rect x=\"110\" y = \"450\", width=\"10\" height=\"10\" style=\"fill:Red\" /><rect x=\"110\" y = \"460\", width=\"10\" height=\"10\" style=\"fill:Red\" /><rect x=\"110\" y = \"470\", width=\"10\" height=\"10\" style=\"fill:Red\" /><rect x=\"120\" y = \"470\", width=\"10\" height=\"10\" style=\"fill:Red\" /><rect x=\"130\" y = \"470\", width=\"10\" height=\"10\" style=\"fill:Red\" /><rect x=\"140\" y = \"470\", width=\"10\" height=\"10\" style=\"fill:Red\" /><rect x=\"140\" y = \"460\", width=\"10\" height=\"10\" style=\"fill:Red\" /><rect x=\"140\" y = \"450\", width=\"10\" height=\"10\" style=\"fill:Red\" /><rect x=\"130\" y = \"450\", width=\"10\" height=\"10\" style=\"fill:Red\" /><rect x=\"130\" y = \"440\", width=\"10\" height=\"10\" style=\"fill:Red\" /><rect x=\"130\" y = \"430\", width=\"10\" height=\"10\" style=\"fill:Red\" /><rect x=\"140\" y = \"430\", width=\"10\" height=\"10\" style=\"fill:Red\" /><rect x=\"150\" y = \"430\", width=\"10\" height=\"10\" style=\"fill:Red\" /><rect x=\"160\" y = \"430\", width=\"10\" height=\"10\" style=\"fill:Red\" /><rect x=\"170\" y = \"430\", width=\"10\" height=\"10\" style=\"fill:Red\" /><rect x=\"180\" y = \"430\", width=\"10\" height=\"10\" style=\"fill:Red\" /><rect x=\"190\" y = \"430\", width=\"10\" height=\"10\" style=\"fill:Red\" /><rect x=\"200\" y = \"430\", width=\"10\" height=\"10\" style=\"fill:Red\" /><rect x=\"200\" y = \"440\", width=\"10\" height=\"10\" style=\"fill:Red\" /><rect x=\"200\" y = \"450\", width=\"10\" height=\"10\" style=\"fill:Red\" /><rect x=\"200\" y = \"460\", width=\"10\" height=\"10\" style=\"fill:Red\" /><rect x=\"200\" y = \"470\", width=\"10\" height=\"10\" style=\"fill:Red\" /><rect x=\"210\" y = \"470\", width=\"10\" height=\"10\" style=\"fill:Red\" /><rect x=\"220\" y = \"470\", width=\"10\" height=\"10\" style=\"fill:Red\" /><rect x=\"220\" y = \"460\", width=\"10\" height=\"10\" style=\"fill:Red\" /><rect x=\"220\" y = \"450\", width=\"10\" height=\"10\" style=\"fill:Red\" /><rect x=\"230\" y = \"450\", width=\"10\" height=\"10\" style=\"fill:Red\" /><rect x=\"240\" y = \"450\", width=\"10\" height=\"10\" style=\"fill:Red\" /><rect x=\"250\" y = \"450\", width=\"10\" height=\"10\" style=\"fill:Red\" /><rect x=\"260\" y = \"450\", width=\"10\" height=\"10\" style=\"fill:Red\" /><rect x=\"260\" y = \"440\", width=\"10\" height=\"10\" style=\"fill:Red\" /><rect x=\"260\" y = \"430\", width=\"10\" height=\"10\" style=\"fill:Red\" /><rect x=\"270\" y = \"430\", width=\"10\" height=\"10\" style=\"fill:Red\" /><rect x=\"280\" y = \"430\", width=\"10\" height=\"10\" style=\"fill:Red\" /><rect x=\"280\" y = \"420\", width=\"10\" height=\"10\" style=\"fill:Red\" /><rect x=\"280\" y = \"410\", width=\"10\" height=\"10\" style=\"fill:Red\" /><rect x=\"280\" y = \"400\", width=\"10\" height=\"10\" style=\"fill:Red\" /><rect x=\"280\" y = \"390\", width=\"10\" height=\"10\" style=\"fill:Red\" /><rect x=\"280\" y = \"380\", width=\"10\" height=\"10\" style=\"fill:Red\" /><rect x=\"290\" y = \"380\", width=\"10\" height=\"10\" style=\"fill:Red\" /><rect x=\"300\" y = \"380\", width=\"10\" height=\"10\" style=\"fill:Red\" /><rect x=\"310\" y = \"380\", width=\"10\" height=\"10\" style=\"fill:Red\" /><rect x=\"320\" y = \"380\", width=\"10\" height=\"10\" style=\"fill:Red\" /><rect x=\"320\" y = \"390\", width=\"10\" height=\"10\" style=\"fill:Red\" /><rect x=\"320\" y = \"400\", width=\"10\" height=\"10\" style=\"fill:Red\" /><rect x=\"320\" y = \"410\", width=\"10\" height=\"10\" style=\"fill:Red\" /><rect x=\"330\" y = \"410\", width=\"10\" height=\"10\" style=\"fill:Red\" /><rect x=\"340\" y = \"410\", width=\"10\" height=\"10\" style=\"fill:Red\" /><rect x=\"340\" y = \"400\", width=\"10\" height=\"10\" style=\"fill:Red\" /><rect x=\"350\" y = \"400\", width=\"10\" height=\"10\" style=\"fill:Red\" /><rect x=\"360\" y = \"400\", width=\"10\" height=\"10\" style=\"fill:Red\" /><rect x=\"360\" y = \"410\", width=\"10\" height=\"10\" style=\"fill:Red\" /><rect x=\"370\" y = \"410\", width=\"10\" height=\"10\" style=\"fill:Red\" /><rect x=\"380\" y = \"410\", width=\"10\" height=\"10\" style=\"fill:Red\" /><rect x=\"390\" y = \"410\", width=\"10\" height=\"10\" style=\"fill:Red\" /><rect x=\"400\" y = \"410\", width=\"10\" height=\"10\" style=\"fill:Red\" /><rect x=\"400\" y = \"420\", width=\"10\" height=\"10\" style=\"fill:Red\" /><rect x=\"400\" y = \"430\", width=\"10\" height=\"10\" style=\"fill:Red\" /><rect x=\"410\" y = \"430\", width=\"10\" height=\"10\" style=\"fill:Red\" /><rect x=\"420\" y = \"430\", width=\"10\" height=\"10\" style=\"fill:Red\" /><rect x=\"430\" y = \"430\", width=\"10\" height=\"10\" style=\"fill:Red\" /><rect x=\"440\" y = \"430\", width=\"10\" height=\"10\" style=\"fill:Red\" /><rect x=\"450\" y = \"430\", width=\"10\" height=\"10\" style=\"fill:Red\" /><rect x=\"450\" y = \"420\", width=\"10\" height=\"10\" style=\"fill:Red\" /><rect x=\"450\" y = \"410\", width=\"10\" height=\"10\" style=\"fill:Red\" /><rect x=\"450\" y = \"400\", width=\"10\" height=\"10\" style=\"fill:Red\" /><rect x=\"460\" y = \"400\", width=\"10\" height=\"10\" style=\"fill:Red\" /><rect x=\"470\" y = \"400\", width=\"10\" height=\"10\" style=\"fill:Red\" /><rect x=\"470\" y = \"410\", width=\"10\" height=\"10\" style=\"fill:Red\" /><rect x=\"470\" y = \"420\", width=\"10\" height=\"10\" style=\"fill:Red\" /><rect x=\"470\" y = \"430\", width=\"10\" height=\"10\" style=\"fill:Red\" /><rect x=\"470\" y = \"440\", width=\"10\" height=\"10\" style=\"fill:Red\" /><rect x=\"470\" y = \"450\", width=\"10\" height=\"10\" style=\"fill:Red\" /><rect x=\"460\" y = \"450\", width=\"10\" height=\"10\" style=\"fill:Red\" /><rect x=\"450\" y = \"450\", width=\"10\" height=\"10\" style=\"fill:Red\" /><rect x=\"450\" y = \"460\", width=\"10\" height=\"10\" style=\"fill:Red\" /><rect x=\"450\" y = \"470\", width=\"10\" height=\"10\" style=\"fill:Red\" /><rect x=\"460\" y = \"470\", width=\"10\" height=\"10\" style=\"fill:Red\" />\n",
              "      </svg>\n",
              "    "
            ]
          },
          "metadata": {}
        }
      ]
    },
    {
      "cell_type": "markdown",
      "source": [
        "# 🔎 **Search: BFS**\n",
        "Now we're going to switch to using BFS, or Breadth First Search. Fill in the function below to implement this algorithm.\n",
        "\n",
        "**NOTE:** your function does not have to find the *shortest* path, just any *valid* path from `start` to `goal` or from `goal` to `start` if that's easier.\n",
        "\n",
        "Remember that since you need to return a *path* you will need to use one of the methods we talked about in class - either a `came_from` dictionary or adding partial paths to your queue."
      ],
      "metadata": {
        "id": "QijPnAm7anBx"
      }
    },
    {
      "cell_type": "code",
      "source": [
        "def maze_BFS(maze, start, goal):\n",
        "  '''\n",
        "  Solve the given maze by using BFS. \n",
        "  Parameters:\n",
        "    maze: a maze as a 2D list as described above\n",
        "    start: the starting location for search, as a tuple in the form (row, col)\n",
        "    goal: the ending location for search, as a tuple in the form (row, col)\n",
        "  Returns:\n",
        "    list of tuples representing a valid path through the maze\n",
        "  '''\n",
        "  # initialize queue, seen set, current node/path and came_from if you're using it\n",
        "  queue = [start]\n",
        "  current = None\n",
        "  seen = []\n",
        "  came_from = {}\n",
        "  # create loop\n",
        "  while len(queue) != 0:\n",
        "    current = queue.pop(0)\n",
        "    seen.append(current)\n",
        "    # take item off queue\n",
        "    adjacent = neighbors(maze, current[0], current[1])\n",
        "    # look at neighbors of item\n",
        "    for neighbor in range(len(adjacent)):\n",
        "      if adjacent[neighbor] == goal:\n",
        "        came_from[adjacent[neighbor]] = current\n",
        "        path = []\n",
        "        track = 0\n",
        "        path.append(goal)\n",
        "        path.append(current)\n",
        "        while track != start:\n",
        "          track = came_from[current]\n",
        "          current = track\n",
        "          path.append(track)\n",
        "        return path\n",
        "      if adjacent[neighbor] not in seen:\n",
        "        queue.append(adjacent[neighbor])\n",
        "        came_from[adjacent[neighbor]] = current\n",
        "  # create loop\n",
        "\n",
        "    # take item off queue\n",
        "\n",
        "    # look at neighbors of item\n",
        "\n",
        "      # if neighbor is goal, return path or break\n",
        "\n",
        "      # if neighbor has already been seen, do nothing\n",
        "\n",
        "      # else, add neighbor/path onto queue\n",
        "\n",
        "  # if you're calculating the path using came_from, do it here\n",
        "\n",
        "  return None\n",
        "  "
      ],
      "metadata": {
        "id": "zydkVRVsanB9"
      },
      "execution_count": null,
      "outputs": []
    },
    {
      "cell_type": "markdown",
      "source": [
        "Once you've finished your BFS function, use the cell below to test it out. Make sure your function works on all mazes, not just the small one!"
      ],
      "metadata": {
        "id": "AkVF45HQ_MEz"
      }
    },
    {
      "cell_type": "code",
      "source": [
        "# RUN THIS to test out your function!\n",
        "maze, start, goal = make_maze(maze_size = \"large\") # change the map size to see different ones!\n",
        "path = maze_BFS(maze, start, goal)\n",
        "if path != None:\n",
        "  update_graphics(goal, path=path)\n",
        "else:\n",
        "  print(\"No path found!\")"
      ],
      "metadata": {
        "id": "iVqUjmmI5iLh",
        "colab": {
          "base_uri": "https://localhost:8080/",
          "height": 511
        },
        "outputId": "148c1267-8180-403b-d619-932fc917d235"
      },
      "execution_count": null,
      "outputs": [
        {
          "output_type": "display_data",
          "data": {
            "text/plain": [
              "<IPython.core.display.HTML object>"
            ],
            "text/html": [
              "\n",
              "      <svg width=490 height=490>\n",
              "        <defs>\n",
              "        <pattern id=\"image\" patternUnits=\"userSpaceOnUse\" width=490 height=490><image x=\"0\" y=\"0\" xlink:href=\"https://drive.google.com/uc?export=view&id=1bvu1JBovT8MYN8JccP2Wz61LQCKI6VoM\"></image></pattern>\n",
              "      </defs>\n",
              "      <rect id='top' x=\"0\" y=\"0\" width=490 height=490 fill=\"url(#image)\"/>\n",
              "        <rect x=\"10\" y=\"10\", width=\"10\" height=\"10\" style=\"fill:Aqua\" /><rect x=\"20\" y = \"10\", width=\"10\" height=\"10\" style=\"fill:Red\" /><rect x=\"30\" y = \"10\", width=\"10\" height=\"10\" style=\"fill:Red\" /><rect x=\"40\" y = \"10\", width=\"10\" height=\"10\" style=\"fill:Red\" /><rect x=\"50\" y = \"10\", width=\"10\" height=\"10\" style=\"fill:Red\" /><rect x=\"60\" y = \"10\", width=\"10\" height=\"10\" style=\"fill:Red\" /><rect x=\"70\" y = \"10\", width=\"10\" height=\"10\" style=\"fill:Red\" /><rect x=\"80\" y = \"10\", width=\"10\" height=\"10\" style=\"fill:Red\" /><rect x=\"90\" y = \"10\", width=\"10\" height=\"10\" style=\"fill:Red\" /><rect x=\"100\" y = \"10\", width=\"10\" height=\"10\" style=\"fill:Red\" /><rect x=\"110\" y = \"10\", width=\"10\" height=\"10\" style=\"fill:Red\" /><rect x=\"120\" y = \"10\", width=\"10\" height=\"10\" style=\"fill:Red\" /><rect x=\"130\" y = \"10\", width=\"10\" height=\"10\" style=\"fill:Red\" /><rect x=\"140\" y = \"10\", width=\"10\" height=\"10\" style=\"fill:Red\" /><rect x=\"150\" y = \"10\", width=\"10\" height=\"10\" style=\"fill:Red\" /><rect x=\"160\" y = \"10\", width=\"10\" height=\"10\" style=\"fill:Red\" /><rect x=\"170\" y = \"10\", width=\"10\" height=\"10\" style=\"fill:Red\" /><rect x=\"180\" y = \"10\", width=\"10\" height=\"10\" style=\"fill:Red\" /><rect x=\"190\" y = \"10\", width=\"10\" height=\"10\" style=\"fill:Red\" /><rect x=\"200\" y = \"10\", width=\"10\" height=\"10\" style=\"fill:Red\" /><rect x=\"210\" y = \"10\", width=\"10\" height=\"10\" style=\"fill:Red\" /><rect x=\"220\" y = \"10\", width=\"10\" height=\"10\" style=\"fill:Red\" /><rect x=\"230\" y = \"10\", width=\"10\" height=\"10\" style=\"fill:Red\" /><rect x=\"240\" y = \"10\", width=\"10\" height=\"10\" style=\"fill:Red\" /><rect x=\"250\" y = \"10\", width=\"10\" height=\"10\" style=\"fill:Red\" /><rect x=\"260\" y = \"10\", width=\"10\" height=\"10\" style=\"fill:Red\" /><rect x=\"270\" y = \"10\", width=\"10\" height=\"10\" style=\"fill:Red\" /><rect x=\"280\" y = \"10\", width=\"10\" height=\"10\" style=\"fill:Red\" /><rect x=\"290\" y = \"10\", width=\"10\" height=\"10\" style=\"fill:Red\" /><rect x=\"300\" y = \"10\", width=\"10\" height=\"10\" style=\"fill:Red\" /><rect x=\"310\" y = \"10\", width=\"10\" height=\"10\" style=\"fill:Red\" /><rect x=\"320\" y = \"10\", width=\"10\" height=\"10\" style=\"fill:Red\" /><rect x=\"320\" y = \"20\", width=\"10\" height=\"10\" style=\"fill:Red\" /><rect x=\"320\" y = \"30\", width=\"10\" height=\"10\" style=\"fill:Red\" /><rect x=\"320\" y = \"40\", width=\"10\" height=\"10\" style=\"fill:Red\" /><rect x=\"320\" y = \"50\", width=\"10\" height=\"10\" style=\"fill:Red\" /><rect x=\"320\" y = \"60\", width=\"10\" height=\"10\" style=\"fill:Red\" /><rect x=\"320\" y = \"70\", width=\"10\" height=\"10\" style=\"fill:Red\" /><rect x=\"330\" y = \"70\", width=\"10\" height=\"10\" style=\"fill:Red\" /><rect x=\"340\" y = \"70\", width=\"10\" height=\"10\" style=\"fill:Red\" /><rect x=\"350\" y = \"70\", width=\"10\" height=\"10\" style=\"fill:Red\" /><rect x=\"360\" y = \"70\", width=\"10\" height=\"10\" style=\"fill:Red\" /><rect x=\"370\" y = \"70\", width=\"10\" height=\"10\" style=\"fill:Red\" /><rect x=\"380\" y = \"70\", width=\"10\" height=\"10\" style=\"fill:Red\" /><rect x=\"390\" y = \"70\", width=\"10\" height=\"10\" style=\"fill:Red\" /><rect x=\"400\" y = \"70\", width=\"10\" height=\"10\" style=\"fill:Red\" /><rect x=\"410\" y = \"70\", width=\"10\" height=\"10\" style=\"fill:Red\" /><rect x=\"420\" y = \"70\", width=\"10\" height=\"10\" style=\"fill:Red\" /><rect x=\"430\" y = \"70\", width=\"10\" height=\"10\" style=\"fill:Red\" /><rect x=\"430\" y = \"80\", width=\"10\" height=\"10\" style=\"fill:Red\" /><rect x=\"430\" y = \"90\", width=\"10\" height=\"10\" style=\"fill:Red\" /><rect x=\"430\" y = \"100\", width=\"10\" height=\"10\" style=\"fill:Red\" /><rect x=\"430\" y = \"110\", width=\"10\" height=\"10\" style=\"fill:Red\" /><rect x=\"430\" y = \"120\", width=\"10\" height=\"10\" style=\"fill:Red\" /><rect x=\"430\" y = \"130\", width=\"10\" height=\"10\" style=\"fill:Red\" /><rect x=\"430\" y = \"140\", width=\"10\" height=\"10\" style=\"fill:Red\" /><rect x=\"430\" y = \"150\", width=\"10\" height=\"10\" style=\"fill:Red\" /><rect x=\"430\" y = \"160\", width=\"10\" height=\"10\" style=\"fill:Red\" /><rect x=\"420\" y = \"160\", width=\"10\" height=\"10\" style=\"fill:Red\" /><rect x=\"410\" y = \"160\", width=\"10\" height=\"10\" style=\"fill:Red\" /><rect x=\"400\" y = \"160\", width=\"10\" height=\"10\" style=\"fill:Red\" /><rect x=\"390\" y = \"160\", width=\"10\" height=\"10\" style=\"fill:Red\" /><rect x=\"380\" y = \"160\", width=\"10\" height=\"10\" style=\"fill:Red\" /><rect x=\"380\" y = \"170\", width=\"10\" height=\"10\" style=\"fill:Red\" /><rect x=\"380\" y = \"180\", width=\"10\" height=\"10\" style=\"fill:Red\" /><rect x=\"380\" y = \"190\", width=\"10\" height=\"10\" style=\"fill:Red\" /><rect x=\"380\" y = \"200\", width=\"10\" height=\"10\" style=\"fill:Red\" /><rect x=\"390\" y = \"200\", width=\"10\" height=\"10\" style=\"fill:Red\" /><rect x=\"400\" y = \"200\", width=\"10\" height=\"10\" style=\"fill:Red\" /><rect x=\"410\" y = \"200\", width=\"10\" height=\"10\" style=\"fill:Red\" /><rect x=\"410\" y = \"210\", width=\"10\" height=\"10\" style=\"fill:Red\" /><rect x=\"410\" y = \"220\", width=\"10\" height=\"10\" style=\"fill:Red\" /><rect x=\"400\" y = \"220\", width=\"10\" height=\"10\" style=\"fill:Red\" /><rect x=\"390\" y = \"220\", width=\"10\" height=\"10\" style=\"fill:Red\" /><rect x=\"380\" y = \"220\", width=\"10\" height=\"10\" style=\"fill:Red\" /><rect x=\"370\" y = \"220\", width=\"10\" height=\"10\" style=\"fill:Red\" /><rect x=\"360\" y = \"220\", width=\"10\" height=\"10\" style=\"fill:Red\" /><rect x=\"350\" y = \"220\", width=\"10\" height=\"10\" style=\"fill:Red\" /><rect x=\"340\" y = \"220\", width=\"10\" height=\"10\" style=\"fill:Red\" /><rect x=\"330\" y = \"220\", width=\"10\" height=\"10\" style=\"fill:Red\" /><rect x=\"320\" y = \"220\", width=\"10\" height=\"10\" style=\"fill:Red\" /><rect x=\"320\" y = \"210\", width=\"10\" height=\"10\" style=\"fill:Red\" /><rect x=\"320\" y = \"200\", width=\"10\" height=\"10\" style=\"fill:Red\" /><rect x=\"310\" y = \"200\", width=\"10\" height=\"10\" style=\"fill:Red\" /><rect x=\"300\" y = \"200\", width=\"10\" height=\"10\" style=\"fill:Red\" /><rect x=\"290\" y = \"200\", width=\"10\" height=\"10\" style=\"fill:Red\" /><rect x=\"280\" y = \"200\", width=\"10\" height=\"10\" style=\"fill:Red\" /><rect x=\"280\" y = \"210\", width=\"10\" height=\"10\" style=\"fill:Red\" /><rect x=\"280\" y = \"220\", width=\"10\" height=\"10\" style=\"fill:Red\" /><rect x=\"290\" y = \"220\", width=\"10\" height=\"10\" style=\"fill:Red\" /><rect x=\"300\" y = \"220\", width=\"10\" height=\"10\" style=\"fill:Red\" /><rect x=\"300\" y = \"230\", width=\"10\" height=\"10\" style=\"fill:Red\" /><rect x=\"300\" y = \"240\", width=\"10\" height=\"10\" style=\"fill:Red\" /><rect x=\"300\" y = \"250\", width=\"10\" height=\"10\" style=\"fill:Red\" /><rect x=\"300\" y = \"260\", width=\"10\" height=\"10\" style=\"fill:Red\" /><rect x=\"310\" y = \"260\", width=\"10\" height=\"10\" style=\"fill:Red\" /><rect x=\"320\" y = \"260\", width=\"10\" height=\"10\" style=\"fill:Red\" /><rect x=\"320\" y = \"270\", width=\"10\" height=\"10\" style=\"fill:Red\" /><rect x=\"320\" y = \"280\", width=\"10\" height=\"10\" style=\"fill:Red\" /><rect x=\"330\" y = \"280\", width=\"10\" height=\"10\" style=\"fill:Red\" /><rect x=\"340\" y = \"280\", width=\"10\" height=\"10\" style=\"fill:Red\" /><rect x=\"350\" y = \"280\", width=\"10\" height=\"10\" style=\"fill:Red\" /><rect x=\"360\" y = \"280\", width=\"10\" height=\"10\" style=\"fill:Red\" /><rect x=\"360\" y = \"290\", width=\"10\" height=\"10\" style=\"fill:Red\" /><rect x=\"360\" y = \"300\", width=\"10\" height=\"10\" style=\"fill:Red\" /><rect x=\"350\" y = \"300\", width=\"10\" height=\"10\" style=\"fill:Red\" /><rect x=\"340\" y = \"300\", width=\"10\" height=\"10\" style=\"fill:Red\" /><rect x=\"340\" y = \"310\", width=\"10\" height=\"10\" style=\"fill:Red\" /><rect x=\"340\" y = \"320\", width=\"10\" height=\"10\" style=\"fill:Red\" /><rect x=\"350\" y = \"320\", width=\"10\" height=\"10\" style=\"fill:Red\" /><rect x=\"360\" y = \"320\", width=\"10\" height=\"10\" style=\"fill:Red\" /><rect x=\"370\" y = \"320\", width=\"10\" height=\"10\" style=\"fill:Red\" /><rect x=\"380\" y = \"320\", width=\"10\" height=\"10\" style=\"fill:Red\" /><rect x=\"380\" y = \"330\", width=\"10\" height=\"10\" style=\"fill:Red\" /><rect x=\"380\" y = \"340\", width=\"10\" height=\"10\" style=\"fill:Red\" /><rect x=\"390\" y = \"340\", width=\"10\" height=\"10\" style=\"fill:Red\" /><rect x=\"400\" y = \"340\", width=\"10\" height=\"10\" style=\"fill:Red\" /><rect x=\"410\" y = \"340\", width=\"10\" height=\"10\" style=\"fill:Red\" /><rect x=\"410\" y = \"350\", width=\"10\" height=\"10\" style=\"fill:Red\" /><rect x=\"410\" y = \"360\", width=\"10\" height=\"10\" style=\"fill:Red\" /><rect x=\"400\" y = \"360\", width=\"10\" height=\"10\" style=\"fill:Red\" /><rect x=\"390\" y = \"360\", width=\"10\" height=\"10\" style=\"fill:Red\" /><rect x=\"380\" y = \"360\", width=\"10\" height=\"10\" style=\"fill:Red\" /><rect x=\"380\" y = \"370\", width=\"10\" height=\"10\" style=\"fill:Red\" /><rect x=\"380\" y = \"380\", width=\"10\" height=\"10\" style=\"fill:Red\" /><rect x=\"370\" y = \"380\", width=\"10\" height=\"10\" style=\"fill:Red\" /><rect x=\"360\" y = \"380\", width=\"10\" height=\"10\" style=\"fill:Red\" /><rect x=\"360\" y = \"370\", width=\"10\" height=\"10\" style=\"fill:Red\" /><rect x=\"360\" y = \"360\", width=\"10\" height=\"10\" style=\"fill:Red\" /><rect x=\"360\" y = \"350\", width=\"10\" height=\"10\" style=\"fill:Red\" /><rect x=\"360\" y = \"340\", width=\"10\" height=\"10\" style=\"fill:Red\" /><rect x=\"350\" y = \"340\", width=\"10\" height=\"10\" style=\"fill:Red\" /><rect x=\"340\" y = \"340\", width=\"10\" height=\"10\" style=\"fill:Red\" /><rect x=\"330\" y = \"340\", width=\"10\" height=\"10\" style=\"fill:Red\" /><rect x=\"320\" y = \"340\", width=\"10\" height=\"10\" style=\"fill:Red\" /><rect x=\"310\" y = \"340\", width=\"10\" height=\"10\" style=\"fill:Red\" /><rect x=\"300\" y = \"340\", width=\"10\" height=\"10\" style=\"fill:Red\" /><rect x=\"290\" y = \"340\", width=\"10\" height=\"10\" style=\"fill:Red\" /><rect x=\"280\" y = \"340\", width=\"10\" height=\"10\" style=\"fill:Red\" /><rect x=\"280\" y = \"350\", width=\"10\" height=\"10\" style=\"fill:Red\" /><rect x=\"280\" y = \"360\", width=\"10\" height=\"10\" style=\"fill:Red\" /><rect x=\"270\" y = \"360\", width=\"10\" height=\"10\" style=\"fill:Red\" /><rect x=\"260\" y = \"360\", width=\"10\" height=\"10\" style=\"fill:Red\" /><rect x=\"250\" y = \"360\", width=\"10\" height=\"10\" style=\"fill:Red\" /><rect x=\"240\" y = \"360\", width=\"10\" height=\"10\" style=\"fill:Red\" /><rect x=\"230\" y = \"360\", width=\"10\" height=\"10\" style=\"fill:Red\" /><rect x=\"220\" y = \"360\", width=\"10\" height=\"10\" style=\"fill:Red\" /><rect x=\"210\" y = \"360\", width=\"10\" height=\"10\" style=\"fill:Red\" /><rect x=\"200\" y = \"360\", width=\"10\" height=\"10\" style=\"fill:Red\" /><rect x=\"200\" y = \"350\", width=\"10\" height=\"10\" style=\"fill:Red\" /><rect x=\"200\" y = \"340\", width=\"10\" height=\"10\" style=\"fill:Red\" /><rect x=\"200\" y = \"330\", width=\"10\" height=\"10\" style=\"fill:Red\" /><rect x=\"200\" y = \"320\", width=\"10\" height=\"10\" style=\"fill:Red\" /><rect x=\"190\" y = \"320\", width=\"10\" height=\"10\" style=\"fill:Red\" /><rect x=\"180\" y = \"320\", width=\"10\" height=\"10\" style=\"fill:Red\" /><rect x=\"180\" y = \"310\", width=\"10\" height=\"10\" style=\"fill:Red\" /><rect x=\"180\" y = \"300\", width=\"10\" height=\"10\" style=\"fill:Red\" /><rect x=\"170\" y = \"300\", width=\"10\" height=\"10\" style=\"fill:Red\" /><rect x=\"160\" y = \"300\", width=\"10\" height=\"10\" style=\"fill:Red\" /><rect x=\"160\" y = \"310\", width=\"10\" height=\"10\" style=\"fill:Red\" /><rect x=\"160\" y = \"320\", width=\"10\" height=\"10\" style=\"fill:Red\" /><rect x=\"150\" y = \"320\", width=\"10\" height=\"10\" style=\"fill:Red\" /><rect x=\"140\" y = \"320\", width=\"10\" height=\"10\" style=\"fill:Red\" /><rect x=\"130\" y = \"320\", width=\"10\" height=\"10\" style=\"fill:Red\" /><rect x=\"120\" y = \"320\", width=\"10\" height=\"10\" style=\"fill:Red\" /><rect x=\"110\" y = \"320\", width=\"10\" height=\"10\" style=\"fill:Red\" /><rect x=\"100\" y = \"320\", width=\"10\" height=\"10\" style=\"fill:Red\" /><rect x=\"90\" y = \"320\", width=\"10\" height=\"10\" style=\"fill:Red\" /><rect x=\"90\" y = \"330\", width=\"10\" height=\"10\" style=\"fill:Red\" /><rect x=\"90\" y = \"340\", width=\"10\" height=\"10\" style=\"fill:Red\" /><rect x=\"80\" y = \"340\", width=\"10\" height=\"10\" style=\"fill:Red\" /><rect x=\"70\" y = \"340\", width=\"10\" height=\"10\" style=\"fill:Red\" /><rect x=\"70\" y = \"330\", width=\"10\" height=\"10\" style=\"fill:Red\" /><rect x=\"70\" y = \"320\", width=\"10\" height=\"10\" style=\"fill:Red\" /><rect x=\"70\" y = \"310\", width=\"10\" height=\"10\" style=\"fill:Red\" /><rect x=\"70\" y = \"300\", width=\"10\" height=\"10\" style=\"fill:Red\" /><rect x=\"80\" y = \"300\", width=\"10\" height=\"10\" style=\"fill:Red\" /><rect x=\"90\" y = \"300\", width=\"10\" height=\"10\" style=\"fill:Red\" /><rect x=\"90\" y = \"290\", width=\"10\" height=\"10\" style=\"fill:Red\" /><rect x=\"90\" y = \"280\", width=\"10\" height=\"10\" style=\"fill:Red\" /><rect x=\"80\" y = \"280\", width=\"10\" height=\"10\" style=\"fill:Red\" /><rect x=\"70\" y = \"280\", width=\"10\" height=\"10\" style=\"fill:Red\" /><rect x=\"60\" y = \"280\", width=\"10\" height=\"10\" style=\"fill:Red\" /><rect x=\"50\" y = \"280\", width=\"10\" height=\"10\" style=\"fill:Red\" /><rect x=\"40\" y = \"280\", width=\"10\" height=\"10\" style=\"fill:Red\" /><rect x=\"30\" y = \"280\", width=\"10\" height=\"10\" style=\"fill:Red\" /><rect x=\"20\" y = \"280\", width=\"10\" height=\"10\" style=\"fill:Red\" /><rect x=\"10\" y = \"280\", width=\"10\" height=\"10\" style=\"fill:Red\" /><rect x=\"10\" y = \"290\", width=\"10\" height=\"10\" style=\"fill:Red\" /><rect x=\"10\" y = \"300\", width=\"10\" height=\"10\" style=\"fill:Red\" /><rect x=\"20\" y = \"300\", width=\"10\" height=\"10\" style=\"fill:Red\" /><rect x=\"30\" y = \"300\", width=\"10\" height=\"10\" style=\"fill:Red\" /><rect x=\"30\" y = \"310\", width=\"10\" height=\"10\" style=\"fill:Red\" /><rect x=\"30\" y = \"320\", width=\"10\" height=\"10\" style=\"fill:Red\" /><rect x=\"20\" y = \"320\", width=\"10\" height=\"10\" style=\"fill:Red\" /><rect x=\"10\" y = \"320\", width=\"10\" height=\"10\" style=\"fill:Red\" /><rect x=\"10\" y = \"330\", width=\"10\" height=\"10\" style=\"fill:Red\" /><rect x=\"10\" y = \"340\", width=\"10\" height=\"10\" style=\"fill:Red\" /><rect x=\"10\" y = \"350\", width=\"10\" height=\"10\" style=\"fill:Red\" /><rect x=\"10\" y = \"360\", width=\"10\" height=\"10\" style=\"fill:Red\" /><rect x=\"10\" y = \"370\", width=\"10\" height=\"10\" style=\"fill:Red\" /><rect x=\"10\" y = \"380\", width=\"10\" height=\"10\" style=\"fill:Red\" /><rect x=\"10\" y = \"390\", width=\"10\" height=\"10\" style=\"fill:Red\" /><rect x=\"10\" y = \"400\", width=\"10\" height=\"10\" style=\"fill:Red\" /><rect x=\"10\" y = \"410\", width=\"10\" height=\"10\" style=\"fill:Red\" /><rect x=\"20\" y = \"410\", width=\"10\" height=\"10\" style=\"fill:Red\" /><rect x=\"30\" y = \"410\", width=\"10\" height=\"10\" style=\"fill:Red\" /><rect x=\"40\" y = \"410\", width=\"10\" height=\"10\" style=\"fill:Red\" /><rect x=\"50\" y = \"410\", width=\"10\" height=\"10\" style=\"fill:Red\" /><rect x=\"50\" y = \"400\", width=\"10\" height=\"10\" style=\"fill:Red\" /><rect x=\"60\" y = \"400\", width=\"10\" height=\"10\" style=\"fill:Red\" /><rect x=\"70\" y = \"400\", width=\"10\" height=\"10\" style=\"fill:Red\" /><rect x=\"70\" y = \"410\", width=\"10\" height=\"10\" style=\"fill:Red\" /><rect x=\"70\" y = \"420\", width=\"10\" height=\"10\" style=\"fill:Red\" /><rect x=\"70\" y = \"430\", width=\"10\" height=\"10\" style=\"fill:Red\" /><rect x=\"70\" y = \"440\", width=\"10\" height=\"10\" style=\"fill:Red\" /><rect x=\"70\" y = \"450\", width=\"10\" height=\"10\" style=\"fill:Red\" /><rect x=\"80\" y = \"450\", width=\"10\" height=\"10\" style=\"fill:Red\" /><rect x=\"90\" y = \"450\", width=\"10\" height=\"10\" style=\"fill:Red\" /><rect x=\"100\" y = \"450\", width=\"10\" height=\"10\" style=\"fill:Red\" /><rect x=\"110\" y = \"450\", width=\"10\" height=\"10\" style=\"fill:Red\" /><rect x=\"120\" y = \"450\", width=\"10\" height=\"10\" style=\"fill:Red\" /><rect x=\"130\" y = \"450\", width=\"10\" height=\"10\" style=\"fill:Red\" /><rect x=\"130\" y = \"440\", width=\"10\" height=\"10\" style=\"fill:Red\" /><rect x=\"130\" y = \"430\", width=\"10\" height=\"10\" style=\"fill:Red\" /><rect x=\"140\" y = \"430\", width=\"10\" height=\"10\" style=\"fill:Red\" /><rect x=\"150\" y = \"430\", width=\"10\" height=\"10\" style=\"fill:Red\" /><rect x=\"160\" y = \"430\", width=\"10\" height=\"10\" style=\"fill:Red\" /><rect x=\"170\" y = \"430\", width=\"10\" height=\"10\" style=\"fill:Red\" /><rect x=\"180\" y = \"430\", width=\"10\" height=\"10\" style=\"fill:Red\" /><rect x=\"190\" y = \"430\", width=\"10\" height=\"10\" style=\"fill:Red\" /><rect x=\"200\" y = \"430\", width=\"10\" height=\"10\" style=\"fill:Red\" /><rect x=\"200\" y = \"440\", width=\"10\" height=\"10\" style=\"fill:Red\" /><rect x=\"200\" y = \"450\", width=\"10\" height=\"10\" style=\"fill:Red\" /><rect x=\"200\" y = \"460\", width=\"10\" height=\"10\" style=\"fill:Red\" /><rect x=\"200\" y = \"470\", width=\"10\" height=\"10\" style=\"fill:Red\" /><rect x=\"210\" y = \"470\", width=\"10\" height=\"10\" style=\"fill:Red\" /><rect x=\"220\" y = \"470\", width=\"10\" height=\"10\" style=\"fill:Red\" /><rect x=\"220\" y = \"460\", width=\"10\" height=\"10\" style=\"fill:Red\" /><rect x=\"220\" y = \"450\", width=\"10\" height=\"10\" style=\"fill:Red\" /><rect x=\"230\" y = \"450\", width=\"10\" height=\"10\" style=\"fill:Red\" /><rect x=\"240\" y = \"450\", width=\"10\" height=\"10\" style=\"fill:Red\" /><rect x=\"250\" y = \"450\", width=\"10\" height=\"10\" style=\"fill:Red\" /><rect x=\"260\" y = \"450\", width=\"10\" height=\"10\" style=\"fill:Red\" /><rect x=\"260\" y = \"440\", width=\"10\" height=\"10\" style=\"fill:Red\" /><rect x=\"260\" y = \"430\", width=\"10\" height=\"10\" style=\"fill:Red\" /><rect x=\"270\" y = \"430\", width=\"10\" height=\"10\" style=\"fill:Red\" /><rect x=\"280\" y = \"430\", width=\"10\" height=\"10\" style=\"fill:Red\" /><rect x=\"280\" y = \"420\", width=\"10\" height=\"10\" style=\"fill:Red\" /><rect x=\"280\" y = \"410\", width=\"10\" height=\"10\" style=\"fill:Red\" /><rect x=\"280\" y = \"400\", width=\"10\" height=\"10\" style=\"fill:Red\" /><rect x=\"280\" y = \"390\", width=\"10\" height=\"10\" style=\"fill:Red\" /><rect x=\"280\" y = \"380\", width=\"10\" height=\"10\" style=\"fill:Red\" /><rect x=\"290\" y = \"380\", width=\"10\" height=\"10\" style=\"fill:Red\" /><rect x=\"300\" y = \"380\", width=\"10\" height=\"10\" style=\"fill:Red\" /><rect x=\"310\" y = \"380\", width=\"10\" height=\"10\" style=\"fill:Red\" /><rect x=\"320\" y = \"380\", width=\"10\" height=\"10\" style=\"fill:Red\" /><rect x=\"320\" y = \"390\", width=\"10\" height=\"10\" style=\"fill:Red\" /><rect x=\"320\" y = \"400\", width=\"10\" height=\"10\" style=\"fill:Red\" /><rect x=\"320\" y = \"410\", width=\"10\" height=\"10\" style=\"fill:Red\" /><rect x=\"330\" y = \"410\", width=\"10\" height=\"10\" style=\"fill:Red\" /><rect x=\"340\" y = \"410\", width=\"10\" height=\"10\" style=\"fill:Red\" /><rect x=\"340\" y = \"400\", width=\"10\" height=\"10\" style=\"fill:Red\" /><rect x=\"350\" y = \"400\", width=\"10\" height=\"10\" style=\"fill:Red\" /><rect x=\"360\" y = \"400\", width=\"10\" height=\"10\" style=\"fill:Red\" /><rect x=\"360\" y = \"410\", width=\"10\" height=\"10\" style=\"fill:Red\" /><rect x=\"370\" y = \"410\", width=\"10\" height=\"10\" style=\"fill:Red\" /><rect x=\"380\" y = \"410\", width=\"10\" height=\"10\" style=\"fill:Red\" /><rect x=\"390\" y = \"410\", width=\"10\" height=\"10\" style=\"fill:Red\" /><rect x=\"400\" y = \"410\", width=\"10\" height=\"10\" style=\"fill:Red\" /><rect x=\"400\" y = \"420\", width=\"10\" height=\"10\" style=\"fill:Red\" /><rect x=\"400\" y = \"430\", width=\"10\" height=\"10\" style=\"fill:Red\" /><rect x=\"410\" y = \"430\", width=\"10\" height=\"10\" style=\"fill:Red\" /><rect x=\"420\" y = \"430\", width=\"10\" height=\"10\" style=\"fill:Red\" /><rect x=\"430\" y = \"430\", width=\"10\" height=\"10\" style=\"fill:Red\" /><rect x=\"440\" y = \"430\", width=\"10\" height=\"10\" style=\"fill:Red\" /><rect x=\"450\" y = \"430\", width=\"10\" height=\"10\" style=\"fill:Red\" /><rect x=\"450\" y = \"420\", width=\"10\" height=\"10\" style=\"fill:Red\" /><rect x=\"450\" y = \"410\", width=\"10\" height=\"10\" style=\"fill:Red\" /><rect x=\"450\" y = \"400\", width=\"10\" height=\"10\" style=\"fill:Red\" /><rect x=\"460\" y = \"400\", width=\"10\" height=\"10\" style=\"fill:Red\" /><rect x=\"470\" y = \"400\", width=\"10\" height=\"10\" style=\"fill:Red\" /><rect x=\"470\" y = \"410\", width=\"10\" height=\"10\" style=\"fill:Red\" /><rect x=\"470\" y = \"420\", width=\"10\" height=\"10\" style=\"fill:Red\" /><rect x=\"470\" y = \"430\", width=\"10\" height=\"10\" style=\"fill:Red\" /><rect x=\"470\" y = \"440\", width=\"10\" height=\"10\" style=\"fill:Red\" /><rect x=\"470\" y = \"450\", width=\"10\" height=\"10\" style=\"fill:Red\" /><rect x=\"460\" y = \"450\", width=\"10\" height=\"10\" style=\"fill:Red\" /><rect x=\"450\" y = \"450\", width=\"10\" height=\"10\" style=\"fill:Red\" /><rect x=\"450\" y = \"460\", width=\"10\" height=\"10\" style=\"fill:Red\" /><rect x=\"450\" y = \"470\", width=\"10\" height=\"10\" style=\"fill:Red\" /><rect x=\"460\" y = \"470\", width=\"10\" height=\"10\" style=\"fill:Red\" />\n",
              "      </svg>\n",
              "    "
            ]
          },
          "metadata": {}
        }
      ]
    },
    {
      "cell_type": "markdown",
      "source": [
        "# 🧰 **Extension: Maze Generation**\n",
        "\n",
        "It's great to be able to solve mazes, but we only have a few mazes to work with! What if we want to test our search algorithm on more?\n",
        "\n",
        "We currently have two options:\n",
        "1. Make new mazes by hand\n",
        "2. Use the `'rand'` `maze_size`, which randomly decides if cells in the maze should be a wall or open\n",
        "\n",
        "Making new mazes by hand guarantees that you are creating mazes that work, but it is a long and tedious process.\n",
        "\n",
        "Using `'rand'` doesn't always guarantee that you have a solvable maze!\n",
        "\n",
        "Instead of using one of these methods, we can actually use **DFS** to generate new, unique, maze-like structures!"
      ],
      "metadata": {
        "id": "3bqnlUQzuvf3"
      }
    },
    {
      "cell_type": "markdown",
      "source": [
        "## 🚁 **Helper Functions**\n",
        "There will be three helper functions you'll use as you're implementing this function (they'll be referenced in the pseudocode below). These functions are:\n",
        "\n",
        "* `make_maze`: we've used this function before, but there's one optional parameter we haven't used: `maze_dims`. You can pass in the number of rows and cols you want the maze to be as a tuple for that parameter. It creates a maze with only walls in it, where the size is `(num_rows*2, num_cols*2)`. When we use `make_maze` to make a blank maze, it only returns a maze, not a start and goal location. **Use:**\n",
        "```python\n",
        "maze = make_maze(maze_dims = (num_rows, num_cols), maze_size = \"blank\")\n",
        "```\n",
        "* `remove_wall`: this function takes in the python representation of the maze and the two neighboring locations (as tuples of `(row, col)`) on the board and removes the wall between them. **Use:**\n",
        "```python\n",
        "updated_maze = remove_wall(maze, loc, neighbor)\n",
        "```\n",
        "* `maze_gen_neighbors`: this function takes five parameters: `row`, `col` (representing the location you want the neighbors of), `num_rows`, `num_cols` (the dimensions of the board), and the seen set. **Use:**\n",
        "```python\n",
        "neighbors = maze_gen_neighbors(row, col, num_rows, num_cols, seen)\n",
        "```"
      ],
      "metadata": {
        "id": "_EbcOsuy119m"
      }
    },
    {
      "cell_type": "markdown",
      "source": [
        "## 🔤 **Maze Extension Pseudocode**\n",
        "Our code will look pretty similar to DFS as we've seen and used it before, but there will be a few key differences. Check out the pseudocode below to help you understand what's going on in this function.\n",
        "\n",
        "```python\n",
        "def generate_maze(num_rows, num_cols, start = None):\n",
        "  create blank maze using init_maze\n",
        "  make queue, seen set, current\n",
        "  choose an initial cell, put in seen, add to queue\n",
        "  while the queue is not empty:\n",
        "    take the first location off the queue\n",
        "    if current loc has any neighbours not in seen:\n",
        "      put the current loc back on the queue\n",
        "      randomly choose one of those neighbors \n",
        "      remove the wall between the current and neighbor\n",
        "      put that neighbor in seen, add it to the queue\n",
        "```\n",
        "\n",
        "Time to implement! Fill in the function definition below.\n",
        "\n",
        "**Hint:** to choose a random item from a list, you can use `random.choice`. Check out the [usage here](https://www.w3schools.com/python/ref_random_choice.asp)."
      ],
      "metadata": {
        "id": "l3UIeHq502Ii"
      }
    },
    {
      "cell_type": "code",
      "source": [
        "def generate_maze(num_rows, num_cols, start=None):\n",
        "  '''\n",
        "  This function will return a maze that is created using DFS.\n",
        "  Use the starting location `start` if one is passed in\n",
        "  '''\n",
        "  maze = make_maze(maze_dims = (num_rows, num_cols), maze_size = \"blank\")\n",
        "  if start == None:\n",
        "    start = (random.randint(0, num_rows), random.randint(0, num_cols))\n",
        "  queue = [start]\n",
        "  current = None\n",
        "  seen = {start}\n",
        "\n",
        "  # create loop\n",
        "  while len(queue) != 0:\n",
        "    current = queue.pop(0)\n",
        "    neighbors = maze_gen_neighbors(current[0], current[1], num_rows, num_cols, seen)\n",
        "    if len(neighbors) != 0:\n",
        "      queue.insert(0,current)\n",
        "      neighbor = random.choice(neighbors)\n",
        "      maze = remove_wall(maze, current, neighbor)\n",
        "      seen.add(neighbor)\n",
        "      queue.insert(0,neighbor)\n",
        "\n",
        "  return maze"
      ],
      "metadata": {
        "id": "M_WlX5t2cYn3"
      },
      "execution_count": null,
      "outputs": []
    },
    {
      "cell_type": "markdown",
      "source": [
        "Once you've finished the function, go ahead and run the cell to test it out below! "
      ],
      "metadata": {
        "id": "d1knAIfyhitq"
      }
    },
    {
      "cell_type": "code",
      "source": [
        "maze = generate_maze(21, 31, start=(1,1))"
      ],
      "metadata": {
        "id": "vk-j_vyZm6oa",
        "colab": {
          "base_uri": "https://localhost:8080/",
          "height": 231
        },
        "outputId": "5f07bd89-24c4-4ec3-d32d-a365a0fa8752"
      },
      "execution_count": null,
      "outputs": [
        {
          "output_type": "display_data",
          "data": {
            "text/plain": [
              "<IPython.core.display.HTML object>"
            ],
            "text/html": [
              "\n",
              "      <svg width=310 height=210>\n",
              "        <rect x=\"0\" y=\"0\", width=\"310\" height=\"210\" style=\"fill:Black\" />\n",
              "        <rect x=\"10\" y=\"10\", width=\"10\" height=\"10\" style=\"fill:White\" /><rect x=\"30\" y=\"10\", width=\"10\" height=\"10\" style=\"fill:White\" /><rect x=\"40\" y=\"10\", width=\"10\" height=\"10\" style=\"fill:White\" /><rect x=\"50\" y=\"10\", width=\"10\" height=\"10\" style=\"fill:White\" /><rect x=\"70\" y=\"10\", width=\"10\" height=\"10\" style=\"fill:White\" /><rect x=\"80\" y=\"10\", width=\"10\" height=\"10\" style=\"fill:White\" /><rect x=\"90\" y=\"10\", width=\"10\" height=\"10\" style=\"fill:White\" /><rect x=\"100\" y=\"10\", width=\"10\" height=\"10\" style=\"fill:White\" /><rect x=\"110\" y=\"10\", width=\"10\" height=\"10\" style=\"fill:White\" /><rect x=\"120\" y=\"10\", width=\"10\" height=\"10\" style=\"fill:White\" /><rect x=\"130\" y=\"10\", width=\"10\" height=\"10\" style=\"fill:White\" /><rect x=\"140\" y=\"10\", width=\"10\" height=\"10\" style=\"fill:White\" /><rect x=\"150\" y=\"10\", width=\"10\" height=\"10\" style=\"fill:White\" /><rect x=\"160\" y=\"10\", width=\"10\" height=\"10\" style=\"fill:White\" /><rect x=\"170\" y=\"10\", width=\"10\" height=\"10\" style=\"fill:White\" /><rect x=\"180\" y=\"10\", width=\"10\" height=\"10\" style=\"fill:White\" /><rect x=\"190\" y=\"10\", width=\"10\" height=\"10\" style=\"fill:White\" /><rect x=\"200\" y=\"10\", width=\"10\" height=\"10\" style=\"fill:White\" /><rect x=\"210\" y=\"10\", width=\"10\" height=\"10\" style=\"fill:White\" /><rect x=\"220\" y=\"10\", width=\"10\" height=\"10\" style=\"fill:White\" /><rect x=\"230\" y=\"10\", width=\"10\" height=\"10\" style=\"fill:White\" /><rect x=\"240\" y=\"10\", width=\"10\" height=\"10\" style=\"fill:White\" /><rect x=\"250\" y=\"10\", width=\"10\" height=\"10\" style=\"fill:White\" /><rect x=\"260\" y=\"10\", width=\"10\" height=\"10\" style=\"fill:White\" /><rect x=\"270\" y=\"10\", width=\"10\" height=\"10\" style=\"fill:White\" /><rect x=\"280\" y=\"10\", width=\"10\" height=\"10\" style=\"fill:White\" /><rect x=\"290\" y=\"10\", width=\"10\" height=\"10\" style=\"fill:White\" /><rect x=\"10\" y=\"20\", width=\"10\" height=\"10\" style=\"fill:White\" /><rect x=\"30\" y=\"20\", width=\"10\" height=\"10\" style=\"fill:White\" /><rect x=\"50\" y=\"20\", width=\"10\" height=\"10\" style=\"fill:White\" /><rect x=\"70\" y=\"20\", width=\"10\" height=\"10\" style=\"fill:White\" /><rect x=\"190\" y=\"20\", width=\"10\" height=\"10\" style=\"fill:White\" /><rect x=\"290\" y=\"20\", width=\"10\" height=\"10\" style=\"fill:White\" /><rect x=\"10\" y=\"30\", width=\"10\" height=\"10\" style=\"fill:White\" /><rect x=\"30\" y=\"30\", width=\"10\" height=\"10\" style=\"fill:White\" /><rect x=\"50\" y=\"30\", width=\"10\" height=\"10\" style=\"fill:White\" /><rect x=\"60\" y=\"30\", width=\"10\" height=\"10\" style=\"fill:White\" /><rect x=\"70\" y=\"30\", width=\"10\" height=\"10\" style=\"fill:White\" /><rect x=\"80\" y=\"30\", width=\"10\" height=\"10\" style=\"fill:White\" /><rect x=\"90\" y=\"30\", width=\"10\" height=\"10\" style=\"fill:White\" /><rect x=\"110\" y=\"30\", width=\"10\" height=\"10\" style=\"fill:White\" /><rect x=\"120\" y=\"30\", width=\"10\" height=\"10\" style=\"fill:White\" /><rect x=\"130\" y=\"30\", width=\"10\" height=\"10\" style=\"fill:White\" /><rect x=\"140\" y=\"30\", width=\"10\" height=\"10\" style=\"fill:White\" /><rect x=\"150\" y=\"30\", width=\"10\" height=\"10\" style=\"fill:White\" /><rect x=\"160\" y=\"30\", width=\"10\" height=\"10\" style=\"fill:White\" /><rect x=\"170\" y=\"30\", width=\"10\" height=\"10\" style=\"fill:White\" /><rect x=\"180\" y=\"30\", width=\"10\" height=\"10\" style=\"fill:White\" /><rect x=\"190\" y=\"30\", width=\"10\" height=\"10\" style=\"fill:White\" /><rect x=\"210\" y=\"30\", width=\"10\" height=\"10\" style=\"fill:White\" /><rect x=\"220\" y=\"30\", width=\"10\" height=\"10\" style=\"fill:White\" /><rect x=\"230\" y=\"30\", width=\"10\" height=\"10\" style=\"fill:White\" /><rect x=\"240\" y=\"30\", width=\"10\" height=\"10\" style=\"fill:White\" /><rect x=\"250\" y=\"30\", width=\"10\" height=\"10\" style=\"fill:White\" /><rect x=\"270\" y=\"30\", width=\"10\" height=\"10\" style=\"fill:White\" /><rect x=\"280\" y=\"30\", width=\"10\" height=\"10\" style=\"fill:White\" /><rect x=\"290\" y=\"30\", width=\"10\" height=\"10\" style=\"fill:White\" /><rect x=\"10\" y=\"40\", width=\"10\" height=\"10\" style=\"fill:White\" /><rect x=\"30\" y=\"40\", width=\"10\" height=\"10\" style=\"fill:White\" /><rect x=\"90\" y=\"40\", width=\"10\" height=\"10\" style=\"fill:White\" /><rect x=\"110\" y=\"40\", width=\"10\" height=\"10\" style=\"fill:White\" /><rect x=\"210\" y=\"40\", width=\"10\" height=\"10\" style=\"fill:White\" /><rect x=\"250\" y=\"40\", width=\"10\" height=\"10\" style=\"fill:White\" /><rect x=\"270\" y=\"40\", width=\"10\" height=\"10\" style=\"fill:White\" /><rect x=\"10\" y=\"50\", width=\"10\" height=\"10\" style=\"fill:White\" /><rect x=\"30\" y=\"50\", width=\"10\" height=\"10\" style=\"fill:White\" /><rect x=\"50\" y=\"50\", width=\"10\" height=\"10\" style=\"fill:White\" /><rect x=\"60\" y=\"50\", width=\"10\" height=\"10\" style=\"fill:White\" /><rect x=\"70\" y=\"50\", width=\"10\" height=\"10\" style=\"fill:White\" /><rect x=\"90\" y=\"50\", width=\"10\" height=\"10\" style=\"fill:White\" /><rect x=\"110\" y=\"50\", width=\"10\" height=\"10\" style=\"fill:White\" /><rect x=\"120\" y=\"50\", width=\"10\" height=\"10\" style=\"fill:White\" /><rect x=\"130\" y=\"50\", width=\"10\" height=\"10\" style=\"fill:White\" /><rect x=\"140\" y=\"50\", width=\"10\" height=\"10\" style=\"fill:White\" /><rect x=\"150\" y=\"50\", width=\"10\" height=\"10\" style=\"fill:White\" /><rect x=\"170\" y=\"50\", width=\"10\" height=\"10\" style=\"fill:White\" /><rect x=\"180\" y=\"50\", width=\"10\" height=\"10\" style=\"fill:White\" /><rect x=\"190\" y=\"50\", width=\"10\" height=\"10\" style=\"fill:White\" /><rect x=\"200\" y=\"50\", width=\"10\" height=\"10\" style=\"fill:White\" /><rect x=\"210\" y=\"50\", width=\"10\" height=\"10\" style=\"fill:White\" /><rect x=\"220\" y=\"50\", width=\"10\" height=\"10\" style=\"fill:White\" /><rect x=\"230\" y=\"50\", width=\"10\" height=\"10\" style=\"fill:White\" /><rect x=\"250\" y=\"50\", width=\"10\" height=\"10\" style=\"fill:White\" /><rect x=\"270\" y=\"50\", width=\"10\" height=\"10\" style=\"fill:White\" /><rect x=\"290\" y=\"50\", width=\"10\" height=\"10\" style=\"fill:White\" /><rect x=\"10\" y=\"60\", width=\"10\" height=\"10\" style=\"fill:White\" /><rect x=\"50\" y=\"60\", width=\"10\" height=\"10\" style=\"fill:White\" /><rect x=\"70\" y=\"60\", width=\"10\" height=\"10\" style=\"fill:White\" /><rect x=\"130\" y=\"60\", width=\"10\" height=\"10\" style=\"fill:White\" /><rect x=\"150\" y=\"60\", width=\"10\" height=\"10\" style=\"fill:White\" /><rect x=\"230\" y=\"60\", width=\"10\" height=\"10\" style=\"fill:White\" /><rect x=\"270\" y=\"60\", width=\"10\" height=\"10\" style=\"fill:White\" /><rect x=\"290\" y=\"60\", width=\"10\" height=\"10\" style=\"fill:White\" /><rect x=\"10\" y=\"70\", width=\"10\" height=\"10\" style=\"fill:White\" /><rect x=\"20\" y=\"70\", width=\"10\" height=\"10\" style=\"fill:White\" /><rect x=\"30\" y=\"70\", width=\"10\" height=\"10\" style=\"fill:White\" /><rect x=\"40\" y=\"70\", width=\"10\" height=\"10\" style=\"fill:White\" /><rect x=\"50\" y=\"70\", width=\"10\" height=\"10\" style=\"fill:White\" /><rect x=\"70\" y=\"70\", width=\"10\" height=\"10\" style=\"fill:White\" /><rect x=\"80\" y=\"70\", width=\"10\" height=\"10\" style=\"fill:White\" /><rect x=\"90\" y=\"70\", width=\"10\" height=\"10\" style=\"fill:White\" /><rect x=\"100\" y=\"70\", width=\"10\" height=\"10\" style=\"fill:White\" /><rect x=\"110\" y=\"70\", width=\"10\" height=\"10\" style=\"fill:White\" /><rect x=\"130\" y=\"70\", width=\"10\" height=\"10\" style=\"fill:White\" /><rect x=\"150\" y=\"70\", width=\"10\" height=\"10\" style=\"fill:White\" /><rect x=\"160\" y=\"70\", width=\"10\" height=\"10\" style=\"fill:White\" /><rect x=\"170\" y=\"70\", width=\"10\" height=\"10\" style=\"fill:White\" /><rect x=\"190\" y=\"70\", width=\"10\" height=\"10\" style=\"fill:White\" /><rect x=\"200\" y=\"70\", width=\"10\" height=\"10\" style=\"fill:White\" /><rect x=\"210\" y=\"70\", width=\"10\" height=\"10\" style=\"fill:White\" /><rect x=\"230\" y=\"70\", width=\"10\" height=\"10\" style=\"fill:White\" /><rect x=\"240\" y=\"70\", width=\"10\" height=\"10\" style=\"fill:White\" /><rect x=\"250\" y=\"70\", width=\"10\" height=\"10\" style=\"fill:White\" /><rect x=\"260\" y=\"70\", width=\"10\" height=\"10\" style=\"fill:White\" /><rect x=\"270\" y=\"70\", width=\"10\" height=\"10\" style=\"fill:White\" /><rect x=\"280\" y=\"70\", width=\"10\" height=\"10\" style=\"fill:White\" /><rect x=\"290\" y=\"70\", width=\"10\" height=\"10\" style=\"fill:White\" /><rect x=\"110\" y=\"80\", width=\"10\" height=\"10\" style=\"fill:White\" /><rect x=\"130\" y=\"80\", width=\"10\" height=\"10\" style=\"fill:White\" /><rect x=\"170\" y=\"80\", width=\"10\" height=\"10\" style=\"fill:White\" /><rect x=\"190\" y=\"80\", width=\"10\" height=\"10\" style=\"fill:White\" /><rect x=\"210\" y=\"80\", width=\"10\" height=\"10\" style=\"fill:White\" /><rect x=\"230\" y=\"80\", width=\"10\" height=\"10\" style=\"fill:White\" /><rect x=\"10\" y=\"90\", width=\"10\" height=\"10\" style=\"fill:White\" /><rect x=\"20\" y=\"90\", width=\"10\" height=\"10\" style=\"fill:White\" /><rect x=\"30\" y=\"90\", width=\"10\" height=\"10\" style=\"fill:White\" /><rect x=\"40\" y=\"90\", width=\"10\" height=\"10\" style=\"fill:White\" /><rect x=\"50\" y=\"90\", width=\"10\" height=\"10\" style=\"fill:White\" /><rect x=\"70\" y=\"90\", width=\"10\" height=\"10\" style=\"fill:White\" /><rect x=\"80\" y=\"90\", width=\"10\" height=\"10\" style=\"fill:White\" /><rect x=\"90\" y=\"90\", width=\"10\" height=\"10\" style=\"fill:White\" /><rect x=\"110\" y=\"90\", width=\"10\" height=\"10\" style=\"fill:White\" /><rect x=\"130\" y=\"90\", width=\"10\" height=\"10\" style=\"fill:White\" /><rect x=\"140\" y=\"90\", width=\"10\" height=\"10\" style=\"fill:White\" /><rect x=\"150\" y=\"90\", width=\"10\" height=\"10\" style=\"fill:White\" /><rect x=\"170\" y=\"90\", width=\"10\" height=\"10\" style=\"fill:White\" /><rect x=\"180\" y=\"90\", width=\"10\" height=\"10\" style=\"fill:White\" /><rect x=\"190\" y=\"90\", width=\"10\" height=\"10\" style=\"fill:White\" /><rect x=\"210\" y=\"90\", width=\"10\" height=\"10\" style=\"fill:White\" /><rect x=\"230\" y=\"90\", width=\"10\" height=\"10\" style=\"fill:White\" /><rect x=\"240\" y=\"90\", width=\"10\" height=\"10\" style=\"fill:White\" /><rect x=\"250\" y=\"90\", width=\"10\" height=\"10\" style=\"fill:White\" /><rect x=\"270\" y=\"90\", width=\"10\" height=\"10\" style=\"fill:White\" /><rect x=\"280\" y=\"90\", width=\"10\" height=\"10\" style=\"fill:White\" /><rect x=\"290\" y=\"90\", width=\"10\" height=\"10\" style=\"fill:White\" /><rect x=\"10\" y=\"100\", width=\"10\" height=\"10\" style=\"fill:White\" /><rect x=\"50\" y=\"100\", width=\"10\" height=\"10\" style=\"fill:White\" /><rect x=\"70\" y=\"100\", width=\"10\" height=\"10\" style=\"fill:White\" /><rect x=\"90\" y=\"100\", width=\"10\" height=\"10\" style=\"fill:White\" /><rect x=\"110\" y=\"100\", width=\"10\" height=\"10\" style=\"fill:White\" /><rect x=\"210\" y=\"100\", width=\"10\" height=\"10\" style=\"fill:White\" /><rect x=\"270\" y=\"100\", width=\"10\" height=\"10\" style=\"fill:White\" /><rect x=\"290\" y=\"100\", width=\"10\" height=\"10\" style=\"fill:White\" /><rect x=\"10\" y=\"110\", width=\"10\" height=\"10\" style=\"fill:White\" /><rect x=\"20\" y=\"110\", width=\"10\" height=\"10\" style=\"fill:White\" /><rect x=\"30\" y=\"110\", width=\"10\" height=\"10\" style=\"fill:White\" /><rect x=\"50\" y=\"110\", width=\"10\" height=\"10\" style=\"fill:White\" /><rect x=\"70\" y=\"110\", width=\"10\" height=\"10\" style=\"fill:White\" /><rect x=\"90\" y=\"110\", width=\"10\" height=\"10\" style=\"fill:White\" /><rect x=\"110\" y=\"110\", width=\"10\" height=\"10\" style=\"fill:White\" /><rect x=\"120\" y=\"110\", width=\"10\" height=\"10\" style=\"fill:White\" /><rect x=\"130\" y=\"110\", width=\"10\" height=\"10\" style=\"fill:White\" /><rect x=\"140\" y=\"110\", width=\"10\" height=\"10\" style=\"fill:White\" /><rect x=\"150\" y=\"110\", width=\"10\" height=\"10\" style=\"fill:White\" /><rect x=\"160\" y=\"110\", width=\"10\" height=\"10\" style=\"fill:White\" /><rect x=\"170\" y=\"110\", width=\"10\" height=\"10\" style=\"fill:White\" /><rect x=\"180\" y=\"110\", width=\"10\" height=\"10\" style=\"fill:White\" /><rect x=\"190\" y=\"110\", width=\"10\" height=\"10\" style=\"fill:White\" /><rect x=\"210\" y=\"110\", width=\"10\" height=\"10\" style=\"fill:White\" /><rect x=\"230\" y=\"110\", width=\"10\" height=\"10\" style=\"fill:White\" /><rect x=\"240\" y=\"110\", width=\"10\" height=\"10\" style=\"fill:White\" /><rect x=\"250\" y=\"110\", width=\"10\" height=\"10\" style=\"fill:White\" /><rect x=\"260\" y=\"110\", width=\"10\" height=\"10\" style=\"fill:White\" /><rect x=\"270\" y=\"110\", width=\"10\" height=\"10\" style=\"fill:White\" /><rect x=\"290\" y=\"110\", width=\"10\" height=\"10\" style=\"fill:White\" /><rect x=\"30\" y=\"120\", width=\"10\" height=\"10\" style=\"fill:White\" /><rect x=\"70\" y=\"120\", width=\"10\" height=\"10\" style=\"fill:White\" /><rect x=\"90\" y=\"120\", width=\"10\" height=\"10\" style=\"fill:White\" /><rect x=\"190\" y=\"120\", width=\"10\" height=\"10\" style=\"fill:White\" /><rect x=\"210\" y=\"120\", width=\"10\" height=\"10\" style=\"fill:White\" /><rect x=\"230\" y=\"120\", width=\"10\" height=\"10\" style=\"fill:White\" /><rect x=\"290\" y=\"120\", width=\"10\" height=\"10\" style=\"fill:White\" /><rect x=\"10\" y=\"130\", width=\"10\" height=\"10\" style=\"fill:White\" /><rect x=\"20\" y=\"130\", width=\"10\" height=\"10\" style=\"fill:White\" /><rect x=\"30\" y=\"130\", width=\"10\" height=\"10\" style=\"fill:White\" /><rect x=\"50\" y=\"130\", width=\"10\" height=\"10\" style=\"fill:White\" /><rect x=\"60\" y=\"130\", width=\"10\" height=\"10\" style=\"fill:White\" /><rect x=\"70\" y=\"130\", width=\"10\" height=\"10\" style=\"fill:White\" /><rect x=\"90\" y=\"130\", width=\"10\" height=\"10\" style=\"fill:White\" /><rect x=\"100\" y=\"130\", width=\"10\" height=\"10\" style=\"fill:White\" /><rect x=\"110\" y=\"130\", width=\"10\" height=\"10\" style=\"fill:White\" /><rect x=\"130\" y=\"130\", width=\"10\" height=\"10\" style=\"fill:White\" /><rect x=\"140\" y=\"130\", width=\"10\" height=\"10\" style=\"fill:White\" /><rect x=\"150\" y=\"130\", width=\"10\" height=\"10\" style=\"fill:White\" /><rect x=\"160\" y=\"130\", width=\"10\" height=\"10\" style=\"fill:White\" /><rect x=\"170\" y=\"130\", width=\"10\" height=\"10\" style=\"fill:White\" /><rect x=\"190\" y=\"130\", width=\"10\" height=\"10\" style=\"fill:White\" /><rect x=\"210\" y=\"130\", width=\"10\" height=\"10\" style=\"fill:White\" /><rect x=\"230\" y=\"130\", width=\"10\" height=\"10\" style=\"fill:White\" /><rect x=\"240\" y=\"130\", width=\"10\" height=\"10\" style=\"fill:White\" /><rect x=\"250\" y=\"130\", width=\"10\" height=\"10\" style=\"fill:White\" /><rect x=\"260\" y=\"130\", width=\"10\" height=\"10\" style=\"fill:White\" /><rect x=\"270\" y=\"130\", width=\"10\" height=\"10\" style=\"fill:White\" /><rect x=\"290\" y=\"130\", width=\"10\" height=\"10\" style=\"fill:White\" /><rect x=\"10\" y=\"140\", width=\"10\" height=\"10\" style=\"fill:White\" /><rect x=\"50\" y=\"140\", width=\"10\" height=\"10\" style=\"fill:White\" /><rect x=\"90\" y=\"140\", width=\"10\" height=\"10\" style=\"fill:White\" /><rect x=\"130\" y=\"140\", width=\"10\" height=\"10\" style=\"fill:White\" /><rect x=\"150\" y=\"140\", width=\"10\" height=\"10\" style=\"fill:White\" /><rect x=\"190\" y=\"140\", width=\"10\" height=\"10\" style=\"fill:White\" /><rect x=\"210\" y=\"140\", width=\"10\" height=\"10\" style=\"fill:White\" /><rect x=\"230\" y=\"140\", width=\"10\" height=\"10\" style=\"fill:White\" /><rect x=\"290\" y=\"140\", width=\"10\" height=\"10\" style=\"fill:White\" /><rect x=\"10\" y=\"150\", width=\"10\" height=\"10\" style=\"fill:White\" /><rect x=\"20\" y=\"150\", width=\"10\" height=\"10\" style=\"fill:White\" /><rect x=\"30\" y=\"150\", width=\"10\" height=\"10\" style=\"fill:White\" /><rect x=\"50\" y=\"150\", width=\"10\" height=\"10\" style=\"fill:White\" /><rect x=\"70\" y=\"150\", width=\"10\" height=\"10\" style=\"fill:White\" /><rect x=\"90\" y=\"150\", width=\"10\" height=\"10\" style=\"fill:White\" /><rect x=\"100\" y=\"150\", width=\"10\" height=\"10\" style=\"fill:White\" /><rect x=\"110\" y=\"150\", width=\"10\" height=\"10\" style=\"fill:White\" /><rect x=\"120\" y=\"150\", width=\"10\" height=\"10\" style=\"fill:White\" /><rect x=\"130\" y=\"150\", width=\"10\" height=\"10\" style=\"fill:White\" /><rect x=\"150\" y=\"150\", width=\"10\" height=\"10\" style=\"fill:White\" /><rect x=\"160\" y=\"150\", width=\"10\" height=\"10\" style=\"fill:White\" /><rect x=\"170\" y=\"150\", width=\"10\" height=\"10\" style=\"fill:White\" /><rect x=\"190\" y=\"150\", width=\"10\" height=\"10\" style=\"fill:White\" /><rect x=\"210\" y=\"150\", width=\"10\" height=\"10\" style=\"fill:White\" /><rect x=\"220\" y=\"150\", width=\"10\" height=\"10\" style=\"fill:White\" /><rect x=\"230\" y=\"150\", width=\"10\" height=\"10\" style=\"fill:White\" /><rect x=\"250\" y=\"150\", width=\"10\" height=\"10\" style=\"fill:White\" /><rect x=\"260\" y=\"150\", width=\"10\" height=\"10\" style=\"fill:White\" /><rect x=\"270\" y=\"150\", width=\"10\" height=\"10\" style=\"fill:White\" /><rect x=\"290\" y=\"150\", width=\"10\" height=\"10\" style=\"fill:White\" /><rect x=\"10\" y=\"160\", width=\"10\" height=\"10\" style=\"fill:White\" /><rect x=\"30\" y=\"160\", width=\"10\" height=\"10\" style=\"fill:White\" /><rect x=\"50\" y=\"160\", width=\"10\" height=\"10\" style=\"fill:White\" /><rect x=\"70\" y=\"160\", width=\"10\" height=\"10\" style=\"fill:White\" /><rect x=\"170\" y=\"160\", width=\"10\" height=\"10\" style=\"fill:White\" /><rect x=\"190\" y=\"160\", width=\"10\" height=\"10\" style=\"fill:White\" /><rect x=\"250\" y=\"160\", width=\"10\" height=\"10\" style=\"fill:White\" /><rect x=\"270\" y=\"160\", width=\"10\" height=\"10\" style=\"fill:White\" /><rect x=\"290\" y=\"160\", width=\"10\" height=\"10\" style=\"fill:White\" /><rect x=\"10\" y=\"170\", width=\"10\" height=\"10\" style=\"fill:White\" /><rect x=\"30\" y=\"170\", width=\"10\" height=\"10\" style=\"fill:White\" /><rect x=\"50\" y=\"170\", width=\"10\" height=\"10\" style=\"fill:White\" /><rect x=\"60\" y=\"170\", width=\"10\" height=\"10\" style=\"fill:White\" /><rect x=\"70\" y=\"170\", width=\"10\" height=\"10\" style=\"fill:White\" /><rect x=\"90\" y=\"170\", width=\"10\" height=\"10\" style=\"fill:White\" /><rect x=\"100\" y=\"170\", width=\"10\" height=\"10\" style=\"fill:White\" /><rect x=\"110\" y=\"170\", width=\"10\" height=\"10\" style=\"fill:White\" /><rect x=\"120\" y=\"170\", width=\"10\" height=\"10\" style=\"fill:White\" /><rect x=\"130\" y=\"170\", width=\"10\" height=\"10\" style=\"fill:White\" /><rect x=\"150\" y=\"170\", width=\"10\" height=\"10\" style=\"fill:White\" /><rect x=\"160\" y=\"170\", width=\"10\" height=\"10\" style=\"fill:White\" /><rect x=\"170\" y=\"170\", width=\"10\" height=\"10\" style=\"fill:White\" /><rect x=\"190\" y=\"170\", width=\"10\" height=\"10\" style=\"fill:White\" /><rect x=\"200\" y=\"170\", width=\"10\" height=\"10\" style=\"fill:White\" /><rect x=\"210\" y=\"170\", width=\"10\" height=\"10\" style=\"fill:White\" /><rect x=\"220\" y=\"170\", width=\"10\" height=\"10\" style=\"fill:White\" /><rect x=\"230\" y=\"170\", width=\"10\" height=\"10\" style=\"fill:White\" /><rect x=\"240\" y=\"170\", width=\"10\" height=\"10\" style=\"fill:White\" /><rect x=\"250\" y=\"170\", width=\"10\" height=\"10\" style=\"fill:White\" /><rect x=\"270\" y=\"170\", width=\"10\" height=\"10\" style=\"fill:White\" /><rect x=\"290\" y=\"170\", width=\"10\" height=\"10\" style=\"fill:White\" /><rect x=\"10\" y=\"180\", width=\"10\" height=\"10\" style=\"fill:White\" /><rect x=\"30\" y=\"180\", width=\"10\" height=\"10\" style=\"fill:White\" /><rect x=\"70\" y=\"180\", width=\"10\" height=\"10\" style=\"fill:White\" /><rect x=\"110\" y=\"180\", width=\"10\" height=\"10\" style=\"fill:White\" /><rect x=\"130\" y=\"180\", width=\"10\" height=\"10\" style=\"fill:White\" /><rect x=\"150\" y=\"180\", width=\"10\" height=\"10\" style=\"fill:White\" /><rect x=\"270\" y=\"180\", width=\"10\" height=\"10\" style=\"fill:White\" /><rect x=\"290\" y=\"180\", width=\"10\" height=\"10\" style=\"fill:White\" /><rect x=\"10\" y=\"190\", width=\"10\" height=\"10\" style=\"fill:White\" /><rect x=\"30\" y=\"190\", width=\"10\" height=\"10\" style=\"fill:White\" /><rect x=\"40\" y=\"190\", width=\"10\" height=\"10\" style=\"fill:White\" /><rect x=\"50\" y=\"190\", width=\"10\" height=\"10\" style=\"fill:White\" /><rect x=\"60\" y=\"190\", width=\"10\" height=\"10\" style=\"fill:White\" /><rect x=\"70\" y=\"190\", width=\"10\" height=\"10\" style=\"fill:White\" /><rect x=\"80\" y=\"190\", width=\"10\" height=\"10\" style=\"fill:White\" /><rect x=\"90\" y=\"190\", width=\"10\" height=\"10\" style=\"fill:White\" /><rect x=\"100\" y=\"190\", width=\"10\" height=\"10\" style=\"fill:White\" /><rect x=\"110\" y=\"190\", width=\"10\" height=\"10\" style=\"fill:White\" /><rect x=\"130\" y=\"190\", width=\"10\" height=\"10\" style=\"fill:White\" /><rect x=\"150\" y=\"190\", width=\"10\" height=\"10\" style=\"fill:White\" /><rect x=\"160\" y=\"190\", width=\"10\" height=\"10\" style=\"fill:White\" /><rect x=\"170\" y=\"190\", width=\"10\" height=\"10\" style=\"fill:White\" /><rect x=\"180\" y=\"190\", width=\"10\" height=\"10\" style=\"fill:White\" /><rect x=\"190\" y=\"190\", width=\"10\" height=\"10\" style=\"fill:White\" /><rect x=\"200\" y=\"190\", width=\"10\" height=\"10\" style=\"fill:White\" /><rect x=\"210\" y=\"190\", width=\"10\" height=\"10\" style=\"fill:White\" /><rect x=\"220\" y=\"190\", width=\"10\" height=\"10\" style=\"fill:White\" /><rect x=\"230\" y=\"190\", width=\"10\" height=\"10\" style=\"fill:White\" /><rect x=\"240\" y=\"190\", width=\"10\" height=\"10\" style=\"fill:White\" /><rect x=\"250\" y=\"190\", width=\"10\" height=\"10\" style=\"fill:White\" /><rect x=\"260\" y=\"190\", width=\"10\" height=\"10\" style=\"fill:White\" /><rect x=\"270\" y=\"190\", width=\"10\" height=\"10\" style=\"fill:White\" /><rect x=\"280\" y=\"190\", width=\"10\" height=\"10\" style=\"fill:White\" /><rect x=\"290\" y=\"190\", width=\"10\" height=\"10\" style=\"fill:White\" />\n",
              "      </svg>\n",
              "    "
            ]
          },
          "metadata": {}
        }
      ]
    },
    {
      "cell_type": "markdown",
      "source": [
        "If you want to solve a map you've generated using BFS or DFS like you were earlier, make sure you define a start and goal location! You can choose these values."
      ],
      "metadata": {
        "id": "lYzUzb8zqTvS"
      }
    },
    {
      "cell_type": "code",
      "source": [
        "# Solve your maze using this cell here!\n",
        "\n",
        "# fill in values for your start and goal!\n",
        "start = (1,1)\n",
        "goal = (20,1)\n",
        "\n",
        "# uncomment below to run DFS!\n",
        "path = maze_DFS(maze, start, goal) # you can change this to BFS\n",
        "if path != None:\n",
        "  update_graphics(goal, path=path)\n",
        "else:\n",
        "  print(\"No path found!\")"
      ],
      "metadata": {
        "id": "xPttIvyv7-WB",
        "colab": {
          "base_uri": "https://localhost:8080/"
        },
        "outputId": "21be3551-ee14-4c94-c3f8-8dc519260497"
      },
      "execution_count": null,
      "outputs": [
        {
          "output_type": "stream",
          "name": "stdout",
          "text": [
            "No path found!\n"
          ]
        }
      ]
    },
    {
      "cell_type": "markdown",
      "source": [
        "# 🎉 **That's it! You've finished this notebook :)**"
      ],
      "metadata": {
        "id": "4NEjK-clPM_S"
      }
    }
  ]
}