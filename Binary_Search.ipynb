{
  "nbformat": 4,
  "nbformat_minor": 0,
  "metadata": {
    "colab": {
      "provenance": []
    },
    "kernelspec": {
      "name": "python3",
      "display_name": "Python 3"
    },
    "language_info": {
      "name": "python"
    }
  },
  "cells": [
    {
      "cell_type": "markdown",
      "source": [
        "# 🔢 **Guess the number!**\n",
        "In class earlier we explored how to analyze the runtime of different algorithms. Now, we'll do a closer exploration in code of linear and binary search through a problem!\n",
        "\n",
        "We're going to play a **number guessing game**. The computer is going to pick number between 0 and 9 (inclusive) will be randomly chosen, and it's your goal to guess the number in as few guesses as possible! You're going to write two functions: one that uses linear search to find the number, and one that uses binary search.\n",
        "\n",
        "When we talked about linear / binary search in class, we used the example of searching through a list. **This isn't always the case** (it's not here!) - think about how you can adapt what we looked at earlier in class to fit this problem."
      ],
      "metadata": {
        "id": "V5HKgiE4cjtN"
      }
    },
    {
      "cell_type": "markdown",
      "source": [
        "## 🔷 **Linear Search**\n",
        "Fill in the function below, which uses linear search to find what the number is between 0 and 9 and returns the number of guesses it takes!"
      ],
      "metadata": {
        "id": "ck4Ce_jpUABZ"
      }
    },
    {
      "cell_type": "code",
      "execution_count": null,
      "metadata": {
        "id": "W2BgrBe7cgHN"
      },
      "outputs": [],
      "source": [
        "def linear_search_09(number):\n",
        "  '''\n",
        "  Use linear search to find the number between 0 and 9. \n",
        "  Returns the number of guesses it takes to find the number.\n",
        "  '''\n",
        "  num=0\n",
        "  guesses=1\n",
        "  while num!=number:\n",
        "    num+=1\n",
        "    guesses+=1\n",
        "\n",
        "  return guesses"
      ]
    },
    {
      "cell_type": "markdown",
      "source": [
        "Once you've coded the solution, run the cell below to see how your function does!"
      ],
      "metadata": {
        "id": "hZdVFzukV6X9"
      }
    },
    {
      "cell_type": "code",
      "source": [
        "import random\n",
        "number = random.randint(0, 9)\n",
        "#number = 9 # uncomment the line above to actually use a real number\n",
        "print(\"It took\", linear_search_09(number), \"guesses to find the number\", number, \"with linear search\")"
      ],
      "metadata": {
        "id": "I5f131A6VHQN",
        "colab": {
          "base_uri": "https://localhost:8080/"
        },
        "outputId": "97187d46-54f3-4c27-e0e9-7b4440002c0e"
      },
      "execution_count": null,
      "outputs": [
        {
          "output_type": "stream",
          "name": "stdout",
          "text": [
            "It took 5 guesses to find the number 4 with linear search\n"
          ]
        }
      ]
    },
    {
      "cell_type": "markdown",
      "source": [
        "## 🔷 **Binary Search**\n",
        "As we learned in class, we know that we can do better! Fill in the function below, which uses binary search to find what the number is between 0 and 9 and returns the number of guesses it takes!"
      ],
      "metadata": {
        "id": "fFhgs6X9VFfR"
      }
    },
    {
      "cell_type": "code",
      "execution_count": null,
      "metadata": {
        "id": "ZgeVp6J8VFfR"
      },
      "outputs": [],
      "source": [
        "def binary_search_09(number):\n",
        "  '''\n",
        "  Use binary search to find the number between 0 and 9. \n",
        "  Returns the number of guesses it takes to find the number.\n",
        "  '''\n",
        "  low = 0\n",
        "  high = 9\n",
        "  mid = (low+high)//2\n",
        "  guesses = 1\n",
        "  while mid!=number:\n",
        "    if mid>number:\n",
        "      high=mid-1\n",
        "    else:\n",
        "      low=mid+1\n",
        "    guesses+=1\n",
        "    mid = (low+high)//2\n",
        "  return guesses "
      ]
    },
    {
      "cell_type": "markdown",
      "source": [
        "Once you've coded the solution, run the cell below to see how your function does!"
      ],
      "metadata": {
        "id": "e1MqV1mOr1we"
      }
    },
    {
      "cell_type": "code",
      "source": [
        "import random\n",
        "# number = random.randint(0, 9)\n",
        "number = 1 # uncomment the line above to actually use a real number\n",
        "print(\"It took\", binary_search_09(number), \"guesses to find the number\", number, \"with binary search\")"
      ],
      "metadata": {
        "id": "9neosTXfr1we",
        "colab": {
          "base_uri": "https://localhost:8080/"
        },
        "outputId": "ccc9cfc1-f404-485e-f718-ab45228f8182"
      },
      "execution_count": null,
      "outputs": [
        {
          "output_type": "stream",
          "name": "stdout",
          "text": [
            "It took 2 guesses to find the number 1 with binary search\n"
          ]
        }
      ]
    },
    {
      "cell_type": "markdown",
      "source": [
        "# 🔶 **Comparisons**\n",
        "Now we're going to slightly modify your programs - for the first round, you probably hard coded `9` as your highest number for both linear and binary search. This time, you'll use a parameter so we can compare the runtime as these values get really large. Fill in the function definitions below, where `upper_bound` should be the highest number in the range of your guessing game."
      ],
      "metadata": {
        "id": "TPJcuiXmtLbS"
      }
    },
    {
      "cell_type": "markdown",
      "source": [
        "## 🔷 **Linear Search**\n",
        "Fill in the function below, which uses linear search to find what the number and returns the number of guesses it takes!"
      ],
      "metadata": {
        "id": "wTOtQIMVtuH0"
      }
    },
    {
      "cell_type": "code",
      "execution_count": null,
      "metadata": {
        "id": "aBiR4mNVtuH1"
      },
      "outputs": [],
      "source": [
        "def linear_search(number, upper_bound):\n",
        "  '''\n",
        "  Use linear search to find the number. \n",
        "  Returns the number of guesses it takes to find the number.\n",
        "  '''\n",
        "  num=0\n",
        "  guesses=1\n",
        "  while num!=number:\n",
        "    num+=1\n",
        "    guesses+=1\n",
        "\n",
        "  return guesses"
      ]
    },
    {
      "cell_type": "markdown",
      "source": [
        "## 🔷 **Binary Search**\n",
        "As we learned in class, we know that we can do better! Fill in the function below, which uses binary search to find what the number and returns the number of guesses it takes!"
      ],
      "metadata": {
        "id": "zQEUc29XtuH1"
      }
    },
    {
      "cell_type": "code",
      "execution_count": null,
      "metadata": {
        "id": "f2260stktuH1"
      },
      "outputs": [],
      "source": [
        "def binary_search(number, upper_bound):\n",
        "  '''\n",
        "  Use binary search to find the number. \n",
        "  Returns the number of guesses it takes to find the number.\n",
        "  '''\n",
        "  low = 0\n",
        "  high = upper_bound\n",
        "  mid = (low+high)//2\n",
        "  guesses = 1\n",
        "  while mid!=number:\n",
        "    if mid>number:\n",
        "      high=mid-1\n",
        "    else:\n",
        "      low=mid+1\n",
        "    guesses+=1\n",
        "    mid = (low+high)//2\n",
        "  return guesses "
      ]
    },
    {
      "cell_type": "markdown",
      "source": [
        "## 🏃 **Runtime**\n",
        "The runtime difference between the two algorithms might seem pretty small when we are using a fairly small input (guessing between 0 and 9 means that we only 10 potential numbers, or an input size of 10, ie `n = 10`), but what happens as we increase that?\n",
        "\n",
        "Run the cell below to check out what happens when we use `n=10`, `n=100`, and `n=1000`"
      ],
      "metadata": {
        "id": "MfTP-x5vuaUS"
      }
    },
    {
      "cell_type": "code",
      "source": [
        "for ub in [9, 99, 999]:\n",
        "  num = random.randint(0, ub)\n",
        "  print(\"n =\", num)\n",
        "  print(\"Linear Search:\", linear_search(num, ub), \"guesses.\")\n",
        "  print(\"Binary Search:\", binary_search(num, ub), \"guesses. \\n\")"
      ],
      "metadata": {
        "id": "zFvVPmTc6aYG",
        "colab": {
          "base_uri": "https://localhost:8080/"
        },
        "outputId": "2896d68f-3ba9-4013-afe2-d39cc6b8d264"
      },
      "execution_count": null,
      "outputs": [
        {
          "output_type": "stream",
          "name": "stdout",
          "text": [
            "n = 6\n",
            "Linear Search: 7 guesses.\n",
            "Binary Search: 4 guesses. \n",
            "\n",
            "n = 19\n",
            "Linear Search: 20 guesses.\n",
            "Binary Search: 7 guesses. \n",
            "\n",
            "n = 369\n",
            "Linear Search: 370 guesses.\n",
            "Binary Search: 10 guesses. \n",
            "\n"
          ]
        }
      ]
    }
  ]
}