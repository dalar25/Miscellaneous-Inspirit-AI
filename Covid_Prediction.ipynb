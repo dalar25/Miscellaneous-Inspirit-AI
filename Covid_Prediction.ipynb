{
  "nbformat": 4,
  "nbformat_minor": 0,
  "metadata": {
    "colab": {
      "provenance": []
    },
    "kernelspec": {
      "display_name": "Python 3",
      "language": "python",
      "name": "python3"
    },
    "language_info": {
      "codemirror_mode": {
        "name": "ipython",
        "version": 3
      },
      "file_extension": ".py",
      "mimetype": "text/x-python",
      "name": "python",
      "nbconvert_exporter": "python",
      "pygments_lexer": "ipython3",
      "version": "3.8.2"
    }
  },
  "cells": [
    {
      "cell_type": "markdown",
      "metadata": {
        "id": "7qrPnxZuIgsw"
      },
      "source": [
        "# Predicting the rate of COVID-19 transmission\n",
        "\n",
        "In this notebook, we will build a machine learning model that will use hospitalization and infection data to predict the rate of COVID-19 transmission in the United States. If we can accurately predict future transmissions, we can help doctors and policymakers determine how to should allocate resources and craft interventions. In this notebook, we'll:\n",
        "\n",
        "\n",
        "1.   Explore our data\n",
        "2.   Use linear regression to predict future cases\n",
        "3.   Use neural networks to predict future cases\n",
        "4.   (Optional): Interactively explore underfitting and overfitting\n",
        "5.   (Advanced Challenge): Adapt our model to predict many days into the future\n",
        "\n",
        "![COVID map](https://upload.wikimedia.org/wikipedia/commons/f/f1/COVID-19_Prevalence_in_the_United_States_by_county.svg)\n",
        "\n"
      ]
    },
    {
      "cell_type": "code",
      "metadata": {
        "id": "cM4XvYNNJCYk",
        "colab": {
          "base_uri": "https://localhost:8080/"
        },
        "outputId": "a405d487-fae1-4407-ee35-4c493904677f"
      },
      "source": [
        "#@title Run this to prepare your data! { display-mode: \"form\" }\n",
        "\n",
        "# source of data: https://www.kaggle.com/roche-data-science-coalition/uncover?\n",
        "\n",
        "# Load the data!\n",
        "import os\n",
        "import numpy as np\n",
        "import pandas as pd\n",
        "import matplotlib.pyplot as plt\n",
        "import datetime\n",
        "from datetime import datetime, timedelta\n",
        "import sklearn\n",
        "from sklearn import metrics\n",
        "from sklearn.model_selection import train_test_split\n",
        "from sklearn import linear_model\n",
        "from sklearn.metrics import mean_squared_error\n",
        "import math\n",
        "from math import sqrt\n",
        "import random\n",
        "import scipy\n",
        "from scipy.interpolate import make_interp_spline\n",
        "\n",
        "# see all columns and rows\n",
        "pd.set_option(\"display.max_columns\", None)\n",
        "pd.set_option(\"display.max_rows\", 40)\n",
        "# set seed\n",
        "random.seed(1)\n",
        "\n",
        "import gdown \n",
        "gdown.download('https://drive.google.com/uc?id=1oK8AlCRFp4isBJQv-AZnC_zr-ZvrOOxd','covid-statistics-by-us-states-daily-updates.csv',True);\n",
        "\n",
        "raw_data = pd.read_csv('covid-statistics-by-us-states-daily-updates.csv')\n",
        "\n",
        "# turn date into datetime object\n",
        "raw_data[\"date\"] = pd.to_datetime(raw_data[\"date\"], format=\"%Y-%m-%d\")\n",
        "\n",
        "raw_data.set_index(\"date\", inplace = True, drop = False)\n",
        "\n",
        "state_df_list = []\n",
        "for name, df in raw_data.groupby(\"state\"):\n",
        "  tomorrow_data = df[['date','positiveincrease']]\n",
        "  tomorrow_data.columns = ['tomorrow_date', 'tomorrow_new_pos']\n",
        "  tomorrow_data['today_date'] = tomorrow_data.tomorrow_date - timedelta(days=1)\n",
        "  tomorrow_data.set_index(\"today_date\", inplace = True)\n",
        "  state_df = df.join(tomorrow_data, how = 'inner')\n",
        "  state_df_list.append(state_df)\n",
        "\n",
        "data = pd.concat(state_df_list)\n",
        "data.drop(['date','tomorrow_date'],axis=1,inplace=True)\n",
        "data = data[~data.totaltestresultsincrease.isna()]\n",
        "data = data[~data.total.isna()]\n",
        "data = data[~data.positive.isna()]\n",
        "data.negative = data.total - data.positive\n",
        "\n",
        "data.sort_index(inplace = True)"
      ],
      "execution_count": null,
      "outputs": [
        {
          "output_type": "stream",
          "name": "stderr",
          "text": [
            "/usr/local/lib/python3.7/dist-packages/ipykernel_launcher.py:43: SettingWithCopyWarning: \n",
            "A value is trying to be set on a copy of a slice from a DataFrame.\n",
            "Try using .loc[row_indexer,col_indexer] = value instead\n",
            "\n",
            "See the caveats in the documentation: https://pandas.pydata.org/pandas-docs/stable/user_guide/indexing.html#returning-a-view-versus-a-copy\n"
          ]
        }
      ]
    },
    {
      "cell_type": "markdown",
      "metadata": {
        "id": "CT4OsDcMJEdN"
      },
      "source": [
        "## 1. Data exploration"
      ]
    },
    {
      "cell_type": "markdown",
      "metadata": {
        "id": "lu9exK8uIRKp"
      },
      "source": [
        "### Filtering our data"
      ]
    },
    {
      "cell_type": "markdown",
      "metadata": {
        "id": "YwLY8veEyT6m"
      },
      "source": [
        "Let's take a look at an example row from our data:"
      ]
    },
    {
      "cell_type": "code",
      "metadata": {
        "id": "1o-PBuZYyX5x",
        "colab": {
          "base_uri": "https://localhost:8080/",
          "height": 162
        },
        "outputId": "0c0689e0-0e96-47b8-d8e0-ba16832fc13b"
      },
      "source": [
        "data.head(1)"
      ],
      "execution_count": null,
      "outputs": [
        {
          "output_type": "execute_result",
          "data": {
            "text/html": [
              "\n",
              "  <div id=\"df-ca839015-0ee3-4329-b8e1-662971b4d40c\">\n",
              "    <div class=\"colab-df-container\">\n",
              "      <div>\n",
              "<style scoped>\n",
              "    .dataframe tbody tr th:only-of-type {\n",
              "        vertical-align: middle;\n",
              "    }\n",
              "\n",
              "    .dataframe tbody tr th {\n",
              "        vertical-align: top;\n",
              "    }\n",
              "\n",
              "    .dataframe thead th {\n",
              "        text-align: right;\n",
              "    }\n",
              "</style>\n",
              "<table border=\"1\" class=\"dataframe\">\n",
              "  <thead>\n",
              "    <tr style=\"text-align: right;\">\n",
              "      <th></th>\n",
              "      <th>state</th>\n",
              "      <th>positive</th>\n",
              "      <th>negative</th>\n",
              "      <th>pending</th>\n",
              "      <th>hospitalizedcurrently</th>\n",
              "      <th>hospitalizedcumulative</th>\n",
              "      <th>inicucurrently</th>\n",
              "      <th>inicucumulative</th>\n",
              "      <th>onventilatorcurrently</th>\n",
              "      <th>onventilatorcumulative</th>\n",
              "      <th>recovered</th>\n",
              "      <th>hash</th>\n",
              "      <th>datechecked</th>\n",
              "      <th>death</th>\n",
              "      <th>hospitalized</th>\n",
              "      <th>total</th>\n",
              "      <th>totaltestresults</th>\n",
              "      <th>posneg</th>\n",
              "      <th>fips</th>\n",
              "      <th>deathincrease</th>\n",
              "      <th>hospitalizedincrease</th>\n",
              "      <th>negativeincrease</th>\n",
              "      <th>positiveincrease</th>\n",
              "      <th>totaltestresultsincrease</th>\n",
              "      <th>tomorrow_new_pos</th>\n",
              "    </tr>\n",
              "  </thead>\n",
              "  <tbody>\n",
              "    <tr>\n",
              "      <th>2020-01-23</th>\n",
              "      <td>WA</td>\n",
              "      <td>1.0</td>\n",
              "      <td>0.0</td>\n",
              "      <td>NaN</td>\n",
              "      <td>NaN</td>\n",
              "      <td>NaN</td>\n",
              "      <td>NaN</td>\n",
              "      <td>NaN</td>\n",
              "      <td>NaN</td>\n",
              "      <td>NaN</td>\n",
              "      <td>NaN</td>\n",
              "      <td>faa0d0b985f479eac50082e417dc84f9e645db8f</td>\n",
              "      <td>2020-01-23 21:00:00</td>\n",
              "      <td>NaN</td>\n",
              "      <td>NaN</td>\n",
              "      <td>1.0</td>\n",
              "      <td>1.0</td>\n",
              "      <td>1.0</td>\n",
              "      <td>53</td>\n",
              "      <td>0.0</td>\n",
              "      <td>0.0</td>\n",
              "      <td>0.0</td>\n",
              "      <td>0.0</td>\n",
              "      <td>0.0</td>\n",
              "      <td>0.0</td>\n",
              "    </tr>\n",
              "  </tbody>\n",
              "</table>\n",
              "</div>\n",
              "      <button class=\"colab-df-convert\" onclick=\"convertToInteractive('df-ca839015-0ee3-4329-b8e1-662971b4d40c')\"\n",
              "              title=\"Convert this dataframe to an interactive table.\"\n",
              "              style=\"display:none;\">\n",
              "        \n",
              "  <svg xmlns=\"http://www.w3.org/2000/svg\" height=\"24px\"viewBox=\"0 0 24 24\"\n",
              "       width=\"24px\">\n",
              "    <path d=\"M0 0h24v24H0V0z\" fill=\"none\"/>\n",
              "    <path d=\"M18.56 5.44l.94 2.06.94-2.06 2.06-.94-2.06-.94-.94-2.06-.94 2.06-2.06.94zm-11 1L8.5 8.5l.94-2.06 2.06-.94-2.06-.94L8.5 2.5l-.94 2.06-2.06.94zm10 10l.94 2.06.94-2.06 2.06-.94-2.06-.94-.94-2.06-.94 2.06-2.06.94z\"/><path d=\"M17.41 7.96l-1.37-1.37c-.4-.4-.92-.59-1.43-.59-.52 0-1.04.2-1.43.59L10.3 9.45l-7.72 7.72c-.78.78-.78 2.05 0 2.83L4 21.41c.39.39.9.59 1.41.59.51 0 1.02-.2 1.41-.59l7.78-7.78 2.81-2.81c.8-.78.8-2.07 0-2.86zM5.41 20L4 18.59l7.72-7.72 1.47 1.35L5.41 20z\"/>\n",
              "  </svg>\n",
              "      </button>\n",
              "      \n",
              "  <style>\n",
              "    .colab-df-container {\n",
              "      display:flex;\n",
              "      flex-wrap:wrap;\n",
              "      gap: 12px;\n",
              "    }\n",
              "\n",
              "    .colab-df-convert {\n",
              "      background-color: #E8F0FE;\n",
              "      border: none;\n",
              "      border-radius: 50%;\n",
              "      cursor: pointer;\n",
              "      display: none;\n",
              "      fill: #1967D2;\n",
              "      height: 32px;\n",
              "      padding: 0 0 0 0;\n",
              "      width: 32px;\n",
              "    }\n",
              "\n",
              "    .colab-df-convert:hover {\n",
              "      background-color: #E2EBFA;\n",
              "      box-shadow: 0px 1px 2px rgba(60, 64, 67, 0.3), 0px 1px 3px 1px rgba(60, 64, 67, 0.15);\n",
              "      fill: #174EA6;\n",
              "    }\n",
              "\n",
              "    [theme=dark] .colab-df-convert {\n",
              "      background-color: #3B4455;\n",
              "      fill: #D2E3FC;\n",
              "    }\n",
              "\n",
              "    [theme=dark] .colab-df-convert:hover {\n",
              "      background-color: #434B5C;\n",
              "      box-shadow: 0px 1px 3px 1px rgba(0, 0, 0, 0.15);\n",
              "      filter: drop-shadow(0px 1px 2px rgba(0, 0, 0, 0.3));\n",
              "      fill: #FFFFFF;\n",
              "    }\n",
              "  </style>\n",
              "\n",
              "      <script>\n",
              "        const buttonEl =\n",
              "          document.querySelector('#df-ca839015-0ee3-4329-b8e1-662971b4d40c button.colab-df-convert');\n",
              "        buttonEl.style.display =\n",
              "          google.colab.kernel.accessAllowed ? 'block' : 'none';\n",
              "\n",
              "        async function convertToInteractive(key) {\n",
              "          const element = document.querySelector('#df-ca839015-0ee3-4329-b8e1-662971b4d40c');\n",
              "          const dataTable =\n",
              "            await google.colab.kernel.invokeFunction('convertToInteractive',\n",
              "                                                     [key], {});\n",
              "          if (!dataTable) return;\n",
              "\n",
              "          const docLinkHtml = 'Like what you see? Visit the ' +\n",
              "            '<a target=\"_blank\" href=https://colab.research.google.com/notebooks/data_table.ipynb>data table notebook</a>'\n",
              "            + ' to learn more about interactive tables.';\n",
              "          element.innerHTML = '';\n",
              "          dataTable['output_type'] = 'display_data';\n",
              "          await google.colab.output.renderOutput(dataTable, element);\n",
              "          const docLink = document.createElement('div');\n",
              "          docLink.innerHTML = docLinkHtml;\n",
              "          element.appendChild(docLink);\n",
              "        }\n",
              "      </script>\n",
              "    </div>\n",
              "  </div>\n",
              "  "
            ],
            "text/plain": [
              "           state  positive  negative  pending  hospitalizedcurrently  \\\n",
              "2020-01-23    WA       1.0       0.0      NaN                    NaN   \n",
              "\n",
              "            hospitalizedcumulative  inicucurrently  inicucumulative  \\\n",
              "2020-01-23                     NaN             NaN              NaN   \n",
              "\n",
              "            onventilatorcurrently  onventilatorcumulative  recovered  \\\n",
              "2020-01-23                    NaN                     NaN        NaN   \n",
              "\n",
              "                                                hash          datechecked  \\\n",
              "2020-01-23  faa0d0b985f479eac50082e417dc84f9e645db8f  2020-01-23 21:00:00   \n",
              "\n",
              "            death  hospitalized  total  totaltestresults  posneg  fips  \\\n",
              "2020-01-23    NaN           NaN    1.0               1.0     1.0    53   \n",
              "\n",
              "            deathincrease  hospitalizedincrease  negativeincrease  \\\n",
              "2020-01-23            0.0                   0.0               0.0   \n",
              "\n",
              "            positiveincrease  totaltestresultsincrease  tomorrow_new_pos  \n",
              "2020-01-23               0.0                       0.0               0.0  "
            ]
          },
          "metadata": {},
          "execution_count": 2
        }
      ]
    },
    {
      "cell_type": "markdown",
      "metadata": {
        "id": "1bl3ypxhGVTz"
      },
      "source": [
        "We only care about data that will help us predict rates of COVID-19. Right now, our data contains many unnecessary columns of information -- let's filter out unnecessary data.\n",
        "\n",
        "We'll use each day's data to try to predict the number of positive test results the next day.\n",
        "\n",
        "We want to include only the following columns: \n",
        "\n",
        "1. **\"Date\"**: the date for this row. This is already done for you - it's the index of the dataset - so you don't need to get this column)\n",
        "2. **\"State\"**: the state that we're collecting COVID information about.\n",
        "3. **\"Positive\"**: the total number of people who've tested positive for COVID up to today.\n",
        "4. **\"Negative\"**:  the total number of people who've tested negative for COVID up to today.\n",
        "5. **\"Total\"**: The total number of tests done up to today\n",
        "6. **\"Hospitalizedincrease\"**: number of additional people who were hospitalized for conditions relating to COVID-19, compared to yesterday\n",
        "7. **\"Negativeincrease\"**: Number of new negative tests today\n",
        "8. **\"Positiveincrease\"**: Number of new positive tests today\n",
        "9. **\"Totaltestresultsincrease\"**: Total number of new tests today\n",
        "10. **\"tomorrow_new_pos\"**: Number of new positive results the next day. This is what we'll try to predict!\n",
        "\n",
        "**NOTE**: The date column is automatically included in your data, so you don't need to worry about that column.\n"
      ]
    },
    {
      "cell_type": "code",
      "metadata": {
        "id": "-lT9K4MYIY8J"
      },
      "source": [
        "#Use a line like this to choose the columns - replace \"YOUR COLUMNS!\"\n",
        "data = data[[\"state\", \"positive\", \n",
        "             \"negative\", \"total\", \n",
        "             \"hospitalizedincrease\", \"negativeincrease\", \n",
        "             \"positiveincrease\", \"totaltestresultsincrease\", \n",
        "             \"tomorrow_new_pos\"]]\n",
        "\n",
        "#YOUR CODE HERE to chose columns:\n",
        "\n"
      ],
      "execution_count": null,
      "outputs": []
    },
    {
      "cell_type": "markdown",
      "metadata": {
        "id": "6Ej65gnxP1tE"
      },
      "source": [
        "### Visualizing our data"
      ]
    },
    {
      "cell_type": "markdown",
      "metadata": {
        "id": "vvQNLXbsP6YI"
      },
      "source": [
        "Before we create our model, we need to understand our dataset and how we can use the data to answer our question. Let's take a look at our dataset!"
      ]
    },
    {
      "cell_type": "code",
      "metadata": {
        "id": "MTNh16XUaNIF",
        "colab": {
          "base_uri": "https://localhost:8080/",
          "height": 520
        },
        "outputId": "227733d9-2045-4b68-c270-a94b3604139e"
      },
      "source": [
        "data.head(15) #Try changing the number of rows"
      ],
      "execution_count": null,
      "outputs": [
        {
          "output_type": "execute_result",
          "data": {
            "text/html": [
              "\n",
              "  <div id=\"df-1329bebc-0c76-4dd3-8ac8-fab045f3fa00\">\n",
              "    <div class=\"colab-df-container\">\n",
              "      <div>\n",
              "<style scoped>\n",
              "    .dataframe tbody tr th:only-of-type {\n",
              "        vertical-align: middle;\n",
              "    }\n",
              "\n",
              "    .dataframe tbody tr th {\n",
              "        vertical-align: top;\n",
              "    }\n",
              "\n",
              "    .dataframe thead th {\n",
              "        text-align: right;\n",
              "    }\n",
              "</style>\n",
              "<table border=\"1\" class=\"dataframe\">\n",
              "  <thead>\n",
              "    <tr style=\"text-align: right;\">\n",
              "      <th></th>\n",
              "      <th>state</th>\n",
              "      <th>positive</th>\n",
              "      <th>negative</th>\n",
              "      <th>total</th>\n",
              "      <th>hospitalizedincrease</th>\n",
              "      <th>negativeincrease</th>\n",
              "      <th>positiveincrease</th>\n",
              "      <th>totaltestresultsincrease</th>\n",
              "      <th>tomorrow_new_pos</th>\n",
              "    </tr>\n",
              "  </thead>\n",
              "  <tbody>\n",
              "    <tr>\n",
              "      <th>2020-01-23</th>\n",
              "      <td>WA</td>\n",
              "      <td>1.0</td>\n",
              "      <td>0.0</td>\n",
              "      <td>1.0</td>\n",
              "      <td>0.0</td>\n",
              "      <td>0.0</td>\n",
              "      <td>0.0</td>\n",
              "      <td>0.0</td>\n",
              "      <td>0.0</td>\n",
              "    </tr>\n",
              "    <tr>\n",
              "      <th>2020-01-24</th>\n",
              "      <td>WA</td>\n",
              "      <td>1.0</td>\n",
              "      <td>0.0</td>\n",
              "      <td>1.0</td>\n",
              "      <td>0.0</td>\n",
              "      <td>0.0</td>\n",
              "      <td>0.0</td>\n",
              "      <td>0.0</td>\n",
              "      <td>0.0</td>\n",
              "    </tr>\n",
              "    <tr>\n",
              "      <th>2020-01-25</th>\n",
              "      <td>WA</td>\n",
              "      <td>1.0</td>\n",
              "      <td>0.0</td>\n",
              "      <td>1.0</td>\n",
              "      <td>0.0</td>\n",
              "      <td>0.0</td>\n",
              "      <td>0.0</td>\n",
              "      <td>0.0</td>\n",
              "      <td>0.0</td>\n",
              "    </tr>\n",
              "    <tr>\n",
              "      <th>2020-01-26</th>\n",
              "      <td>WA</td>\n",
              "      <td>1.0</td>\n",
              "      <td>0.0</td>\n",
              "      <td>1.0</td>\n",
              "      <td>0.0</td>\n",
              "      <td>0.0</td>\n",
              "      <td>0.0</td>\n",
              "      <td>0.0</td>\n",
              "      <td>0.0</td>\n",
              "    </tr>\n",
              "    <tr>\n",
              "      <th>2020-01-27</th>\n",
              "      <td>WA</td>\n",
              "      <td>1.0</td>\n",
              "      <td>0.0</td>\n",
              "      <td>1.0</td>\n",
              "      <td>0.0</td>\n",
              "      <td>0.0</td>\n",
              "      <td>0.0</td>\n",
              "      <td>0.0</td>\n",
              "      <td>0.0</td>\n",
              "    </tr>\n",
              "    <tr>\n",
              "      <th>2020-01-28</th>\n",
              "      <td>WA</td>\n",
              "      <td>1.0</td>\n",
              "      <td>0.0</td>\n",
              "      <td>1.0</td>\n",
              "      <td>0.0</td>\n",
              "      <td>0.0</td>\n",
              "      <td>0.0</td>\n",
              "      <td>0.0</td>\n",
              "      <td>0.0</td>\n",
              "    </tr>\n",
              "    <tr>\n",
              "      <th>2020-01-29</th>\n",
              "      <td>WA</td>\n",
              "      <td>1.0</td>\n",
              "      <td>0.0</td>\n",
              "      <td>1.0</td>\n",
              "      <td>0.0</td>\n",
              "      <td>0.0</td>\n",
              "      <td>0.0</td>\n",
              "      <td>0.0</td>\n",
              "      <td>0.0</td>\n",
              "    </tr>\n",
              "    <tr>\n",
              "      <th>2020-01-30</th>\n",
              "      <td>WA</td>\n",
              "      <td>1.0</td>\n",
              "      <td>0.0</td>\n",
              "      <td>1.0</td>\n",
              "      <td>0.0</td>\n",
              "      <td>0.0</td>\n",
              "      <td>0.0</td>\n",
              "      <td>0.0</td>\n",
              "      <td>0.0</td>\n",
              "    </tr>\n",
              "    <tr>\n",
              "      <th>2020-01-31</th>\n",
              "      <td>WA</td>\n",
              "      <td>1.0</td>\n",
              "      <td>0.0</td>\n",
              "      <td>1.0</td>\n",
              "      <td>0.0</td>\n",
              "      <td>0.0</td>\n",
              "      <td>0.0</td>\n",
              "      <td>0.0</td>\n",
              "      <td>0.0</td>\n",
              "    </tr>\n",
              "    <tr>\n",
              "      <th>2020-02-01</th>\n",
              "      <td>WA</td>\n",
              "      <td>1.0</td>\n",
              "      <td>0.0</td>\n",
              "      <td>1.0</td>\n",
              "      <td>0.0</td>\n",
              "      <td>0.0</td>\n",
              "      <td>0.0</td>\n",
              "      <td>0.0</td>\n",
              "      <td>0.0</td>\n",
              "    </tr>\n",
              "    <tr>\n",
              "      <th>2020-02-02</th>\n",
              "      <td>WA</td>\n",
              "      <td>1.0</td>\n",
              "      <td>0.0</td>\n",
              "      <td>1.0</td>\n",
              "      <td>0.0</td>\n",
              "      <td>0.0</td>\n",
              "      <td>0.0</td>\n",
              "      <td>0.0</td>\n",
              "      <td>0.0</td>\n",
              "    </tr>\n",
              "    <tr>\n",
              "      <th>2020-02-03</th>\n",
              "      <td>WA</td>\n",
              "      <td>1.0</td>\n",
              "      <td>0.0</td>\n",
              "      <td>1.0</td>\n",
              "      <td>0.0</td>\n",
              "      <td>0.0</td>\n",
              "      <td>0.0</td>\n",
              "      <td>0.0</td>\n",
              "      <td>0.0</td>\n",
              "    </tr>\n",
              "    <tr>\n",
              "      <th>2020-02-04</th>\n",
              "      <td>WA</td>\n",
              "      <td>1.0</td>\n",
              "      <td>0.0</td>\n",
              "      <td>1.0</td>\n",
              "      <td>0.0</td>\n",
              "      <td>0.0</td>\n",
              "      <td>0.0</td>\n",
              "      <td>0.0</td>\n",
              "      <td>0.0</td>\n",
              "    </tr>\n",
              "    <tr>\n",
              "      <th>2020-02-05</th>\n",
              "      <td>WA</td>\n",
              "      <td>1.0</td>\n",
              "      <td>0.0</td>\n",
              "      <td>1.0</td>\n",
              "      <td>0.0</td>\n",
              "      <td>0.0</td>\n",
              "      <td>0.0</td>\n",
              "      <td>0.0</td>\n",
              "      <td>0.0</td>\n",
              "    </tr>\n",
              "    <tr>\n",
              "      <th>2020-02-06</th>\n",
              "      <td>WA</td>\n",
              "      <td>1.0</td>\n",
              "      <td>0.0</td>\n",
              "      <td>1.0</td>\n",
              "      <td>0.0</td>\n",
              "      <td>0.0</td>\n",
              "      <td>0.0</td>\n",
              "      <td>0.0</td>\n",
              "      <td>1.0</td>\n",
              "    </tr>\n",
              "  </tbody>\n",
              "</table>\n",
              "</div>\n",
              "      <button class=\"colab-df-convert\" onclick=\"convertToInteractive('df-1329bebc-0c76-4dd3-8ac8-fab045f3fa00')\"\n",
              "              title=\"Convert this dataframe to an interactive table.\"\n",
              "              style=\"display:none;\">\n",
              "        \n",
              "  <svg xmlns=\"http://www.w3.org/2000/svg\" height=\"24px\"viewBox=\"0 0 24 24\"\n",
              "       width=\"24px\">\n",
              "    <path d=\"M0 0h24v24H0V0z\" fill=\"none\"/>\n",
              "    <path d=\"M18.56 5.44l.94 2.06.94-2.06 2.06-.94-2.06-.94-.94-2.06-.94 2.06-2.06.94zm-11 1L8.5 8.5l.94-2.06 2.06-.94-2.06-.94L8.5 2.5l-.94 2.06-2.06.94zm10 10l.94 2.06.94-2.06 2.06-.94-2.06-.94-.94-2.06-.94 2.06-2.06.94z\"/><path d=\"M17.41 7.96l-1.37-1.37c-.4-.4-.92-.59-1.43-.59-.52 0-1.04.2-1.43.59L10.3 9.45l-7.72 7.72c-.78.78-.78 2.05 0 2.83L4 21.41c.39.39.9.59 1.41.59.51 0 1.02-.2 1.41-.59l7.78-7.78 2.81-2.81c.8-.78.8-2.07 0-2.86zM5.41 20L4 18.59l7.72-7.72 1.47 1.35L5.41 20z\"/>\n",
              "  </svg>\n",
              "      </button>\n",
              "      \n",
              "  <style>\n",
              "    .colab-df-container {\n",
              "      display:flex;\n",
              "      flex-wrap:wrap;\n",
              "      gap: 12px;\n",
              "    }\n",
              "\n",
              "    .colab-df-convert {\n",
              "      background-color: #E8F0FE;\n",
              "      border: none;\n",
              "      border-radius: 50%;\n",
              "      cursor: pointer;\n",
              "      display: none;\n",
              "      fill: #1967D2;\n",
              "      height: 32px;\n",
              "      padding: 0 0 0 0;\n",
              "      width: 32px;\n",
              "    }\n",
              "\n",
              "    .colab-df-convert:hover {\n",
              "      background-color: #E2EBFA;\n",
              "      box-shadow: 0px 1px 2px rgba(60, 64, 67, 0.3), 0px 1px 3px 1px rgba(60, 64, 67, 0.15);\n",
              "      fill: #174EA6;\n",
              "    }\n",
              "\n",
              "    [theme=dark] .colab-df-convert {\n",
              "      background-color: #3B4455;\n",
              "      fill: #D2E3FC;\n",
              "    }\n",
              "\n",
              "    [theme=dark] .colab-df-convert:hover {\n",
              "      background-color: #434B5C;\n",
              "      box-shadow: 0px 1px 3px 1px rgba(0, 0, 0, 0.15);\n",
              "      filter: drop-shadow(0px 1px 2px rgba(0, 0, 0, 0.3));\n",
              "      fill: #FFFFFF;\n",
              "    }\n",
              "  </style>\n",
              "\n",
              "      <script>\n",
              "        const buttonEl =\n",
              "          document.querySelector('#df-1329bebc-0c76-4dd3-8ac8-fab045f3fa00 button.colab-df-convert');\n",
              "        buttonEl.style.display =\n",
              "          google.colab.kernel.accessAllowed ? 'block' : 'none';\n",
              "\n",
              "        async function convertToInteractive(key) {\n",
              "          const element = document.querySelector('#df-1329bebc-0c76-4dd3-8ac8-fab045f3fa00');\n",
              "          const dataTable =\n",
              "            await google.colab.kernel.invokeFunction('convertToInteractive',\n",
              "                                                     [key], {});\n",
              "          if (!dataTable) return;\n",
              "\n",
              "          const docLinkHtml = 'Like what you see? Visit the ' +\n",
              "            '<a target=\"_blank\" href=https://colab.research.google.com/notebooks/data_table.ipynb>data table notebook</a>'\n",
              "            + ' to learn more about interactive tables.';\n",
              "          element.innerHTML = '';\n",
              "          dataTable['output_type'] = 'display_data';\n",
              "          await google.colab.output.renderOutput(dataTable, element);\n",
              "          const docLink = document.createElement('div');\n",
              "          docLink.innerHTML = docLinkHtml;\n",
              "          element.appendChild(docLink);\n",
              "        }\n",
              "      </script>\n",
              "    </div>\n",
              "  </div>\n",
              "  "
            ],
            "text/plain": [
              "           state  positive  negative  total  hospitalizedincrease  \\\n",
              "2020-01-23    WA       1.0       0.0    1.0                   0.0   \n",
              "2020-01-24    WA       1.0       0.0    1.0                   0.0   \n",
              "2020-01-25    WA       1.0       0.0    1.0                   0.0   \n",
              "2020-01-26    WA       1.0       0.0    1.0                   0.0   \n",
              "2020-01-27    WA       1.0       0.0    1.0                   0.0   \n",
              "2020-01-28    WA       1.0       0.0    1.0                   0.0   \n",
              "2020-01-29    WA       1.0       0.0    1.0                   0.0   \n",
              "2020-01-30    WA       1.0       0.0    1.0                   0.0   \n",
              "2020-01-31    WA       1.0       0.0    1.0                   0.0   \n",
              "2020-02-01    WA       1.0       0.0    1.0                   0.0   \n",
              "2020-02-02    WA       1.0       0.0    1.0                   0.0   \n",
              "2020-02-03    WA       1.0       0.0    1.0                   0.0   \n",
              "2020-02-04    WA       1.0       0.0    1.0                   0.0   \n",
              "2020-02-05    WA       1.0       0.0    1.0                   0.0   \n",
              "2020-02-06    WA       1.0       0.0    1.0                   0.0   \n",
              "\n",
              "            negativeincrease  positiveincrease  totaltestresultsincrease  \\\n",
              "2020-01-23               0.0               0.0                       0.0   \n",
              "2020-01-24               0.0               0.0                       0.0   \n",
              "2020-01-25               0.0               0.0                       0.0   \n",
              "2020-01-26               0.0               0.0                       0.0   \n",
              "2020-01-27               0.0               0.0                       0.0   \n",
              "2020-01-28               0.0               0.0                       0.0   \n",
              "2020-01-29               0.0               0.0                       0.0   \n",
              "2020-01-30               0.0               0.0                       0.0   \n",
              "2020-01-31               0.0               0.0                       0.0   \n",
              "2020-02-01               0.0               0.0                       0.0   \n",
              "2020-02-02               0.0               0.0                       0.0   \n",
              "2020-02-03               0.0               0.0                       0.0   \n",
              "2020-02-04               0.0               0.0                       0.0   \n",
              "2020-02-05               0.0               0.0                       0.0   \n",
              "2020-02-06               0.0               0.0                       0.0   \n",
              "\n",
              "            tomorrow_new_pos  \n",
              "2020-01-23               0.0  \n",
              "2020-01-24               0.0  \n",
              "2020-01-25               0.0  \n",
              "2020-01-26               0.0  \n",
              "2020-01-27               0.0  \n",
              "2020-01-28               0.0  \n",
              "2020-01-29               0.0  \n",
              "2020-01-30               0.0  \n",
              "2020-01-31               0.0  \n",
              "2020-02-01               0.0  \n",
              "2020-02-02               0.0  \n",
              "2020-02-03               0.0  \n",
              "2020-02-04               0.0  \n",
              "2020-02-05               0.0  \n",
              "2020-02-06               1.0  "
            ]
          },
          "metadata": {},
          "execution_count": 4
        }
      ]
    },
    {
      "cell_type": "markdown",
      "metadata": {
        "id": "opcTSVUZaSdY"
      },
      "source": [
        "Try printing the number of **rows** and the number of **columns** in the dataset.\n",
        "\n",
        "(Hint: the [Pandas documentation](https://pandas.pydata.org/pandas-docs/stable/reference/frame.html) might help `shape` your thinking.)"
      ]
    },
    {
      "cell_type": "code",
      "metadata": {
        "id": "kXh58IFxRuPO",
        "colab": {
          "base_uri": "https://localhost:8080/"
        },
        "outputId": "d4542a0c-41c7-4891-a43c-015a8b040fda"
      },
      "source": [
        "#YOUR CODE HERE to identify the number of rows and columns:\n",
        "num_rows = data.shape[0]\n",
        "num_columns = data.shape[1]\n",
        "\n",
        "#END YOUR CODE\n",
        "\n",
        "print (num_rows, \"rows\")\n",
        "print (num_columns, \"columns\")"
      ],
      "execution_count": null,
      "outputs": [
        {
          "output_type": "stream",
          "name": "stdout",
          "text": [
            "2915 rows\n",
            "9 columns\n"
          ]
        }
      ]
    },
    {
      "cell_type": "markdown",
      "metadata": {
        "id": "OF_egosjJhNq"
      },
      "source": [
        "### Analyzing our data\n",
        "\n",
        "Our overall goal is to create a model that can predict the number of new positive COVID-19 cases the next day. A good first step is to see how many positive COVID-19 cases each state has been having so far.\n"
      ]
    },
    {
      "cell_type": "code",
      "metadata": {
        "cellView": "form",
        "id": "FLAfZo6JQ7r4",
        "colab": {
          "base_uri": "https://localhost:8080/",
          "height": 591
        },
        "outputId": "96372697-1234-45e5-eeed-2f4e24c4deb2"
      },
      "source": [
        "#@title ### Type in a state's two-letter abbreviation (e.g. CA for California) to see a graph of that state's positive COVID-19 cases over time. Try comparing the data for a few states!\n",
        "\n",
        "# get state\n",
        "state = \"il\" #@param {type:\"string\"}\n",
        "\n",
        "# get uppercase version\n",
        "state=state.upper()\n",
        "\n",
        "# get states\n",
        "states = set(data[\"state\"])\n",
        "\n",
        "# check to see if entry is in the state\n",
        "if state not in states:\n",
        "    raise ValueError(\"Abbreviation isn't a state. Please try again\")\n",
        "print(f\"You've chosen to see the data for the state of {state}\")\n",
        "\n",
        "\n",
        "# check out graphs of positive cases, by week\n",
        "new_data=data[data[\"state\"] == state]\n",
        "new_data.index = (new_data.index - datetime(2020, 1, 1)).days\n",
        "\n",
        "plt.plot(new_data.index, new_data.tomorrow_new_pos)\n",
        "plt.title(f\"New positive cases each day for {state}\")\n",
        "plt.ylabel(\"Number of new positive cases\")\n",
        "plt.xlabel(\"Day of the year\")\n",
        "plt.xlim(22, 118)\n",
        "plt.show()\n",
        "\n",
        "plt.plot(new_data.index, new_data.positive)\n",
        "plt.title(f\"Total number of positive cases for the state of {state}\")\n",
        "plt.ylabel(\"Number of total positive cases\")\n",
        "plt.xlabel(\"Day of the year\")\n",
        "plt.xlim(22, 118)\n",
        "plt.show()"
      ],
      "execution_count": null,
      "outputs": [
        {
          "output_type": "stream",
          "name": "stdout",
          "text": [
            "You've chosen to see the data for the state of IL\n"
          ]
        },
        {
          "output_type": "display_data",
          "data": {
            "image/png": "[encoded data removed]",
            "text/plain": [
              "<Figure size 432x288 with 1 Axes>"
            ]
          },
          "metadata": {
            "needs_background": "light"
          }
        },
        {
          "output_type": "display_data",
          "data": {
            "image/png": "[encoded data removed]",
            "text/plain": [
              "<Figure size 432x288 with 1 Axes>"
            ]
          },
          "metadata": {
            "needs_background": "light"
          }
        }
      ]
    },
    {
      "cell_type": "markdown",
      "metadata": {
        "id": "eUMujqLnNsOM"
      },
      "source": [
        "### Questions to consider\n",
        "\n",
        "What trends do you notice in COVID cases in different states? Where are there the most cases? Where do cases grow most quickly?\n",
        "\n",
        "The data describes cases up until April. Can you predict the trends in May?\n"
      ]
    },
    {
      "cell_type": "markdown",
      "metadata": {
        "id": "BEI-n--6U2_1"
      },
      "source": [
        "## 2. Linear Regression\n",
        "\n",
        "Now that we've done some exploratory analysis, we can start modeling. It's good practice to start with simpler models such as linear regression, see what patterns we can pick up on from creating these models, and then move on to more complex models such as neural networks.\n"
      ]
    },
    {
      "cell_type": "markdown",
      "metadata": {
        "id": "bns4r4gXVSsm"
      },
      "source": [
        "### Review: What is linear regression?\n",
        "\n",
        "**Linear regression** models the relationship between an **independent variable** `x` and a **dependent variable** `y` as a line:\n",
        "\n",
        "$$y= mx + b$$\n",
        "\n",
        "\n",
        "**(Optional)** Let's explore linear regression through a [demo!](http://setosa.io/ev/ordinary-least-squares-regression/)"
      ]
    },
    {
      "cell_type": "markdown",
      "metadata": {
        "id": "D0scou1vV_cF"
      },
      "source": [
        "### Fitting a linear regression\n",
        "\n",
        "Now that we have some idea of what a linear regression is, let's create one! We'll need to:\n",
        "\n",
        "1. Prepare our data and perform a train-test split\n",
        "2. Create and train our linear regression model\n",
        "3. Make predictions using our model\n",
        "4. Evaluate our model\n",
        "\n",
        "**Why do we need each step?**"
      ]
    },
    {
      "cell_type": "markdown",
      "metadata": {
        "id": "4VjvJU4OhCQh"
      },
      "source": [
        "First, we need to separate `X_raw` (our input: all the columns with today's data) from `y_raw` (our output: the number of positives tomorrow.) Create the data frames below using `data`:"
      ]
    },
    {
      "cell_type": "code",
      "metadata": {
        "id": "e3kMPvY9g_cp"
      },
      "source": [
        "#YOUR CODE HERE to create data frames X_raw and y_raw\n",
        "X_raw = data[[\"state\", \"positive\", \n",
        "             \"negative\", \"total\", \n",
        "             \"hospitalizedincrease\", \"negativeincrease\", \n",
        "             \"positiveincrease\", \"totaltestresultsincrease\"]]\n",
        "y_raw = data[[\"tomorrow_new_pos\"]]"
      ],
      "execution_count": null,
      "outputs": []
    },
    {
      "cell_type": "markdown",
      "metadata": {
        "id": "r68G4JfpiWXx"
      },
      "source": [
        "Now, let's handle a few data formatting issues: we'll convert the State column to one-hot-encoded columns and add a new day_of_year column. Check out the code if you're curious!"
      ]
    },
    {
      "cell_type": "code",
      "metadata": {
        "id": "G0OA1u3cXHcp",
        "colab": {
          "base_uri": "https://localhost:8080/",
          "height": 270
        },
        "outputId": "98a7fc80-a208-47bf-83a1-0f88b0e3ce0d"
      },
      "source": [
        "#@title Run this to format data\n",
        "\n",
        "# let's one-hot-encode our states\n",
        "one_hot_columns = pd.get_dummies(X_raw.state, prefix=\"state\")\n",
        "\n",
        "# append one_hot_columns\n",
        "X = pd.concat([X_raw, one_hot_columns], axis=1)\n",
        "X.drop('state',axis=1,inplace=True)\n",
        "\n",
        "X[\"day_of_year\"] = (X.index - datetime(2020, 1, 1)).days\n",
        "\n",
        "X.reset_index(inplace = True, drop=True)\n",
        "y = y_raw.reset_index(drop = True)\n",
        "\n",
        "X.head(5)"
      ],
      "execution_count": null,
      "outputs": [
        {
          "output_type": "execute_result",
          "data": {
            "text/html": [
              "\n",
              "  <div id=\"df-4ddec0b1-bd76-4f6f-a174-d92a5e100549\">\n",
              "    <div class=\"colab-df-container\">\n",
              "      <div>\n",
              "<style scoped>\n",
              "    .dataframe tbody tr th:only-of-type {\n",
              "        vertical-align: middle;\n",
              "    }\n",
              "\n",
              "    .dataframe tbody tr th {\n",
              "        vertical-align: top;\n",
              "    }\n",
              "\n",
              "    .dataframe thead th {\n",
              "        text-align: right;\n",
              "    }\n",
              "</style>\n",
              "<table border=\"1\" class=\"dataframe\">\n",
              "  <thead>\n",
              "    <tr style=\"text-align: right;\">\n",
              "      <th></th>\n",
              "      <th>positive</th>\n",
              "      <th>negative</th>\n",
              "      <th>total</th>\n",
              "      <th>hospitalizedincrease</th>\n",
              "      <th>negativeincrease</th>\n",
              "      <th>positiveincrease</th>\n",
              "      <th>totaltestresultsincrease</th>\n",
              "      <th>state_AK</th>\n",
              "      <th>state_AL</th>\n",
              "      <th>state_AR</th>\n",
              "      <th>state_AS</th>\n",
              "      <th>state_AZ</th>\n",
              "      <th>state_CA</th>\n",
              "      <th>state_CO</th>\n",
              "      <th>state_CT</th>\n",
              "      <th>state_DC</th>\n",
              "      <th>state_DE</th>\n",
              "      <th>state_FL</th>\n",
              "      <th>state_GA</th>\n",
              "      <th>state_GU</th>\n",
              "      <th>state_HI</th>\n",
              "      <th>state_IA</th>\n",
              "      <th>state_ID</th>\n",
              "      <th>state_IL</th>\n",
              "      <th>state_IN</th>\n",
              "      <th>state_KS</th>\n",
              "      <th>state_KY</th>\n",
              "      <th>state_LA</th>\n",
              "      <th>state_MA</th>\n",
              "      <th>state_MD</th>\n",
              "      <th>state_ME</th>\n",
              "      <th>state_MI</th>\n",
              "      <th>state_MN</th>\n",
              "      <th>state_MO</th>\n",
              "      <th>state_MP</th>\n",
              "      <th>state_MS</th>\n",
              "      <th>state_MT</th>\n",
              "      <th>state_NC</th>\n",
              "      <th>state_ND</th>\n",
              "      <th>state_NE</th>\n",
              "      <th>state_NH</th>\n",
              "      <th>state_NJ</th>\n",
              "      <th>state_NM</th>\n",
              "      <th>state_NV</th>\n",
              "      <th>state_NY</th>\n",
              "      <th>state_OH</th>\n",
              "      <th>state_OK</th>\n",
              "      <th>state_OR</th>\n",
              "      <th>state_PA</th>\n",
              "      <th>state_PR</th>\n",
              "      <th>state_RI</th>\n",
              "      <th>state_SC</th>\n",
              "      <th>state_SD</th>\n",
              "      <th>state_TN</th>\n",
              "      <th>state_TX</th>\n",
              "      <th>state_UT</th>\n",
              "      <th>state_VA</th>\n",
              "      <th>state_VI</th>\n",
              "      <th>state_VT</th>\n",
              "      <th>state_WA</th>\n",
              "      <th>state_WI</th>\n",
              "      <th>state_WV</th>\n",
              "      <th>state_WY</th>\n",
              "      <th>day_of_year</th>\n",
              "    </tr>\n",
              "  </thead>\n",
              "  <tbody>\n",
              "    <tr>\n",
              "      <th>0</th>\n",
              "      <td>1.0</td>\n",
              "      <td>0.0</td>\n",
              "      <td>1.0</td>\n",
              "      <td>0.0</td>\n",
              "      <td>0.0</td>\n",
              "      <td>0.0</td>\n",
              "      <td>0.0</td>\n",
              "      <td>0</td>\n",
              "      <td>0</td>\n",
              "      <td>0</td>\n",
              "      <td>0</td>\n",
              "      <td>0</td>\n",
              "      <td>0</td>\n",
              "      <td>0</td>\n",
              "      <td>0</td>\n",
              "      <td>0</td>\n",
              "      <td>0</td>\n",
              "      <td>0</td>\n",
              "      <td>0</td>\n",
              "      <td>0</td>\n",
              "      <td>0</td>\n",
              "      <td>0</td>\n",
              "      <td>0</td>\n",
              "      <td>0</td>\n",
              "      <td>0</td>\n",
              "      <td>0</td>\n",
              "      <td>0</td>\n",
              "      <td>0</td>\n",
              "      <td>0</td>\n",
              "      <td>0</td>\n",
              "      <td>0</td>\n",
              "      <td>0</td>\n",
              "      <td>0</td>\n",
              "      <td>0</td>\n",
              "      <td>0</td>\n",
              "      <td>0</td>\n",
              "      <td>0</td>\n",
              "      <td>0</td>\n",
              "      <td>0</td>\n",
              "      <td>0</td>\n",
              "      <td>0</td>\n",
              "      <td>0</td>\n",
              "      <td>0</td>\n",
              "      <td>0</td>\n",
              "      <td>0</td>\n",
              "      <td>0</td>\n",
              "      <td>0</td>\n",
              "      <td>0</td>\n",
              "      <td>0</td>\n",
              "      <td>0</td>\n",
              "      <td>0</td>\n",
              "      <td>0</td>\n",
              "      <td>0</td>\n",
              "      <td>0</td>\n",
              "      <td>0</td>\n",
              "      <td>0</td>\n",
              "      <td>0</td>\n",
              "      <td>0</td>\n",
              "      <td>0</td>\n",
              "      <td>1</td>\n",
              "      <td>0</td>\n",
              "      <td>0</td>\n",
              "      <td>0</td>\n",
              "      <td>22</td>\n",
              "    </tr>\n",
              "    <tr>\n",
              "      <th>1</th>\n",
              "      <td>1.0</td>\n",
              "      <td>0.0</td>\n",
              "      <td>1.0</td>\n",
              "      <td>0.0</td>\n",
              "      <td>0.0</td>\n",
              "      <td>0.0</td>\n",
              "      <td>0.0</td>\n",
              "      <td>0</td>\n",
              "      <td>0</td>\n",
              "      <td>0</td>\n",
              "      <td>0</td>\n",
              "      <td>0</td>\n",
              "      <td>0</td>\n",
              "      <td>0</td>\n",
              "      <td>0</td>\n",
              "      <td>0</td>\n",
              "      <td>0</td>\n",
              "      <td>0</td>\n",
              "      <td>0</td>\n",
              "      <td>0</td>\n",
              "      <td>0</td>\n",
              "      <td>0</td>\n",
              "      <td>0</td>\n",
              "      <td>0</td>\n",
              "      <td>0</td>\n",
              "      <td>0</td>\n",
              "      <td>0</td>\n",
              "      <td>0</td>\n",
              "      <td>0</td>\n",
              "      <td>0</td>\n",
              "      <td>0</td>\n",
              "      <td>0</td>\n",
              "      <td>0</td>\n",
              "      <td>0</td>\n",
              "      <td>0</td>\n",
              "      <td>0</td>\n",
              "      <td>0</td>\n",
              "      <td>0</td>\n",
              "      <td>0</td>\n",
              "      <td>0</td>\n",
              "      <td>0</td>\n",
              "      <td>0</td>\n",
              "      <td>0</td>\n",
              "      <td>0</td>\n",
              "      <td>0</td>\n",
              "      <td>0</td>\n",
              "      <td>0</td>\n",
              "      <td>0</td>\n",
              "      <td>0</td>\n",
              "      <td>0</td>\n",
              "      <td>0</td>\n",
              "      <td>0</td>\n",
              "      <td>0</td>\n",
              "      <td>0</td>\n",
              "      <td>0</td>\n",
              "      <td>0</td>\n",
              "      <td>0</td>\n",
              "      <td>0</td>\n",
              "      <td>0</td>\n",
              "      <td>1</td>\n",
              "      <td>0</td>\n",
              "      <td>0</td>\n",
              "      <td>0</td>\n",
              "      <td>23</td>\n",
              "    </tr>\n",
              "    <tr>\n",
              "      <th>2</th>\n",
              "      <td>1.0</td>\n",
              "      <td>0.0</td>\n",
              "      <td>1.0</td>\n",
              "      <td>0.0</td>\n",
              "      <td>0.0</td>\n",
              "      <td>0.0</td>\n",
              "      <td>0.0</td>\n",
              "      <td>0</td>\n",
              "      <td>0</td>\n",
              "      <td>0</td>\n",
              "      <td>0</td>\n",
              "      <td>0</td>\n",
              "      <td>0</td>\n",
              "      <td>0</td>\n",
              "      <td>0</td>\n",
              "      <td>0</td>\n",
              "      <td>0</td>\n",
              "      <td>0</td>\n",
              "      <td>0</td>\n",
              "      <td>0</td>\n",
              "      <td>0</td>\n",
              "      <td>0</td>\n",
              "      <td>0</td>\n",
              "      <td>0</td>\n",
              "      <td>0</td>\n",
              "      <td>0</td>\n",
              "      <td>0</td>\n",
              "      <td>0</td>\n",
              "      <td>0</td>\n",
              "      <td>0</td>\n",
              "      <td>0</td>\n",
              "      <td>0</td>\n",
              "      <td>0</td>\n",
              "      <td>0</td>\n",
              "      <td>0</td>\n",
              "      <td>0</td>\n",
              "      <td>0</td>\n",
              "      <td>0</td>\n",
              "      <td>0</td>\n",
              "      <td>0</td>\n",
              "      <td>0</td>\n",
              "      <td>0</td>\n",
              "      <td>0</td>\n",
              "      <td>0</td>\n",
              "      <td>0</td>\n",
              "      <td>0</td>\n",
              "      <td>0</td>\n",
              "      <td>0</td>\n",
              "      <td>0</td>\n",
              "      <td>0</td>\n",
              "      <td>0</td>\n",
              "      <td>0</td>\n",
              "      <td>0</td>\n",
              "      <td>0</td>\n",
              "      <td>0</td>\n",
              "      <td>0</td>\n",
              "      <td>0</td>\n",
              "      <td>0</td>\n",
              "      <td>0</td>\n",
              "      <td>1</td>\n",
              "      <td>0</td>\n",
              "      <td>0</td>\n",
              "      <td>0</td>\n",
              "      <td>24</td>\n",
              "    </tr>\n",
              "    <tr>\n",
              "      <th>3</th>\n",
              "      <td>1.0</td>\n",
              "      <td>0.0</td>\n",
              "      <td>1.0</td>\n",
              "      <td>0.0</td>\n",
              "      <td>0.0</td>\n",
              "      <td>0.0</td>\n",
              "      <td>0.0</td>\n",
              "      <td>0</td>\n",
              "      <td>0</td>\n",
              "      <td>0</td>\n",
              "      <td>0</td>\n",
              "      <td>0</td>\n",
              "      <td>0</td>\n",
              "      <td>0</td>\n",
              "      <td>0</td>\n",
              "      <td>0</td>\n",
              "      <td>0</td>\n",
              "      <td>0</td>\n",
              "      <td>0</td>\n",
              "      <td>0</td>\n",
              "      <td>0</td>\n",
              "      <td>0</td>\n",
              "      <td>0</td>\n",
              "      <td>0</td>\n",
              "      <td>0</td>\n",
              "      <td>0</td>\n",
              "      <td>0</td>\n",
              "      <td>0</td>\n",
              "      <td>0</td>\n",
              "      <td>0</td>\n",
              "      <td>0</td>\n",
              "      <td>0</td>\n",
              "      <td>0</td>\n",
              "      <td>0</td>\n",
              "      <td>0</td>\n",
              "      <td>0</td>\n",
              "      <td>0</td>\n",
              "      <td>0</td>\n",
              "      <td>0</td>\n",
              "      <td>0</td>\n",
              "      <td>0</td>\n",
              "      <td>0</td>\n",
              "      <td>0</td>\n",
              "      <td>0</td>\n",
              "      <td>0</td>\n",
              "      <td>0</td>\n",
              "      <td>0</td>\n",
              "      <td>0</td>\n",
              "      <td>0</td>\n",
              "      <td>0</td>\n",
              "      <td>0</td>\n",
              "      <td>0</td>\n",
              "      <td>0</td>\n",
              "      <td>0</td>\n",
              "      <td>0</td>\n",
              "      <td>0</td>\n",
              "      <td>0</td>\n",
              "      <td>0</td>\n",
              "      <td>0</td>\n",
              "      <td>1</td>\n",
              "      <td>0</td>\n",
              "      <td>0</td>\n",
              "      <td>0</td>\n",
              "      <td>25</td>\n",
              "    </tr>\n",
              "    <tr>\n",
              "      <th>4</th>\n",
              "      <td>1.0</td>\n",
              "      <td>0.0</td>\n",
              "      <td>1.0</td>\n",
              "      <td>0.0</td>\n",
              "      <td>0.0</td>\n",
              "      <td>0.0</td>\n",
              "      <td>0.0</td>\n",
              "      <td>0</td>\n",
              "      <td>0</td>\n",
              "      <td>0</td>\n",
              "      <td>0</td>\n",
              "      <td>0</td>\n",
              "      <td>0</td>\n",
              "      <td>0</td>\n",
              "      <td>0</td>\n",
              "      <td>0</td>\n",
              "      <td>0</td>\n",
              "      <td>0</td>\n",
              "      <td>0</td>\n",
              "      <td>0</td>\n",
              "      <td>0</td>\n",
              "      <td>0</td>\n",
              "      <td>0</td>\n",
              "      <td>0</td>\n",
              "      <td>0</td>\n",
              "      <td>0</td>\n",
              "      <td>0</td>\n",
              "      <td>0</td>\n",
              "      <td>0</td>\n",
              "      <td>0</td>\n",
              "      <td>0</td>\n",
              "      <td>0</td>\n",
              "      <td>0</td>\n",
              "      <td>0</td>\n",
              "      <td>0</td>\n",
              "      <td>0</td>\n",
              "      <td>0</td>\n",
              "      <td>0</td>\n",
              "      <td>0</td>\n",
              "      <td>0</td>\n",
              "      <td>0</td>\n",
              "      <td>0</td>\n",
              "      <td>0</td>\n",
              "      <td>0</td>\n",
              "      <td>0</td>\n",
              "      <td>0</td>\n",
              "      <td>0</td>\n",
              "      <td>0</td>\n",
              "      <td>0</td>\n",
              "      <td>0</td>\n",
              "      <td>0</td>\n",
              "      <td>0</td>\n",
              "      <td>0</td>\n",
              "      <td>0</td>\n",
              "      <td>0</td>\n",
              "      <td>0</td>\n",
              "      <td>0</td>\n",
              "      <td>0</td>\n",
              "      <td>0</td>\n",
              "      <td>1</td>\n",
              "      <td>0</td>\n",
              "      <td>0</td>\n",
              "      <td>0</td>\n",
              "      <td>26</td>\n",
              "    </tr>\n",
              "  </tbody>\n",
              "</table>\n",
              "</div>\n",
              "      <button class=\"colab-df-convert\" onclick=\"convertToInteractive('df-4ddec0b1-bd76-4f6f-a174-d92a5e100549')\"\n",
              "              title=\"Convert this dataframe to an interactive table.\"\n",
              "              style=\"display:none;\">\n",
              "        \n",
              "  <svg xmlns=\"http://www.w3.org/2000/svg\" height=\"24px\"viewBox=\"0 0 24 24\"\n",
              "       width=\"24px\">\n",
              "    <path d=\"M0 0h24v24H0V0z\" fill=\"none\"/>\n",
              "    <path d=\"M18.56 5.44l.94 2.06.94-2.06 2.06-.94-2.06-.94-.94-2.06-.94 2.06-2.06.94zm-11 1L8.5 8.5l.94-2.06 2.06-.94-2.06-.94L8.5 2.5l-.94 2.06-2.06.94zm10 10l.94 2.06.94-2.06 2.06-.94-2.06-.94-.94-2.06-.94 2.06-2.06.94z\"/><path d=\"M17.41 7.96l-1.37-1.37c-.4-.4-.92-.59-1.43-.59-.52 0-1.04.2-1.43.59L10.3 9.45l-7.72 7.72c-.78.78-.78 2.05 0 2.83L4 21.41c.39.39.9.59 1.41.59.51 0 1.02-.2 1.41-.59l7.78-7.78 2.81-2.81c.8-.78.8-2.07 0-2.86zM5.41 20L4 18.59l7.72-7.72 1.47 1.35L5.41 20z\"/>\n",
              "  </svg>\n",
              "      </button>\n",
              "      \n",
              "  <style>\n",
              "    .colab-df-container {\n",
              "      display:flex;\n",
              "      flex-wrap:wrap;\n",
              "      gap: 12px;\n",
              "    }\n",
              "\n",
              "    .colab-df-convert {\n",
              "      background-color: #E8F0FE;\n",
              "      border: none;\n",
              "      border-radius: 50%;\n",
              "      cursor: pointer;\n",
              "      display: none;\n",
              "      fill: #1967D2;\n",
              "      height: 32px;\n",
              "      padding: 0 0 0 0;\n",
              "      width: 32px;\n",
              "    }\n",
              "\n",
              "    .colab-df-convert:hover {\n",
              "      background-color: #E2EBFA;\n",
              "      box-shadow: 0px 1px 2px rgba(60, 64, 67, 0.3), 0px 1px 3px 1px rgba(60, 64, 67, 0.15);\n",
              "      fill: #174EA6;\n",
              "    }\n",
              "\n",
              "    [theme=dark] .colab-df-convert {\n",
              "      background-color: #3B4455;\n",
              "      fill: #D2E3FC;\n",
              "    }\n",
              "\n",
              "    [theme=dark] .colab-df-convert:hover {\n",
              "      background-color: #434B5C;\n",
              "      box-shadow: 0px 1px 3px 1px rgba(0, 0, 0, 0.15);\n",
              "      filter: drop-shadow(0px 1px 2px rgba(0, 0, 0, 0.3));\n",
              "      fill: #FFFFFF;\n",
              "    }\n",
              "  </style>\n",
              "\n",
              "      <script>\n",
              "        const buttonEl =\n",
              "          document.querySelector('#df-4ddec0b1-bd76-4f6f-a174-d92a5e100549 button.colab-df-convert');\n",
              "        buttonEl.style.display =\n",
              "          google.colab.kernel.accessAllowed ? 'block' : 'none';\n",
              "\n",
              "        async function convertToInteractive(key) {\n",
              "          const element = document.querySelector('#df-4ddec0b1-bd76-4f6f-a174-d92a5e100549');\n",
              "          const dataTable =\n",
              "            await google.colab.kernel.invokeFunction('convertToInteractive',\n",
              "                                                     [key], {});\n",
              "          if (!dataTable) return;\n",
              "\n",
              "          const docLinkHtml = 'Like what you see? Visit the ' +\n",
              "            '<a target=\"_blank\" href=https://colab.research.google.com/notebooks/data_table.ipynb>data table notebook</a>'\n",
              "            + ' to learn more about interactive tables.';\n",
              "          element.innerHTML = '';\n",
              "          dataTable['output_type'] = 'display_data';\n",
              "          await google.colab.output.renderOutput(dataTable, element);\n",
              "          const docLink = document.createElement('div');\n",
              "          docLink.innerHTML = docLinkHtml;\n",
              "          element.appendChild(docLink);\n",
              "        }\n",
              "      </script>\n",
              "    </div>\n",
              "  </div>\n",
              "  "
            ],
            "text/plain": [
              "   positive  negative  total  hospitalizedincrease  negativeincrease  \\\n",
              "0       1.0       0.0    1.0                   0.0               0.0   \n",
              "1       1.0       0.0    1.0                   0.0               0.0   \n",
              "2       1.0       0.0    1.0                   0.0               0.0   \n",
              "3       1.0       0.0    1.0                   0.0               0.0   \n",
              "4       1.0       0.0    1.0                   0.0               0.0   \n",
              "\n",
              "   positiveincrease  totaltestresultsincrease  state_AK  state_AL  state_AR  \\\n",
              "0               0.0                       0.0         0         0         0   \n",
              "1               0.0                       0.0         0         0         0   \n",
              "2               0.0                       0.0         0         0         0   \n",
              "3               0.0                       0.0         0         0         0   \n",
              "4               0.0                       0.0         0         0         0   \n",
              "\n",
              "   state_AS  state_AZ  state_CA  state_CO  state_CT  state_DC  state_DE  \\\n",
              "0         0         0         0         0         0         0         0   \n",
              "1         0         0         0         0         0         0         0   \n",
              "2         0         0         0         0         0         0         0   \n",
              "3         0         0         0         0         0         0         0   \n",
              "4         0         0         0         0         0         0         0   \n",
              "\n",
              "   state_FL  state_GA  state_GU  state_HI  state_IA  state_ID  state_IL  \\\n",
              "0         0         0         0         0         0         0         0   \n",
              "1         0         0         0         0         0         0         0   \n",
              "2         0         0         0         0         0         0         0   \n",
              "3         0         0         0         0         0         0         0   \n",
              "4         0         0         0         0         0         0         0   \n",
              "\n",
              "   state_IN  state_KS  state_KY  state_LA  state_MA  state_MD  state_ME  \\\n",
              "0         0         0         0         0         0         0         0   \n",
              "1         0         0         0         0         0         0         0   \n",
              "2         0         0         0         0         0         0         0   \n",
              "3         0         0         0         0         0         0         0   \n",
              "4         0         0         0         0         0         0         0   \n",
              "\n",
              "   state_MI  state_MN  state_MO  state_MP  state_MS  state_MT  state_NC  \\\n",
              "0         0         0         0         0         0         0         0   \n",
              "1         0         0         0         0         0         0         0   \n",
              "2         0         0         0         0         0         0         0   \n",
              "3         0         0         0         0         0         0         0   \n",
              "4         0         0         0         0         0         0         0   \n",
              "\n",
              "   state_ND  state_NE  state_NH  state_NJ  state_NM  state_NV  state_NY  \\\n",
              "0         0         0         0         0         0         0         0   \n",
              "1         0         0         0         0         0         0         0   \n",
              "2         0         0         0         0         0         0         0   \n",
              "3         0         0         0         0         0         0         0   \n",
              "4         0         0         0         0         0         0         0   \n",
              "\n",
              "   state_OH  state_OK  state_OR  state_PA  state_PR  state_RI  state_SC  \\\n",
              "0         0         0         0         0         0         0         0   \n",
              "1         0         0         0         0         0         0         0   \n",
              "2         0         0         0         0         0         0         0   \n",
              "3         0         0         0         0         0         0         0   \n",
              "4         0         0         0         0         0         0         0   \n",
              "\n",
              "   state_SD  state_TN  state_TX  state_UT  state_VA  state_VI  state_VT  \\\n",
              "0         0         0         0         0         0         0         0   \n",
              "1         0         0         0         0         0         0         0   \n",
              "2         0         0         0         0         0         0         0   \n",
              "3         0         0         0         0         0         0         0   \n",
              "4         0         0         0         0         0         0         0   \n",
              "\n",
              "   state_WA  state_WI  state_WV  state_WY  day_of_year  \n",
              "0         1         0         0         0           22  \n",
              "1         1         0         0         0           23  \n",
              "2         1         0         0         0           24  \n",
              "3         1         0         0         0           25  \n",
              "4         1         0         0         0           26  "
            ]
          },
          "metadata": {},
          "execution_count": 8
        }
      ]
    },
    {
      "cell_type": "markdown",
      "metadata": {
        "id": "-s6pvziLWw_y"
      },
      "source": [
        "#### 1. Perform a train-test split\n",
        "\n",
        "Before we can create our model, we have to split our data into training and test data. **Why?**\n",
        "\n",
        "Often, we split randomly. But today, we'll split by time: the first few months of our data will be the training data and the last few weeks will be testing data. **Question: Why split by time instead of randomly?**\n",
        "\n",
        "It's to make sure that our model has never learned any information about the testing data. If we split randomly, we could have days in the testing data which are the \"tomorrow\" of a day in the training data!\n",
        "\n"
      ]
    },
    {
      "cell_type": "markdown",
      "metadata": {
        "id": "SgdfCxhHPUQx"
      },
      "source": [
        "Let's use an 80%/20% train-test split. Calculate the number of rows to use in training data:"
      ]
    },
    {
      "cell_type": "code",
      "metadata": {
        "id": "WJAxlX5p1Vsu"
      },
      "source": [
        "X_train, X_test, y_train, y_test = train_test_split(X, y, test_size=0.2, shuffle=False)"
      ],
      "execution_count": null,
      "outputs": []
    },
    {
      "cell_type": "markdown",
      "metadata": {
        "id": "R72MID0Iz3sj"
      },
      "source": [
        "Does the `shape` of each frame look right?"
      ]
    },
    {
      "cell_type": "code",
      "metadata": {
        "id": "OEV0sSXHz2Sk",
        "colab": {
          "base_uri": "https://localhost:8080/"
        },
        "outputId": "b138e125-ff8a-45ab-a4d5-51a43f7da60d"
      },
      "source": [
        "#YOUR CODE HERE to check out what each frame looks like\n",
        "X_train.shape\n",
        "X_test.shape\n",
        "y_train.shape\n",
        "y_test.shape"
      ],
      "execution_count": null,
      "outputs": [
        {
          "output_type": "execute_result",
          "data": {
            "text/plain": [
              "(583, 1)"
            ]
          },
          "metadata": {},
          "execution_count": 10
        }
      ]
    },
    {
      "cell_type": "markdown",
      "metadata": {
        "id": "DFsp5lEUa2Zx"
      },
      "source": [
        "#### 2. Create and train our linear regression model\n",
        "\n",
        "Now, let's create our linear regression model! We'll use the linear regression model from Scikit-learn.\n"
      ]
    },
    {
      "cell_type": "code",
      "metadata": {
        "id": "fvNdjnyHVAxl"
      },
      "source": [
        "# Run this cell to set up the linear regression model\n",
        "linear = linear_model.LinearRegression()"
      ],
      "execution_count": null,
      "outputs": []
    },
    {
      "cell_type": "markdown",
      "metadata": {
        "id": "0KvUG-tlENya"
      },
      "source": [
        "Next, let's train our linear regression model on our data."
      ]
    },
    {
      "cell_type": "code",
      "metadata": {
        "cellView": "both",
        "id": "ijls7t-nbgey",
        "colab": {
          "base_uri": "https://localhost:8080/"
        },
        "outputId": "cc5d3258-5062-4b1a-e799-aad75f6e7119"
      },
      "source": [
        "# YOUR CODE HERE to train our model! What are the inputs?\n",
        "#Example: linear.fit(FILL ME IN)\n",
        "linear.fit(X_train, y_train)"
      ],
      "execution_count": null,
      "outputs": [
        {
          "output_type": "execute_result",
          "data": {
            "text/plain": [
              "LinearRegression()"
            ]
          },
          "metadata": {},
          "execution_count": 12
        }
      ]
    },
    {
      "cell_type": "markdown",
      "metadata": {
        "id": "ZkyUplK9vjgv"
      },
      "source": [
        "#### 3. Make predictions using our model\n",
        "\n",
        "Now, let's make some predictions on the test set!\n",
        "\n"
      ]
    },
    {
      "cell_type": "code",
      "metadata": {
        "id": "HkNejfktyKrE"
      },
      "source": [
        "# YOUR CODE HERE to test our model! What are the inputs?\n",
        "#Example: y_pred = linear.predict(FILL ME IN)\n",
        "y_pred = linear.predict(X_test)"
      ],
      "execution_count": null,
      "outputs": []
    },
    {
      "cell_type": "markdown",
      "metadata": {
        "id": "ZlBQTqTy1DMI"
      },
      "source": [
        "Remember how we're testing our model: we're giving the model true information about each day in the test set, and asking it to predict the number of positives the next day. How does it do?"
      ]
    },
    {
      "cell_type": "code",
      "metadata": {
        "cellView": "form",
        "id": "Hpg8-FqN1Gxm",
        "colab": {
          "base_uri": "https://localhost:8080/",
          "height": 283
        },
        "outputId": "b41e48df-f2bc-4b19-90f2-4e25786e3948"
      },
      "source": [
        "#@title ### Type in a state to check out our model's predictions\n",
        "\n",
        "# get state\n",
        "state = \"va\" #@param {type:\"string\"}\n",
        "\n",
        "def plot_true_and_pred(state, y_pred):\n",
        "  # get uppercase version\n",
        "  state=state.upper()\n",
        "\n",
        "  # check to see if entry is in the state\n",
        "  if state not in set(data[\"state\"]):\n",
        "      raise ValueError(\"Abbreviation isn't a state. Please try again\")\n",
        "  print(f\"You've chosen to see the data for the state of {state}\")\n",
        "\n",
        "  y_pred_series = pd.Series(y_pred.squeeze(), index = y_test.index)\n",
        "\n",
        "  X_train_state = X_train[X_train[\"state_\"+state] == 1]\n",
        "  X_test_state = X_test[X_test[\"state_\"+state] == 1]\n",
        "\n",
        "  early_true = y_train.loc[X_train_state.index]\n",
        "  late_true = y_test.loc[X_test_state.index]\n",
        "  late_pred = y_pred_series.loc[X_test_state.index]\n",
        "\n",
        "  plt.plot(X_train_state.day_of_year, early_true)\n",
        "  plt.plot(X_test_state.day_of_year, late_true)\n",
        "  plt.plot(X_test_state.day_of_year, late_pred)\n",
        "  plt.legend([\"True (Training)\", \"True (Testing)\", \"Predicted (Testing)\"])\n",
        "  plt.show()\n",
        "\n",
        "plot_true_and_pred(state, y_pred)\n"
      ],
      "execution_count": null,
      "outputs": [
        {
          "output_type": "stream",
          "name": "stdout",
          "text": [
            "You've chosen to see the data for the state of VA\n"
          ]
        },
        {
          "output_type": "display_data",
          "data": {
            "image/png": "[encoded data removed]",
            "text/plain": [
              "<Figure size 432x288 with 1 Axes>"
            ]
          },
          "metadata": {
            "needs_background": "light"
          }
        }
      ]
    },
    {
      "cell_type": "markdown",
      "metadata": {
        "id": "GqF3cSkjQQ3Q"
      },
      "source": [
        "**Question**: How well is our model doing in different states? Does it tend to overestimate or underestimate? Do you notice other patterns?\n",
        "\n",
        "Overall, our model seems to do well at predicting the number of cases *the next day*!\n",
        "\n",
        "**Question:** How could we adapt our model to predict the number of cases one *week* or one *month* in the future, instead of one day ? Do you expect it would do well?"
      ]
    },
    {
      "cell_type": "markdown",
      "metadata": {
        "id": "bFp1NPGS0Y8D"
      },
      "source": [
        "#### 4. Optional: Evaluate our model\n",
        "\n",
        "When we're comparing models, it's not enough to eyeball a graph: we want to **measure** how well our predictions match reality. Let's use a common metric called **Mean Squared Error**. \n",
        "\n",
        "For the curious: to calculate MSE, we measure out error (how far off we were) in each prediction, square each error, and take the average to find the Mean Squared Error across all rows.\n"
      ]
    },
    {
      "cell_type": "code",
      "metadata": {
        "id": "WXcoeEwv2ugk",
        "colab": {
          "base_uri": "https://localhost:8080/"
        },
        "outputId": "3c0a4d57-ed21-4515-ac70-33c3d531d864"
      },
      "source": [
        "from sklearn.metrics import mean_squared_error #Use this function!\n",
        "\n",
        "#YOUR CODE HERE to calculate mse_linear\n",
        "mse_linear = mean_squared_error(y_test, y_pred)\n",
        "#END CODE\n",
        "\n",
        "print (\"MSE for linear model:\", mse_linear)"
      ],
      "execution_count": null,
      "outputs": [
        {
          "output_type": "stream",
          "name": "stdout",
          "text": [
            "MSE for linear model: 164278.5343522112\n"
          ]
        }
      ]
    },
    {
      "cell_type": "markdown",
      "metadata": {
        "id": "FuAgQWWE9qib"
      },
      "source": [
        "## 3. Neural Networks\n",
        "\n",
        "We're doing pretty well with simple linear regression methods - but can we do even better?\n",
        "\n",
        "Let's see if we can improve our MSE with a more complex model: Neural Networks.\n",
        "\n",
        "![Neural Network](https://upload.wikimedia.org/wikipedia/commons/e/e4/Artificial_neural_network.svg)\n"
      ]
    },
    {
      "cell_type": "markdown",
      "metadata": {
        "id": "lFK9L-ZIdCo7"
      },
      "source": [
        "\n",
        "Recall that a neural network consists of layers of interconnected \"neurons\", which learn to identify patterns in the input to make a prediction. For many tasks, like computer vision or speech recognition, neural networks far exceed other types of machine learning algorithms!\n",
        "\n",
        "\n",
        "#### **(Optional)** Tensorflow Playground Activity\n",
        "\n",
        "Open [this](https://playground.tensorflow.org/#activation=tanh&batchSize=10&dataset=circle&regDataset=reg-plane&learningRate=0.03&regularizationRate=0&noise=0&networkShape=4,2&seed=0.62283&showTestData=false&discretize=false&percTrainData=50&x=true&y=true&xTimesY=false&xSquared=false&ySquared=false&cosX=false&sinX=false&cosY=false&sinY=false&collectStats=false&problem=classification&initZero=false&hideText=false&regularization_hide=true&regularizationRate_hide=true&learningRate_hide=true&batchSize_hide=true&stepButton_hide=true&activation_hide=true) to experiment with Neural Networks!"
      ]
    },
    {
      "cell_type": "markdown",
      "metadata": {
        "id": "5_2v8zcvfWPf"
      },
      "source": [
        "### Fitting a neural network\n",
        "\n",
        "We will use `MLPRegressor`, which is a simple neural network model from Scikit-learn. We will experiment with the **number of neurons** and the **number of hidden layers** to improve the performance of our model!\n",
        "\n",
        "**Example 1:**\n",
        "\n",
        "If we want to create a neural network with 1 hidden layer and 4 neurons, we would say:\n",
        "\n",
        "`nnet = MLPRegressor(hidden_layer_sizes=(4)) `\n",
        "\n",
        "**Example 2:**\n",
        "\n",
        "If we want to create a neural network with 2 hidden layers and 3 neurons in each layer:\n",
        "\n",
        "`nnet = MLPRegressor(hidden_layer_sizes=(3, 3)) `"
      ]
    },
    {
      "cell_type": "markdown",
      "metadata": {
        "id": "6Z5Mw0PKhRXV"
      },
      "source": [
        "### Exercise 1: \n",
        "\n",
        "Create a neural network with 4 hidden layers and 10 neurons in each layer. The code will be similar to your linear regression code above!\n",
        "\n",
        "Note: you might notice different results if you run this cell multiple times! Why?\n",
        "\n",
        "\n",
        "\n"
      ]
    },
    {
      "cell_type": "code",
      "metadata": {
        "id": "m66f9Ix4mDJY",
        "colab": {
          "base_uri": "https://localhost:8080/"
        },
        "outputId": "1e6ade2b-ca9c-45d2-af0f-28cb6e809ad1"
      },
      "source": [
        "from sklearn.neural_network import MLPRegressor\n",
        "\n",
        "# Creates the neural net\n",
        "nnet = MLPRegressor(hidden_layer_sizes=(10, 10, 10, 10), #YOUR CODE HERE to set the hidden layer sizes\n",
        "                    activation=\"relu\",\n",
        "                    max_iter= 100000)\n",
        "\n",
        "#YOUR CODE HERE to train the neural net (1 line):\n",
        "nnet.fit(X_train, y_train)\n",
        "\n",
        "#YOUR CODE HERE to make predictions on the test set (1 line):\n",
        "nnet_preds = nnet.predict(X_test) \n",
        "\n",
        "#YOUR CODE HERE to calculate and print out the MSE (1-2 lines):\n",
        "mse_neuron = mean_squared_error(y_test, nnet_preds)\n",
        "print(mse_neuron)"
      ],
      "execution_count": null,
      "outputs": [
        {
          "output_type": "stream",
          "name": "stderr",
          "text": [
            "/usr/local/lib/python3.7/dist-packages/sklearn/neural_network/_multilayer_perceptron.py:1599: DataConversionWarning: A column-vector y was passed when a 1d array was expected. Please change the shape of y to (n_samples, ), for example using ravel().\n",
            "  y = column_or_1d(y, warn=True)\n"
          ]
        },
        {
          "output_type": "stream",
          "name": "stdout",
          "text": [
            "1073394.8399529802\n"
          ]
        }
      ]
    },
    {
      "cell_type": "markdown",
      "metadata": {
        "id": "CNLvTOBas-6L"
      },
      "source": [
        "As before, we can graph the reality and predictions. Try changing the state!"
      ]
    },
    {
      "cell_type": "code",
      "metadata": {
        "id": "6fVLCDh-s2IZ",
        "colab": {
          "base_uri": "https://localhost:8080/",
          "height": 283
        },
        "outputId": "64d104fb-ae8c-4777-8163-7732d926ce57"
      },
      "source": [
        "plot_true_and_pred(\"DE\",nnet_preds)"
      ],
      "execution_count": null,
      "outputs": [
        {
          "output_type": "stream",
          "name": "stdout",
          "text": [
            "You've chosen to see the data for the state of DE\n"
          ]
        },
        {
          "output_type": "display_data",
          "data": {
            "image/png": "[encoded data removed]",
            "text/plain": [
              "<Figure size 432x288 with 1 Axes>"
            ]
          },
          "metadata": {
            "needs_background": "light"
          }
        }
      ]
    },
    {
      "cell_type": "markdown",
      "metadata": {
        "id": "MR5D9Gt6sWMh"
      },
      "source": [
        "**Question:** Based on the graphs and MSE, did the neural network do better or worse than linear regression? Why might this be?"
      ]
    },
    {
      "cell_type": "markdown",
      "metadata": {
        "id": "eXciZ07n1a4M"
      },
      "source": [
        "### Exercise 2:\n",
        "Using a `for` loop, try experimenting with changing the **number of neurons** and the **number of hidden layers** in your neural net. What's the best MSE you can achieve?"
      ]
    },
    {
      "cell_type": "code",
      "metadata": {
        "id": "WeYOiDeKhx0Z",
        "colab": {
          "base_uri": "https://localhost:8080/"
        },
        "outputId": "ce735df1-be84-4cd7-84c8-7e423b31d251"
      },
      "source": [
        "for hidden_layer_sizes in [(1),(10,10)]: #YOUR CODE HERE to complete the list\n",
        "  nnet = MLPRegressor(hidden_layer_sizes=hidden_layer_sizes, #YOUR CODE HERE to set the hidden layer sizes\n",
        "                    activation=\"relu\",\n",
        "                    max_iter= 100000)\n",
        "\n",
        "#YOUR CODE HERE to train the neural net (1 line):\n",
        "  nnet.fit(X_train, y_train)\n",
        "\n",
        "#YOUR CODE HERE to make predictions on the test set (1 line):\n",
        "  nnet_preds = nnet.predict(X_test) \n",
        "\n",
        "#YOUR CODE HERE to calculate and print out the MSE (1-2 lines):\n",
        "  mse_neuron = mean_squared_error(y_test, nnet_preds)\n",
        "  print(mse_neuron)"
      ],
      "execution_count": null,
      "outputs": [
        {
          "output_type": "stream",
          "name": "stderr",
          "text": [
            "/usr/local/lib/python3.7/dist-packages/sklearn/neural_network/_multilayer_perceptron.py:1599: DataConversionWarning: A column-vector y was passed when a 1d array was expected. Please change the shape of y to (n_samples, ), for example using ravel().\n",
            "  y = column_or_1d(y, warn=True)\n"
          ]
        },
        {
          "output_type": "stream",
          "name": "stdout",
          "text": [
            "308538.13548213214\n"
          ]
        },
        {
          "output_type": "stream",
          "name": "stderr",
          "text": [
            "/usr/local/lib/python3.7/dist-packages/sklearn/neural_network/_multilayer_perceptron.py:1599: DataConversionWarning: A column-vector y was passed when a 1d array was expected. Please change the shape of y to (n_samples, ), for example using ravel().\n",
            "  y = column_or_1d(y, warn=True)\n"
          ]
        },
        {
          "output_type": "stream",
          "name": "stdout",
          "text": [
            "902947.605936809\n"
          ]
        }
      ]
    },
    {
      "cell_type": "markdown",
      "metadata": {
        "id": "G3V_DoLvqYzd"
      },
      "source": [
        "###Discussion Questions\n",
        "\n",
        "1. In what cases (if any) would linear regression perform better than a neural network?\n",
        "\n",
        "2. In what cases (if any) would a neural network perform better than linear regression?"
      ]
    },
    {
      "cell_type": "markdown",
      "metadata": {
        "id": "p8nYFhv1oQKz"
      },
      "source": [
        "###(Advanced) Exercise 3: Hyperparameter Tuning\n",
        "You'll recall that in [TensorFlow Playground](playground.tensorflow.org/), we had many **hyperparameters** to play around with, including:\n",
        "\n",
        "*   Learning rate\n",
        "*   Activation function\n",
        "*   Regularization \n",
        "*   Regularization rate\n",
        "*   Number of layers \n",
        "*   Number of neurons in each layer\n",
        "\n",
        "As you experiment with TensorFlow Playground, what patterns do you notice? Which hyperparameters make a big difference?\n",
        "\n",
        "You can also change these options (and more) in your MLPRegressor code! Check out your options in [the documentation](https://scikit-learn.org/stable/modules/generated/sklearn.neural_network.MLPRegressor.html) and adapt your previous code.\n",
        "\n",
        "Experiment using your intuition from TensorFlow Playground: **How much improvement can you make in the MSE?**\n",
        "\n",
        "In particular, try tuning `learning_rate_init`. The learning rate controls how quickly the model adjusts its weights after seeing each example. Some learning rates to try: 0.001, 0.01, 0.05 and 0.1. "
      ]
    },
    {
      "cell_type": "code",
      "metadata": {
        "id": "-3GoYwZ_ommp"
      },
      "source": [
        "#YOUR CODE HERE for hyperparameter exploration with for loops!"
      ],
      "execution_count": null,
      "outputs": []
    },
    {
      "cell_type": "markdown",
      "metadata": {
        "id": "qsXWpF0G-DtQ"
      },
      "source": [
        "## 4. Optional: Bias and Variance\n"
      ]
    },
    {
      "cell_type": "markdown",
      "metadata": {
        "id": "6du9f2jVxL8H"
      },
      "source": [
        "Because of its complexity, your neural network might have suffered from **overfitting**: \"memorizing\" the training data rather than learning the underlying patterns. \n",
        "\n",
        "In general, in supervised machine learning we face a trade-off between two kinds of error:\n",
        "\n",
        "\n",
        "*   **Bias**, where your model isn't flexible enough to learn the true shape of the data and **underfits**, vs.\n",
        "*   **Variance**, where your model is *too* flexible and **overfits** the shape of the data.\n",
        "\n",
        "Check out the following diagrams for examples:\n",
        "\n",
        "\n",
        "\n",
        "![image](https://cdn-images-1.medium.com/max/1600/1*9hPX9pAO3jqLrzt0IE3JzA.png)\n",
        "\n",
        "![image](https://qph.fs.quoracdn.net/main-qimg-c7c08113b7806da89fc0cd7928d1ee50)\n"
      ]
    },
    {
      "cell_type": "markdown",
      "metadata": {
        "id": "bsJaC-iGqMHa"
      },
      "source": [
        "Let's play around with the idea of bias vs. variance in the code chunk below. First, let's generate some points that we want to plot:"
      ]
    },
    {
      "cell_type": "code",
      "metadata": {
        "cellView": "form",
        "id": "luTge0NIoKes",
        "colab": {
          "base_uri": "https://localhost:8080/",
          "height": 264
        },
        "outputId": "185639a7-c8f5-4db0-a3de-f9ad61c5ec99"
      },
      "source": [
        "#@title Run this cell to create random X and y values\n",
        "X_rand = np.linspace(0, 15, 50) # 50 evenly spaced numbers in interval [0, 15]\n",
        "y_rand = (5 * X_rand) + (1.75 * np.random.normal(scale=10, size=len(X_rand))) # y = X + (2 * Gaussian noise (~N(0, 10)))\n",
        "plt.scatter(X_rand, y_rand)\n",
        "plt.show()"
      ],
      "execution_count": null,
      "outputs": [
        {
          "output_type": "display_data",
          "data": {
            "image/png": "[encoded data removed]",
            "text/plain": [
              "<Figure size 432x288 with 1 Axes>"
            ]
          },
          "metadata": {
            "needs_background": "light"
          }
        }
      ]
    },
    {
      "cell_type": "markdown",
      "metadata": {
        "id": "bEhw-SCzqVi_"
      },
      "source": [
        "**How can we look at the plot above and predict the y-value of a given point X?**"
      ]
    },
    {
      "cell_type": "markdown",
      "metadata": {
        "id": "QAHCjiTqqggI"
      },
      "source": [
        "### One approach is to start with a simple line:\n",
        "\n",
        "Let's start by trying **Linear Regression**. Choose a slope $m$ and y-intercept $b$ for our linear equation:\n",
        "\n",
        "$$y= mx + b$$\n"
      ]
    },
    {
      "cell_type": "code",
      "metadata": {
        "cellView": "form",
        "id": "2-AM9Evco0sK",
        "colab": {
          "base_uri": "https://localhost:8080/",
          "height": 264
        },
        "outputId": "e3abdd25-9cd1-44d8-c99e-29b03f85430c"
      },
      "source": [
        "#@title Let's define a line and see how well it fits our data:\n",
        "\n",
        "slope=6#@param {type:\"integer\"}\n",
        "y_intercept=-10#@param {type:\"integer\"}\n",
        "\n",
        "# get predicted y-values based off line\n",
        "predicted_y_rand= (slope * X_rand) + y_intercept\n",
        "\n",
        "# plot points, superimpose red line for predictions\n",
        "plt.scatter(X_rand, y_rand)\n",
        "plt.plot(X_rand, predicted_y_rand, color=\"red\")\n",
        "plt.show()\n"
      ],
      "execution_count": null,
      "outputs": [
        {
          "output_type": "display_data",
          "data": {
            "image/png": "[encoded data removed]",
            "text/plain": [
              "<Figure size 432x288 with 1 Axes>"
            ]
          },
          "metadata": {
            "needs_background": "light"
          }
        }
      ]
    },
    {
      "cell_type": "markdown",
      "metadata": {
        "id": "LQVNRjNBsJB6"
      },
      "source": [
        "**Can you find the combination of slope and y_intercept that best fits our set of points?**\n",
        "\n",
        "Either experiment with different slope and y-intercept values in the code chunk above, or write your own code below."
      ]
    },
    {
      "cell_type": "code",
      "metadata": {
        "id": "Dq3t78Etrp3v"
      },
      "source": [
        "#YOUR CODE HERE to get the best slope and intercept\n",
        "from sklearn import linear_model\n",
        "linear_rand = linear_model.LinearRegression()\n",
        "linear_rand.fit(X_rand.reshape(-1, 1), y_rand)\n",
        "slope = linear_rand.coef_\n",
        "y_intercept = linear_rand.intercept_\n",
        "predicted_y_rand_linear = (slope * X_rand) + y_intercept"
      ],
      "execution_count": null,
      "outputs": []
    },
    {
      "cell_type": "markdown",
      "metadata": {
        "id": "mCcDGpzWsUZ8"
      },
      "source": [
        "### Fitting other functions\n",
        "\n",
        "But we don't have to fit a straight line! Instead, we could fit a curved function using **polynomials**. Potentially, these more complicated shapes could fit our data better.\n",
        "\n",
        "Here's one example of a **polynomial** you might have seen:\n",
        "\n",
        "$$y=ax^2 + bx + c$$\n",
        "\n",
        "Here, $a$ and $b$ are coefficients (like slopes) while $c$ is the y-intercept.\n",
        "\n",
        "By using higher powers of $x$, we can make more complex polynomials with more coefficients, like:\n",
        "\n",
        "$$y=ax^3 + bx^2 + cx + d$$ \n",
        "\n",
        "$$y=ax^4 + bx^3 + cx^2 + dx + e$$ \n",
        "\n",
        "\n"
      ]
    },
    {
      "cell_type": "markdown",
      "metadata": {
        "id": "g-JnoBI-uFbq"
      },
      "source": [
        "Let's try fitting a fourth-degree polynomial to our data: $y=ax^4 + bx^3 + cx^2 + dx + e$"
      ]
    },
    {
      "cell_type": "code",
      "metadata": {
        "cellView": "form",
        "id": "sTsDMLvdo5AF",
        "colab": {
          "base_uri": "https://localhost:8080/",
          "height": 268
        },
        "outputId": "018a62fd-8a2f-4c29-affe-83e7deffc21b"
      },
      "source": [
        "#@title Fill in values for the coefficients below and let's see how well our curve fits the points\n",
        "\n",
        "a=0.008#@param {type:\"number\"}\n",
        "b=-0.25#@param {type:\"number\"}\n",
        "c=2.5#@param {type:\"number\"}\n",
        "d=-3#@param {type:\"number\"}\n",
        "e=2#@param {type:\"number\"}\n",
        "\n",
        "# get predicted y-values based off line\n",
        "predicted_y_rand= (a*np.power(X_rand, 4)) + (b*np.power(X_rand, 3)) + (c*np.power(X_rand, 2)) + (d*np.power(X_rand, 1)) + e\n",
        "\n",
        "# plot points, superimpose red line for predictions\n",
        "plt.scatter(X_rand, y_rand)\n",
        "plt.plot(X_rand, predicted_y_rand, color=\"red\")\n",
        "plt.ylim(0, 120)\n",
        "plt.show()\n"
      ],
      "execution_count": null,
      "outputs": [
        {
          "output_type": "display_data",
          "data": {
            "image/png": "[encoded data removed]",
            "text/plain": [
              "<Figure size 432x288 with 1 Axes>"
            ]
          },
          "metadata": {
            "needs_background": "light"
          }
        }
      ]
    },
    {
      "cell_type": "markdown",
      "metadata": {
        "id": "045nTD5VxOnc"
      },
      "source": [
        "**Experiment with a, b, c, d, e** to find the best fit you can! Then run this code chunk to see the best solution:"
      ]
    },
    {
      "cell_type": "code",
      "metadata": {
        "cellView": "form",
        "id": "hVxfLbUKy7zN",
        "colab": {
          "base_uri": "https://localhost:8080/",
          "height": 268
        },
        "outputId": "f6966e49-6ebe-4de5-f31b-616bc1f3a147"
      },
      "source": [
        "#@title After experimenting, run this chunk to find the best fit\n",
        "\n",
        "# use polyfit(), with 4th degree fitting\n",
        "rand_polyfit = np.polyfit(X_rand, y_rand, deg = 4)\n",
        "\n",
        "# get coefs of polynomial fit\n",
        "a=rand_polyfit[0]\n",
        "b=rand_polyfit[1]\n",
        "c=rand_polyfit[2]\n",
        "d=rand_polyfit[3]\n",
        "e=rand_polyfit[4]\n",
        "\n",
        "# get predicted y-values based off line\n",
        "predicted_y_rand_polynomial = (a*np.power(X_rand, 4)) + (b*np.power(X_rand, 3)) + (c*np.power(X_rand, 2)) + (d*np.power(X_rand, 1)) + e\n",
        "\n",
        "# plot points, superimpose red line for predictions\n",
        "plt.scatter(X_rand, y_rand)\n",
        "plt.plot(X_rand, predicted_y_rand_polynomial, color=\"red\")\n",
        "plt.ylim(0, 120)\n",
        "plt.show()\n",
        "\n"
      ],
      "execution_count": null,
      "outputs": [
        {
          "output_type": "display_data",
          "data": {
            "image/png": "[encoded data removed]",
            "text/plain": [
              "<Figure size 432x288 with 1 Axes>"
            ]
          },
          "metadata": {
            "needs_background": "light"
          }
        }
      ]
    },
    {
      "cell_type": "markdown",
      "metadata": {
        "id": "yqIsTUJVzSEj"
      },
      "source": [
        "It seems like our polynomial line does better than our straight line at fitting our data! If we make our line more curvy, can we get an even better fit?"
      ]
    },
    {
      "cell_type": "code",
      "metadata": {
        "cellView": "form",
        "id": "oJg_8N2Be3du",
        "colab": {
          "base_uri": "https://localhost:8080/",
          "height": 268
        },
        "outputId": "c51106b3-1ec3-471a-a8fd-6c1f6eff39e9"
      },
      "source": [
        "#@title An **extreme** version of a polynomial fit is just connecting all the points!\n",
        "\n",
        "# plot points, superimpose red line for predictions\n",
        "plt.scatter(X_rand, y_rand)\n",
        "plt.plot(X_rand, y_rand, color=\"red\")\n",
        "plt.ylim(0, 120)\n",
        "plt.show()\n",
        "\n"
      ],
      "execution_count": null,
      "outputs": [
        {
          "output_type": "display_data",
          "data": {
            "image/png": "[encoded data removed]",
            "text/plain": [
              "<Figure size 432x288 with 1 Axes>"
            ]
          },
          "metadata": {
            "needs_background": "light"
          }
        }
      ]
    },
    {
      "cell_type": "markdown",
      "metadata": {
        "id": "ri1eiGSVC8IZ"
      },
      "source": [
        "We now have a function that fits our data **perfectly**! Sounds good, right?\n",
        "\n",
        "But - how well would this function do at predicting the `y` for a **new** `x`?\n",
        "\n",
        "Why might we want to use a **more** or **less** curved line?\n",
        "\n",
        "Let's see how well our three functions do at predicting a new point."
      ]
    },
    {
      "cell_type": "code",
      "metadata": {
        "cellView": "form",
        "id": "ygEYNNwJ0Fcw",
        "colab": {
          "base_uri": "https://localhost:8080/",
          "height": 808
        },
        "outputId": "0c82b7b6-c90c-4c68-cb6f-fc514e35700b"
      },
      "source": [
        "#@title Define a new (x,y) coordinate for our new data point, which will be graphed in purple.\n",
        "x=14#@param {type:\"number\"}\n",
        "y=60#@param {type:\"number\"}\n",
        "\n",
        "# let's get what our equations would predict:\n",
        "new_y_line = (slope * x) + y_intercept\n",
        "new_y_polynomial = (a * np.power(x, 4)) + (b * np.power(x, 3)) + (c * np.power(x, 2)) + (d * np.power(x, 1)) + e\n",
        "\n",
        "# let's plot our points\n",
        "\n",
        "# using the linear regression\n",
        "plt.scatter(X_rand, y_rand)\n",
        "plt.ylim(0, 120)\n",
        "plt.scatter(x, y, color=\"purple\", s=75)\n",
        "plt.plot(X_rand, predicted_y_rand_linear, color=\"red\")\n",
        "plt.title(\"Fitting using the straight line\")\n",
        "plt.show()\n",
        "\n",
        "# using the polynomial fit\n",
        "plt.scatter(X_rand, y_rand)\n",
        "plt.ylim(0, 120)\n",
        "plt.scatter(x, y, color=\"purple\", s=75)\n",
        "plt.plot(X_rand, predicted_y_rand_polynomial, color=\"green\")\n",
        "plt.title(\"Fitting using the 4th-degree polynomial\")\n",
        "plt.show()\n",
        "\n",
        "# using the extreme polynomial fit\n",
        "plt.scatter(X_rand, y_rand)\n",
        "plt.ylim(0, 120)\n",
        "plt.scatter(x, y, color=\"purple\", s=75)\n",
        "plt.plot(X_rand, y_rand, color=\"red\", dashes=[6,2])\n",
        "plt.title(\"Fitting using the extreme polynomial\")\n",
        "plt.show()\n",
        "\n",
        "\n"
      ],
      "execution_count": null,
      "outputs": [
        {
          "output_type": "display_data",
          "data": {
            "image/png": "[encoded data removed]",
            "text/plain": [
              "<Figure size 432x288 with 1 Axes>"
            ]
          },
          "metadata": {
            "needs_background": "light"
          }
        },
        {
          "output_type": "display_data",
          "data": {
            "image/png": "[encoded data removed]",
            "text/plain": [
              "<Figure size 432x288 with 1 Axes>"
            ]
          },
          "metadata": {
            "needs_background": "light"
          }
        },
        {
          "output_type": "display_data",
          "data": {
            "image/png": "[encoded data removed]",
            "text/plain": [
              "<Figure size 432x288 with 1 Axes>"
            ]
          },
          "metadata": {
            "needs_background": "light"
          }
        }
      ]
    },
    {
      "cell_type": "markdown",
      "metadata": {
        "id": "zTEV4jiAdMvd"
      },
      "source": [
        "After trying several points, **which of the three graphs does the best** at predicting possible future points? **Where's the balance** between too \"rigid\" and too \"curvy\"?"
      ]
    },
    {
      "cell_type": "markdown",
      "metadata": {
        "id": "ZmMm3tjes-MV"
      },
      "source": [
        "###Questions:\n",
        "\n",
        "1. Which graphs have high **bias**, and which have high **variance**?\n",
        "\n",
        "2. Comparing a linear regression and a neural network, which is more likely to have high **bias** or **variance**? Why?\n",
        "\n",
        "3. For COVID-19 predictions, would you prioritize choosing a model with **low bias** or **low variance**? Why?\n"
      ]
    },
    {
      "cell_type": "markdown",
      "metadata": {
        "id": "RsdUI8B4jRRh"
      },
      "source": [
        "#5. Advanced Challenge: Modeling the Future"
      ]
    },
    {
      "cell_type": "markdown",
      "metadata": {
        "id": "fqkg75eJjT94"
      },
      "source": [
        "Going back to our COVID models - we've made pretty good models for predicting the number of positives one day in the future. But for policy decisions, it would be useful to predict further ahead! **How could we use our model to predict COVID positives many days ahead?**\n",
        "\n",
        "One approach is to feed our predictions back into the model: using real data for one day, generate a prediction for the next day. Then assume that prediction is accurate, feed it back into the model, and get a prediction for the day after that. Continue into the future! **How well do you expect this to work?**\n",
        "\n"
      ]
    },
    {
      "cell_type": "markdown",
      "metadata": {
        "id": "x1x4X9WKkJQp"
      },
      "source": [
        "Let's try it out! **First, go back and retrain your models, using only `state` and `positiveincrease` as input features**.  (For the other variables, we wouldn't know how to set their future values). You can use a linear or neural network model."
      ]
    },
    {
      "cell_type": "markdown",
      "metadata": {
        "id": "O36MgH0RlQq8"
      },
      "source": [
        "Now, pick a state to experiment with! This code will pick out the testing and training data for your state."
      ]
    },
    {
      "cell_type": "code",
      "metadata": {
        "id": "AOZZsyGafulA",
        "colab": {
          "base_uri": "https://localhost:8080/",
          "height": 163
        },
        "outputId": "1be61d02-71fc-40f0-b1bd-6d2bf885f3d7"
      },
      "source": [
        "state = 'tx' #Pick a state!\n",
        "state=state.upper()\n",
        "\n",
        "X_train_state = X_train[X_train[\"state_\"+state] == 1]\n",
        "X_test_state = X_test[X_test[\"state_\"+state] == 1]\n",
        "\n",
        "print (\"Training and testing shapes:\", X_train_state.shape, X_test_state.shape)\n",
        "\n",
        "current_day = X_train_state.iloc[-1:].copy()\n",
        "\n",
        "current_day"
      ],
      "execution_count": null,
      "outputs": [
        {
          "output_type": "stream",
          "name": "stdout",
          "text": [
            "Training and testing shapes: (44, 64) (10, 64)\n"
          ]
        },
        {
          "output_type": "execute_result",
          "data": {
            "text/html": [
              "\n",
              "  <div id=\"df-a5ba03ae-8477-4809-bc56-c813415e5f7f\">\n",
              "    <div class=\"colab-df-container\">\n",
              "      <div>\n",
              "<style scoped>\n",
              "    .dataframe tbody tr th:only-of-type {\n",
              "        vertical-align: middle;\n",
              "    }\n",
              "\n",
              "    .dataframe tbody tr th {\n",
              "        vertical-align: top;\n",
              "    }\n",
              "\n",
              "    .dataframe thead th {\n",
              "        text-align: right;\n",
              "    }\n",
              "</style>\n",
              "<table border=\"1\" class=\"dataframe\">\n",
              "  <thead>\n",
              "    <tr style=\"text-align: right;\">\n",
              "      <th></th>\n",
              "      <th>positive</th>\n",
              "      <th>negative</th>\n",
              "      <th>total</th>\n",
              "      <th>hospitalizedincrease</th>\n",
              "      <th>negativeincrease</th>\n",
              "      <th>positiveincrease</th>\n",
              "      <th>totaltestresultsincrease</th>\n",
              "      <th>state_AK</th>\n",
              "      <th>state_AL</th>\n",
              "      <th>state_AR</th>\n",
              "      <th>state_AS</th>\n",
              "      <th>state_AZ</th>\n",
              "      <th>state_CA</th>\n",
              "      <th>state_CO</th>\n",
              "      <th>state_CT</th>\n",
              "      <th>state_DC</th>\n",
              "      <th>state_DE</th>\n",
              "      <th>state_FL</th>\n",
              "      <th>state_GA</th>\n",
              "      <th>state_GU</th>\n",
              "      <th>state_HI</th>\n",
              "      <th>state_IA</th>\n",
              "      <th>state_ID</th>\n",
              "      <th>state_IL</th>\n",
              "      <th>state_IN</th>\n",
              "      <th>state_KS</th>\n",
              "      <th>state_KY</th>\n",
              "      <th>state_LA</th>\n",
              "      <th>state_MA</th>\n",
              "      <th>state_MD</th>\n",
              "      <th>state_ME</th>\n",
              "      <th>state_MI</th>\n",
              "      <th>state_MN</th>\n",
              "      <th>state_MO</th>\n",
              "      <th>state_MP</th>\n",
              "      <th>state_MS</th>\n",
              "      <th>state_MT</th>\n",
              "      <th>state_NC</th>\n",
              "      <th>state_ND</th>\n",
              "      <th>state_NE</th>\n",
              "      <th>state_NH</th>\n",
              "      <th>state_NJ</th>\n",
              "      <th>state_NM</th>\n",
              "      <th>state_NV</th>\n",
              "      <th>state_NY</th>\n",
              "      <th>state_OH</th>\n",
              "      <th>state_OK</th>\n",
              "      <th>state_OR</th>\n",
              "      <th>state_PA</th>\n",
              "      <th>state_PR</th>\n",
              "      <th>state_RI</th>\n",
              "      <th>state_SC</th>\n",
              "      <th>state_SD</th>\n",
              "      <th>state_TN</th>\n",
              "      <th>state_TX</th>\n",
              "      <th>state_UT</th>\n",
              "      <th>state_VA</th>\n",
              "      <th>state_VI</th>\n",
              "      <th>state_VT</th>\n",
              "      <th>state_WA</th>\n",
              "      <th>state_WI</th>\n",
              "      <th>state_WV</th>\n",
              "      <th>state_WY</th>\n",
              "      <th>day_of_year</th>\n",
              "    </tr>\n",
              "  </thead>\n",
              "  <tbody>\n",
              "    <tr>\n",
              "      <th>2311</th>\n",
              "      <td>17371.0</td>\n",
              "      <td>152165.0</td>\n",
              "      <td>169536.0</td>\n",
              "      <td>0.0</td>\n",
              "      <td>10073.0</td>\n",
              "      <td>916.0</td>\n",
              "      <td>10989.0</td>\n",
              "      <td>0</td>\n",
              "      <td>0</td>\n",
              "      <td>0</td>\n",
              "      <td>0</td>\n",
              "      <td>0</td>\n",
              "      <td>0</td>\n",
              "      <td>0</td>\n",
              "      <td>0</td>\n",
              "      <td>0</td>\n",
              "      <td>0</td>\n",
              "      <td>0</td>\n",
              "      <td>0</td>\n",
              "      <td>0</td>\n",
              "      <td>0</td>\n",
              "      <td>0</td>\n",
              "      <td>0</td>\n",
              "      <td>0</td>\n",
              "      <td>0</td>\n",
              "      <td>0</td>\n",
              "      <td>0</td>\n",
              "      <td>0</td>\n",
              "      <td>0</td>\n",
              "      <td>0</td>\n",
              "      <td>0</td>\n",
              "      <td>0</td>\n",
              "      <td>0</td>\n",
              "      <td>0</td>\n",
              "      <td>0</td>\n",
              "      <td>0</td>\n",
              "      <td>0</td>\n",
              "      <td>0</td>\n",
              "      <td>0</td>\n",
              "      <td>0</td>\n",
              "      <td>0</td>\n",
              "      <td>0</td>\n",
              "      <td>0</td>\n",
              "      <td>0</td>\n",
              "      <td>0</td>\n",
              "      <td>0</td>\n",
              "      <td>0</td>\n",
              "      <td>0</td>\n",
              "      <td>0</td>\n",
              "      <td>0</td>\n",
              "      <td>0</td>\n",
              "      <td>0</td>\n",
              "      <td>0</td>\n",
              "      <td>0</td>\n",
              "      <td>1</td>\n",
              "      <td>0</td>\n",
              "      <td>0</td>\n",
              "      <td>0</td>\n",
              "      <td>0</td>\n",
              "      <td>0</td>\n",
              "      <td>0</td>\n",
              "      <td>0</td>\n",
              "      <td>0</td>\n",
              "      <td>107</td>\n",
              "    </tr>\n",
              "  </tbody>\n",
              "</table>\n",
              "</div>\n",
              "      <button class=\"colab-df-convert\" onclick=\"convertToInteractive('df-a5ba03ae-8477-4809-bc56-c813415e5f7f')\"\n",
              "              title=\"Convert this dataframe to an interactive table.\"\n",
              "              style=\"display:none;\">\n",
              "        \n",
              "  <svg xmlns=\"http://www.w3.org/2000/svg\" height=\"24px\"viewBox=\"0 0 24 24\"\n",
              "       width=\"24px\">\n",
              "    <path d=\"M0 0h24v24H0V0z\" fill=\"none\"/>\n",
              "    <path d=\"M18.56 5.44l.94 2.06.94-2.06 2.06-.94-2.06-.94-.94-2.06-.94 2.06-2.06.94zm-11 1L8.5 8.5l.94-2.06 2.06-.94-2.06-.94L8.5 2.5l-.94 2.06-2.06.94zm10 10l.94 2.06.94-2.06 2.06-.94-2.06-.94-.94-2.06-.94 2.06-2.06.94z\"/><path d=\"M17.41 7.96l-1.37-1.37c-.4-.4-.92-.59-1.43-.59-.52 0-1.04.2-1.43.59L10.3 9.45l-7.72 7.72c-.78.78-.78 2.05 0 2.83L4 21.41c.39.39.9.59 1.41.59.51 0 1.02-.2 1.41-.59l7.78-7.78 2.81-2.81c.8-.78.8-2.07 0-2.86zM5.41 20L4 18.59l7.72-7.72 1.47 1.35L5.41 20z\"/>\n",
              "  </svg>\n",
              "      </button>\n",
              "      \n",
              "  <style>\n",
              "    .colab-df-container {\n",
              "      display:flex;\n",
              "      flex-wrap:wrap;\n",
              "      gap: 12px;\n",
              "    }\n",
              "\n",
              "    .colab-df-convert {\n",
              "      background-color: #E8F0FE;\n",
              "      border: none;\n",
              "      border-radius: 50%;\n",
              "      cursor: pointer;\n",
              "      display: none;\n",
              "      fill: #1967D2;\n",
              "      height: 32px;\n",
              "      padding: 0 0 0 0;\n",
              "      width: 32px;\n",
              "    }\n",
              "\n",
              "    .colab-df-convert:hover {\n",
              "      background-color: #E2EBFA;\n",
              "      box-shadow: 0px 1px 2px rgba(60, 64, 67, 0.3), 0px 1px 3px 1px rgba(60, 64, 67, 0.15);\n",
              "      fill: #174EA6;\n",
              "    }\n",
              "\n",
              "    [theme=dark] .colab-df-convert {\n",
              "      background-color: #3B4455;\n",
              "      fill: #D2E3FC;\n",
              "    }\n",
              "\n",
              "    [theme=dark] .colab-df-convert:hover {\n",
              "      background-color: #434B5C;\n",
              "      box-shadow: 0px 1px 3px 1px rgba(0, 0, 0, 0.15);\n",
              "      filter: drop-shadow(0px 1px 2px rgba(0, 0, 0, 0.3));\n",
              "      fill: #FFFFFF;\n",
              "    }\n",
              "  </style>\n",
              "\n",
              "      <script>\n",
              "        const buttonEl =\n",
              "          document.querySelector('#df-a5ba03ae-8477-4809-bc56-c813415e5f7f button.colab-df-convert');\n",
              "        buttonEl.style.display =\n",
              "          google.colab.kernel.accessAllowed ? 'block' : 'none';\n",
              "\n",
              "        async function convertToInteractive(key) {\n",
              "          const element = document.querySelector('#df-a5ba03ae-8477-4809-bc56-c813415e5f7f');\n",
              "          const dataTable =\n",
              "            await google.colab.kernel.invokeFunction('convertToInteractive',\n",
              "                                                     [key], {});\n",
              "          if (!dataTable) return;\n",
              "\n",
              "          const docLinkHtml = 'Like what you see? Visit the ' +\n",
              "            '<a target=\"_blank\" href=https://colab.research.google.com/notebooks/data_table.ipynb>data table notebook</a>'\n",
              "            + ' to learn more about interactive tables.';\n",
              "          element.innerHTML = '';\n",
              "          dataTable['output_type'] = 'display_data';\n",
              "          await google.colab.output.renderOutput(dataTable, element);\n",
              "          const docLink = document.createElement('div');\n",
              "          docLink.innerHTML = docLinkHtml;\n",
              "          element.appendChild(docLink);\n",
              "        }\n",
              "      </script>\n",
              "    </div>\n",
              "  </div>\n",
              "  "
            ],
            "text/plain": [
              "      positive  negative     total  hospitalizedincrease  negativeincrease  \\\n",
              "2311   17371.0  152165.0  169536.0                   0.0           10073.0   \n",
              "\n",
              "      positiveincrease  totaltestresultsincrease  state_AK  state_AL  \\\n",
              "2311             916.0                   10989.0         0         0   \n",
              "\n",
              "      state_AR  state_AS  state_AZ  state_CA  state_CO  state_CT  state_DC  \\\n",
              "2311         0         0         0         0         0         0         0   \n",
              "\n",
              "      state_DE  state_FL  state_GA  state_GU  state_HI  state_IA  state_ID  \\\n",
              "2311         0         0         0         0         0         0         0   \n",
              "\n",
              "      state_IL  state_IN  state_KS  state_KY  state_LA  state_MA  state_MD  \\\n",
              "2311         0         0         0         0         0         0         0   \n",
              "\n",
              "      state_ME  state_MI  state_MN  state_MO  state_MP  state_MS  state_MT  \\\n",
              "2311         0         0         0         0         0         0         0   \n",
              "\n",
              "      state_NC  state_ND  state_NE  state_NH  state_NJ  state_NM  state_NV  \\\n",
              "2311         0         0         0         0         0         0         0   \n",
              "\n",
              "      state_NY  state_OH  state_OK  state_OR  state_PA  state_PR  state_RI  \\\n",
              "2311         0         0         0         0         0         0         0   \n",
              "\n",
              "      state_SC  state_SD  state_TN  state_TX  state_UT  state_VA  state_VI  \\\n",
              "2311         0         0         0         1         0         0         0   \n",
              "\n",
              "      state_VT  state_WA  state_WI  state_WV  state_WY  day_of_year  \n",
              "2311         0         0         0         0         0          107  "
            ]
          },
          "metadata": {},
          "execution_count": 41
        }
      ]
    },
    {
      "cell_type": "markdown",
      "metadata": {
        "id": "MYsX4U2qli3p"
      },
      "source": [
        "In `current_day`, you see your starting point: the real data for your state on the last day of the training data.\n",
        "\n",
        "Now, build out `pred_list`: your list of predictions for the coming days, which we'll graph against the testing data! For each day, you'll need to make a prediction for the model, save your prediction in `pred_list`, and update `current_day` with the new information. Which columns will you need to change? "
      ]
    },
    {
      "cell_type": "code",
      "metadata": {
        "id": "GvL4duJbfu-x"
      },
      "source": [
        "pred_list = [] \n",
        "for pred_day in range(len(X_test_state)):\n",
        "  prediction = linear.predict(current_day).item()\n",
        "  current_day['positiveincrease'] = prediction\n",
        "  current_day['day_of_year'] += 1\n",
        "  pred_list.append(prediction)\n",
        "\n",
        "#At the end of your code, pred_list should be the same length as \n",
        "#X_test_state and contain your predictions for the future!\n",
        "\n",
        "#YOUR CODE HERE:"
      ],
      "execution_count": null,
      "outputs": []
    },
    {
      "cell_type": "code",
      "metadata": {
        "cellView": "form",
        "id": "ahFpck5ffzdC",
        "colab": {
          "base_uri": "https://localhost:8080/",
          "height": 281
        },
        "outputId": "9f24cba4-2b46-4443-9b5f-48275843065a"
      },
      "source": [
        "#@title Now, run this code to graph your predictions against the true data in your state!\n",
        "\n",
        "early_true = y_train.loc[X_train_state.index]\n",
        "late_true = y_test.loc[X_test_state.index]\n",
        "late_pred = pred_list\n",
        "\n",
        "plt.plot(X_train_state.day_of_year, early_true)\n",
        "plt.plot(X_test_state.day_of_year, late_true)\n",
        "plt.plot(X_test_state.day_of_year, late_pred)\n",
        "plt.title(f\"New positive cases each day for {state}\")\n",
        "plt.legend([\"True (Training)\", \"True (Testing)\", \"Predicted\"])\n",
        "plt.show() "
      ],
      "execution_count": null,
      "outputs": [
        {
          "output_type": "display_data",
          "data": {
            "image/png": "[encoded data removed]",
            "text/plain": [
              "<Figure size 432x288 with 1 Axes>"
            ]
          },
          "metadata": {
            "needs_background": "light"
          }
        }
      ]
    },
    {
      "cell_type": "markdown",
      "metadata": {
        "id": "rIvUbF3PohN9"
      },
      "source": [
        "**How'd you do?** Can you think of some reasons to explain your results?\n",
        "\n",
        "Could you imagine other techniques for predicting far into the future?"
      ]
    },
    {
      "cell_type": "markdown",
      "metadata": {
        "id": "IllKqo9T-T59"
      },
      "source": [
        "## Conclusion\n",
        "\n",
        "Great work! In this notebook, you learned about using machine learning to predict COVID-19 rates! After completing this notebook, you have a better idea of how to explore your data, when and how to use linear regression, when and how to use neural networks, and how to interpret your results. You'll take these skills into some of the more advanced topics later on in this course!"
      ]
    }
  ]
}