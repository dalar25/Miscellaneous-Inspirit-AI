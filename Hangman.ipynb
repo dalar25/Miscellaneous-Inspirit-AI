{
  "nbformat": 4,
  "nbformat_minor": 0,
  "metadata": {
    "colab": {
      "provenance": []
    },
    "kernelspec": {
      "name": "python3",
      "display_name": "Python 3"
    },
    "language_info": {
      "name": "python"
    }
  },
  "cells": [
    {
      "cell_type": "markdown",
      "source": [
        "# 🏃 **Python Review: Hangman!**\n",
        "We're going to start out this first week with a bit of python review! To do this, we'll be working on a few python projects unrelated to concepts we'll be covering later in class. Each of these projects will be a playable game!\n",
        "\n",
        "To start, we're going to code a version of a hangman game. The game will be completely text-based (meaning there won't be any graphics involved). The computer will pick a word and set up the game, and the game player will be able to guess different words to see if they're correct."
      ],
      "metadata": {
        "id": "4AG8xbkuVzeV"
      }
    },
    {
      "cell_type": "markdown",
      "source": [
        "You will implement a function called `hangman​` that will allow the user to play hangman against the computer. The computer picks the word, and the player tries to guess letters in the word.\n",
        "   \n",
        "Here is the general behavior we want to implement. Don’t be intimidated! This is just a description; **​we will break this down into steps and provide further functional specs later on**!\n",
        "1. The computer must select a word at random from the list of available words that was provided in `words.txt`. Note that `words.txt` contains words in all lowercase letters.\n",
        "2. The user is given a certain number of guesses at the beginning.\n",
        "3. The game is interactive; the user inputs their guess and the computer either:\n",
        "\n",
        "  * reveals the letter if it exists in the secret word\n",
        "  * penalize the user and updates the number of guesses remaining\n",
        "\n",
        "4. The game ends when either the user guesses the secret word, or the user runs\n",
        "out of guesses."
      ],
      "metadata": {
        "id": "NSFICML5adnB"
      }
    },
    {
      "cell_type": "code",
      "source": [
        "# this is so we can load in the word list\n",
        "import gdown\n",
        "!gdown --id 14xcxrrjOw--jp8QH7-Np6rvAqBuHCGkq"
      ],
      "metadata": {
        "colab": {
          "base_uri": "https://localhost:8080/"
        },
        "id": "Ta5WZZWpcB66",
        "outputId": "010409f9-10f6-4a7b-a6b9-3ae18d2f51a7"
      },
      "execution_count": null,
      "outputs": [
        {
          "output_type": "stream",
          "name": "stdout",
          "text": [
            "/usr/local/lib/python3.7/dist-packages/gdown/cli.py:131: FutureWarning: Option `--id` was deprecated in version 4.3.1 and will be removed in 5.0. You don't need to pass it anymore to use a file ID.\n",
            "  category=FutureWarning,\n",
            "Downloading...\n",
            "From: https://drive.google.com/uc?id=14xcxrrjOw--jp8QH7-Np6rvAqBuHCGkq\n",
            "To: /content/words.txt\n",
            "100% 476k/476k [00:00<00:00, 41.8MB/s]\n"
          ]
        }
      ]
    },
    {
      "cell_type": "markdown",
      "source": [
        "## **Helper Functions**\n",
        "Before we have you write code to organize the hangman game, we are going to break down the problem into logical subtasks, creating **three helper functions** you will need to have in order for this game to work. This is a common approach to computational problem solving, and one we want you to begin experiencing.\n",
        "\n",
        "In the cell below are number of already implemented functions you can use while writing up your solution. You can ignore the code in these two functions that have already been implemented for you, though you should understand how to use each helper function by reading the docstrings."
      ],
      "metadata": {
        "id": "AV20wzpAbQ3u"
      }
    },
    {
      "cell_type": "code",
      "source": [
        "import random\n",
        "import string\n",
        "\n",
        "WORDLIST_FILENAME = \"words.txt\"\n",
        "\n",
        "def load_words():\n",
        "    \"\"\"\n",
        "    Returns a list of valid words. Words are strings of lowercase letters.\n",
        "    Depending on the size of the word list, this function may take a while to finish.\n",
        "    \"\"\"\n",
        "    print(\"Loading word list from file...\")\n",
        "    # inFile: file\n",
        "    inFile = open(WORDLIST_FILENAME, 'r')\n",
        "    # line: string\n",
        "    line = inFile.readline()\n",
        "    # wordlist: list of strings\n",
        "    wordlist = line.split()\n",
        "    print(\"  \", len(wordlist), \"words loaded.\")\n",
        "    return wordlist\n",
        "\n",
        "def choose_word(wordlist):\n",
        "    \"\"\"\n",
        "    wordlist (list): list of words (strings)\n",
        "    Returns a word from wordlist at random\n",
        "    \"\"\"\n",
        "    return random.choice(wordlist)\n",
        "\n",
        "# end of helper code\n",
        "# -----------------------------------\n",
        "# Load the list of words into the variable wordlist\n",
        "# so that it can be accessed from anywhere in the program\n",
        "wordlist = load_words()"
      ],
      "metadata": {
        "colab": {
          "base_uri": "https://localhost:8080/"
        },
        "id": "I-y2S2KkbqNW",
        "outputId": "4409b3ef-05da-4683-a344-ffc069841eec"
      },
      "execution_count": null,
      "outputs": [
        {
          "output_type": "stream",
          "name": "stdout",
          "text": [
            "Loading word list from file...\n",
            "   55900 words loaded.\n"
          ]
        }
      ]
    },
    {
      "cell_type": "markdown",
      "source": [
        "<font color=SeaBlue><h1><b>\n",
        "BEFORE YOU START: </b></h1><h2> This notebook covers a lot of operations with python strings. For some brief refresher, check out [this link](https://www.w3schools.com/python/python_strings.asp) to review some of the functionality.</h2></font>\n",
        "\n",
        "In particular, you might find the python keyword `in` useful in this notebook. You can use it to check if one string contains another, for example:\n",
        "```python\n",
        ">>> word = 'apple'\n",
        ">>> print('a' in word)\n",
        "True\n",
        ">>> print('ap' in word)\n",
        "True\n",
        ">>> print('s' in word)\n",
        "False\n",
        "```\n",
        "You can also index into a string the same way you can index into a list. For example:\n",
        "```python\n",
        ">>> word = 'apple'\n",
        ">>> word[0]\n",
        "'a'\n",
        ">>> word[3]\n",
        "'l'\n",
        ">>> for i in range(len(word)):\n",
        ">>>   print(word[i])\n",
        "'a'\n",
        "'p'\n",
        "'p'\n",
        "'l'\n",
        "'e'\n",
        "```\n"
      ],
      "metadata": {
        "id": "yTbB0CO8YWRN"
      }
    },
    {
      "cell_type": "markdown",
      "source": [
        "### 🎟 **Helper Function 1:** Determine whether the correct word has been guessed\n",
        "First, implement the function ​`is_word_guessed`​ that takes in two parameters -­ a string, ​`secret_word​`, and a list of letters (strings), `​letters_guessed`.​ This function returns ­`True`​ if ​`secret_word​` has been guessed (i.e., all the letters of secret_word​ are in ​letters_guessed​), and `F​alse`​ otherwise. This function will be useful in helping you decide when the hangman game has been successfully completed.\n",
        "\n",
        "For this function, you may assume that all the letters in ​`secret_word​` and `letters_guessed`​ are lowercase.\n",
        "\n",
        "**Example Usage:**\n",
        "```\n",
        ">>> secret_word = 'apple'\n",
        ">>> letters_guessed = ['e', 'i', 'k', 'p', 'r', 's']\n",
        ">>> print(is_word_guessed(secret_word, letters_guessed))\n",
        "False\n",
        "```\n",
        "\n"
      ],
      "metadata": {
        "id": "VH7XeeaRc-hx"
      }
    },
    {
      "cell_type": "code",
      "source": [
        "def is_word_guessed(secret_word, letters_guessed):\n",
        "  '''\n",
        "  secret_word: string, the word the user is guessing; assumes all letters are\n",
        "    lowercase\n",
        "  letters_guessed: list (of letters), which letters have been guessed so far;\n",
        "    assumes that all letters are lowercase\n",
        "  returns: boolean, True if all the letters of secret_word are in letters_guessed;\n",
        "    False otherwise\n",
        "  '''\n",
        "  ## replace the return False and put your code here!\n",
        "  for letter in secret_word:\n",
        "    if letter not in letters_guessed:\n",
        "      return False\n",
        "  return True"
      ],
      "metadata": {
        "id": "26FyKneradG6"
      },
      "execution_count": null,
      "outputs": []
    },
    {
      "cell_type": "markdown",
      "source": [
        "Use the cell below to write your own test case to test out your function! **Hint:** there's a test shown above in the \"example usage\"."
      ],
      "metadata": {
        "id": "F0Emb0fTqX4k"
      }
    },
    {
      "cell_type": "code",
      "source": [
        "# USE THIS CELL TO CHECK YOUR SOLUTION\n",
        "secret_word = 'eeikpprrsrsa'\n",
        "letters_guessed = ['e', 'i', 'k', 'p', 'r', 's']\n",
        "print(is_word_guessed(secret_word, letters_guessed))"
      ],
      "metadata": {
        "id": "lRXBuJWBOu7g",
        "colab": {
          "base_uri": "https://localhost:8080/"
        },
        "outputId": "a810d8df-4fbb-4952-be85-dc8c80255698"
      },
      "execution_count": null,
      "outputs": [
        {
          "output_type": "stream",
          "name": "stdout",
          "text": [
            "False\n"
          ]
        }
      ]
    },
    {
      "cell_type": "markdown",
      "source": [
        "### 🎟 **Helper Function 2:** Getting the user's guess\n",
        "Next, implement the function ​`get_guessed_word`​ that takes in two parameters -­ a string, ​`secret_word​`, and a list of letters (strings), `​letters_guessed`.​ This function returns a string that is comprised of letters and underscores, based on what letters in `letters_guessed`​ are in `​secret_word`​. This shouldn't be too different from `is_word_guessed​`!\n",
        "\n",
        "We are going to use an underscore followed by a space (_ ) to represent unknown letters. We could have chosen other symbols, but the combination of underscore and space is visible and easily discerned. Note that the space is super important, as otherwise it hard to distinguish whether ____ is four elements long or three.\n",
        "\n",
        "**Hint**:​ In designing your function, think about what information you want to return when done, whether you need a place to store that information as you loop over a data structure, and how you want to add information to your accumulated result.\n",
        "\n",
        "**Example Usage:**\n",
        "```\n",
        ">>> secret_word = 'apple'\n",
        ">>> letters_guessed = ['e', 'i', 'k', 'p', 'r', 's']\n",
        ">>> print(get_guessed_word(secret_word, letters_guessed))\n",
        "'_ pp_ e'\n",
        "```"
      ],
      "metadata": {
        "id": "6JjhiwW_du4a"
      }
    },
    {
      "cell_type": "code",
      "source": [
        "def get_guessed_word(secret_word, letters_guessed):\n",
        "  '''\n",
        "  secret_word: string, the word the user is guessing\n",
        "  letters_guessed: list (of letters), which letters have been guessed so far\n",
        "  \n",
        "  returns: string, comprised of letters, underscores (_), and spaces that represents\n",
        "    which letters in secret_word have been guessed so far.\n",
        "  '''\n",
        "  ## replace the return '' and put your code here!\n",
        "  returnStr = ''\n",
        "  for letter in range(len(secret_word)):\n",
        "    if secret_word[letter] in letters_guessed:\n",
        "      returnStr += secret_word[letter]\n",
        "    elif letter==len(secret_word)-1:\n",
        "      returnStr += '_'\n",
        "    else:\n",
        "      returnStr+= '_ '\n",
        "\n",
        "  return returnStr"
      ],
      "metadata": {
        "id": "CY3CADW9VzNB"
      },
      "execution_count": null,
      "outputs": []
    },
    {
      "cell_type": "markdown",
      "source": [
        "Use the cell below to write your own test case to test out your function! **Hint:** there's a test shown above in the \"example usage\"."
      ],
      "metadata": {
        "id": "0x3rBKDoq0CC"
      }
    },
    {
      "cell_type": "code",
      "source": [
        "# USE THIS CELL TO CHECK YOUR SOLUTION\n",
        "secret_word = 'apple'\n",
        "letters_guessed = ['e', 'i', 'k', 'p', 'r', 's']\n",
        "print(get_guessed_word(secret_word, letters_guessed))"
      ],
      "metadata": {
        "id": "eRn56hOIOvce",
        "colab": {
          "base_uri": "https://localhost:8080/"
        },
        "outputId": "512d5412-fe18-4225-c482-cdfc4c60e8e6"
      },
      "execution_count": null,
      "outputs": [
        {
          "output_type": "stream",
          "name": "stdout",
          "text": [
            "_ pp_ e\n"
          ]
        }
      ]
    },
    {
      "cell_type": "markdown",
      "source": [
        "### 🎟 **Helper Function 3:** Getting all available letters\n",
        "Next, implement the function ​`get_available_letters`​ that takes in one parameter -­ a list of letters, `​letters_guessed`.​ This function returns a string that is comprised of lowercase English letters ­ all lowercase English letters that are not in `letters_guessed​`.\n",
        "\n",
        "This function should return the letters in alphabetical order. For this function, you may assume that all the letters in `​letters_guessed`​ are lowercase.\n",
        "\n",
        "**Hint​**: You might consider using ​string.ascii_lowercase​, which is a string comprised of all lowercase letters:\n",
        "\n",
        "```python\n",
        ">>> import string\n",
        ">>> print(string.ascii_lowercase)\n",
        "abcdefghijklmnopqrstuvwxyz\n",
        "```\n",
        "\n",
        "**Example Usage:**\n",
        "```python\n",
        ">>> letters_guessed = ['e', 'i', 'k', 'p', 'r', 's']\n",
        ">>> print(get_available_letters(letters_guessed))\n",
        "abcdfghjlmnoqtuvwxyz\n",
        "```"
      ],
      "metadata": {
        "id": "hrsMyZstedED"
      }
    },
    {
      "cell_type": "code",
      "execution_count": null,
      "metadata": {
        "id": "JwKAnhS9Vtwr"
      },
      "outputs": [],
      "source": [
        "def get_available_letters(letters_guessed):\n",
        "  '''\n",
        "  letters_guessed: list (of letters), which letters have been guessed so far\n",
        "  returns: string (of letters), comprised of letters that represents which letters have not\n",
        "    yet been guessed.\n",
        "  '''\n",
        "  ## replace the return '' and put your code here!\n",
        "  lowercaseLetters = [i for i in string.ascii_lowercase]\n",
        "  for i in range(len(lowercaseLetters)-1,-1,-1):\n",
        "    if lowercaseLetters[i] in letters_guessed:\n",
        "      lowercaseLetters.pop(i)\n",
        "\n",
        "  returnStr = ''\n",
        "  for i in lowercaseLetters:\n",
        "    returnStr+=i\n",
        "  return returnStr"
      ]
    },
    {
      "cell_type": "markdown",
      "source": [
        "Use the cell below to write your own test case to test out your function! **Hint:** there's a test shown above in the \"example usage\"."
      ],
      "metadata": {
        "id": "vqIeVKGRmJng"
      }
    },
    {
      "cell_type": "code",
      "source": [
        "# USE THIS CELL TO CHECK YOUR SOLUTION\n",
        "letters_guessed = ['e', 'i', 'k', 'p', 'r', 's']\n",
        "print(get_available_letters(letters_guessed))"
      ],
      "metadata": {
        "id": "spA1DJaeOv4j",
        "colab": {
          "base_uri": "https://localhost:8080/"
        },
        "outputId": "b30f74a3-6efb-40ff-d8d3-3fa9e994f6f7"
      },
      "execution_count": null,
      "outputs": [
        {
          "output_type": "stream",
          "name": "stdout",
          "text": [
            "abcdfghjlmnoqtuvwxyz\n"
          ]
        }
      ]
    },
    {
      "cell_type": "markdown",
      "source": [
        "## 👾 **Game Implementation**\n",
        "Now that you have built some useful functions, you can turn to implementing the function ​`hangman`​, which takes one parameter ­the `​secret_word​` the user is to guess. Initially, you can (and should!) manually set this secret word when you run this function – this will make it easier to test your code. But in the end, you will want the computer to select this secret word at random before inviting you or some other user to play the game by running this function.\n",
        "\n",
        "Calling the `​hangman` ​function starts up an interactive game of Hangman between the user and the computer. In designing your code, be sure you take advantage of the three helper functions, ​`is_word_guessed​`, ​`get_guessed_word`​, and `get_available_letters`​, that you've defined in the previous part! You also have two functions defined above for you: `load_words` and `choose_word`."
      ],
      "metadata": {
        "id": "oj-5vuPehGlu"
      }
    },
    {
      "cell_type": "markdown",
      "source": [
        "### **Set-Up**\n",
        "The game set up has been implemented for you as the first part of the function! Here's what's been done:\n",
        "1. Users start with **6 guesses**.\n",
        "2. An array to keep track of the guessed letters called `letter_guesses` was created.\n",
        "3. At the start of the game, it lets the user know how many letters the computer's word contains and how many guesses they start with.\n",
        "\n",
        "Try running the cell below to see what's printed out at the start of a game! This is just an example of the code which will be replicated for you in the actual function."
      ],
      "metadata": {
        "id": "t-jWvScPqL_T"
      }
    },
    {
      "cell_type": "code",
      "source": [
        "secret_word = \"pineapple\" # secret_word will be passed in as a parameter to the function\n",
        "\n",
        "guesses = 6 # total number of guesses\n",
        "letters_guessed = [] # the letters the player has guessed so far\n",
        "\n",
        "print(\"Welcome to Hangman!\")\n",
        "print(\"I am thinking of a word that is\", len(secret_word), \"letters long.\")\n",
        "print(\"-------------\")"
      ],
      "metadata": {
        "id": "rEmZpXKUka2k",
        "colab": {
          "base_uri": "https://localhost:8080/"
        },
        "outputId": "41b3b1d5-76ea-4afc-ab83-2c76ff142018"
      },
      "execution_count": null,
      "outputs": [
        {
          "output_type": "stream",
          "name": "stdout",
          "text": [
            "Welcome to Hangman!\n",
            "I am thinking of a word that is 9 letters long.\n",
            "-------------\n"
          ]
        }
      ]
    },
    {
      "cell_type": "markdown",
      "source": [
        "### **Game Conditions**\n",
        "The structure of our code will pretty much take the form of a while loop with a bunch of different if statements inside! Let's think about what the condition(s) inside our while loop might be. **How can we tell if our game is still ongoing or if it has ended?**"
      ],
      "metadata": {
        "id": "Chooz2Cgi1iJ"
      }
    },
    {
      "cell_type": "code",
      "source": [
        "#@title How can we tell if our game is still ongoing or if it has ended? What do we need to check?\n",
        "end_conditions = \"\" #@param {type:\"string\"}\n",
        "\n"
      ],
      "metadata": {
        "cellView": "form",
        "id": "bhKT_niNjz2r"
      },
      "execution_count": null,
      "outputs": []
    },
    {
      "cell_type": "markdown",
      "source": [
        "### **What do we do after the user makes a guess?**\n",
        "1. The user can choose any number, symbol or letter to input, and can even use multiple characters. Your code should accept capital and lowercase letters as valid guesses!\n",
        "2. If the user inputs anything besides an alphabet (symbols, numbers) or an input longer than one character, tell the user that they can only input an alphabet letter. \n",
        "\n",
        "**Note #1**:​ We use the `input` function to get user input. After we do that, we want to: \n",
        "* Check that the user input is an alphabet\n",
        "* If the user does not input an uppercase or lowercase alphabet letter, ask them to try again.\n",
        "* Check if the letter has already been guessed, and if it has, ask them to try again\n",
        "\n",
        "**Note #2**:​ you may find the string functions ​`str.isalpha(‘your string’)​` and `str.lower(‘Your String’)`​ helpful! If you don’t know what these functions are you could try googling them to find the documentation for the functions.\n",
        "\n",
        "**Note #3**: if the letter has not already been guessed, check if it's in the word or not and give the user that feedback (including the current state of the guessed word)\n",
        "\n",
        "### **Checking winning/losing**\n",
        "After the while loop (once we know the game is over) we need to write some code to check if the user lost or won the game. Make sure after you check, you tell the user the final result.\n",
        "\n",
        "**Fill in the code below to implement the above behavior.**\n"
      ],
      "metadata": {
        "id": "0rx8p9wskJHu"
      }
    },
    {
      "cell_type": "code",
      "source": [
        "def hangman(secret_word):\n",
        "    '''\n",
        "    secret_word: string, the secret word to guess.\n",
        "    \n",
        "    Starts up an interactive game of Hangman.\n",
        "    \n",
        "    * Before each round, you should display to the user how many guesses\n",
        "      they have left and the letters that the user has not yet guessed.\n",
        "    \n",
        "    * Ask the user to supply one guess per round. Remember to make\n",
        "      sure that the user puts in a letter! An invalid guess should NOT count\n",
        "      as a guess in their guess total\n",
        "    \n",
        "    * The user should receive feedback immediately after each guess \n",
        "      about whether their guess appears in the computer's word.\n",
        "\n",
        "    * After each guess, you should display to the user the \n",
        "      partially guessed word so far.\n",
        "    '''\n",
        "    \n",
        "    guesses = 6 # total number of guesses\n",
        "    letters_guessed = [] # the letters the player has guessed so far\n",
        "    \n",
        "    print(\"Welcome to Hangman!\")\n",
        "    print(\"I am thinking of a word that is\", len(secret_word), \"letters long.\")\n",
        "    print(\"-------------\") # used to show visual separation between rounds\n",
        "\n",
        "    while(guesses>0): ### CHANGE THIS LINE ###\n",
        "        \n",
        "        print(\"You have\", guesses, \"guesses left.\")\n",
        "        print(\"Available letters:\", get_available_letters(letters_guessed)) \n",
        "        \n",
        "        guess = input(\"Please guess a letter: \").lower() # gets the user guess and makes sure the input is lowercase\n",
        "\n",
        "        ### YOUR CODE BELOW TO CHECK THE GUESS AND TAKE THE RESPECTIVE ACTION ###\n",
        "        if guess.lower() not in string.ascii_lowercase:\n",
        "          print(\"Oops! That is not a valid letter.\",get_guessed_word(secret_word,letters_guessed))\n",
        "        elif guess.lower() in letters_guessed:\n",
        "          print(\"Oops! You've already guessed that letter.\",get_guessed_word(secret_word,letters_guessed))\n",
        "        elif guess.lower() not in secret_word:\n",
        "          letters_guessed.append(guess.lower())\n",
        "          print(\"Oops! That letter is not in my word:\",get_guessed_word(secret_word,letters_guessed))\n",
        "          guesses-=1\n",
        "        else:\n",
        "          letters_guessed.append(guess.lower())\n",
        "          print(\"Good guess:\",get_guessed_word(secret_word,letters_guessed))\n",
        "        if is_word_guessed(secret_word, letters_guessed):\n",
        "          guesses = 0\n",
        "\n",
        "        ### END YOUR CODE ###\n",
        "\n",
        "        print(\"-------------\")  # used to show visual separation between rounds\n",
        "        \n",
        "    ### PUT CODE HERE TO CHECK IF THE USER WINS OR LOSES ###       \n",
        "    if is_word_guessed(secret_word, letters_guessed):\n",
        "      print(\"Congradulations, you won!\")\n",
        "    else:\n",
        "      print(\"Sorry, you lost.\")\n",
        "    ### END YOUR CODE ###       "
      ],
      "metadata": {
        "id": "LIhLKrPTkrqy"
      },
      "execution_count": null,
      "outputs": []
    },
    {
      "cell_type": "markdown",
      "source": [
        "The output of a winning game will look something like this:\n",
        "\n",
        "```\n",
        "Loading word list from file...\n",
        "55900 words loaded.\n",
        "Welcome to the game Hangman!\n",
        "I am thinking of a word that is 4 letters long.\n",
        "­­­­­­­­­­­­­-------------\n",
        "You have 6 guesses left.\n",
        "Available letters: abcdefghijklmnopqrstuvwxyz\n",
        "Please guess a letter: ​a\n",
        "Good guess: _ a_ _\n",
        "­­­­­­­­­­­­-------------\n",
        "You have 6 guesses left.\n",
        "Available letters: bcdefghijklmnopqrstuvwxyz\n",
        "Please guess a letter: ​a\n",
        "Oops! You've already guessed that letter. _ a_ _\n",
        "­­­­­­­­­­­­-------------\n",
        "You have 6 guesses left.\n",
        "Available letters: bcdefghijklmnopqrstuvwxyz\n",
        "Please guess a letter: ​s\n",
        "Oops! That letter is not in my word: _ a_ _\n",
        "­­­­­­­­­­­­-------------\n",
        "You have 5 guesses left.\n",
        "Available letters: bcdefghijklmnopqrtuvwxyz\n",
        "Please guess a letter: ​$\n",
        "Oops! That is not a valid letter. _ a_ _ ­­­­­­­­­­­­\n",
        "-------------\n",
        "You have 5 guesses left.\n",
        "Available letters: bcdefghijklmnopqrtuvwxyz\n",
        "Please guess a letter: ​t\n",
        "Good guess: ta_ t\n",
        "­­­­­­­­­­­­-------------\n",
        "You have 5 guesses left.\n",
        "Available letters: bcdefghijklmnopqrtuvwxyz\n",
        "Please guess a letter: ​e\n",
        "Oops! That letter is not in my word: ta_ t\n",
        "­­­­­­­­­­­­-------------\n",
        "You have 4 guesses left.\n",
        "Available letters: bcdfghijklmnopqrtuvwxyz\n",
        "Please guess a letter: ​e\n",
        "Oops! You've already guessed that letter. ta_ t\n",
        "­­­­­­­­­­­­-------------\n",
        "You have 4 guesses left.\n",
        "Available letters: bcdfghijklnopquvwxyz \n",
        "Please guess a letter: ​c\n",
        "Good guess: tact\n",
        "­­­­­­­­­­­­-------------\n",
        "Congratulations, you won!\n",
        "```\n",
        "\n"
      ],
      "metadata": {
        "id": "ALQyyn4Axjne"
      }
    },
    {
      "cell_type": "markdown",
      "source": [
        "Once you've completed your function, you can test it out and play a game of hangman by running the cell below! Uncomment the second line to use a random word instead of a word you're choosing."
      ],
      "metadata": {
        "id": "4Pey9Q_c1HsJ"
      }
    },
    {
      "cell_type": "code",
      "source": [
        "secret_word = \"happy\"\n",
        "# secret_word = choose_word(wordlist)\n",
        "hangman(secret_word)"
      ],
      "metadata": {
        "id": "LRrep6Dz1PIr",
        "colab": {
          "base_uri": "https://localhost:8080/"
        },
        "outputId": "32a0536b-5e57-4b60-b3c0-e71167ff1357"
      },
      "execution_count": null,
      "outputs": [
        {
          "output_type": "stream",
          "name": "stdout",
          "text": [
            "Welcome to Hangman!\n",
            "I am thinking of a word that is 5 letters long.\n",
            "-------------\n",
            "You have 6 guesses left.\n",
            "Available letters: abcdefghijklmnopqrstuvwxyz\n",
            "Please guess a letter: b\n",
            "Oops! That letter is not in my word: _ _ _ _ _\n",
            "-------------\n",
            "You have 5 guesses left.\n",
            "Available letters: acdefghijklmnopqrstuvwxyz\n",
            "Please guess a letter: b\n",
            "Oops! You've already guessed that letter. _ _ _ _ _\n",
            "-------------\n",
            "You have 5 guesses left.\n",
            "Available letters: acdefghijklmnopqrstuvwxyz\n",
            "Please guess a letter: z\n",
            "Oops! That letter is not in my word: _ _ _ _ _\n",
            "-------------\n",
            "You have 4 guesses left.\n",
            "Available letters: acdefghijklmnopqrstuvwxy\n",
            "Please guess a letter: d\n",
            "Oops! That letter is not in my word: _ _ _ _ _\n",
            "-------------\n",
            "You have 3 guesses left.\n",
            "Available letters: acefghijklmnopqrstuvwxy\n",
            "Please guess a letter: e\n",
            "Oops! That letter is not in my word: _ _ _ _ _\n",
            "-------------\n",
            "You have 2 guesses left.\n",
            "Available letters: acfghijklmnopqrstuvwxy\n",
            "Please guess a letter: j\n",
            "Oops! That letter is not in my word: _ _ _ _ _\n",
            "-------------\n",
            "You have 1 guesses left.\n",
            "Available letters: acfghiklmnopqrstuvwxy\n",
            "Please guess a letter: l\n",
            "Oops! That letter is not in my word: _ _ _ _ _\n",
            "-------------\n",
            "Sorry, you lost.\n"
          ]
        }
      ]
    },
    {
      "cell_type": "markdown",
      "source": [
        "# 💡 **Hangman with Hints!**\n",
        "\n",
        "If you have tried playing Hangman against the computer, you may have noticed that it isn’t always easy to beat the computer, especially when it selects an esoteric word (like “esoteric”!). It might be nice if you could ask the computer for a hint, such as a list of all the words that match what you have currently guessed.\n",
        "\n",
        "For example, if the hidden word is “tact”, and you have so far guessed the letter “t”, so that you know the solution is “t_ _ t”, where you need to guess the two missing letters, it might be nice to know that the set of matching words (at least based on what the computer initially loaded) are:\n",
        "\n",
        "**tact tart taut teat tent test text that tilt tint toot tort tout trot tuft twit**\n",
        "\n",
        "We are going to have you create a variation of Hangman (we call this `hangman_with_hints​`, and have provided an initial scaffold for writing it), with the property that if you guess the special character * the computer will find all the words from its loaded list that might match your current guessed word, and print out each of them. Of course, we don’t recommend trying this at the first step, since this will print out all 55,900 words that we loaded! But if you are getting close to an answer and are running out of guesses, this might help.\n",
        "\n",
        "To implement `hangman_with_hints`, we're going to need to write two helper functions."
      ],
      "metadata": {
        "id": "WIM_BUZxuVmL"
      }
    },
    {
      "cell_type": "markdown",
      "source": [
        "## 🎟 **Helper Function 1:** `match_with_gaps`\n",
        "`match_with_gaps`​ takes two parameters: `​my_word`​ and ​`other_word`. `my_word` ​is an instance of a **guessed word**, in other words, it may have some _ ’s in places (such as ‘t_ _ t’). ​`other_word`​ is a normal English word.\n",
        " \n",
        "This function should return ​`True`​ if the guessed letters of ​my_word​ match the corresponding letters of ​other_word​. It should return `F​alse​` if the two words are not of the same length or if a guessed letter in `​my_word` ​does not match the corresponding character in ​`other_word`.\n",
        "\n",
        "Remember that when a letter is guessed, your code reveals all the positions at which that letter occurs in the secret word. Therefore, the hidden letter (_ ) ​cannot be o​ne of the letters in the word that has already been revealed.\n",
        "\n",
        "Example Usage:\n",
        "```python\n",
        ">>> match_with_gaps(\"te_ t\", \"tact\")\n",
        "False\n",
        ">>> match_with_gaps(\"a_ _ le\", \"banana\")\n",
        "False\n",
        ">>> match_with_gaps(\"a_ _ le\", \"apple\")\n",
        "True\n",
        ">>> match_with_gaps(\"a_ ple\", \"apple\")\n",
        "False\n",
        "```\n",
        "**Hint 1**: ​You may want to use the string method `replace()` to get rid of the spaces in the word to compare lengths. Take a look at the [documentation here](https://www.w3schools.com/python/ref_string_replace.asp). Think: if you want to remove whitespace, what do you want to replace, and what should you replace it with?\n",
        "\n",
        "**Hint 2:** You can replace parts of a string with nothing by doing: \n",
        "```python\n",
        ">>> a_string = \"apple\"\n",
        ">>> b_string = a_string.replace(\"p\", \"\")\n",
        ">>> print(b_string)\n",
        "\"ale\"\n",
        "```\n",
        "\n",
        "**Hint 3:** This is not necessary to use to complete `match_with_gaps`, but you might find functions like `enumerate` or `zip` useful. Check out the corresponding examples [here](https://www.geeksforgeeks.org/enumerate-in-python/) and [here](https://www.geeksforgeeks.org/zip-in-python/) if you're interested!"
      ],
      "metadata": {
        "id": "ADjT_1DG3htM"
      }
    },
    {
      "cell_type": "code",
      "source": [
        "def match_with_gaps(my_word, other_word):\n",
        "  '''\n",
        "  my_word: string with _ characters, current guess of secret word\n",
        "  other_word: string, regular English word\n",
        "  returns: boolean, True if all the actual letters of my_word match the \n",
        "      corresponding letters of other_word, or the letter is the special symbol\n",
        "      _ , and my_word and other_word are of the same length;\n",
        "      False otherwise \n",
        "  '''\n",
        "  ## replace the return False and put your code here!\n",
        "  my_word = my_word.replace(' ','')\n",
        "  #if len(my_word)!=len(other_word): return False\n",
        "  if not len(my_word) == len(other_word):\n",
        "    return False\n",
        "  \n",
        "  usedLetters = [i for i in other_word]\n",
        "\n",
        "  for i in range(len(my_word)):\n",
        "    if my_word[i] == '_':\n",
        "      usedLetters[i]='_'\n",
        "    \n",
        "\n",
        "  for i in range(len(my_word)):\n",
        "    if my_word[i] != other_word[i] and my_word[i] != '_':\n",
        "      return False\n",
        "    elif my_word[i] == '_' and other_word[i] in usedLetters:\n",
        "      return False\n",
        "  return True"
      ],
      "metadata": {
        "id": "OSs8Reyu841g"
      },
      "execution_count": null,
      "outputs": []
    },
    {
      "cell_type": "markdown",
      "source": [
        "Use the cell below to write your own test case to test out your function! **Hint:** there's a test shown above in the \"example usage\"."
      ],
      "metadata": {
        "id": "-Hdll2n9mUQR"
      }
    },
    {
      "cell_type": "code",
      "source": [
        "# USE THIS CELL TO CHECK YOUR SOLUTION\n",
        "print(match_with_gaps(\"te_ t\", \"tact\"))\n",
        "print(match_with_gaps(\"a_ _ le\", \"banana\"))\n",
        "print(match_with_gaps(\"a_ _ le\", \"apple\"))\n",
        "print(match_with_gaps(\"a_ ple\", \"apple\"))"
      ],
      "metadata": {
        "id": "jH03AjRKOsk_",
        "colab": {
          "base_uri": "https://localhost:8080/"
        },
        "outputId": "37a5c601-0551-4e43-c9aa-411368df2bdc"
      },
      "execution_count": null,
      "outputs": [
        {
          "output_type": "stream",
          "name": "stdout",
          "text": [
            "first 1\n",
            "False\n",
            "False\n",
            "True\n",
            "second 1\n",
            "False\n"
          ]
        }
      ]
    },
    {
      "cell_type": "markdown",
      "source": [
        "## 🎟 **Helper Function 2:** `show_possible_matches​`\n",
        "`show_possible_matches`​ takes a single parameter: `​my_word` ​which is an instance of a guessed word, in other words, it may have some _ ’s in places (such as ‘t_ _ t’).\n",
        "\n",
        "This function should print out all words in ​`wordlist`​ (notice where we have defined this at the beginning of the notebook, in the second code cell) that match ​`my_word​`. It should print “No matches found” if there are no matches. Your `show_possible_matches` function should use your `match_with_gaps` function that you just wrote.\n",
        "\n",
        "\n",
        "**Example Usage:**\n",
        "```python\n",
        ">>> show_possible_matches(\"t_ _ t\")\n",
        "tact tart taut teat tent test text that tilt tint toot tort tout trot tuft twit\n",
        ">>> show_possible_matches(\"abbbb_ \")\n",
        "No matches found\n",
        ">>> show_possible_matches(\"a_ pl_ \")\n",
        "ample amply\n",
        "```"
      ],
      "metadata": {
        "id": "w97NhVe3APy3"
      }
    },
    {
      "cell_type": "code",
      "source": [
        "def show_possible_matches(my_word):\n",
        "  '''\n",
        "  my_word: string with _ characters, current guess of secret word\n",
        "  returns: nothing, but should print out every word in wordlist that matches my_word\n",
        "            Keep in mind that in hangman when a letter is guessed, all the positions\n",
        "            at which that letter occurs in the secret word are revealed.\n",
        "            Therefore, the hidden letter(_ ) cannot be one of the letters in the word\n",
        "            that has already been revealed.\n",
        "  '''\n",
        "  ## replace the return None and put your code here!\n",
        "  matchList = []\n",
        "  for i in wordlist:\n",
        "    if match_with_gaps(my_word, i):\n",
        "      matchList.append(i)\n",
        "  \n",
        "  if len(matchList) == 0:\n",
        "    return \"No matches found\"\n",
        "  return matchList"
      ],
      "metadata": {
        "id": "CFo3r82ZAtah"
      },
      "execution_count": null,
      "outputs": []
    },
    {
      "cell_type": "markdown",
      "source": [
        "Use the cell below to write your own test case to test out your function! **Hint:** there's a test shown above in the \"example usage\"."
      ],
      "metadata": {
        "id": "HAZVtb3amVZC"
      }
    },
    {
      "cell_type": "code",
      "source": [
        "# USE THIS CELL TO CHECK YOUR SOLUTION\n",
        "print(show_possible_matches(\"t_ _ t\"))\n",
        "print(show_possible_matches(\"abbbb_ \"))\n",
        "print(show_possible_matches(\"a_ pl_ \"))"
      ],
      "metadata": {
        "id": "d8_PnHlWOoz-",
        "colab": {
          "base_uri": "https://localhost:8080/"
        },
        "outputId": "4bbfd3d3-b882-4224-a3b9-e9a1ef3589dd"
      },
      "execution_count": null,
      "outputs": [
        {
          "output_type": "stream",
          "name": "stdout",
          "text": [
            "['tact', 'tart', 'taut', 'teat', 'tent', 'test', 'text', 'that', 'tilt', 'tint', 'toot', 'tort', 'tout', 'trot', 'tuft', 'twit']\n",
            "No matches found\n",
            "['ample', 'amply']\n"
          ]
        }
      ]
    },
    {
      "cell_type": "markdown",
      "source": [
        "# ⚡ **Hangman Hint Implementation**\n",
        "Now you should be able to replicate the code you wrote for ​hangman​ as the body of `hangman_with_hints​`, then make a small addition to allow for the case where the user can guess an asterisk (*), in which case the computer will print out all the words that match that guess.\n",
        "\n",
        "The user should not lose a guess if the guess is an asterisk.\n",
        "\n",
        "**Sample Output:**\n",
        "The output from guessing an asterisk should look like the sample output below. All other output should follow the Hangman game described in Part 2 above.\n",
        "```\n",
        "Loading word list from file...\n",
        "    55900 words loaded.\n",
        "Welcome to the game Hangman!\n",
        "I am thinking of a word that is 5 letters long.\n",
        "­­­­­­­­\n",
        "You have 6 guesses left.\n",
        "Available letters: abcdefghijklmnopqrstuvwxyz\n",
        "Please guess a letter: a\n",
        "Good guess: a_ _ _ _\n",
        "­­­­­­­­\n",
        "You have 6 guesses left.\n",
        "Available letters: bcdefghijklmnopqrstuvwxyz\n",
        "Please guess a letter: l\n",
        "Good guess: a_ _ l_\n",
        "­­­­­­­­\n",
        "You have 6 guesses left.\n",
        "Available letters: bcdefghijkmnopqrstuvwxyz\n",
        "Please guess a letter: *\n",
        "Possible word matches are:\n",
        "addle adult agile aisle amble ample amply amyls angle ankle apple\n",
        "apply aptly arils atilt\n",
        "­­­­­­­­\n",
        "You have 6 guesses left.\n",
        "Available letters: bcdefghijkmnopqrstuvwxyz\n",
        "Please guess a letter: e\n",
        "Good guess: a_ _ le\n",
        "```"
      ],
      "metadata": {
        "id": "_o6rfB2sDOSH"
      }
    },
    {
      "cell_type": "code",
      "source": [
        "# YOUR CODE HERE: start by pasting in your hangman code from above, then modify it as needed\n",
        "def hangman_with_hints(secret_word):\n",
        "    '''\n",
        "    secret_word: string, the secret word to guess.\n",
        "    \n",
        "    Starts up an interactive game of Hangman.\n",
        "    \n",
        "    * Before each round, you should display to the user how many guesses\n",
        "      they have left and the letters that the user has not yet guessed.\n",
        "    \n",
        "    * Ask the user to supply one guess per round. Remember to make\n",
        "      sure that the user puts in a letter! An invalid guess should NOT count\n",
        "      as a guess in their guess total\n",
        "    \n",
        "    * The user should receive feedback immediately after each guess \n",
        "      about whether their guess appears in the computer's word.\n",
        "\n",
        "    * After each guess, you should display to the user the \n",
        "      partially guessed word so far.\n",
        "    '''\n",
        "    \n",
        "    guesses = 6 # total number of guesses\n",
        "    letters_guessed = [] # the letters the player has guessed so far\n",
        "    \n",
        "    print(\"Welcome to Hangman!\")\n",
        "    print(\"I am thinking of a word that is\", len(secret_word), \"letters long.\")\n",
        "    print(\"-------------\") # used to show visual separation between rounds\n",
        "\n",
        "    while(guesses>0): ### CHANGE THIS LINE ###\n",
        "        \n",
        "        print(\"You have\", guesses, \"guesses left.\")\n",
        "        print(\"Available letters:\", get_available_letters(letters_guessed)) \n",
        "        \n",
        "        guess = input(\"Please guess a letter: \").lower() # gets the user guess and makes sure the input is lowercase\n",
        "\n",
        "        ### YOUR CODE BELOW TO CHECK THE GUESS AND TAKE THE RESPECTIVE ACTION ###\n",
        "        if guess == \"*\":\n",
        "          print(\"Possible word matches are:\")\n",
        "          print(show_possible_matches(get_guessed_word(secret_word,letters_guessed)))\n",
        "        else:\n",
        "          if guess.lower() not in string.ascii_lowercase:\n",
        "            print(\"Oops! That is not a valid letter.\",get_guessed_word(secret_word,letters_guessed))\n",
        "          elif guess.lower() in letters_guessed:\n",
        "            print(\"Oops! You've already guessed that letter.\",get_guessed_word(secret_word,letters_guessed))\n",
        "          elif guess.lower() not in secret_word:\n",
        "            letters_guessed.append(guess.lower())\n",
        "            print(\"Oops! That letter is not in my word:\",get_guessed_word(secret_word,letters_guessed))\n",
        "            guesses-=1\n",
        "          else:\n",
        "            letters_guessed.append(guess.lower())\n",
        "            print(\"Good guess:\",get_guessed_word(secret_word,letters_guessed))\n",
        "          if is_word_guessed(secret_word, letters_guessed):\n",
        "            guesses = 0\n",
        "\n",
        "        ### END YOUR CODE ###\n",
        "\n",
        "        print(\"-------------\")  # used to show visual separation between rounds\n",
        "        \n",
        "    ### PUT CODE HERE TO CHECK IF THE USER WINS OR LOSES ###       \n",
        "    if is_word_guessed(secret_word, letters_guessed):\n",
        "      print(\"Congradulations, you won!\")\n",
        "    else:\n",
        "      print(\"Sorry, you lost.\")\n",
        "    ### END YOUR CODE ###  "
      ],
      "metadata": {
        "id": "x0U-buI_OTU1"
      },
      "execution_count": null,
      "outputs": []
    },
    {
      "cell_type": "code",
      "source": [
        "secret_word = \"happy\"\n",
        "# secret_word = choose_word(wordlist)\n",
        "hangman_with_hints(secret_word)"
      ],
      "metadata": {
        "id": "1T8WfQZ_DOFK",
        "colab": {
          "base_uri": "https://localhost:8080/"
        },
        "outputId": "296b6ad5-0dcf-4867-c37a-a9d983d4f9e6"
      },
      "execution_count": null,
      "outputs": [
        {
          "output_type": "stream",
          "name": "stdout",
          "text": [
            "Welcome to Hangman!\n",
            "I am thinking of a word that is 5 letters long.\n",
            "-------------\n",
            "You have 6 guesses left.\n",
            "Available letters: abcdefghijklmnopqrstuvwxyz\n",
            "Please guess a letter: h\n",
            "Good guess: h_ _ _ _\n",
            "-------------\n",
            "You have 6 guesses left.\n",
            "Available letters: abcdefgijklmnopqrstuvwxyz\n",
            "Please guess a letter: p\n",
            "Good guess: h_ pp_\n",
            "-------------\n",
            "You have 6 guesses left.\n",
            "Available letters: abcdefgijklmnoqrstuvwxyz\n",
            "Please guess a letter: *\n",
            "Possible word matches are:\n",
            "['happy', 'hippo']\n",
            "-------------\n",
            "You have 6 guesses left.\n",
            "Available letters: abcdefgijklmnoqrstuvwxyz\n",
            "Please guess a letter: a\n",
            "Good guess: happ_\n",
            "-------------\n",
            "You have 6 guesses left.\n",
            "Available letters: bcdefgijklmnoqrstuvwxyz\n",
            "Please guess a letter: *\n",
            "Possible word matches are:\n",
            "['happy']\n",
            "-------------\n",
            "You have 6 guesses left.\n",
            "Available letters: bcdefgijklmnoqrstuvwxyz\n",
            "Please guess a letter: c\n",
            "Oops! That letter is not in my word: happ_\n",
            "-------------\n",
            "You have 5 guesses left.\n",
            "Available letters: bdefgijklmnoqrstuvwxyz\n",
            "Please guess a letter: y\n",
            "Good guess: happy\n",
            "-------------\n",
            "Congradulations, you won!\n"
          ]
        }
      ]
    },
    {
      "cell_type": "markdown",
      "source": [
        "# **That's it! You've finished your first coding assignment :)**"
      ],
      "metadata": {
        "id": "4NEjK-clPM_S"
      }
    }
  ]
}