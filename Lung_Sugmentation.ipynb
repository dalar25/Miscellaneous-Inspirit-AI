{
  "nbformat": 4,
  "nbformat_minor": 0,
  "metadata": {
    "accelerator": "GPU",
    "colab": {
      "provenance": []
    },
    "kernelspec": {
      "display_name": "Python 3",
      "language": "python",
      "name": "python3"
    },
    "language_info": {
      "codemirror_mode": {
        "name": "ipython",
        "version": 3
      },
      "file_extension": ".py",
      "mimetype": "text/x-python",
      "name": "python",
      "nbconvert_exporter": "python",
      "pygments_lexer": "ipython3",
      "version": "3.8.2"
    },
    "widgets": {
      "application/vnd.jupyter.widget-state+json": {
        "39442def81534ac987475515b919af17": {
          "model_module": "@jupyter-widgets/controls",
          "model_name": "VBoxModel",
          "model_module_version": "1.5.0",
          "state": {
            "_dom_classes": [
              "widget-interact"
            ],
            "_model_module": "@jupyter-widgets/controls",
            "_model_module_version": "1.5.0",
            "_model_name": "VBoxModel",
            "_view_count": null,
            "_view_module": "@jupyter-widgets/controls",
            "_view_module_version": "1.5.0",
            "_view_name": "VBoxView",
            "box_style": "",
            "children": [
              "IPY_MODEL_ca31dac8dc8c4c6e96d1dcfe59393151",
              "IPY_MODEL_6fb403c4fd28431890b7281e1676572a"
            ],
            "layout": "IPY_MODEL_5c127ef37d2e4e8aaa691a028cb45ffa"
          }
        },
        "ca31dac8dc8c4c6e96d1dcfe59393151": {
          "model_module": "@jupyter-widgets/controls",
          "model_name": "IntSliderModel",
          "model_module_version": "1.5.0",
          "state": {
            "_dom_classes": [],
            "_model_module": "@jupyter-widgets/controls",
            "_model_module_version": "1.5.0",
            "_model_name": "IntSliderModel",
            "_view_count": null,
            "_view_module": "@jupyter-widgets/controls",
            "_view_module_version": "1.5.0",
            "_view_name": "IntSliderView",
            "continuous_update": true,
            "description": "epoch",
            "description_tooltip": null,
            "disabled": false,
            "layout": "IPY_MODEL_29fc7ce211c048369195b43bc928bf36",
            "max": 39,
            "min": 0,
            "orientation": "horizontal",
            "readout": true,
            "readout_format": "d",
            "step": 1,
            "style": "IPY_MODEL_eb501106be554211b0990985d09b2388",
            "value": 39
          }
        },
        "6fb403c4fd28431890b7281e1676572a": {
          "model_module": "@jupyter-widgets/output",
          "model_name": "OutputModel",
          "model_module_version": "1.0.0",
          "state": {
            "_dom_classes": [],
            "_model_module": "@jupyter-widgets/output",
            "_model_module_version": "1.0.0",
            "_model_name": "OutputModel",
            "_view_count": null,
            "_view_module": "@jupyter-widgets/output",
            "_view_module_version": "1.0.0",
            "_view_name": "OutputView",
            "layout": "IPY_MODEL_880ff71f49e843368bec9818d5d79481",
            "msg_id": "",
            "outputs": [
              {
                "output_type": "display_data",
                "data": {
                  "text/plain": "<Figure size 432x288 with 1 Axes>",
                  "image/png": "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\n"
                },
                "metadata": {
                  "needs_background": "light"
                }
              }
            ]
          }
        },
        "5c127ef37d2e4e8aaa691a028cb45ffa": {
          "model_module": "@jupyter-widgets/base",
          "model_name": "LayoutModel",
          "model_module_version": "1.2.0",
          "state": {
            "_model_module": "@jupyter-widgets/base",
            "_model_module_version": "1.2.0",
            "_model_name": "LayoutModel",
            "_view_count": null,
            "_view_module": "@jupyter-widgets/base",
            "_view_module_version": "1.2.0",
            "_view_name": "LayoutView",
            "align_content": null,
            "align_items": null,
            "align_self": null,
            "border": null,
            "bottom": null,
            "display": null,
            "flex": null,
            "flex_flow": null,
            "grid_area": null,
            "grid_auto_columns": null,
            "grid_auto_flow": null,
            "grid_auto_rows": null,
            "grid_column": null,
            "grid_gap": null,
            "grid_row": null,
            "grid_template_areas": null,
            "grid_template_columns": null,
            "grid_template_rows": null,
            "height": null,
            "justify_content": null,
            "justify_items": null,
            "left": null,
            "margin": null,
            "max_height": null,
            "max_width": null,
            "min_height": null,
            "min_width": null,
            "object_fit": null,
            "object_position": null,
            "order": null,
            "overflow": null,
            "overflow_x": null,
            "overflow_y": null,
            "padding": null,
            "right": null,
            "top": null,
            "visibility": null,
            "width": null
          }
        },
        "29fc7ce211c048369195b43bc928bf36": {
          "model_module": "@jupyter-widgets/base",
          "model_name": "LayoutModel",
          "model_module_version": "1.2.0",
          "state": {
            "_model_module": "@jupyter-widgets/base",
            "_model_module_version": "1.2.0",
            "_model_name": "LayoutModel",
            "_view_count": null,
            "_view_module": "@jupyter-widgets/base",
            "_view_module_version": "1.2.0",
            "_view_name": "LayoutView",
            "align_content": null,
            "align_items": null,
            "align_self": null,
            "border": null,
            "bottom": null,
            "display": null,
            "flex": null,
            "flex_flow": null,
            "grid_area": null,
            "grid_auto_columns": null,
            "grid_auto_flow": null,
            "grid_auto_rows": null,
            "grid_column": null,
            "grid_gap": null,
            "grid_row": null,
            "grid_template_areas": null,
            "grid_template_columns": null,
            "grid_template_rows": null,
            "height": null,
            "justify_content": null,
            "justify_items": null,
            "left": null,
            "margin": null,
            "max_height": null,
            "max_width": null,
            "min_height": null,
            "min_width": null,
            "object_fit": null,
            "object_position": null,
            "order": null,
            "overflow": null,
            "overflow_x": null,
            "overflow_y": null,
            "padding": null,
            "right": null,
            "top": null,
            "visibility": null,
            "width": null
          }
        },
        "eb501106be554211b0990985d09b2388": {
          "model_module": "@jupyter-widgets/controls",
          "model_name": "SliderStyleModel",
          "model_module_version": "1.5.0",
          "state": {
            "_model_module": "@jupyter-widgets/controls",
            "_model_module_version": "1.5.0",
            "_model_name": "SliderStyleModel",
            "_view_count": null,
            "_view_module": "@jupyter-widgets/base",
            "_view_module_version": "1.2.0",
            "_view_name": "StyleView",
            "description_width": "",
            "handle_color": null
          }
        },
        "880ff71f49e843368bec9818d5d79481": {
          "model_module": "@jupyter-widgets/base",
          "model_name": "LayoutModel",
          "model_module_version": "1.2.0",
          "state": {
            "_model_module": "@jupyter-widgets/base",
            "_model_module_version": "1.2.0",
            "_model_name": "LayoutModel",
            "_view_count": null,
            "_view_module": "@jupyter-widgets/base",
            "_view_module_version": "1.2.0",
            "_view_name": "LayoutView",
            "align_content": null,
            "align_items": null,
            "align_self": null,
            "border": null,
            "bottom": null,
            "display": null,
            "flex": null,
            "flex_flow": null,
            "grid_area": null,
            "grid_auto_columns": null,
            "grid_auto_flow": null,
            "grid_auto_rows": null,
            "grid_column": null,
            "grid_gap": null,
            "grid_row": null,
            "grid_template_areas": null,
            "grid_template_columns": null,
            "grid_template_rows": null,
            "height": null,
            "justify_content": null,
            "justify_items": null,
            "left": null,
            "margin": null,
            "max_height": null,
            "max_width": null,
            "min_height": null,
            "min_width": null,
            "object_fit": null,
            "object_position": null,
            "order": null,
            "overflow": null,
            "overflow_x": null,
            "overflow_y": null,
            "padding": null,
            "right": null,
            "top": null,
            "visibility": null,
            "width": null
          }
        }
      }
    }
  },
  "cells": [
    {
      "cell_type": "markdown",
      "metadata": {
        "id": "5yell6WadyVE"
      },
      "source": [
        "# Lung Segmentation\n",
        "\n",
        "Machine learning can help diagnose disease from medical images such as X-Rays and CT scans. One example of this is diagnosing pneumonia or pneumothorax from chest scans. \n",
        "\n",
        "Now such tasks might be easier if we know exactly where the lung is in the image! That's where **lung segmentation** comes into play. \n",
        "\n",
        "In this notebook we'll explore a new application of neural networks called **segmentation**. Segmentation is the task of identifying regions of interest in an image. We'll:\n",
        "\n",
        "\n",
        "\n",
        "*   Understand a dataset of *images* and *masks*\n",
        "*   Try a relatively simple CNN model, and understand why it fails\n",
        "*   Explore a different loss function, Dice, to improve our model\n",
        "*   (Optional) Try a special segmentation architecture, U-Nets\n",
        "\n",
        "\n",
        "\n",
        " Let's check it out! "
      ]
    },
    {
      "cell_type": "code",
      "metadata": {
        "id": "zQXO9EIy2ioQ",
        "colab": {
          "base_uri": "https://localhost:8080/"
        },
        "outputId": "6d9caa55-fd44-48bc-987a-f18369e119fc",
        "cellView": "form"
      },
      "source": [
        "#@title Run to load data and helper functions\n",
        "import matplotlib.pyplot as plt\n",
        "import os\n",
        "import numpy as np\n",
        "from pathlib import Path\n",
        "import tensorflow as tf\n",
        "from tensorflow.keras.layers import Conv2D, concatenate, MaxPool2D, UpSampling2D\n",
        "from sklearn.model_selection import train_test_split\n",
        "import gdown\n",
        "from ipywidgets import interact, IntSlider\n",
        "\n",
        "IMG_PATH = \"reduced/imgs\"\n",
        "MASK_PATH = \"reduced/masks\"\n",
        "EPOCHS = 40\n",
        "\n",
        "!wget \"https://storage.googleapis.com/inspirit-ai-data-bucket-1/Data/Deep%20Dives/Advanced%20Topics%20in%20AI/Sessions%201%20-%2010%20(Main%20Curriculum)/Session%201_%20Introduction/reduced.zip\"\n",
        "!unzip -oq reduced.zip\n",
        "\n",
        "np.random.seed(12)\n",
        "tf.random.set_seed(12)\n",
        "\n",
        "def load():\n",
        "    imgs_paths = sorted([Path(IMG_PATH) / p for p in os.listdir(IMG_PATH)])\n",
        "    masks_paths = sorted([Path(MASK_PATH) / p for p in os.listdir(MASK_PATH)])\n",
        "    imgs = [plt.imread(p) for p in imgs_paths]\n",
        "    masks = [plt.imread(p)[:, :, 0][:, :, None] > 0.5 for p in masks_paths]\n",
        "    imgs, masks = np.array(imgs)[:,:,:,0:1], np.array(masks).astype(float)\n",
        "    imgs_train, imgs_test, masks_train, masks_test = train_test_split(\n",
        "        imgs, masks, test_size=0.2, shuffle=False\n",
        "    )\n",
        "    return imgs_train, imgs_test, masks_train, masks_test\n",
        "\n",
        "def show_lung_mask_sbs(lung, mask):\n",
        "    fig, (a1, a2) = plt.subplots(1, 2)\n",
        "    a1.imshow(lung.squeeze(), cmap = 'gray')\n",
        "    a2.imshow(mask.squeeze(), cmap = 'gray')\n",
        "    a1.set_title(\"lung\")\n",
        "    a2.set_title(\"mask\")\n",
        "\n",
        "\n",
        "def show_lung_mask_pred_sbs(lung, mask, pred):\n",
        "    fig, (a1, a2, a3) = plt.subplots(1, 3)\n",
        "    a1.imshow(lung.squeeze(), cmap = 'gray')\n",
        "    a2.imshow(mask.squeeze(), cmap = 'gray')\n",
        "    a3.imshow(pred.squeeze(), cmap = 'gray')\n",
        "    a1.set_title(\"lung\")\n",
        "    a2.set_title(\"mask\")\n",
        "    a3.set_title(\"predicted mask\")\n",
        "\n",
        "def dice_loss(y_true, y_pred):\n",
        "    numerator = 2 * tf.reduce_sum(y_true * y_pred, axis=(1, 2, 3))\n",
        "    denominator = tf.reduce_sum(y_true + y_pred, axis=(1, 2, 3))\n",
        "    return 1 - numerator / denominator\n",
        "\n",
        "class ShowLearning(tf.keras.callbacks.Callback):\n",
        "    def __init__(self, data, masks, name):\n",
        "        self.data = data\n",
        "        self.masks = masks\n",
        "        self.fig_path = f\"lung/figs/{name}\"\n",
        "        if not os.path.exists(self.fig_path):\n",
        "            os.makedirs(self.fig_path)\n",
        "        super().__init__()\n",
        "\n",
        "    def on_epoch_begin(self, epoch, logs=None):\n",
        "        rand_index = np.random.randint(0, len(self.data))\n",
        "        rand_img = self.data[rand_index][None, :, :, :]\n",
        "        mask = self.masks[rand_index][None, :, :, :]\n",
        "        preds = self.model(rand_img).numpy() > 0.5\n",
        "        show_lung_mask_pred_sbs(rand_img, mask, preds)\n",
        "        plt.savefig(f\"{self.fig_path}/epoch{epoch}.png\")\n",
        "        plt.close()\n",
        "\n",
        "def show_training_image(name, epoch):\n",
        "  im = plt.imread(f'lung/figs/{name}/epoch{epoch}.png')\n",
        "  plt.imshow(im)\n",
        "\n",
        "def dice_loss(y_true, y_pred):\n",
        "    numerator = 2 * tf.reduce_sum(y_true * y_pred, axis=(1, 2, 3))\n",
        "    denominator = tf.reduce_sum(y_true + y_pred, axis=(1, 2, 3))\n",
        "    return 1 - numerator / denominator\n"
      ],
      "execution_count": null,
      "outputs": [
        {
          "output_type": "stream",
          "name": "stdout",
          "text": [
            "--2022-04-16 02:05:30--  https://storage.googleapis.com/inspirit-ai-data-bucket-1/Data/Deep%20Dives/Advanced%20Topics%20in%20AI/Sessions%201%20-%2010%20(Main%20Curriculum)/Session%201_%20Introduction/reduced.zip\n",
            "Resolving storage.googleapis.com (storage.googleapis.com)... 173.194.193.128, 142.250.152.128, 173.194.194.128, ...\n",
            "Connecting to storage.googleapis.com (storage.googleapis.com)|173.194.193.128|:443... connected.\n",
            "HTTP request sent, awaiting response... 404 Not Found\n",
            "2022-04-16 02:05:30 ERROR 404: Not Found.\n",
            "\n",
            "unzip:  cannot find or open reduced.zip, reduced.zip.zip or reduced.zip.ZIP.\n"
          ]
        }
      ]
    },
    {
      "cell_type": "markdown",
      "metadata": {
        "id": "w5QLMTkzes_E"
      },
      "source": [
        "#Exploring our Data\n",
        "\n",
        "Let's start by loading in the data and checking out the shapes!\n",
        "\n",
        "We have lung images as well as their masks, which represent where in the image the lungs are located."
      ]
    },
    {
      "cell_type": "code",
      "metadata": {
        "id": "K4fFbTCT3-EJ",
        "colab": {
          "base_uri": "https://localhost:8080/",
          "height": 311
        },
        "outputId": "274da918-5edc-45bc-db3f-af5c5c00499f"
      },
      "source": [
        "imgs_train, imgs_test, masks_train, masks_test = load()\n",
        "print(imgs_train.shape, imgs_test.shape, masks_train.shape, masks_test.shape)"
      ],
      "execution_count": null,
      "outputs": [
        {
          "output_type": "error",
          "ename": "FileNotFoundError",
          "evalue": "ignored",
          "traceback": [
            "\u001b[0;31m---------------------------------------------------------------------------\u001b[0m",
            "\u001b[0;31mFileNotFoundError\u001b[0m                         Traceback (most recent call last)",
            "\u001b[0;32m<ipython-input-6-16656de637f8>\u001b[0m in \u001b[0;36m<module>\u001b[0;34m()\u001b[0m\n\u001b[0;32m----> 1\u001b[0;31m \u001b[0mimgs_train\u001b[0m\u001b[0;34m,\u001b[0m \u001b[0mimgs_test\u001b[0m\u001b[0;34m,\u001b[0m \u001b[0mmasks_train\u001b[0m\u001b[0;34m,\u001b[0m \u001b[0mmasks_test\u001b[0m \u001b[0;34m=\u001b[0m \u001b[0mload\u001b[0m\u001b[0;34m(\u001b[0m\u001b[0;34m)\u001b[0m\u001b[0;34m\u001b[0m\u001b[0;34m\u001b[0m\u001b[0m\n\u001b[0m\u001b[1;32m      2\u001b[0m \u001b[0mprint\u001b[0m\u001b[0;34m(\u001b[0m\u001b[0mimgs_train\u001b[0m\u001b[0;34m.\u001b[0m\u001b[0mshape\u001b[0m\u001b[0;34m,\u001b[0m \u001b[0mimgs_test\u001b[0m\u001b[0;34m.\u001b[0m\u001b[0mshape\u001b[0m\u001b[0;34m,\u001b[0m \u001b[0mmasks_train\u001b[0m\u001b[0;34m.\u001b[0m\u001b[0mshape\u001b[0m\u001b[0;34m,\u001b[0m \u001b[0mmasks_test\u001b[0m\u001b[0;34m.\u001b[0m\u001b[0mshape\u001b[0m\u001b[0;34m)\u001b[0m\u001b[0;34m\u001b[0m\u001b[0;34m\u001b[0m\u001b[0m\n",
            "\u001b[0;32m<ipython-input-5-9eeb913f3584>\u001b[0m in \u001b[0;36mload\u001b[0;34m()\u001b[0m\n\u001b[1;32m     21\u001b[0m \u001b[0;34m\u001b[0m\u001b[0m\n\u001b[1;32m     22\u001b[0m \u001b[0;32mdef\u001b[0m \u001b[0mload\u001b[0m\u001b[0;34m(\u001b[0m\u001b[0;34m)\u001b[0m\u001b[0;34m:\u001b[0m\u001b[0;34m\u001b[0m\u001b[0;34m\u001b[0m\u001b[0m\n\u001b[0;32m---> 23\u001b[0;31m     \u001b[0mimgs_paths\u001b[0m \u001b[0;34m=\u001b[0m \u001b[0msorted\u001b[0m\u001b[0;34m(\u001b[0m\u001b[0;34m[\u001b[0m\u001b[0mPath\u001b[0m\u001b[0;34m(\u001b[0m\u001b[0mIMG_PATH\u001b[0m\u001b[0;34m)\u001b[0m \u001b[0;34m/\u001b[0m \u001b[0mp\u001b[0m \u001b[0;32mfor\u001b[0m \u001b[0mp\u001b[0m \u001b[0;32min\u001b[0m \u001b[0mos\u001b[0m\u001b[0;34m.\u001b[0m\u001b[0mlistdir\u001b[0m\u001b[0;34m(\u001b[0m\u001b[0mIMG_PATH\u001b[0m\u001b[0;34m)\u001b[0m\u001b[0;34m]\u001b[0m\u001b[0;34m)\u001b[0m\u001b[0;34m\u001b[0m\u001b[0;34m\u001b[0m\u001b[0m\n\u001b[0m\u001b[1;32m     24\u001b[0m     \u001b[0mmasks_paths\u001b[0m \u001b[0;34m=\u001b[0m \u001b[0msorted\u001b[0m\u001b[0;34m(\u001b[0m\u001b[0;34m[\u001b[0m\u001b[0mPath\u001b[0m\u001b[0;34m(\u001b[0m\u001b[0mMASK_PATH\u001b[0m\u001b[0;34m)\u001b[0m \u001b[0;34m/\u001b[0m \u001b[0mp\u001b[0m \u001b[0;32mfor\u001b[0m \u001b[0mp\u001b[0m \u001b[0;32min\u001b[0m \u001b[0mos\u001b[0m\u001b[0;34m.\u001b[0m\u001b[0mlistdir\u001b[0m\u001b[0;34m(\u001b[0m\u001b[0mMASK_PATH\u001b[0m\u001b[0;34m)\u001b[0m\u001b[0;34m]\u001b[0m\u001b[0;34m)\u001b[0m\u001b[0;34m\u001b[0m\u001b[0;34m\u001b[0m\u001b[0m\n\u001b[1;32m     25\u001b[0m     \u001b[0mimgs\u001b[0m \u001b[0;34m=\u001b[0m \u001b[0;34m[\u001b[0m\u001b[0mplt\u001b[0m\u001b[0;34m.\u001b[0m\u001b[0mimread\u001b[0m\u001b[0;34m(\u001b[0m\u001b[0mp\u001b[0m\u001b[0;34m)\u001b[0m \u001b[0;32mfor\u001b[0m \u001b[0mp\u001b[0m \u001b[0;32min\u001b[0m \u001b[0mimgs_paths\u001b[0m\u001b[0;34m]\u001b[0m\u001b[0;34m\u001b[0m\u001b[0;34m\u001b[0m\u001b[0m\n",
            "\u001b[0;31mFileNotFoundError\u001b[0m: [Errno 2] No such file or directory: 'reduced/imgs'"
          ]
        }
      ]
    },
    {
      "cell_type": "markdown",
      "metadata": {
        "id": "U5nlJCyzSU31"
      },
      "source": [
        "**Discuss:** Can you explain the shape of each dataset?"
      ]
    },
    {
      "cell_type": "markdown",
      "metadata": {
        "id": "-mKHXGdlgHki"
      },
      "source": [
        "## Visualizing our data\n",
        "\n",
        "This is what the data looks like:"
      ]
    },
    {
      "cell_type": "code",
      "metadata": {
        "id": "W5a3mNlo4yti"
      },
      "source": [
        "img_num = 20\n",
        "show_lung_mask_sbs(imgs_train[img_num], masks_train[img_num])"
      ],
      "execution_count": null,
      "outputs": []
    },
    {
      "cell_type": "markdown",
      "metadata": {
        "id": "oy_zLihNEdgm"
      },
      "source": [
        "**Question**: What are we trying to get our model trying to predict here? What are the inputs and outputs of the model?"
      ]
    },
    {
      "cell_type": "markdown",
      "metadata": {
        "id": "1I4Aa-tmgdIW"
      },
      "source": [
        "**Exercise:** Use the code above and a for loop to look through the first 5 images."
      ]
    },
    {
      "cell_type": "code",
      "metadata": {
        "id": "yzuD1Si54yrP"
      },
      "source": [
        "#YOUR CODE HERE\n",
        "for i in range(5):\n",
        "  show_lung_mask_sbs(imgs_train[i], masks_train[i])"
      ],
      "execution_count": null,
      "outputs": []
    },
    {
      "cell_type": "markdown",
      "metadata": {
        "id": "e__-u5Mggk0z"
      },
      "source": [
        "# Convolutional Neural Networks\n",
        "\n",
        "We'll start off with a simple convolutional neural network which is typically great for image processing, and see how it does. Note that this is the same as convolutional neural networks we have seen previously but instead of having one output which is the classification, it does a **binary classification on each pixel!** \n",
        "\n",
        "In particular, for each pixel, the model will have a prediction of whether or not that pixel is part of the lung.\n",
        "\n",
        "## Exercise\n",
        "\n",
        "Add several Conv2D layers to the Sequential Model. To do this just add several calls to \n",
        "\n",
        "`Conv2D(filters = num_filters, kernel_size = kernel_size, strides = 1, padding='same', activation='relu')`\n",
        "\n",
        "For the num_filters parameter try any combination of 16 and 32, and for the kernel_size parameter use 3! \n",
        "\n",
        "We use a stride of `1` and padding of `same` to keep the output's height and width the same after each layer.\n",
        "\n",
        "**Question:** Why does the final layer have just 1 filter?"
      ]
    },
    {
      "cell_type": "code",
      "metadata": {
        "id": "k10axuB76dtL"
      },
      "source": [
        "def SimpleConvModel():\n",
        "    model = tf.keras.models.Sequential(\n",
        "        [\n",
        "            #### YOUR CODE HERE to add layers #########\n",
        "            Conv2D(filters = 32, kernel_size = 3, strides = 1, padding='same', activation='relu'),\n",
        "            Conv2D(filters = 16, kernel_size = 3, strides = 1, padding='same', activation='relu'),\n",
        "            Conv2D(filters = 16, kernel_size = 3, strides = 1, padding='same', activation='relu'),\n",
        "\n",
        "            ##### END CODE ########\n",
        "            Conv2D(filters = 1, kernel_size = 3, strides = 1, padding=\"same\", activation=\"sigmoid\"),\n",
        "        ]\n",
        "    ) \n",
        "    return model\n",
        "\n",
        "model = SimpleConvModel()"
      ],
      "execution_count": null,
      "outputs": []
    },
    {
      "cell_type": "markdown",
      "metadata": {
        "id": "iYK0yXK6hKR0"
      },
      "source": [
        "Run the next cell to train the model for 40 epochs. While it trains, follow the values of the loss and the accuracy.\n"
      ]
    },
    {
      "cell_type": "code",
      "metadata": {
        "id": "begYuiJfOYoq"
      },
      "source": [
        "def train(model, imgs, masks, loss, name, epochs):\n",
        "    optimizer = tf.optimizers.Adam(learning_rate=0.0003)\n",
        "    model.compile(optimizer=optimizer, loss=loss, metrics=[\"accuracy\"])\n",
        "    model.fit(imgs, masks, epochs=epochs, callbacks=[ShowLearning(imgs, masks, name)],)\n",
        "\n",
        "train(model, imgs_train, masks_train, tf.losses.BinaryCrossentropy(), 'simple_conv', EPOCHS)"
      ],
      "execution_count": null,
      "outputs": []
    },
    {
      "cell_type": "markdown",
      "metadata": {
        "id": "0NIKs3IpRkFw"
      },
      "source": [
        "### Predicting Model Output Size\n",
        "**Discuss: What should the output size of our model be? Why?**\n",
        "\n",
        "Check your prediction below! We can also visualize the structure of our model."
      ]
    },
    {
      "cell_type": "code",
      "metadata": {
        "id": "w9uVFgbHR6No"
      },
      "source": [
        "model.summary()"
      ],
      "execution_count": null,
      "outputs": []
    },
    {
      "cell_type": "markdown",
      "metadata": {
        "id": "0FAsp7O_hYqM"
      },
      "source": [
        "Our model probably achieved **> 80% accuracy** - not bad!!\n",
        "\n",
        "Or is it? Let's take a look at some of the predictions. You'll see that our model got better over time - but how much better?\n",
        "\n",
        "\n"
      ]
    },
    {
      "cell_type": "code",
      "metadata": {
        "id": "MiQRiWThOjsV"
      },
      "source": [
        "interact(lambda epoch: show_training_image('simple_conv', epoch), epoch=(0, EPOCHS-1));"
      ],
      "execution_count": null,
      "outputs": []
    },
    {
      "cell_type": "markdown",
      "metadata": {
        "id": "PTTknNcES-T9"
      },
      "source": [
        "**Question:** Why is the accuracy so high when the results look so unimpressive? How exactly is accuracy calculated?"
      ]
    },
    {
      "cell_type": "markdown",
      "metadata": {
        "id": "zgSz6OeZGwGb"
      },
      "source": [
        "## Understanding Model Accuracy\n",
        "**Exercise:** In the masks, what is the percentage of pixels that are part of the lung?\n",
        "\n",
        "*Hint:* The pixels that are part of the lung are represented as `1` in `masks_train`, so you can find the total number of lung pixels with  `masks_train.sum()`.\n",
        "\n",
        "You might also find `masks_train.size` useful!"
      ]
    },
    {
      "cell_type": "code",
      "metadata": {
        "id": "R2SnzCg_G3_K"
      },
      "source": [
        "#YOUR CODE HERE to find percent of pixels in masks that are part of the lung\n",
        "print(len(masks_train))\n",
        "print(masks_train.sum() / masks_train.size * 100)"
      ],
      "execution_count": null,
      "outputs": []
    },
    {
      "cell_type": "markdown",
      "metadata": {
        "id": "dYF6Liy9_UQw"
      },
      "source": [
        "**Question:** What accuracy could we get if we just predicted all the pixels were not part of the lung?\n",
        "\n",
        "**Question:** Why is accuracy not super useful for this segmentation task?"
      ]
    },
    {
      "cell_type": "markdown",
      "metadata": {
        "id": "3izS7oDZhkmW"
      },
      "source": [
        "Well, it seems like the model is outputing 'not lung' for most pixels. And because in our images most of the pixels are not part of the lung, the model can get pretty high accuracy by just guessing 'not lung' for each pixel! This is clearly not what we want. \n",
        "\n",
        "We can try something to address this. First of all, we'll need to rethink what it means to have a 'good' prediction, as just accuracy is clearly not adequate! We need some way to measure how much overlap there is between the *real* lung masks and our predictions.\n"
      ]
    },
    {
      "cell_type": "markdown",
      "metadata": {
        "id": "SX2DR1H5Wyuq"
      },
      "source": [
        "#Exploring the Loss Function\n",
        "\n",
        "##The Dice Coefficient \n",
        "\n",
        "Instead of accuracy, we'll use a common metric known as the Dice Coefficient (or Sørensen–Dice if you're feeling fancy), which is calculated as follows:\n",
        "\n",
        "$$\\frac{2*|T \\cap P|}{|T| + |P|}$$\n",
        "\n",
        "![test](https://miro.medium.com/max/429/1*yUd5ckecHjWZf6hGrdlwzA.png) \n",
        "\n",
        "**$T$**, in blue, is the set of pixels in the image that are **truly part of the lung.**\n",
        "\n",
        "**$P$**, in red, is the set of pixels that are **predicted to be part of the lung**.\n",
        "\n",
        "The numerator is the **overlap of true and predicted**: how many pixels are in both categories?\n",
        "\n",
        "The denominator is the **sum** of **the number of pixels truly in the lung**, plus **the number of pixels that are predicted to be part of the lung**.\n",
        "\n",
        "Some intuition: to get a high (good) Dice Coefficient, we need a **large numerator** and a **small denominator**.\n",
        "* To make the numerator large, there needs to be a lot of overlap between the true and predicted 'lung' pixels. \n",
        "* To make the denominator small, there shouldn't be that many pixels that are predicted as 'lung' - otherwise we could \"cheat\" by predicting everything is part of the lung!\n",
        "\n",
        "**Question:** What would the Dice Coefficient be if we make a perfect prediction? Why is there a 2 in the numerator?\n",
        "\n",
        "**Question:** What would the Dice Coefficient be if we predict all 'not lung'?\n",
        "\n",
        "**Question**: What's another way we could get a Dice Coefficient of 0?\n",
        "\n"
      ]
    },
    {
      "cell_type": "markdown",
      "metadata": {
        "id": "CSi8hG3eVXhF"
      },
      "source": [
        "## (Optional, Advanced): Implementing Dice\n",
        "**Exercise:** Implement a function that returns the Dice coefficient. \n",
        "\n",
        "Hint:  `sum(true_mask & predicted_mask`) counts the number of pixels that are in both the true mask and the predicted mask."
      ]
    },
    {
      "cell_type": "code",
      "metadata": {
        "id": "HxqzV2wZO_UH"
      },
      "source": [
        "def dice(true_mask, predicted_mask):\n",
        "    #flatten the data\n",
        "    true_mask, predicted_mask = true_mask.astype(bool).flatten(), predicted_mask.astype(bool).flatten()\n",
        "    return (2 * sum(true_mask & predicted_mask)) / (sum(true_mask) + sum(predicted_mask))\n",
        "    \n",
        "    #YOUR CODE HERE to return the dice coefficient"
      ],
      "execution_count": null,
      "outputs": []
    },
    {
      "cell_type": "markdown",
      "metadata": {
        "id": "mMoym5k1TZeu"
      },
      "source": [
        "Now, let's try out our Dice score - how well do our predictions do? By changing the inputs, can you achieve a Dice score of 0.0 or 1.0?"
      ]
    },
    {
      "cell_type": "code",
      "metadata": {
        "id": "2dTSJR3RNfue",
        "colab": {
          "base_uri": "https://localhost:8080/",
          "height": 240
        },
        "outputId": "57c0d709-b886-4a57-ce8b-8c602f5420dd"
      },
      "source": [
        "img_num = 43 #Choose any image\n",
        "\n",
        "img = np.expand_dims(imgs_train[img_num],0)\n",
        "true_mask = masks_train[img_num]\n",
        "pred_mask = model.predict(img) > 0.5\n",
        "\n",
        "show_lung_mask_pred_sbs(img, true_mask, pred_mask)\n",
        "\n",
        "print(\"Dice score:\", dice(true_mask, pred_mask)) #Try changing the inputs to dice!"
      ],
      "execution_count": null,
      "outputs": [
        {
          "output_type": "error",
          "ename": "NameError",
          "evalue": "ignored",
          "traceback": [
            "\u001b[0;31m---------------------------------------------------------------------------\u001b[0m",
            "\u001b[0;31mNameError\u001b[0m                                 Traceback (most recent call last)",
            "\u001b[0;32m<ipython-input-2-3229e687a097>\u001b[0m in \u001b[0;36m<module>\u001b[0;34m()\u001b[0m\n\u001b[1;32m      1\u001b[0m \u001b[0mimg_num\u001b[0m \u001b[0;34m=\u001b[0m \u001b[0;36m43\u001b[0m \u001b[0;31m#Choose any image\u001b[0m\u001b[0;34m\u001b[0m\u001b[0;34m\u001b[0m\u001b[0m\n\u001b[1;32m      2\u001b[0m \u001b[0;34m\u001b[0m\u001b[0m\n\u001b[0;32m----> 3\u001b[0;31m \u001b[0mimg\u001b[0m \u001b[0;34m=\u001b[0m \u001b[0mnp\u001b[0m\u001b[0;34m.\u001b[0m\u001b[0mexpand_dims\u001b[0m\u001b[0;34m(\u001b[0m\u001b[0mimgs_train\u001b[0m\u001b[0;34m[\u001b[0m\u001b[0mimg_num\u001b[0m\u001b[0;34m]\u001b[0m\u001b[0;34m,\u001b[0m\u001b[0;36m0\u001b[0m\u001b[0;34m)\u001b[0m\u001b[0;34m\u001b[0m\u001b[0;34m\u001b[0m\u001b[0m\n\u001b[0m\u001b[1;32m      4\u001b[0m \u001b[0mtrue_mask\u001b[0m \u001b[0;34m=\u001b[0m \u001b[0mmasks_train\u001b[0m\u001b[0;34m[\u001b[0m\u001b[0mimg_num\u001b[0m\u001b[0;34m]\u001b[0m\u001b[0;34m\u001b[0m\u001b[0;34m\u001b[0m\u001b[0m\n\u001b[1;32m      5\u001b[0m \u001b[0mpred_mask\u001b[0m \u001b[0;34m=\u001b[0m \u001b[0mmodel\u001b[0m\u001b[0;34m.\u001b[0m\u001b[0mpredict\u001b[0m\u001b[0;34m(\u001b[0m\u001b[0mimg\u001b[0m\u001b[0;34m)\u001b[0m \u001b[0;34m>\u001b[0m \u001b[0;36m0.5\u001b[0m\u001b[0;34m\u001b[0m\u001b[0;34m\u001b[0m\u001b[0m\n",
            "\u001b[0;31mNameError\u001b[0m: name 'np' is not defined"
          ]
        }
      ]
    },
    {
      "cell_type": "code",
      "metadata": {
        "id": "4aPYoEbRXxmu"
      },
      "source": [
        "#YOUR CODE HERE to explore changing the inputs (create some arrays!)\n"
      ],
      "execution_count": null,
      "outputs": []
    },
    {
      "cell_type": "markdown",
      "metadata": {
        "id": "v7Pvtb8QjK-S"
      },
      "source": [
        "## Same model, different loss\n",
        "\n",
        "To make our model actually *find* the lungs rather than using the \"always guess no\" trick, we can try changing the loss function. Remember that the **the model tries to minimize the loss function during training**. Now that we care about the Dice Coefficient more than accuracy, we can change our loss function to reflect that.\n",
        "\n",
        "Note that \"Dice Loss\" is just 1 - Dice: minimizing Dice Loss is the same thing as maximizing the Dice Coefficient!"
      ]
    },
    {
      "cell_type": "code",
      "metadata": {
        "id": "eSpaJDlWQpMa"
      },
      "source": [
        "model_with_dice = SimpleConvModel()\n",
        "train(model_with_dice, imgs_train, masks_train, dice_loss, 'simple_conv_with_dice', EPOCHS)"
      ],
      "execution_count": null,
      "outputs": []
    },
    {
      "cell_type": "code",
      "metadata": {
        "id": "HRoHqgcoQpO8"
      },
      "source": [
        "interact(lambda epoch: show_training_image('simple_conv_with_dice', epoch), epoch=(0, EPOCHS-1));"
      ],
      "execution_count": null,
      "outputs": []
    },
    {
      "cell_type": "markdown",
      "metadata": {
        "id": "Hk5pLgbpkmWM"
      },
      "source": [
        "**Question**: Compare the above results to the results from before. Are the predictions any better or more believable than before? What is a new problem that is arising?"
      ]
    },
    {
      "cell_type": "markdown",
      "metadata": {
        "id": "Csu8i2h_k7Hk"
      },
      "source": [
        "# (Optional) Changing Our Model: U-Nets\n",
        "\n",
        "So even though we have changed our loss to better suit the problem, we can still do better! To do this, we'll use U-Nets, which are a special type of convolutional neural network with a \"U shaped\" architecture. It works by first compressing and then expanding the image back to full size. \n",
        "\n",
        "Compressing the image (on the left side of the U) allows us to create many feature maps. Then - since for segmentation we need to output an image of the same size as the original - we upsample. Importantly, we also copy the original feature maps of a particular size during the compression stage. This greatly reduces distortion, as it is like we have a copy of the original image in the expansion section.\n",
        "\n",
        "U-Nets are tricky to understand - no worries if you're fuzzy on some of the details! \n",
        "![alt text](https://miro.medium.com/max/2824/1*f7YOaE4TWubwaFF7Z1fzNw.png)"
      ]
    },
    {
      "cell_type": "markdown",
      "metadata": {
        "id": "Fo6-IRiTXiwL"
      },
      "source": [
        "We've implemented a small U-Net for you here (**not exactly the diagram**). Check it out and experiment with it if you're interested! You'll notice it has only five \"sections\" total (two on the way down, one at the bottom, and two on the way up). What does each section consist of?\n",
        "\n",
        "**Try drawing a diagram for this U-Net!**\n",
        "\n"
      ]
    },
    {
      "cell_type": "code",
      "metadata": {
        "id": "43smgnsyQpT8"
      },
      "source": [
        "#Check out the U-Net code if you're interested!\n",
        "\n",
        "def section(conv1_filters, conv2_filters): #Represents one horizontal \"section\" of the U\n",
        "    return tf.keras.Sequential(\n",
        "        [\n",
        "            Conv2D(conv1_filters, 3, padding=\"same\", activation=\"relu\"),\n",
        "            Conv2D(conv2_filters, 3, padding=\"same\", activation=\"relu\"),\n",
        "        ]\n",
        "    )\n",
        "\n",
        "class U_Net(tf.keras.Model):\n",
        "    def __init__(self):\n",
        "        super(U_Net, self).__init__() #What do the numbers represent? \n",
        "        self.section1 = section(16, 16)\n",
        "        self.section2 = section(32, 32)\n",
        "        self.section3 = section(32, 64) #Bottom of the U!\n",
        "        self.section4 = section(32, 32)\n",
        "        self.section5 = section(16, 16)\n",
        "        self.final_conv = Conv2D(1, 3, padding=\"same\", activation=\"sigmoid\")\n",
        "        self.maxpool1, self.maxpool2 = MaxPool2D(2), MaxPool2D(2) #Why are there two of these?\n",
        "        self.upsample1, self.upsample2 = UpSampling2D(2), UpSampling2D(2)\n",
        "\n",
        "    def call(self, inputs):\n",
        "        input1 = self.section1(inputs)\n",
        "        input2 = self.section2(self.maxpool1(input1))\n",
        "        input3 = self.section3(self.maxpool2(input2))\n",
        "        input4 = self.section4(concatenate([input2, self.upsample1(input3)]))\n",
        "        input5 = self.section5(concatenate([input1, self.upsample2(input4)]))\n",
        "        output = self.final_conv(input5)\n",
        "        return output"
      ],
      "execution_count": null,
      "outputs": []
    },
    {
      "cell_type": "code",
      "metadata": {
        "id": "B24-_e9-QpXr"
      },
      "source": [
        "unet = U_Net()"
      ],
      "execution_count": null,
      "outputs": []
    },
    {
      "cell_type": "markdown",
      "metadata": {
        "id": "TSoBPyl7lX3p"
      },
      "source": [
        "Let's use Dice Loss with our U-Net.\n",
        "\n",
        "As this model trains, look at how the accuracy and loss change. Is the training generally steady or are there certain epochs with breakthroughs?"
      ]
    },
    {
      "cell_type": "code",
      "metadata": {
        "id": "MeKfaYomYJY6",
        "colab": {
          "base_uri": "https://localhost:8080/"
        },
        "outputId": "d7b9433c-142f-4793-9e39-06e6258d4df3"
      },
      "source": [
        "train(unet, imgs_train, masks_train, dice_loss, 'unet_with_dice', epochs=EPOCHS)"
      ],
      "execution_count": null,
      "outputs": [
        {
          "output_type": "stream",
          "name": "stdout",
          "text": [
            "Epoch 1/40\n",
            "7/7 [==============================] - 2s 100ms/step - loss: 0.6865 - accuracy: 0.5076\n",
            "Epoch 2/40\n",
            "7/7 [==============================] - 0s 42ms/step - loss: 0.6850 - accuracy: 0.2996\n",
            "Epoch 3/40\n",
            "7/7 [==============================] - 0s 42ms/step - loss: 0.6798 - accuracy: 0.2396\n",
            "Epoch 4/40\n",
            "7/7 [==============================] - 0s 42ms/step - loss: 0.6532 - accuracy: 0.2486\n",
            "Epoch 5/40\n",
            "7/7 [==============================] - 0s 42ms/step - loss: 0.6068 - accuracy: 0.2492\n",
            "Epoch 6/40\n",
            "7/7 [==============================] - 0s 42ms/step - loss: 0.6055 - accuracy: 0.2503\n",
            "Epoch 7/40\n",
            "7/7 [==============================] - 0s 42ms/step - loss: 0.5911 - accuracy: 0.3353\n",
            "Epoch 8/40\n",
            "7/7 [==============================] - 0s 42ms/step - loss: 0.5615 - accuracy: 0.4908\n",
            "Epoch 9/40\n",
            "7/7 [==============================] - 0s 42ms/step - loss: 0.5119 - accuracy: 0.6197\n",
            "Epoch 10/40\n",
            "7/7 [==============================] - 0s 42ms/step - loss: 0.3975 - accuracy: 0.7932\n",
            "Epoch 11/40\n",
            "7/7 [==============================] - 0s 42ms/step - loss: 0.2809 - accuracy: 0.8798\n",
            "Epoch 12/40\n",
            "7/7 [==============================] - 0s 42ms/step - loss: 0.2187 - accuracy: 0.9064\n",
            "Epoch 13/40\n",
            "7/7 [==============================] - 0s 42ms/step - loss: 0.1920 - accuracy: 0.9159\n",
            "Epoch 14/40\n",
            "7/7 [==============================] - 0s 42ms/step - loss: 0.1807 - accuracy: 0.9198\n",
            "Epoch 15/40\n",
            "7/7 [==============================] - 0s 42ms/step - loss: 0.1673 - accuracy: 0.9265\n",
            "Epoch 16/40\n",
            "7/7 [==============================] - 0s 42ms/step - loss: 0.1621 - accuracy: 0.9286\n",
            "Epoch 17/40\n",
            "7/7 [==============================] - 0s 41ms/step - loss: 0.1672 - accuracy: 0.9249\n",
            "Epoch 18/40\n",
            "7/7 [==============================] - 0s 42ms/step - loss: 0.1467 - accuracy: 0.9357\n",
            "Epoch 19/40\n",
            "7/7 [==============================] - 0s 42ms/step - loss: 0.1380 - accuracy: 0.9392\n",
            "Epoch 20/40\n",
            "7/7 [==============================] - 0s 42ms/step - loss: 0.1265 - accuracy: 0.9453\n",
            "Epoch 21/40\n",
            "7/7 [==============================] - 0s 42ms/step - loss: 0.1227 - accuracy: 0.9469\n",
            "Epoch 22/40\n",
            "7/7 [==============================] - 0s 42ms/step - loss: 0.1168 - accuracy: 0.9496\n",
            "Epoch 23/40\n",
            "7/7 [==============================] - 0s 41ms/step - loss: 0.1177 - accuracy: 0.9495\n",
            "Epoch 24/40\n",
            "7/7 [==============================] - 0s 42ms/step - loss: 0.1169 - accuracy: 0.9494\n",
            "Epoch 25/40\n",
            "7/7 [==============================] - 0s 41ms/step - loss: 0.1108 - accuracy: 0.9516\n",
            "Epoch 26/40\n",
            "7/7 [==============================] - 0s 41ms/step - loss: 0.1088 - accuracy: 0.9526\n",
            "Epoch 27/40\n",
            "7/7 [==============================] - 0s 42ms/step - loss: 0.1072 - accuracy: 0.9539\n",
            "Epoch 28/40\n",
            "7/7 [==============================] - 0s 43ms/step - loss: 0.1074 - accuracy: 0.9533\n",
            "Epoch 29/40\n",
            "7/7 [==============================] - 0s 42ms/step - loss: 0.1031 - accuracy: 0.9555\n",
            "Epoch 30/40\n",
            "7/7 [==============================] - 0s 42ms/step - loss: 0.1007 - accuracy: 0.9562\n",
            "Epoch 31/40\n",
            "7/7 [==============================] - 0s 43ms/step - loss: 0.0984 - accuracy: 0.9575\n",
            "Epoch 32/40\n",
            "7/7 [==============================] - 0s 41ms/step - loss: 0.0979 - accuracy: 0.9577\n",
            "Epoch 33/40\n",
            "7/7 [==============================] - 0s 42ms/step - loss: 0.0981 - accuracy: 0.9575\n",
            "Epoch 34/40\n",
            "7/7 [==============================] - 0s 43ms/step - loss: 0.0936 - accuracy: 0.9595\n",
            "Epoch 35/40\n",
            "7/7 [==============================] - 0s 42ms/step - loss: 0.0962 - accuracy: 0.9586\n",
            "Epoch 36/40\n",
            "7/7 [==============================] - 0s 42ms/step - loss: 0.0907 - accuracy: 0.9609\n",
            "Epoch 37/40\n",
            "7/7 [==============================] - 0s 41ms/step - loss: 0.0898 - accuracy: 0.9613\n",
            "Epoch 38/40\n",
            "7/7 [==============================] - 0s 41ms/step - loss: 0.0917 - accuracy: 0.9604\n",
            "Epoch 39/40\n",
            "7/7 [==============================] - 0s 42ms/step - loss: 0.0872 - accuracy: 0.9624\n",
            "Epoch 40/40\n",
            "7/7 [==============================] - 0s 42ms/step - loss: 0.0874 - accuracy: 0.9622\n"
          ]
        }
      ]
    },
    {
      "cell_type": "code",
      "metadata": {
        "id": "0Nm0Af71ShNQ",
        "colab": {
          "base_uri": "https://localhost:8080/",
          "height": 301,
          "referenced_widgets": [
            "39442def81534ac987475515b919af17",
            "ca31dac8dc8c4c6e96d1dcfe59393151",
            "6fb403c4fd28431890b7281e1676572a",
            "5c127ef37d2e4e8aaa691a028cb45ffa",
            "29fc7ce211c048369195b43bc928bf36",
            "eb501106be554211b0990985d09b2388",
            "880ff71f49e843368bec9818d5d79481"
          ]
        },
        "outputId": "132b6bfe-e273-4007-8bc8-94a5efadfc00"
      },
      "source": [
        "interact(lambda epoch: show_training_image('unet_with_dice', epoch), epoch=(0, EPOCHS-1));"
      ],
      "execution_count": null,
      "outputs": [
        {
          "output_type": "display_data",
          "data": {
            "text/plain": [
              "interactive(children=(IntSlider(value=19, description='epoch', max=39), Output()), _dom_classes=('widget-inter…"
            ],
            "application/vnd.jupyter.widget-view+json": {
              "version_major": 2,
              "version_minor": 0,
              "model_id": "39442def81534ac987475515b919af17"
            }
          },
          "metadata": {}
        }
      ]
    },
    {
      "cell_type": "markdown",
      "metadata": {
        "id": "8-bIkHa4l-yD"
      },
      "source": [
        "## Evaluation"
      ]
    },
    {
      "cell_type": "markdown",
      "metadata": {
        "id": "LD5AqJAemH15"
      },
      "source": [
        "Run the next cell to visualize the predictions of the UNet on the test set! As a reminder, our model has never seen this data before. Will it be able to predict somewhat accurate looking masks?"
      ]
    },
    {
      "cell_type": "code",
      "metadata": {
        "id": "Px2uOdRURy2d"
      },
      "source": [
        "thresh = 0.5 #Experiment with changing this!\n",
        "preds = unet(imgs_test).numpy()\n",
        "preds = preds >= thresh\n",
        "\n",
        "def show_preds_helper(imgs_test, masks_test, preds, ind):\n",
        "    show_lung_mask_pred_sbs(imgs_test[ind], masks_test[ind], preds[ind])\n",
        "    plt.show()\n",
        "\n",
        "interact(lambda i: show_preds_helper(imgs_test, masks_test, preds, i), i=(0, len(preds)-1));"
      ],
      "execution_count": null,
      "outputs": []
    },
    {
      "cell_type": "markdown",
      "metadata": {
        "id": "8kP8J_hCsPe_"
      },
      "source": [
        "Pretty darn good :)"
      ]
    },
    {
      "cell_type": "markdown",
      "metadata": {
        "id": "sOTM8ZbBP5GQ"
      },
      "source": [
        "## Advanced: Improving Your Model\n",
        "\n",
        "Keep experimenting with our models to see if you can achieve human-level performance! You can try a few things:\n",
        "\n",
        "\n",
        "*   Train for more epochs.\n",
        "*   Try changing the hyperparameters, like learning rate.\n",
        "*   Experiment with the structure of U-Net: can you change the number of sections, or the sizes of the convolutions within each section?\n",
        "*   Change the threshold for our prediction. For example, if we see that we're overpredicting lung pixels, we could set our threshold a little higher. Remember that the raw output of our models is a probability value for each pixel on whether or not it is part of the lung!\n",
        "*   *Advanced Challenge*: try implementing a different loss function, like the [Jaccard index](https://en.wikipedia.org/wiki/Jaccard_index) or [pixel-wise cross-entropy loss](https://www.jeremyjordan.me/semantic-segmentation/) (which is the loss function we used in our first model). Check out the `dice_loss` function in the hidden cell at the top for an example of the function's structure.\n",
        "\n",
        "Work with your group to see if you can create a perfect model!\n"
      ]
    },
    {
      "cell_type": "code",
      "metadata": {
        "id": "8_KnxTib03oe"
      },
      "source": [
        "#YOUR CODE HERE for further experimentation"
      ],
      "execution_count": null,
      "outputs": []
    },
    {
      "cell_type": "markdown",
      "metadata": {
        "id": "ddKmoID902hi"
      },
      "source": [
        "\n",
        "## References and Acknowledgements:\n",
        "* Some of these exercises were inspired by CS271 at Stanford\n",
        "* [Data](https://www.kaggle.com/kmader/finding-lungs-in-ct-data/data?select=lung_stats.csv)\n",
        "* [Dice Loss](https://lars76.github.io/neural-networks/object-detection/losses-for-segmentation/)\n",
        "* [Tensorflow](https://www.tensorflow.org/api_docs/python/tf/keras)\n",
        "\n",
        "Original Notebook by Harry Sha"
      ]
    }
  ]
}